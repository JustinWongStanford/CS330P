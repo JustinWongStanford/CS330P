{
  "nbformat": 4,
  "nbformat_minor": 0,
  "metadata": {
    "colab": {
      "name": "Copy of Profile of FCMtest.ipynb",
      "provenance": [],
      "collapsed_sections": [],
      "toc_visible": true,
      "include_colab_link": true
    },
    "kernelspec": {
      "name": "python3",
      "display_name": "Python 3"
    },
    "widgets": {
      "application/vnd.jupyter.widget-state+json": {
        "9dd9e56b209e42f4a6abaadcde20be34": {
          "model_module": "@jupyter-widgets/controls",
          "model_name": "HBoxModel",
          "state": {
            "_view_name": "HBoxView",
            "_dom_classes": [],
            "_model_name": "HBoxModel",
            "_view_module": "@jupyter-widgets/controls",
            "_model_module_version": "1.5.0",
            "_view_count": null,
            "_view_module_version": "1.5.0",
            "box_style": "",
            "layout": "IPY_MODEL_e7e930faf8a141da87d7b234738e536c",
            "_model_module": "@jupyter-widgets/controls",
            "children": [
              "IPY_MODEL_f28dcefb42034125b6c4d005d13890ae",
              "IPY_MODEL_72d8ce0d6f6542a89b9c39e039391788"
            ]
          }
        },
        "e7e930faf8a141da87d7b234738e536c": {
          "model_module": "@jupyter-widgets/base",
          "model_name": "LayoutModel",
          "state": {
            "_view_name": "LayoutView",
            "grid_template_rows": null,
            "right": null,
            "justify_content": null,
            "_view_module": "@jupyter-widgets/base",
            "overflow": null,
            "_model_module_version": "1.2.0",
            "_view_count": null,
            "flex_flow": null,
            "width": null,
            "min_width": null,
            "border": null,
            "align_items": null,
            "bottom": null,
            "_model_module": "@jupyter-widgets/base",
            "top": null,
            "grid_column": null,
            "overflow_y": null,
            "overflow_x": null,
            "grid_auto_flow": null,
            "grid_area": null,
            "grid_template_columns": null,
            "flex": null,
            "_model_name": "LayoutModel",
            "justify_items": null,
            "grid_row": null,
            "max_height": null,
            "align_content": null,
            "visibility": null,
            "align_self": null,
            "height": null,
            "min_height": null,
            "padding": null,
            "grid_auto_rows": null,
            "grid_gap": null,
            "max_width": null,
            "order": null,
            "_view_module_version": "1.2.0",
            "grid_template_areas": null,
            "object_position": null,
            "object_fit": null,
            "grid_auto_columns": null,
            "margin": null,
            "display": null,
            "left": null
          }
        },
        "f28dcefb42034125b6c4d005d13890ae": {
          "model_module": "@jupyter-widgets/controls",
          "model_name": "FloatProgressModel",
          "state": {
            "_view_name": "ProgressView",
            "style": "IPY_MODEL_ce5f634ca5874cc097139ac1397fafd2",
            "_dom_classes": [],
            "description": "100%",
            "_model_name": "FloatProgressModel",
            "bar_style": "",
            "max": 500,
            "_view_module": "@jupyter-widgets/controls",
            "_model_module_version": "1.5.0",
            "value": 500,
            "_view_count": null,
            "_view_module_version": "1.5.0",
            "orientation": "horizontal",
            "min": 0,
            "description_tooltip": null,
            "_model_module": "@jupyter-widgets/controls",
            "layout": "IPY_MODEL_c53a4b70877549ba8d02a99de9b515a0"
          }
        },
        "72d8ce0d6f6542a89b9c39e039391788": {
          "model_module": "@jupyter-widgets/controls",
          "model_name": "HTMLModel",
          "state": {
            "_view_name": "HTMLView",
            "style": "IPY_MODEL_4f2eb3f394f14bf69d9b5ef4249a0d5f",
            "_dom_classes": [],
            "description": "",
            "_model_name": "HTMLModel",
            "placeholder": "​",
            "_view_module": "@jupyter-widgets/controls",
            "_model_module_version": "1.5.0",
            "value": " 500/500 [00:20&lt;00:00, 24.77it/s]",
            "_view_count": null,
            "_view_module_version": "1.5.0",
            "description_tooltip": null,
            "_model_module": "@jupyter-widgets/controls",
            "layout": "IPY_MODEL_ab2249f735b04ed1bf8f359bd45753b7"
          }
        },
        "ce5f634ca5874cc097139ac1397fafd2": {
          "model_module": "@jupyter-widgets/controls",
          "model_name": "ProgressStyleModel",
          "state": {
            "_view_name": "StyleView",
            "_model_name": "ProgressStyleModel",
            "description_width": "initial",
            "_view_module": "@jupyter-widgets/base",
            "_model_module_version": "1.5.0",
            "_view_count": null,
            "_view_module_version": "1.2.0",
            "bar_color": null,
            "_model_module": "@jupyter-widgets/controls"
          }
        },
        "c53a4b70877549ba8d02a99de9b515a0": {
          "model_module": "@jupyter-widgets/base",
          "model_name": "LayoutModel",
          "state": {
            "_view_name": "LayoutView",
            "grid_template_rows": null,
            "right": null,
            "justify_content": null,
            "_view_module": "@jupyter-widgets/base",
            "overflow": null,
            "_model_module_version": "1.2.0",
            "_view_count": null,
            "flex_flow": null,
            "width": null,
            "min_width": null,
            "border": null,
            "align_items": null,
            "bottom": null,
            "_model_module": "@jupyter-widgets/base",
            "top": null,
            "grid_column": null,
            "overflow_y": null,
            "overflow_x": null,
            "grid_auto_flow": null,
            "grid_area": null,
            "grid_template_columns": null,
            "flex": null,
            "_model_name": "LayoutModel",
            "justify_items": null,
            "grid_row": null,
            "max_height": null,
            "align_content": null,
            "visibility": null,
            "align_self": null,
            "height": null,
            "min_height": null,
            "padding": null,
            "grid_auto_rows": null,
            "grid_gap": null,
            "max_width": null,
            "order": null,
            "_view_module_version": "1.2.0",
            "grid_template_areas": null,
            "object_position": null,
            "object_fit": null,
            "grid_auto_columns": null,
            "margin": null,
            "display": null,
            "left": null
          }
        },
        "4f2eb3f394f14bf69d9b5ef4249a0d5f": {
          "model_module": "@jupyter-widgets/controls",
          "model_name": "DescriptionStyleModel",
          "state": {
            "_view_name": "StyleView",
            "_model_name": "DescriptionStyleModel",
            "description_width": "",
            "_view_module": "@jupyter-widgets/base",
            "_model_module_version": "1.5.0",
            "_view_count": null,
            "_view_module_version": "1.2.0",
            "_model_module": "@jupyter-widgets/controls"
          }
        },
        "ab2249f735b04ed1bf8f359bd45753b7": {
          "model_module": "@jupyter-widgets/base",
          "model_name": "LayoutModel",
          "state": {
            "_view_name": "LayoutView",
            "grid_template_rows": null,
            "right": null,
            "justify_content": null,
            "_view_module": "@jupyter-widgets/base",
            "overflow": null,
            "_model_module_version": "1.2.0",
            "_view_count": null,
            "flex_flow": null,
            "width": null,
            "min_width": null,
            "border": null,
            "align_items": null,
            "bottom": null,
            "_model_module": "@jupyter-widgets/base",
            "top": null,
            "grid_column": null,
            "overflow_y": null,
            "overflow_x": null,
            "grid_auto_flow": null,
            "grid_area": null,
            "grid_template_columns": null,
            "flex": null,
            "_model_name": "LayoutModel",
            "justify_items": null,
            "grid_row": null,
            "max_height": null,
            "align_content": null,
            "visibility": null,
            "align_self": null,
            "height": null,
            "min_height": null,
            "padding": null,
            "grid_auto_rows": null,
            "grid_gap": null,
            "max_width": null,
            "order": null,
            "_view_module_version": "1.2.0",
            "grid_template_areas": null,
            "object_position": null,
            "object_fit": null,
            "grid_auto_columns": null,
            "margin": null,
            "display": null,
            "left": null
          }
        },
        "70f10a669bcd40f1b2359114e4b57bc6": {
          "model_module": "@jupyter-widgets/controls",
          "model_name": "HBoxModel",
          "state": {
            "_view_name": "HBoxView",
            "_dom_classes": [],
            "_model_name": "HBoxModel",
            "_view_module": "@jupyter-widgets/controls",
            "_model_module_version": "1.5.0",
            "_view_count": null,
            "_view_module_version": "1.5.0",
            "box_style": "",
            "layout": "IPY_MODEL_e9cfdab74f7946c2bf78fe2703e645e3",
            "_model_module": "@jupyter-widgets/controls",
            "children": [
              "IPY_MODEL_1550f309d8aa41f58cfa0f00c79e4a46",
              "IPY_MODEL_a6fa2c84f0e54028b4aba5413d5b01f6"
            ]
          }
        },
        "e9cfdab74f7946c2bf78fe2703e645e3": {
          "model_module": "@jupyter-widgets/base",
          "model_name": "LayoutModel",
          "state": {
            "_view_name": "LayoutView",
            "grid_template_rows": null,
            "right": null,
            "justify_content": null,
            "_view_module": "@jupyter-widgets/base",
            "overflow": null,
            "_model_module_version": "1.2.0",
            "_view_count": null,
            "flex_flow": null,
            "width": null,
            "min_width": null,
            "border": null,
            "align_items": null,
            "bottom": null,
            "_model_module": "@jupyter-widgets/base",
            "top": null,
            "grid_column": null,
            "overflow_y": null,
            "overflow_x": null,
            "grid_auto_flow": null,
            "grid_area": null,
            "grid_template_columns": null,
            "flex": null,
            "_model_name": "LayoutModel",
            "justify_items": null,
            "grid_row": null,
            "max_height": null,
            "align_content": null,
            "visibility": null,
            "align_self": null,
            "height": null,
            "min_height": null,
            "padding": null,
            "grid_auto_rows": null,
            "grid_gap": null,
            "max_width": null,
            "order": null,
            "_view_module_version": "1.2.0",
            "grid_template_areas": null,
            "object_position": null,
            "object_fit": null,
            "grid_auto_columns": null,
            "margin": null,
            "display": null,
            "left": null
          }
        },
        "1550f309d8aa41f58cfa0f00c79e4a46": {
          "model_module": "@jupyter-widgets/controls",
          "model_name": "FloatProgressModel",
          "state": {
            "_view_name": "ProgressView",
            "style": "IPY_MODEL_9ac16fe2f4dd4df2a38a781987beea0b",
            "_dom_classes": [],
            "description": "100%",
            "_model_name": "FloatProgressModel",
            "bar_style": "",
            "max": 500,
            "_view_module": "@jupyter-widgets/controls",
            "_model_module_version": "1.5.0",
            "value": 500,
            "_view_count": null,
            "_view_module_version": "1.5.0",
            "orientation": "horizontal",
            "min": 0,
            "description_tooltip": null,
            "_model_module": "@jupyter-widgets/controls",
            "layout": "IPY_MODEL_a8390f3a4bff4220a24827a9db982826"
          }
        },
        "a6fa2c84f0e54028b4aba5413d5b01f6": {
          "model_module": "@jupyter-widgets/controls",
          "model_name": "HTMLModel",
          "state": {
            "_view_name": "HTMLView",
            "style": "IPY_MODEL_fcb9ae900c4c4787901d7b32ece6a7e9",
            "_dom_classes": [],
            "description": "",
            "_model_name": "HTMLModel",
            "placeholder": "​",
            "_view_module": "@jupyter-widgets/controls",
            "_model_module_version": "1.5.0",
            "value": " 500/500 [00:20&lt;00:00, 24.98it/s]",
            "_view_count": null,
            "_view_module_version": "1.5.0",
            "description_tooltip": null,
            "_model_module": "@jupyter-widgets/controls",
            "layout": "IPY_MODEL_85eb0b65f1394b8ebe2b317a24d012ff"
          }
        },
        "9ac16fe2f4dd4df2a38a781987beea0b": {
          "model_module": "@jupyter-widgets/controls",
          "model_name": "ProgressStyleModel",
          "state": {
            "_view_name": "StyleView",
            "_model_name": "ProgressStyleModel",
            "description_width": "initial",
            "_view_module": "@jupyter-widgets/base",
            "_model_module_version": "1.5.0",
            "_view_count": null,
            "_view_module_version": "1.2.0",
            "bar_color": null,
            "_model_module": "@jupyter-widgets/controls"
          }
        },
        "a8390f3a4bff4220a24827a9db982826": {
          "model_module": "@jupyter-widgets/base",
          "model_name": "LayoutModel",
          "state": {
            "_view_name": "LayoutView",
            "grid_template_rows": null,
            "right": null,
            "justify_content": null,
            "_view_module": "@jupyter-widgets/base",
            "overflow": null,
            "_model_module_version": "1.2.0",
            "_view_count": null,
            "flex_flow": null,
            "width": null,
            "min_width": null,
            "border": null,
            "align_items": null,
            "bottom": null,
            "_model_module": "@jupyter-widgets/base",
            "top": null,
            "grid_column": null,
            "overflow_y": null,
            "overflow_x": null,
            "grid_auto_flow": null,
            "grid_area": null,
            "grid_template_columns": null,
            "flex": null,
            "_model_name": "LayoutModel",
            "justify_items": null,
            "grid_row": null,
            "max_height": null,
            "align_content": null,
            "visibility": null,
            "align_self": null,
            "height": null,
            "min_height": null,
            "padding": null,
            "grid_auto_rows": null,
            "grid_gap": null,
            "max_width": null,
            "order": null,
            "_view_module_version": "1.2.0",
            "grid_template_areas": null,
            "object_position": null,
            "object_fit": null,
            "grid_auto_columns": null,
            "margin": null,
            "display": null,
            "left": null
          }
        },
        "fcb9ae900c4c4787901d7b32ece6a7e9": {
          "model_module": "@jupyter-widgets/controls",
          "model_name": "DescriptionStyleModel",
          "state": {
            "_view_name": "StyleView",
            "_model_name": "DescriptionStyleModel",
            "description_width": "",
            "_view_module": "@jupyter-widgets/base",
            "_model_module_version": "1.5.0",
            "_view_count": null,
            "_view_module_version": "1.2.0",
            "_model_module": "@jupyter-widgets/controls"
          }
        },
        "85eb0b65f1394b8ebe2b317a24d012ff": {
          "model_module": "@jupyter-widgets/base",
          "model_name": "LayoutModel",
          "state": {
            "_view_name": "LayoutView",
            "grid_template_rows": null,
            "right": null,
            "justify_content": null,
            "_view_module": "@jupyter-widgets/base",
            "overflow": null,
            "_model_module_version": "1.2.0",
            "_view_count": null,
            "flex_flow": null,
            "width": null,
            "min_width": null,
            "border": null,
            "align_items": null,
            "bottom": null,
            "_model_module": "@jupyter-widgets/base",
            "top": null,
            "grid_column": null,
            "overflow_y": null,
            "overflow_x": null,
            "grid_auto_flow": null,
            "grid_area": null,
            "grid_template_columns": null,
            "flex": null,
            "_model_name": "LayoutModel",
            "justify_items": null,
            "grid_row": null,
            "max_height": null,
            "align_content": null,
            "visibility": null,
            "align_self": null,
            "height": null,
            "min_height": null,
            "padding": null,
            "grid_auto_rows": null,
            "grid_gap": null,
            "max_width": null,
            "order": null,
            "_view_module_version": "1.2.0",
            "grid_template_areas": null,
            "object_position": null,
            "object_fit": null,
            "grid_auto_columns": null,
            "margin": null,
            "display": null,
            "left": null
          }
        },
        "f105f6c313a2412e9142212da5c3cc5c": {
          "model_module": "@jupyter-widgets/controls",
          "model_name": "HBoxModel",
          "state": {
            "_view_name": "HBoxView",
            "_dom_classes": [],
            "_model_name": "HBoxModel",
            "_view_module": "@jupyter-widgets/controls",
            "_model_module_version": "1.5.0",
            "_view_count": null,
            "_view_module_version": "1.5.0",
            "box_style": "",
            "layout": "IPY_MODEL_b9ecbd4ce7134603b7daefb0ebe56aa2",
            "_model_module": "@jupyter-widgets/controls",
            "children": [
              "IPY_MODEL_8264b3c2f969449a9be084d7ea700c80",
              "IPY_MODEL_5b226cafd68b4e8b84f2490d9224f32a"
            ]
          }
        },
        "b9ecbd4ce7134603b7daefb0ebe56aa2": {
          "model_module": "@jupyter-widgets/base",
          "model_name": "LayoutModel",
          "state": {
            "_view_name": "LayoutView",
            "grid_template_rows": null,
            "right": null,
            "justify_content": null,
            "_view_module": "@jupyter-widgets/base",
            "overflow": null,
            "_model_module_version": "1.2.0",
            "_view_count": null,
            "flex_flow": null,
            "width": null,
            "min_width": null,
            "border": null,
            "align_items": null,
            "bottom": null,
            "_model_module": "@jupyter-widgets/base",
            "top": null,
            "grid_column": null,
            "overflow_y": null,
            "overflow_x": null,
            "grid_auto_flow": null,
            "grid_area": null,
            "grid_template_columns": null,
            "flex": null,
            "_model_name": "LayoutModel",
            "justify_items": null,
            "grid_row": null,
            "max_height": null,
            "align_content": null,
            "visibility": null,
            "align_self": null,
            "height": null,
            "min_height": null,
            "padding": null,
            "grid_auto_rows": null,
            "grid_gap": null,
            "max_width": null,
            "order": null,
            "_view_module_version": "1.2.0",
            "grid_template_areas": null,
            "object_position": null,
            "object_fit": null,
            "grid_auto_columns": null,
            "margin": null,
            "display": null,
            "left": null
          }
        },
        "8264b3c2f969449a9be084d7ea700c80": {
          "model_module": "@jupyter-widgets/controls",
          "model_name": "FloatProgressModel",
          "state": {
            "_view_name": "ProgressView",
            "style": "IPY_MODEL_096b190c66bb41369060ab111c54a9e5",
            "_dom_classes": [],
            "description": "100%",
            "_model_name": "FloatProgressModel",
            "bar_style": "",
            "max": 500,
            "_view_module": "@jupyter-widgets/controls",
            "_model_module_version": "1.5.0",
            "value": 500,
            "_view_count": null,
            "_view_module_version": "1.5.0",
            "orientation": "horizontal",
            "min": 0,
            "description_tooltip": null,
            "_model_module": "@jupyter-widgets/controls",
            "layout": "IPY_MODEL_cf599f82ed4445f8a5227c184eea79aa"
          }
        },
        "5b226cafd68b4e8b84f2490d9224f32a": {
          "model_module": "@jupyter-widgets/controls",
          "model_name": "HTMLModel",
          "state": {
            "_view_name": "HTMLView",
            "style": "IPY_MODEL_0bf4a2c003324fee94b3da81492ceb11",
            "_dom_classes": [],
            "description": "",
            "_model_name": "HTMLModel",
            "placeholder": "​",
            "_view_module": "@jupyter-widgets/controls",
            "_model_module_version": "1.5.0",
            "value": " 500/500 [00:37&lt;00:00, 13.55it/s]",
            "_view_count": null,
            "_view_module_version": "1.5.0",
            "description_tooltip": null,
            "_model_module": "@jupyter-widgets/controls",
            "layout": "IPY_MODEL_12caf68a78724745928d019bbd4e7d4e"
          }
        },
        "096b190c66bb41369060ab111c54a9e5": {
          "model_module": "@jupyter-widgets/controls",
          "model_name": "ProgressStyleModel",
          "state": {
            "_view_name": "StyleView",
            "_model_name": "ProgressStyleModel",
            "description_width": "initial",
            "_view_module": "@jupyter-widgets/base",
            "_model_module_version": "1.5.0",
            "_view_count": null,
            "_view_module_version": "1.2.0",
            "bar_color": null,
            "_model_module": "@jupyter-widgets/controls"
          }
        },
        "cf599f82ed4445f8a5227c184eea79aa": {
          "model_module": "@jupyter-widgets/base",
          "model_name": "LayoutModel",
          "state": {
            "_view_name": "LayoutView",
            "grid_template_rows": null,
            "right": null,
            "justify_content": null,
            "_view_module": "@jupyter-widgets/base",
            "overflow": null,
            "_model_module_version": "1.2.0",
            "_view_count": null,
            "flex_flow": null,
            "width": null,
            "min_width": null,
            "border": null,
            "align_items": null,
            "bottom": null,
            "_model_module": "@jupyter-widgets/base",
            "top": null,
            "grid_column": null,
            "overflow_y": null,
            "overflow_x": null,
            "grid_auto_flow": null,
            "grid_area": null,
            "grid_template_columns": null,
            "flex": null,
            "_model_name": "LayoutModel",
            "justify_items": null,
            "grid_row": null,
            "max_height": null,
            "align_content": null,
            "visibility": null,
            "align_self": null,
            "height": null,
            "min_height": null,
            "padding": null,
            "grid_auto_rows": null,
            "grid_gap": null,
            "max_width": null,
            "order": null,
            "_view_module_version": "1.2.0",
            "grid_template_areas": null,
            "object_position": null,
            "object_fit": null,
            "grid_auto_columns": null,
            "margin": null,
            "display": null,
            "left": null
          }
        },
        "0bf4a2c003324fee94b3da81492ceb11": {
          "model_module": "@jupyter-widgets/controls",
          "model_name": "DescriptionStyleModel",
          "state": {
            "_view_name": "StyleView",
            "_model_name": "DescriptionStyleModel",
            "description_width": "",
            "_view_module": "@jupyter-widgets/base",
            "_model_module_version": "1.5.0",
            "_view_count": null,
            "_view_module_version": "1.2.0",
            "_model_module": "@jupyter-widgets/controls"
          }
        },
        "12caf68a78724745928d019bbd4e7d4e": {
          "model_module": "@jupyter-widgets/base",
          "model_name": "LayoutModel",
          "state": {
            "_view_name": "LayoutView",
            "grid_template_rows": null,
            "right": null,
            "justify_content": null,
            "_view_module": "@jupyter-widgets/base",
            "overflow": null,
            "_model_module_version": "1.2.0",
            "_view_count": null,
            "flex_flow": null,
            "width": null,
            "min_width": null,
            "border": null,
            "align_items": null,
            "bottom": null,
            "_model_module": "@jupyter-widgets/base",
            "top": null,
            "grid_column": null,
            "overflow_y": null,
            "overflow_x": null,
            "grid_auto_flow": null,
            "grid_area": null,
            "grid_template_columns": null,
            "flex": null,
            "_model_name": "LayoutModel",
            "justify_items": null,
            "grid_row": null,
            "max_height": null,
            "align_content": null,
            "visibility": null,
            "align_self": null,
            "height": null,
            "min_height": null,
            "padding": null,
            "grid_auto_rows": null,
            "grid_gap": null,
            "max_width": null,
            "order": null,
            "_view_module_version": "1.2.0",
            "grid_template_areas": null,
            "object_position": null,
            "object_fit": null,
            "grid_auto_columns": null,
            "margin": null,
            "display": null,
            "left": null
          }
        },
        "85d29ad31aea4866819ff0ab133db878": {
          "model_module": "@jupyter-widgets/controls",
          "model_name": "HBoxModel",
          "state": {
            "_view_name": "HBoxView",
            "_dom_classes": [],
            "_model_name": "HBoxModel",
            "_view_module": "@jupyter-widgets/controls",
            "_model_module_version": "1.5.0",
            "_view_count": null,
            "_view_module_version": "1.5.0",
            "box_style": "",
            "layout": "IPY_MODEL_18621c2f71194777af6497959ffc17e7",
            "_model_module": "@jupyter-widgets/controls",
            "children": [
              "IPY_MODEL_9fbb543371294e64bae904e239ade655",
              "IPY_MODEL_33051e59f0cf4a609c72661fa81c3c48"
            ]
          }
        },
        "18621c2f71194777af6497959ffc17e7": {
          "model_module": "@jupyter-widgets/base",
          "model_name": "LayoutModel",
          "state": {
            "_view_name": "LayoutView",
            "grid_template_rows": null,
            "right": null,
            "justify_content": null,
            "_view_module": "@jupyter-widgets/base",
            "overflow": null,
            "_model_module_version": "1.2.0",
            "_view_count": null,
            "flex_flow": null,
            "width": null,
            "min_width": null,
            "border": null,
            "align_items": null,
            "bottom": null,
            "_model_module": "@jupyter-widgets/base",
            "top": null,
            "grid_column": null,
            "overflow_y": null,
            "overflow_x": null,
            "grid_auto_flow": null,
            "grid_area": null,
            "grid_template_columns": null,
            "flex": null,
            "_model_name": "LayoutModel",
            "justify_items": null,
            "grid_row": null,
            "max_height": null,
            "align_content": null,
            "visibility": null,
            "align_self": null,
            "height": null,
            "min_height": null,
            "padding": null,
            "grid_auto_rows": null,
            "grid_gap": null,
            "max_width": null,
            "order": null,
            "_view_module_version": "1.2.0",
            "grid_template_areas": null,
            "object_position": null,
            "object_fit": null,
            "grid_auto_columns": null,
            "margin": null,
            "display": null,
            "left": null
          }
        },
        "9fbb543371294e64bae904e239ade655": {
          "model_module": "@jupyter-widgets/controls",
          "model_name": "FloatProgressModel",
          "state": {
            "_view_name": "ProgressView",
            "style": "IPY_MODEL_d9b4dbceb99d4f74988a34a5a96e493c",
            "_dom_classes": [],
            "description": "100%",
            "_model_name": "FloatProgressModel",
            "bar_style": "",
            "max": 500,
            "_view_module": "@jupyter-widgets/controls",
            "_model_module_version": "1.5.0",
            "value": 500,
            "_view_count": null,
            "_view_module_version": "1.5.0",
            "orientation": "horizontal",
            "min": 0,
            "description_tooltip": null,
            "_model_module": "@jupyter-widgets/controls",
            "layout": "IPY_MODEL_2f399816e6e54ac8bf49ce856bb753a8"
          }
        },
        "33051e59f0cf4a609c72661fa81c3c48": {
          "model_module": "@jupyter-widgets/controls",
          "model_name": "HTMLModel",
          "state": {
            "_view_name": "HTMLView",
            "style": "IPY_MODEL_3156d67975bc4a81a90971c1b42f3295",
            "_dom_classes": [],
            "description": "",
            "_model_name": "HTMLModel",
            "placeholder": "​",
            "_view_module": "@jupyter-widgets/controls",
            "_model_module_version": "1.5.0",
            "value": " 500/500 [03:32&lt;00:00,  2.37it/s, alpha=0.9574, beta=0.0476]",
            "_view_count": null,
            "_view_module_version": "1.5.0",
            "description_tooltip": null,
            "_model_module": "@jupyter-widgets/controls",
            "layout": "IPY_MODEL_dd91e1a0e6594e0caf9a160c31d8e9e1"
          }
        },
        "d9b4dbceb99d4f74988a34a5a96e493c": {
          "model_module": "@jupyter-widgets/controls",
          "model_name": "ProgressStyleModel",
          "state": {
            "_view_name": "StyleView",
            "_model_name": "ProgressStyleModel",
            "description_width": "initial",
            "_view_module": "@jupyter-widgets/base",
            "_model_module_version": "1.5.0",
            "_view_count": null,
            "_view_module_version": "1.2.0",
            "bar_color": null,
            "_model_module": "@jupyter-widgets/controls"
          }
        },
        "2f399816e6e54ac8bf49ce856bb753a8": {
          "model_module": "@jupyter-widgets/base",
          "model_name": "LayoutModel",
          "state": {
            "_view_name": "LayoutView",
            "grid_template_rows": null,
            "right": null,
            "justify_content": null,
            "_view_module": "@jupyter-widgets/base",
            "overflow": null,
            "_model_module_version": "1.2.0",
            "_view_count": null,
            "flex_flow": null,
            "width": null,
            "min_width": null,
            "border": null,
            "align_items": null,
            "bottom": null,
            "_model_module": "@jupyter-widgets/base",
            "top": null,
            "grid_column": null,
            "overflow_y": null,
            "overflow_x": null,
            "grid_auto_flow": null,
            "grid_area": null,
            "grid_template_columns": null,
            "flex": null,
            "_model_name": "LayoutModel",
            "justify_items": null,
            "grid_row": null,
            "max_height": null,
            "align_content": null,
            "visibility": null,
            "align_self": null,
            "height": null,
            "min_height": null,
            "padding": null,
            "grid_auto_rows": null,
            "grid_gap": null,
            "max_width": null,
            "order": null,
            "_view_module_version": "1.2.0",
            "grid_template_areas": null,
            "object_position": null,
            "object_fit": null,
            "grid_auto_columns": null,
            "margin": null,
            "display": null,
            "left": null
          }
        },
        "3156d67975bc4a81a90971c1b42f3295": {
          "model_module": "@jupyter-widgets/controls",
          "model_name": "DescriptionStyleModel",
          "state": {
            "_view_name": "StyleView",
            "_model_name": "DescriptionStyleModel",
            "description_width": "",
            "_view_module": "@jupyter-widgets/base",
            "_model_module_version": "1.5.0",
            "_view_count": null,
            "_view_module_version": "1.2.0",
            "_model_module": "@jupyter-widgets/controls"
          }
        },
        "dd91e1a0e6594e0caf9a160c31d8e9e1": {
          "model_module": "@jupyter-widgets/base",
          "model_name": "LayoutModel",
          "state": {
            "_view_name": "LayoutView",
            "grid_template_rows": null,
            "right": null,
            "justify_content": null,
            "_view_module": "@jupyter-widgets/base",
            "overflow": null,
            "_model_module_version": "1.2.0",
            "_view_count": null,
            "flex_flow": null,
            "width": null,
            "min_width": null,
            "border": null,
            "align_items": null,
            "bottom": null,
            "_model_module": "@jupyter-widgets/base",
            "top": null,
            "grid_column": null,
            "overflow_y": null,
            "overflow_x": null,
            "grid_auto_flow": null,
            "grid_area": null,
            "grid_template_columns": null,
            "flex": null,
            "_model_name": "LayoutModel",
            "justify_items": null,
            "grid_row": null,
            "max_height": null,
            "align_content": null,
            "visibility": null,
            "align_self": null,
            "height": null,
            "min_height": null,
            "padding": null,
            "grid_auto_rows": null,
            "grid_gap": null,
            "max_width": null,
            "order": null,
            "_view_module_version": "1.2.0",
            "grid_template_areas": null,
            "object_position": null,
            "object_fit": null,
            "grid_auto_columns": null,
            "margin": null,
            "display": null,
            "left": null
          }
        },
        "33be5a6eb1d141eba4ce58e8d2cb737d": {
          "model_module": "@jupyter-widgets/controls",
          "model_name": "HBoxModel",
          "state": {
            "_view_name": "HBoxView",
            "_dom_classes": [],
            "_model_name": "HBoxModel",
            "_view_module": "@jupyter-widgets/controls",
            "_model_module_version": "1.5.0",
            "_view_count": null,
            "_view_module_version": "1.5.0",
            "box_style": "",
            "layout": "IPY_MODEL_39a0976f8f1f47e79a38714446b52b78",
            "_model_module": "@jupyter-widgets/controls",
            "children": [
              "IPY_MODEL_66bb710b9e4345bfa960008357566c28",
              "IPY_MODEL_15e3029b37944f768f8e182136a68692"
            ]
          }
        },
        "39a0976f8f1f47e79a38714446b52b78": {
          "model_module": "@jupyter-widgets/base",
          "model_name": "LayoutModel",
          "state": {
            "_view_name": "LayoutView",
            "grid_template_rows": null,
            "right": null,
            "justify_content": null,
            "_view_module": "@jupyter-widgets/base",
            "overflow": null,
            "_model_module_version": "1.2.0",
            "_view_count": null,
            "flex_flow": null,
            "width": null,
            "min_width": null,
            "border": null,
            "align_items": null,
            "bottom": null,
            "_model_module": "@jupyter-widgets/base",
            "top": null,
            "grid_column": null,
            "overflow_y": null,
            "overflow_x": null,
            "grid_auto_flow": null,
            "grid_area": null,
            "grid_template_columns": null,
            "flex": null,
            "_model_name": "LayoutModel",
            "justify_items": null,
            "grid_row": null,
            "max_height": null,
            "align_content": null,
            "visibility": null,
            "align_self": null,
            "height": null,
            "min_height": null,
            "padding": null,
            "grid_auto_rows": null,
            "grid_gap": null,
            "max_width": null,
            "order": null,
            "_view_module_version": "1.2.0",
            "grid_template_areas": null,
            "object_position": null,
            "object_fit": null,
            "grid_auto_columns": null,
            "margin": null,
            "display": null,
            "left": null
          }
        },
        "66bb710b9e4345bfa960008357566c28": {
          "model_module": "@jupyter-widgets/controls",
          "model_name": "FloatProgressModel",
          "state": {
            "_view_name": "ProgressView",
            "style": "IPY_MODEL_3dd89d55455d4ea79c4169d2cfa54449",
            "_dom_classes": [],
            "description": "100%",
            "_model_name": "FloatProgressModel",
            "bar_style": "",
            "max": 500,
            "_view_module": "@jupyter-widgets/controls",
            "_model_module_version": "1.5.0",
            "value": 500,
            "_view_count": null,
            "_view_module_version": "1.5.0",
            "orientation": "horizontal",
            "min": 0,
            "description_tooltip": null,
            "_model_module": "@jupyter-widgets/controls",
            "layout": "IPY_MODEL_266f36a25b184284a070181735587d13"
          }
        },
        "15e3029b37944f768f8e182136a68692": {
          "model_module": "@jupyter-widgets/controls",
          "model_name": "HTMLModel",
          "state": {
            "_view_name": "HTMLView",
            "style": "IPY_MODEL_3291b0297a2e4cd5a2fb85c463c3c661",
            "_dom_classes": [],
            "description": "",
            "_model_name": "HTMLModel",
            "placeholder": "​",
            "_view_module": "@jupyter-widgets/controls",
            "_model_module_version": "1.5.0",
            "value": " 500/500 [03:33&lt;00:00,  2.35it/s, alpha=0.9572, beta=0.0441]",
            "_view_count": null,
            "_view_module_version": "1.5.0",
            "description_tooltip": null,
            "_model_module": "@jupyter-widgets/controls",
            "layout": "IPY_MODEL_d39a26b52dee474eb99725a2e2e2bd09"
          }
        },
        "3dd89d55455d4ea79c4169d2cfa54449": {
          "model_module": "@jupyter-widgets/controls",
          "model_name": "ProgressStyleModel",
          "state": {
            "_view_name": "StyleView",
            "_model_name": "ProgressStyleModel",
            "description_width": "initial",
            "_view_module": "@jupyter-widgets/base",
            "_model_module_version": "1.5.0",
            "_view_count": null,
            "_view_module_version": "1.2.0",
            "bar_color": null,
            "_model_module": "@jupyter-widgets/controls"
          }
        },
        "266f36a25b184284a070181735587d13": {
          "model_module": "@jupyter-widgets/base",
          "model_name": "LayoutModel",
          "state": {
            "_view_name": "LayoutView",
            "grid_template_rows": null,
            "right": null,
            "justify_content": null,
            "_view_module": "@jupyter-widgets/base",
            "overflow": null,
            "_model_module_version": "1.2.0",
            "_view_count": null,
            "flex_flow": null,
            "width": null,
            "min_width": null,
            "border": null,
            "align_items": null,
            "bottom": null,
            "_model_module": "@jupyter-widgets/base",
            "top": null,
            "grid_column": null,
            "overflow_y": null,
            "overflow_x": null,
            "grid_auto_flow": null,
            "grid_area": null,
            "grid_template_columns": null,
            "flex": null,
            "_model_name": "LayoutModel",
            "justify_items": null,
            "grid_row": null,
            "max_height": null,
            "align_content": null,
            "visibility": null,
            "align_self": null,
            "height": null,
            "min_height": null,
            "padding": null,
            "grid_auto_rows": null,
            "grid_gap": null,
            "max_width": null,
            "order": null,
            "_view_module_version": "1.2.0",
            "grid_template_areas": null,
            "object_position": null,
            "object_fit": null,
            "grid_auto_columns": null,
            "margin": null,
            "display": null,
            "left": null
          }
        },
        "3291b0297a2e4cd5a2fb85c463c3c661": {
          "model_module": "@jupyter-widgets/controls",
          "model_name": "DescriptionStyleModel",
          "state": {
            "_view_name": "StyleView",
            "_model_name": "DescriptionStyleModel",
            "description_width": "",
            "_view_module": "@jupyter-widgets/base",
            "_model_module_version": "1.5.0",
            "_view_count": null,
            "_view_module_version": "1.2.0",
            "_model_module": "@jupyter-widgets/controls"
          }
        },
        "d39a26b52dee474eb99725a2e2e2bd09": {
          "model_module": "@jupyter-widgets/base",
          "model_name": "LayoutModel",
          "state": {
            "_view_name": "LayoutView",
            "grid_template_rows": null,
            "right": null,
            "justify_content": null,
            "_view_module": "@jupyter-widgets/base",
            "overflow": null,
            "_model_module_version": "1.2.0",
            "_view_count": null,
            "flex_flow": null,
            "width": null,
            "min_width": null,
            "border": null,
            "align_items": null,
            "bottom": null,
            "_model_module": "@jupyter-widgets/base",
            "top": null,
            "grid_column": null,
            "overflow_y": null,
            "overflow_x": null,
            "grid_auto_flow": null,
            "grid_area": null,
            "grid_template_columns": null,
            "flex": null,
            "_model_name": "LayoutModel",
            "justify_items": null,
            "grid_row": null,
            "max_height": null,
            "align_content": null,
            "visibility": null,
            "align_self": null,
            "height": null,
            "min_height": null,
            "padding": null,
            "grid_auto_rows": null,
            "grid_gap": null,
            "max_width": null,
            "order": null,
            "_view_module_version": "1.2.0",
            "grid_template_areas": null,
            "object_position": null,
            "object_fit": null,
            "grid_auto_columns": null,
            "margin": null,
            "display": null,
            "left": null
          }
        }
      }
    },
    "accelerator": "GPU"
  },
  "cells": [
    {
      "cell_type": "markdown",
      "metadata": {
        "id": "view-in-github",
        "colab_type": "text"
      },
      "source": [
        "<a href=\"https://colab.research.google.com/github/JustinWongStanford/CS330P/blob/master/FCM.ipynb\" target=\"_parent\"><img src=\"https://colab.research.google.com/assets/colab-badge.svg\" alt=\"Open In Colab\"/></a>"
      ]
    },
    {
      "cell_type": "code",
      "metadata": {
        "id": "7YGFN4-wKqM_"
      },
      "source": [
        ""
      ],
      "execution_count": null,
      "outputs": []
    },
    {
      "cell_type": "markdown",
      "metadata": {
        "id": "qafSafaXpFpP"
      },
      "source": [
        "# TOP"
      ]
    },
    {
      "cell_type": "code",
      "metadata": {
        "id": "0-5i9QzOSacZ",
        "outputId": "f2223796-302a-4981-91f5-b9758b929152",
        "colab": {
          "base_uri": "https://localhost:8080/"
        }
      },
      "source": [
        "! git clone https://github.com/authors-1901-10912/A-Meta-Transfer-Objective-For-Learning-To-Disentangle-Causal-Mechanisms.git"
      ],
      "execution_count": 1,
      "outputs": [
        {
          "output_type": "stream",
          "text": [
            "Cloning into 'A-Meta-Transfer-Objective-For-Learning-To-Disentangle-Causal-Mechanisms'...\n",
            "remote: Enumerating objects: 51, done.\u001b[K\n",
            "remote: Total 51 (delta 0), reused 0 (delta 0), pack-reused 51\u001b[K\n",
            "Unpacking objects: 100% (51/51), done.\n"
          ],
          "name": "stdout"
        }
      ]
    },
    {
      "cell_type": "code",
      "metadata": {
        "id": "sdh_nDYLSzcr",
        "outputId": "99a28a9d-255e-4ee8-8fe2-2e216d0b5c97",
        "colab": {
          "base_uri": "https://localhost:8080/"
        }
      },
      "source": [
        "! git pull"
      ],
      "execution_count": 2,
      "outputs": [
        {
          "output_type": "stream",
          "text": [
            "fatal: not a git repository (or any of the parent directories): .git\n"
          ],
          "name": "stdout"
        }
      ]
    },
    {
      "cell_type": "code",
      "metadata": {
        "id": "An2J4AXMTHns"
      },
      "source": [
        "!ln -s A-Meta-Transfer-Objective-For-Learning-To-Disentangle-Causal-Mechanisms gitcode"
      ],
      "execution_count": 3,
      "outputs": []
    },
    {
      "cell_type": "code",
      "metadata": {
        "id": "q_LkeFzKTXLF",
        "outputId": "808374f5-830c-46ac-c0a1-3c899589a7ca",
        "colab": {
          "base_uri": "https://localhost:8080/"
        }
      },
      "source": [
        "!ls"
      ],
      "execution_count": 4,
      "outputs": [
        {
          "output_type": "stream",
          "text": [
            "A-Meta-Transfer-Objective-For-Learning-To-Disentangle-Causal-Mechanisms\n",
            "gitcode\n",
            "sample_data\n"
          ],
          "name": "stdout"
        }
      ]
    },
    {
      "cell_type": "code",
      "metadata": {
        "id": "3d5MxX6vTbgf",
        "outputId": "ba5c22c4-9a70-4e6e-f76b-2e4a9a936415",
        "colab": {
          "base_uri": "https://localhost:8080/"
        }
      },
      "source": [
        "!pip install -r gitcode/requirements.txt"
      ],
      "execution_count": 5,
      "outputs": [
        {
          "output_type": "stream",
          "text": [
            "Collecting torch==1.0.0\n",
            "\u001b[?25l  Downloading https://files.pythonhosted.org/packages/7e/60/66415660aa46b23b5e1b72bc762e816736ce8d7260213e22365af51e8f9c/torch-1.0.0-cp36-cp36m-manylinux1_x86_64.whl (591.8MB)\n",
            "\u001b[K     |████████████████████████████████| 591.8MB 15kB/s \n",
            "\u001b[?25hRequirement already satisfied: numpy in /usr/local/lib/python3.6/dist-packages (from -r gitcode/requirements.txt (line 2)) (1.18.5)\n",
            "Requirement already satisfied: jupyter in /usr/local/lib/python3.6/dist-packages (from -r gitcode/requirements.txt (line 3)) (1.0.0)\n",
            "Requirement already satisfied: tqdm in /usr/local/lib/python3.6/dist-packages (from -r gitcode/requirements.txt (line 4)) (4.41.1)\n",
            "Requirement already satisfied: matplotlib in /usr/local/lib/python3.6/dist-packages (from -r gitcode/requirements.txt (line 5)) (3.2.2)\n",
            "Requirement already satisfied: scipy in /usr/local/lib/python3.6/dist-packages (from -r gitcode/requirements.txt (line 6)) (1.4.1)\n",
            "Requirement already satisfied: ipykernel in /usr/local/lib/python3.6/dist-packages (from jupyter->-r gitcode/requirements.txt (line 3)) (4.10.1)\n",
            "Requirement already satisfied: ipywidgets in /usr/local/lib/python3.6/dist-packages (from jupyter->-r gitcode/requirements.txt (line 3)) (7.5.1)\n",
            "Requirement already satisfied: notebook in /usr/local/lib/python3.6/dist-packages (from jupyter->-r gitcode/requirements.txt (line 3)) (5.3.1)\n",
            "Requirement already satisfied: qtconsole in /usr/local/lib/python3.6/dist-packages (from jupyter->-r gitcode/requirements.txt (line 3)) (4.7.7)\n",
            "Requirement already satisfied: jupyter-console in /usr/local/lib/python3.6/dist-packages (from jupyter->-r gitcode/requirements.txt (line 3)) (5.2.0)\n",
            "Requirement already satisfied: nbconvert in /usr/local/lib/python3.6/dist-packages (from jupyter->-r gitcode/requirements.txt (line 3)) (5.6.1)\n",
            "Requirement already satisfied: pyparsing!=2.0.4,!=2.1.2,!=2.1.6,>=2.0.1 in /usr/local/lib/python3.6/dist-packages (from matplotlib->-r gitcode/requirements.txt (line 5)) (2.4.7)\n",
            "Requirement already satisfied: kiwisolver>=1.0.1 in /usr/local/lib/python3.6/dist-packages (from matplotlib->-r gitcode/requirements.txt (line 5)) (1.3.1)\n",
            "Requirement already satisfied: cycler>=0.10 in /usr/local/lib/python3.6/dist-packages (from matplotlib->-r gitcode/requirements.txt (line 5)) (0.10.0)\n",
            "Requirement already satisfied: python-dateutil>=2.1 in /usr/local/lib/python3.6/dist-packages (from matplotlib->-r gitcode/requirements.txt (line 5)) (2.8.1)\n",
            "Requirement already satisfied: ipython>=4.0.0 in /usr/local/lib/python3.6/dist-packages (from ipykernel->jupyter->-r gitcode/requirements.txt (line 3)) (5.5.0)\n",
            "Requirement already satisfied: jupyter-client in /usr/local/lib/python3.6/dist-packages (from ipykernel->jupyter->-r gitcode/requirements.txt (line 3)) (5.3.5)\n",
            "Requirement already satisfied: traitlets>=4.1.0 in /usr/local/lib/python3.6/dist-packages (from ipykernel->jupyter->-r gitcode/requirements.txt (line 3)) (4.3.3)\n",
            "Requirement already satisfied: tornado>=4.0 in /usr/local/lib/python3.6/dist-packages (from ipykernel->jupyter->-r gitcode/requirements.txt (line 3)) (5.1.1)\n",
            "Requirement already satisfied: widgetsnbextension~=3.5.0 in /usr/local/lib/python3.6/dist-packages (from ipywidgets->jupyter->-r gitcode/requirements.txt (line 3)) (3.5.1)\n",
            "Requirement already satisfied: nbformat>=4.2.0 in /usr/local/lib/python3.6/dist-packages (from ipywidgets->jupyter->-r gitcode/requirements.txt (line 3)) (5.0.8)\n",
            "Requirement already satisfied: jinja2 in /usr/local/lib/python3.6/dist-packages (from notebook->jupyter->-r gitcode/requirements.txt (line 3)) (2.11.2)\n",
            "Requirement already satisfied: Send2Trash in /usr/local/lib/python3.6/dist-packages (from notebook->jupyter->-r gitcode/requirements.txt (line 3)) (1.5.0)\n",
            "Requirement already satisfied: terminado>=0.8.1 in /usr/local/lib/python3.6/dist-packages (from notebook->jupyter->-r gitcode/requirements.txt (line 3)) (0.9.1)\n",
            "Requirement already satisfied: jupyter-core>=4.4.0 in /usr/local/lib/python3.6/dist-packages (from notebook->jupyter->-r gitcode/requirements.txt (line 3)) (4.6.3)\n",
            "Requirement already satisfied: ipython-genutils in /usr/local/lib/python3.6/dist-packages (from notebook->jupyter->-r gitcode/requirements.txt (line 3)) (0.2.0)\n",
            "Requirement already satisfied: qtpy in /usr/local/lib/python3.6/dist-packages (from qtconsole->jupyter->-r gitcode/requirements.txt (line 3)) (1.9.0)\n",
            "Requirement already satisfied: pyzmq>=17.1 in /usr/local/lib/python3.6/dist-packages (from qtconsole->jupyter->-r gitcode/requirements.txt (line 3)) (19.0.2)\n",
            "Requirement already satisfied: pygments in /usr/local/lib/python3.6/dist-packages (from qtconsole->jupyter->-r gitcode/requirements.txt (line 3)) (2.6.1)\n",
            "Requirement already satisfied: prompt-toolkit<2.0.0,>=1.0.0 in /usr/local/lib/python3.6/dist-packages (from jupyter-console->jupyter->-r gitcode/requirements.txt (line 3)) (1.0.18)\n",
            "Requirement already satisfied: bleach in /usr/local/lib/python3.6/dist-packages (from nbconvert->jupyter->-r gitcode/requirements.txt (line 3)) (3.2.1)\n",
            "Requirement already satisfied: defusedxml in /usr/local/lib/python3.6/dist-packages (from nbconvert->jupyter->-r gitcode/requirements.txt (line 3)) (0.6.0)\n",
            "Requirement already satisfied: pandocfilters>=1.4.1 in /usr/local/lib/python3.6/dist-packages (from nbconvert->jupyter->-r gitcode/requirements.txt (line 3)) (1.4.3)\n",
            "Requirement already satisfied: entrypoints>=0.2.2 in /usr/local/lib/python3.6/dist-packages (from nbconvert->jupyter->-r gitcode/requirements.txt (line 3)) (0.3)\n",
            "Requirement already satisfied: mistune<2,>=0.8.1 in /usr/local/lib/python3.6/dist-packages (from nbconvert->jupyter->-r gitcode/requirements.txt (line 3)) (0.8.4)\n",
            "Requirement already satisfied: testpath in /usr/local/lib/python3.6/dist-packages (from nbconvert->jupyter->-r gitcode/requirements.txt (line 3)) (0.4.4)\n",
            "Requirement already satisfied: six in /usr/local/lib/python3.6/dist-packages (from cycler>=0.10->matplotlib->-r gitcode/requirements.txt (line 5)) (1.15.0)\n",
            "Requirement already satisfied: setuptools>=18.5 in /usr/local/lib/python3.6/dist-packages (from ipython>=4.0.0->ipykernel->jupyter->-r gitcode/requirements.txt (line 3)) (50.3.2)\n",
            "Requirement already satisfied: decorator in /usr/local/lib/python3.6/dist-packages (from ipython>=4.0.0->ipykernel->jupyter->-r gitcode/requirements.txt (line 3)) (4.4.2)\n",
            "Requirement already satisfied: pexpect; sys_platform != \"win32\" in /usr/local/lib/python3.6/dist-packages (from ipython>=4.0.0->ipykernel->jupyter->-r gitcode/requirements.txt (line 3)) (4.8.0)\n",
            "Requirement already satisfied: simplegeneric>0.8 in /usr/local/lib/python3.6/dist-packages (from ipython>=4.0.0->ipykernel->jupyter->-r gitcode/requirements.txt (line 3)) (0.8.1)\n",
            "Requirement already satisfied: pickleshare in /usr/local/lib/python3.6/dist-packages (from ipython>=4.0.0->ipykernel->jupyter->-r gitcode/requirements.txt (line 3)) (0.7.5)\n",
            "Requirement already satisfied: jsonschema!=2.5.0,>=2.4 in /usr/local/lib/python3.6/dist-packages (from nbformat>=4.2.0->ipywidgets->jupyter->-r gitcode/requirements.txt (line 3)) (2.6.0)\n",
            "Requirement already satisfied: MarkupSafe>=0.23 in /usr/local/lib/python3.6/dist-packages (from jinja2->notebook->jupyter->-r gitcode/requirements.txt (line 3)) (1.1.1)\n",
            "Requirement already satisfied: ptyprocess; os_name != \"nt\" in /usr/local/lib/python3.6/dist-packages (from terminado>=0.8.1->notebook->jupyter->-r gitcode/requirements.txt (line 3)) (0.6.0)\n",
            "Requirement already satisfied: wcwidth in /usr/local/lib/python3.6/dist-packages (from prompt-toolkit<2.0.0,>=1.0.0->jupyter-console->jupyter->-r gitcode/requirements.txt (line 3)) (0.2.5)\n",
            "Requirement already satisfied: packaging in /usr/local/lib/python3.6/dist-packages (from bleach->nbconvert->jupyter->-r gitcode/requirements.txt (line 3)) (20.4)\n",
            "Requirement already satisfied: webencodings in /usr/local/lib/python3.6/dist-packages (from bleach->nbconvert->jupyter->-r gitcode/requirements.txt (line 3)) (0.5.1)\n",
            "\u001b[31mERROR: torchvision 0.8.1+cu101 has requirement torch==1.7.0, but you'll have torch 1.0.0 which is incompatible.\u001b[0m\n",
            "Installing collected packages: torch\n",
            "  Found existing installation: torch 1.7.0+cu101\n",
            "    Uninstalling torch-1.7.0+cu101:\n",
            "      Successfully uninstalled torch-1.7.0+cu101\n",
            "Successfully installed torch-1.0.0\n"
          ],
          "name": "stdout"
        }
      ]
    },
    {
      "cell_type": "code",
      "metadata": {
        "id": "70kdl8K3V5bY",
        "outputId": "e294654a-4651-4f9a-818a-f83fa01e5136",
        "colab": {
          "base_uri": "https://localhost:8080/"
        }
      },
      "source": [
        "% cd gitcode"
      ],
      "execution_count": 6,
      "outputs": [
        {
          "output_type": "stream",
          "text": [
            "/content/A-Meta-Transfer-Objective-For-Learning-To-Disentangle-Causal-Mechanisms\n"
          ],
          "name": "stdout"
        }
      ]
    },
    {
      "cell_type": "code",
      "metadata": {
        "id": "Bh1Hv6Hl2tWs"
      },
      "source": [
        "!ln -s ../A-Meta-Transfer-Objective-For-Learning-To-Disentangle-Causal-Mechanisms/notebooks/bivariate-continuous-multimodal/ bcm"
      ],
      "execution_count": 7,
      "outputs": []
    },
    {
      "cell_type": "code",
      "metadata": {
        "id": "HhW2r1c_WFa_",
        "outputId": "3550ab77-e26b-4f64-b46f-cdf202baec31",
        "colab": {
          "base_uri": "https://localhost:8080/"
        }
      },
      "source": [
        "\n",
        "! ls \n",
        "\n",
        "# ! pip install ."
      ],
      "execution_count": 8,
      "outputs": [
        {
          "output_type": "stream",
          "text": [
            "bcm\tcausal_meta  notebooks\trequirements.txt\n",
            "causal\t__init__.py  README.md\trun.py\n"
          ],
          "name": "stdout"
        }
      ]
    },
    {
      "cell_type": "code",
      "metadata": {
        "id": "ok2wSZYT0PQE"
      },
      "source": [
        "import sys\n",
        "# sys.path.append('../..')"
      ],
      "execution_count": 9,
      "outputs": []
    },
    {
      "cell_type": "code",
      "metadata": {
        "id": "Rxu-MzzdTdNR"
      },
      "source": [
        "import torch\n",
        "import torch.nn as nn\n",
        "import torch.nn.functional as F\n",
        "\n",
        "import numpy as np\n",
        "from scipy import interpolate\n",
        "\n",
        "import random\n",
        "import tqdm\n",
        "from copy import deepcopy\n",
        "from argparse import Namespace\n",
        "import warnings\n",
        "\n",
        "%matplotlib inline\n",
        "import matplotlib.pyplot as plt\n",
        "import seaborn as sns\n",
        "sns.set()"
      ],
      "execution_count": 167,
      "outputs": []
    },
    {
      "cell_type": "code",
      "metadata": {
        "id": "K04SPx_2TlSO"
      },
      "source": [
        "# from causal_meta.modules import networks as nets\n",
        "from causal_meta.utils.data_utils import RandomSplineSCM\n",
        "\n",
        "import causal_meta.utils.train_utils as tu\n",
        "# from bcm.encoder import Rotor\n",
        "from causal_meta.modules.mdn import MDN, GMM, mdn_nll\n",
        "from causal_meta.modules.gmm import GaussianMixture"
      ],
      "execution_count": 168,
      "outputs": []
    },
    {
      "cell_type": "code",
      "metadata": {
        "id": "l98Cqdvpy6Pu"
      },
      "source": [
        "%matplotlib inline\n",
        "import torch\n",
        "import numpy as np\n",
        "import matplotlib.pyplot as plt\n",
        "\n",
        "from causal_meta.modules.mdn import mdn_nll\n",
        "from causal_meta.utils.data_utils import RandomSplineSCM\n",
        "from causal_meta.utils.train_utils import train_nll, make_alpha, train_alpha\n",
        "from bcm.models import mdn, gmm, auc_transfer_metric\n",
        "from argparse import Namespace"
      ],
      "execution_count": 169,
      "outputs": []
    },
    {
      "cell_type": "code",
      "metadata": {
        "id": "R0WRDr-mpM81"
      },
      "source": [
        "import torch\n",
        "import torch.nn as nn\n",
        "import torch.nn.functional as F\n",
        "\n",
        "class FCMMDN(nn.Module):\n",
        "    def __init__(self, n_hidden, n_gaussians = 1):\n",
        "        super(FCMMDN, self).__init__()\n",
        "        self.z_h = nn.Sequential(\n",
        "            nn.Linear(3, n_hidden),\n",
        "            nn.Tanh()\n",
        "        )\n",
        "        self.z_pi = nn.Linear(n_hidden, n_gaussians)\n",
        "        self.z_mu = nn.Linear(n_hidden, n_gaussians)\n",
        "        self.z_sigma = nn.Linear(n_hidden, n_gaussians)\n",
        "\n",
        "    def forward(self, x, z):\n",
        "        noise = normal(0, 1, x.size()).cuda()\n",
        "        y = torch.cat([x, z, noise], dim=-1)\n",
        "        z_h = self.z_h(y)\n",
        "        pi = F.softmax(self.z_pi(z_h), -1)\n",
        "        mu = self.z_mu(z_h)\n",
        "        sigma = torch.exp(self.z_sigma(z_h))\n",
        "        return pi, mu, sigma\n",
        "\n",
        "\n",
        "class FCM_muSigma(nn.Module):\n",
        "    def __init__(self, n_hidden, n_gaussians = 1):\n",
        "        super(FCM_muSigma, self).__init__()\n",
        "        self.z_h = nn.Sequential(\n",
        "            nn.Linear(2, n_hidden),\n",
        "            nn.Tanh()\n",
        "        )\n",
        "        self.z_mu = nn.Linear(n_hidden, n_gaussians)\n",
        "        self.z_sigma = nn.Linear(n_hidden, n_gaussians)\n",
        "\n",
        "    def forward(self, x):\n",
        "        noise = normal(0, 1, x.size()).cuda()\n",
        "        z_h = self.z_h(torch.cat([x, noise], dim = -1))\n",
        "        mu = self.z_mu(z_h)\n",
        "        sigma = torch.exp(self.z_sigma(z_h))\n",
        "        return mu, sigma\n",
        "        "
      ],
      "execution_count": 170,
      "outputs": []
    },
    {
      "cell_type": "code",
      "metadata": {
        "id": "wGBp0imzVdHr"
      },
      "source": [
        "SEED = 91023\n",
        "torch.manual_seed(SEED)\n",
        "np.random.seed(SEED)"
      ],
      "execution_count": 171,
      "outputs": []
    },
    {
      "cell_type": "markdown",
      "metadata": {
        "id": "tEvwxwGc5zOm"
      },
      "source": [
        "# Boilerplate"
      ]
    },
    {
      "cell_type": "code",
      "metadata": {
        "id": "4TxJRzR60GNN"
      },
      "source": [
        "def normal(mean, std, N): \n",
        "    return torch.normal(torch.ones(N).mul_(mean), torch.ones(N).mul_(std)).view(-1, 1)"
      ],
      "execution_count": 172,
      "outputs": []
    },
    {
      "cell_type": "code",
      "metadata": {
        "id": "ZuBOP0E1z8bG"
      },
      "source": [
        "# opt = Namespace()\n",
        "# # Model\n",
        "# opt.CAPACITY = 32\n",
        "# opt.NUM_COMPONENTS = 10\n",
        "# opt.GMM_NUM_COMPONENTS = 10\n",
        "# # Training\n",
        "# opt.LR = 0.001\n",
        "# opt.NUM_ITER = 3000\n",
        "# opt.CUDA = False\n",
        "# opt.REC_FREQ = 10\n",
        "# # Meta\n",
        "# opt.ALPHA_LR = 0.1\n",
        "# opt.ALPHA_NUM_ITER = 500\n",
        "# opt.FINETUNE_LR = 0.001\n",
        "# opt.FINETUNE_NUM_ITER = 10\n",
        "# opt.PARAM_DISTRY = lambda mean: normal(mean, 2, opt.NUM_SAMPLES)\n",
        "# opt.PARAM_SAMPLER = lambda: np.random.uniform(-4, 4)\n",
        "# # Sampling \n",
        "# opt.NUM_SAMPLES = 1000\n",
        "# opt.TRAIN_DISTRY = lambda: normal(0, 2, opt.NUM_SAMPLES)\n",
        "# opt.TRANS_DISTRY = lambda: normal(random.randint(-4, 4), 2, opt.NUM_SAMPLES)\n",
        "\n",
        "opt = Namespace()\n",
        "\n",
        "# Model\n",
        "opt.CAPACITY = 32\n",
        "opt.NUM_COMPONENTS = 10\n",
        "# opt.GMM_NUM_COMPONENTS = 10\n",
        "opt.GMM_NUM_COMPONENTS = 10\n",
        "opt.Z_COMPONENTS = 1\n",
        "opt.W_COMPONENTS = 1\n",
        "\n",
        "\n",
        "# Training\n",
        "opt.LR = 0.01\n",
        "opt.NUM_ITER = 500\n",
        "opt.NUM_META_ITER = 1000\n",
        "opt.ALPHA_LR = 0.01\n",
        "opt.ALPHA_NUM_ITER = 1000\n",
        "opt.CUDA = True\n",
        "opt.REC_FREQ = 10\n",
        "opt.ALPHA_INIT = 0.\n",
        "opt.USE_BASELINE = True\n",
        "opt.MONTE_CARLO_STEPS = 300\n",
        "\n",
        "# Fine tuning\n",
        "opt.FINETUNE_NUM_ITER = 5\n",
        "opt.FINETUNE_LR = 0.001\n",
        "opt.EM_ITERS = 300\n",
        "\n",
        "# Sampling \n",
        "opt.NUM_SAMPLES = 1000\n",
        "opt.TRAIN_DISTRY = lambda z: normal(0, 2, opt.NUM_SAMPLES) + z\n",
        "opt.TRANS_DISTRY = lambda z: normal(np.random.uniform(-4, 4), \n",
        "                                  2, opt.NUM_SAMPLES) + z\n",
        "opt.DISTR_FOR_Z = lambda: normal(0, 4, opt.NUM_SAMPLES)\n",
        "opt.DISTR_FOR_W = lambda z: normal(2, 2, opt.NUM_SAMPLES) + z\n",
        "\n",
        "opt.PARAM_DISTRY = lambda mean, z: normal(mean, 2, opt.NUM_SAMPLES) + z\n",
        "opt.PARAM_SAMPLER = lambda: np.random.uniform(-4, 4)\n",
        "opt.ALPHA_NUM_ITER = 500\n",
        "\n",
        "# Encoder\n",
        "opt.DECODER_DEFAULT = -float(0.5 * np.pi/2)"
      ],
      "execution_count": 173,
      "outputs": []
    },
    {
      "cell_type": "code",
      "metadata": {
        "id": "VBYdexLuax9r"
      },
      "source": [
        "import torch\n",
        "import torch.nn as nn\n",
        "import numpy as np\n",
        "import scipy\n",
        "from scipy import interpolate\n",
        "try:\n",
        "    import matplotlib.pyplot as plt\n",
        "except Exception: \n",
        "    plt = None\n",
        "\n",
        "class RandomSplineSCM(nn.Module): \n",
        "    def __init__(self, input_noise=False, output_noise=True, \n",
        "                 span=6, num_anchors=10, order=3, range_scale=1.): \n",
        "        super(RandomSplineSCM, self).__init__()\n",
        "        self._span = span\n",
        "        self._num_anchors = num_anchors\n",
        "        self._range_scale = range_scale\n",
        "        self._x = np.linspace(-span, span, num_anchors)\n",
        "        self._y = np.random.uniform(-range_scale * span, range_scale * span, \n",
        "                                    size=(num_anchors,))\n",
        "        self._spline_spec = interpolate.splrep(self._x, self._y, k=order)\n",
        "        self.input_noise = input_noise\n",
        "        self.output_noise = output_noise\n",
        "    \n",
        "    def forward(self, X, Z=None):\n",
        "        #if Z is None: \n",
        "        to_add = Z + self.sample(X.shape[0])\n",
        "        if self.input_noise: \n",
        "            X = X + Z\n",
        "        X_np = X.detach().cpu().numpy().squeeze()\n",
        "        _Y_np = interpolate.splev(X_np, self._spline_spec)\n",
        "        _Y = torch.from_numpy(_Y_np).view(-1, 1).float().to(X.device)\n",
        "        if self.output_noise:\n",
        "            Y = _Y + to_add\n",
        "        else: \n",
        "            Y = _Y\n",
        "        return Y\n",
        "        \n",
        "    def sample(self, N): \n",
        "        return torch.normal(torch.zeros(N), torch.ones(N)).view(-1, 1)\n",
        "    \n",
        "    def plot(self, X, title=\"Samples from the SCM\", label=None, show=True): \n",
        "        Y = self(X)\n",
        "        if show:\n",
        "            plt.figure()\n",
        "            plt.title(title)\n",
        "        plt.scatter(X.squeeze().numpy(), Y.squeeze().numpy(), marker='+', label=label)\n",
        "        if show:\n",
        "            plt.xlabel(\"X\")\n",
        "            plt.ylabel(\"Y\")\n",
        "            plt.show()\n",
        "\n",
        "\n",
        "def original_mdn_nll(pi_mu_sigma, y, reduce=True):\n",
        "    pi, mu, sigma = pi_mu_sigma\n",
        "    m = torch.distributions.Normal(loc=mu, scale=sigma)\n",
        "    log_prob_y = m.log_prob(y)\n",
        "    log_prob_pi_y = log_prob_y + torch.log(pi)\n",
        "    loss = -torch.logsumexp(log_prob_pi_y, dim=1)\n",
        "    if reduce:\n",
        "        return torch.mean(loss)\n",
        "    else:\n",
        "        return loss\n",
        "\n",
        "def mdn_nll(pi_mu_sigma, y, mu_sigma_z, mu_sigma_w, z, w, reduce=True):\n",
        "    pi, mu, sigma = pi_mu_sigma\n",
        "    mu_w, sigma_w = mu_sigma_w\n",
        "    mu_z, sigma_z = mu_sigma_z\n",
        "    m = torch.distributions.Normal(loc=mu, scale=sigma)\n",
        "    mz = torch.distributions.Normal(loc=0, scale=1)\n",
        "    mzGw = torch.distributions.Normal(loc=mu_z, scale=sigma_z)\n",
        "    mw = torch.distributions.Normal(loc=mu_w, scale=sigma_w)\n",
        "\n",
        "    log_prob_y = m.log_prob(y)\n",
        "    log_prob_w = mw.log_prob(w)\n",
        "    log_prob_z = mz.log_prob(z)\n",
        "    log_prob_zGw = mzGw.log_prob(z) \n",
        "    log_prob_pi_y = log_prob_y + torch.log(pi)\n",
        "    loss = - (log_prob_w.reshape(-1) + log_prob_z.reshape(-1) - log_prob_zGw.reshape(-1) + torch.logsumexp(log_prob_pi_y, dim=1))\n",
        "    if reduce:\n",
        "        return torch.mean(loss)\n",
        "    else:\n",
        "        return loss\n"
      ],
      "execution_count": 174,
      "outputs": []
    },
    {
      "cell_type": "code",
      "metadata": {
        "id": "yC-3meKjz92W"
      },
      "source": [
        "scm = RandomSplineSCM(False, True, 8, 10, 3, range_scale=1.)"
      ],
      "execution_count": 175,
      "outputs": []
    },
    {
      "cell_type": "code",
      "metadata": {
        "id": "SgOl66dcZ0UL"
      },
      "source": [
        "def splitmusigma(h, dim = -1):\n",
        "  m, h = torch.split(h, h.size(dim) // 2, dim=dim)\n",
        "  v = F.softplus(h) + 1e-8\n",
        "  return m, v\n",
        "\n",
        "def kl_normal(qm, qv, pm, pv):\n",
        "    element_wise = 0.5 * (torch.log(pv) - torch.log(qv) + qv / pv + (qm - pm).pow(2) / pv - 1)\n",
        "    kl = element_wise.sum(-1)\n",
        "    return kl\n",
        "\n",
        "bce = torch.nn.BCEWithLogitsLoss(reduction='none')\n",
        "def log_bernoulli_with_logits(x, logits):\n",
        "    log_prob = -bce(input=logits, target=x).sum(-1)\n",
        "    return log_prob\n",
        "\n",
        "def sample_gaussian(m, v):\n",
        "    eps = torch.normal(mean = 0, std = torch.ones(v.shape))\n",
        "    eps = eps.cuda()\n",
        "    z = m + eps * torch.sqrt(v.to(0))\n",
        "    return z\n",
        "\n",
        "class VAE(nn.Module):\n",
        "  def __init__(self, n_hidden):\n",
        "        super().__init__()\n",
        "       \n",
        "        self.encodenet = nn.Sequential(\n",
        "            nn.Linear(1, n_hidden),\n",
        "            nn.ELU(),\n",
        "            nn.Linear(n_hidden, 2)\n",
        "        )\n",
        "\n",
        "        self.decodenet = nn.Sequential(\n",
        "            nn.Linear(1, n_hidden),\n",
        "            nn.ELU(),\n",
        "            nn.Linear(n_hidden, 1)\n",
        "        )\n",
        "\n",
        "        self.z_prior_m = torch.nn.Parameter(torch.zeros(1), requires_grad=False)\n",
        "        self.z_prior_v = torch.nn.Parameter(torch.ones(1), requires_grad=False)\n",
        "        self.z_prior = (self.z_prior_m, self.z_prior_v)\n",
        "    \n",
        "  def encode(self, x, y = None):\n",
        "        xy = x if y is None else torch.cat((x, y), dim=1)\n",
        "        h = self.encodenet(xy)\n",
        "        m, v = splitmusigma(h, dim=1)\n",
        "        return m, v\n",
        "\n",
        "  def decode(self, z, y=None):\n",
        "        zy = z if y is None else torch.cat((z, y), dim=1)\n",
        "        return self.decodenet(zy)\n",
        "\n",
        "  def loss(self, x):\n",
        "        st = self.encode(x)\n",
        "        # print(st[0].size())\n",
        "        # print(x.size())\n",
        "        kl = kl_normal(st[0], st[1], self.z_prior_m, self.z_prior_v)\n",
        "        # rec = -log_bernoulli_with_logits(x, self.decode(sample_gaussian(st[0], st[1])))\n",
        "        rec = -(x -  self.decode(sample_gaussian(st[0], st[1])))**2\n",
        "        nelbo = (kl + rec).mean()\n",
        "        return nelbo"
      ],
      "execution_count": 194,
      "outputs": []
    },
    {
      "cell_type": "code",
      "metadata": {
        "id": "wH8Xjc4z0gxv"
      },
      "source": [
        "import torch\n",
        "import torch.nn as nn\n",
        "import torch.nn.functional as F\n",
        "\n",
        "from causal_meta.utils.torch_utils import logsumexp\n",
        "from tqdm import tnrange, tqdm_notebook, notebook\n",
        "from argparse import Namespace\n",
        "from copy import deepcopy\n",
        "\n",
        "\n",
        "def inner_train_fn(inp, tar, W, Z_inner, model, model_wGz, out_zGw, loss_fn):\n",
        "  out = model(inp, Z_inner)\n",
        "  out_wGz = model_wGz(Z_inner)\n",
        "  loss = loss_fn(out, tar, out_zGw, out_wGz, Z_inner, W, reduce = False)\n",
        "  return loss.reshape(-1, 1)\n",
        "\n",
        "def inner_train_marg(inp, tar, W, Z_inner, model, model_wGz, out_zGw, loss_fn):\n",
        "  zeros = torch.zeros_like(Z_inner).cuda()\n",
        "  out = model(zeros, Z_inner)\n",
        "  out_wGz = model_wGz(Z_inner)\n",
        "  loss = loss_fn(out, inp, out_zGw, out_wGz, Z_inner, W, reduce = False)\n",
        "  return loss.reshape(-1, 1)\n",
        "\n",
        "\n",
        "def train_nll(opt, model, model_zGw, model_wGz, scm, train_distr_fn, Z_distr_fn, W_distr_fn, polarity='X2Y', loss_fn=nn.MSELoss(),\n",
        "              decoder=None, encoder=None):\n",
        "    optim = torch.optim.Adam(model.parameters(), lr=opt.LR)\n",
        "    optim_wGz = torch.optim.Adam(model_wGz.parameters(), lr=opt.LR)\n",
        "    optim_zGw = torch.optim.Adam(model_zGw.parameters(), lr=opt.LR)\n",
        "    if opt.CUDA:\n",
        "        model = model.cuda()\n",
        "        model_zGw = model_zGw.cuda()\n",
        "        model_wGz = model_wGz.cuda()\n",
        "        if encoder is not None: \n",
        "            encoder = encoder.cuda()\n",
        "        if decoder is not None: \n",
        "            decoder = decoder.cuda()\n",
        "    frames = []\n",
        "    for iter_num in tnrange(opt.NUM_ITER, leave=False):\n",
        "        # Generate samples from the training distry\n",
        "        Z = Z_distr_fn()\n",
        "        X = train_distr_fn(Z)\n",
        "        W = W_distr_fn(Z)\n",
        "        with torch.no_grad():\n",
        "            Y = scm(X, Z)\n",
        "        # Y = W_distr_fn(Z)\n",
        "        # X = W_distr_fn(Z)\n",
        "        if opt.CUDA:\n",
        "            X, Y = X.cuda(), Y.cuda()\n",
        "        with torch.no_grad():\n",
        "            if decoder is not None:\n",
        "                # X and Y are sampled from the underlying distribution.\n",
        "                # We apply a secret random transformation to the true latent\n",
        "                # variables to obtain the raw input\n",
        "                X, Y = decoder(X, Y)\n",
        "            if encoder is not None:\n",
        "                # Apply the encoder, meant to \"undo\" the decoder up to swapping X and Y.\n",
        "                X, Y = encoder(X, Y)\n",
        "        # Now, train as usual\n",
        "        if polarity == 'X2Y':\n",
        "            inp, tar = X, Y\n",
        "        elif polarity == 'Y2X':\n",
        "            inp, tar = Y, X\n",
        "        else:\n",
        "            raise ValueError\n",
        "        if opt.CUDA:\n",
        "            inp, tar = inp.cuda(), tar.cuda()\n",
        "            Z = Z.cuda()\n",
        "            W = W.cuda()\n",
        "        # Train\n",
        "        out_zGw = model_zGw(W)\n",
        "        mu_z, sz = out_zGw\n",
        "        z_normal = torch.distributions.Normal(0, 1)\n",
        "        # if opt.CUDA:\n",
        "        #   z_normal = z_normal.cuda()\n",
        "        \n",
        "        #monte_carlo_z = []\n",
        "        #print(mu_z.shape, sz.shape)\n",
        "        #print(z_normal.sample((opt.MONTE_CARLO_STEPS,1)).shape)\n",
        "        #print(z_normal.sample((opt.MONTE_CARLO_STEPS,1))*sz.shape)\n",
        "        samples = z_normal.sample((opt.MONTE_CARLO_STEPS, 1))\n",
        "        inp2 = sz.reshape(1, -1)\n",
        "        inp3 = torch.cat([mu_z.reshape(1, -1) for i in range(opt.MONTE_CARLO_STEPS)], 0)\n",
        "        if opt.CUDA:\n",
        "          samples = samples.cuda()\n",
        "          inp2 = inp2.cuda()\n",
        "          inp3 = inp3.cuda()\n",
        "\n",
        "        Z_inner = torch.matmul(samples, inp2) +  inp3\n",
        "        Z_inner = Z_inner.reshape(-1, 1)\n",
        "        tar = torch.cat([tar for i in range(opt.MONTE_CARLO_STEPS)], 0)\n",
        "        inp = torch.cat([inp for i in range(opt.MONTE_CARLO_STEPS)], 0)\n",
        "        W = torch.cat([W for i in range(opt.MONTE_CARLO_STEPS)], 0)\n",
        "\n",
        "        mu_z_pass = torch.cat([mu_z for i in range(opt.MONTE_CARLO_STEPS)], 0)\n",
        "        s_z_pass = torch.cat([sz for i in range(opt.MONTE_CARLO_STEPS)], 0)\n",
        "\n",
        "        lo = inner_train_fn(inp, tar, W, Z_inner, model, model_wGz, (mu_z_pass, s_z_pass), loss_fn)\n",
        "        loss = torch.mean(lo)\n",
        "\n",
        "        optim.zero_grad()\n",
        "        optim_wGz.zero_grad()\n",
        "        optim_zGw.zero_grad()\n",
        "        loss.backward()\n",
        "        optim.step()\n",
        "        optim_wGz.step()\n",
        "        optim_zGw.step()\n",
        "        # Append info\n",
        "        if iter_num % opt.REC_FREQ or iter_num == (opt.NUM_ITER - 1):\n",
        "            info = Namespace(loss=loss.item(),\n",
        "                             iter_num=iter_num)\n",
        "            frames.append(info)\n",
        "    return frames\n",
        "\n",
        "def train_marg(opt, modelx, modely, model_zGw, model_wGz, scm, x_distr_fn, y_distr_fn, Z_distr_fn, W_distr_fn, loss_fn=nn.MSELoss(),\n",
        "              decoder=None, encoder=None):\n",
        "    optimx = torch.optim.Adam(modelx.parameters(), lr=opt.LR)\n",
        "    optimy = torch.optim.Adam(modely.parameters(), lr=opt.LR)\n",
        "    optim_wGz = torch.optim.Adam(model_wGz.parameters(), lr=opt.LR)\n",
        "    optim_zGw = torch.optim.Adam(model_zGw.parameters(), lr=opt.LR)\n",
        "    if opt.CUDA:\n",
        "        modelx = modelx.cuda()\n",
        "        modely = modely.cuda()\n",
        "        model_wGz = model_wGz.cuda()\n",
        "        model_zGw = model_zGw.cuda()\n",
        "        if encoder is not None: \n",
        "            encoder = encoder.cuda()\n",
        "        if decoder is not None: \n",
        "            decoder = decoder.cuda()\n",
        "    frames = []\n",
        "    for iter_num in tnrange(opt.NUM_ITER, leave=False):\n",
        "        # Generate samples from the training distry\n",
        "        Z = Z_distr_fn()\n",
        "        X = x_distr_fn(Z)\n",
        "        W = W_distr_fn(Z)\n",
        "        with torch.no_grad():\n",
        "            Y = scm(X, Z)\n",
        "        # Y = W_distr_fn(Z)\n",
        "        if opt.CUDA:\n",
        "            X, Y = X.cuda(), Y.cuda()\n",
        "        with torch.no_grad():\n",
        "            if decoder is not None:\n",
        "                # X and Y are sampled from the underlying distribution.\n",
        "                # We apply a secret random transformation to the true latent\n",
        "                # variables to obtain the raw input\n",
        "                X, Y = decoder(X, Y)\n",
        "            if encoder is not None:\n",
        "                # Apply the encoder, meant to \"undo\" the decoder up to swapping X and Y.\n",
        "                X, Y = encoder(X, Y)\n",
        "        # Now, train as usual\n",
        "        inp, tar = X, Y\n",
        "        if opt.CUDA:\n",
        "            inp, tar = inp.cuda(), tar.cuda()\n",
        "            Z = Z.cuda()\n",
        "            W = W.cuda()\n",
        "        # Train\n",
        "        out_zGw = model_zGw(W)\n",
        "        mu_z, sz = out_zGw\n",
        "        z_normal = torch.distributions.Normal(0, 1)\n",
        "        # if opt.CUDA:\n",
        "        #   z_normal = z_normal.cuda()\n",
        "        \n",
        "        #monte_carlo_z = []\n",
        "        #print(mu_z.shape, sz.shape)\n",
        "        #print(z_normal.sample((opt.MONTE_CARLO_STEPS,1)).shape)\n",
        "        #print(z_normal.sample((opt.MONTE_CARLO_STEPS,1))*sz.shape)\n",
        "        samples = z_normal.sample((opt.MONTE_CARLO_STEPS, 1))\n",
        "        inp2 = sz.reshape(1, -1)\n",
        "        inp3 = torch.cat([mu_z.reshape(1, -1) for i in range(opt.MONTE_CARLO_STEPS)], 0)\n",
        "        if opt.CUDA:\n",
        "          samples = samples.cuda()\n",
        "          inp2 = inp2.cuda()\n",
        "          inp3 = inp3.cuda()\n",
        "\n",
        "        Z_inner = torch.matmul(samples, inp2) +  inp3\n",
        "        Z_inner = Z_inner.reshape(-1, 1)\n",
        "        tar = torch.cat([tar for i in range(opt.MONTE_CARLO_STEPS)], 0)\n",
        "        inp = torch.cat([inp for i in range(opt.MONTE_CARLO_STEPS)], 0)\n",
        "        W = torch.cat([W for i in range(opt.MONTE_CARLO_STEPS)], 0)\n",
        "\n",
        "        mu_z_pass = torch.cat([mu_z for i in range(opt.MONTE_CARLO_STEPS)], 0)\n",
        "        s_z_pass = torch.cat([sz for i in range(opt.MONTE_CARLO_STEPS)], 0)\n",
        "\n",
        "        lox = inner_train_marg(inp, inp, W, Z_inner, modelx, model_wGz, (mu_z_pass, s_z_pass), loss_fn)\n",
        "        lossx = torch.mean(lox)\n",
        "\n",
        "        loy = inner_train_marg(tar, tar, W, Z_inner, modely, model_wGz, (mu_z_pass, s_z_pass), loss_fn)\n",
        "        lossy = torch.mean(loy)\n",
        "\n",
        "        optimx.zero_grad()\n",
        "        optimy.zero_grad()\n",
        "        optim_wGz.zero_grad()\n",
        "        optim_zGw.zero_grad()\n",
        "        \n",
        "        lossx.backward(retain_graph=True)\n",
        "        lossy.backward(retain_graph = True)\n",
        "\n",
        "        optimx.step()\n",
        "        optimy.step()\n",
        "        optim_wGz.step()\n",
        "        optim_zGw.step()\n",
        "        # Append info\n",
        "        # if iter_num % opt.REC_FREQ or iter_num == (opt.NUM_ITER - 1):\n",
        "        #     info = Namespace(loss=loss.item(),\n",
        "        #                      iter_num=iter_num)\n",
        "        #     frames.append(info)\n",
        "    return frames\n",
        "\n",
        "def marginal_nll(opt, inp, nll): \n",
        "    model_g = gmm(opt)\n",
        "    if opt.CUDA: \n",
        "        model_g = model_g.cuda()\n",
        "    model_g.fit(inp)\n",
        "    with torch.no_grad():\n",
        "        loss_marginal = nll(model_g(inp), inp)\n",
        "    return loss_marginal\n",
        "\n",
        "def marginalGz(model_g, input, Z):\n",
        "    zeros = torch.zeros_like(Z).cuda()\n",
        "    if opt.CUDA: \n",
        "        model_g = model_g.cuda()\n",
        "    with torch.no_grad():\n",
        "        loss_marginal = original_mdn_nll(model_g(zeros, Z), input)\n",
        "    return loss_marginal\n",
        "\n",
        "def transfer_tune(opt, model, model_g, model_wGz, model_zGw, inp, tar, W, nll): \n",
        "    model = deepcopy(model)\n",
        "    model_wGz = deepcopy(model_wGz)\n",
        "    model_zGw = deepcopy(model_zGw)\n",
        "    model_g = deepcopy(model_g)\n",
        "    optim_model = torch.optim.Adam(model.parameters(), \n",
        "                                   opt.FINETUNE_LR)\n",
        "    if opt.CUDA:\n",
        "      W = W.cuda()\n",
        "    \n",
        "    tar_use = torch.cat([tar for i in range(opt.MONTE_CARLO_STEPS)], 0)\n",
        "    inp_use = torch.cat([inp for i in range(opt.MONTE_CARLO_STEPS)], 0)\n",
        "    W_use = torch.cat([W for i in range(opt.MONTE_CARLO_STEPS)], 0)\n",
        "    # loss_marginal = 0\n",
        "    # loss_marginal = marginal_nll(opt, inp[0], nll).item()\n",
        "\n",
        "    out_zGw = model_zGw(W)\n",
        "    mu_z, sz = out_zGw\n",
        "    z_normal = torch.distributions.Normal(0, 1) \n",
        "\n",
        "    samples = z_normal.sample((1, 1))\n",
        "    inp2 = sz.reshape(1, -1)\n",
        "    inp3 = torch.cat([mu_z.reshape(1, -1) for i in range(1)], 0)\n",
        "\n",
        "    if opt.CUDA:\n",
        "          samples = samples.cuda()\n",
        "          inp2 = inp2.cuda()\n",
        "          inp3 = inp3.cuda()\n",
        "    \n",
        "    Z = torch.matmul(samples, inp2) +  inp3\n",
        "    # Z_inner = torch.matmul(z_normal.sample((opt.MONTE_CARLO_STEPS, 1)), sz.reshape(1, -1)) + torch.cat([mu_z.reshape(1, -1) for i in range(opt.MONTE_CARLO_STEPS)], 0)\n",
        "    Z = Z.reshape(-1, 1)\n",
        "\n",
        "    mu_z_pass = torch.cat([mu_z for i in range(opt.MONTE_CARLO_STEPS)], 0)\n",
        "    s_z_pass = torch.cat([sz for i in range(opt.MONTE_CARLO_STEPS)], 0)\n",
        "    \n",
        "    out = model_g(torch.zeros_like(Z).cuda(), Z)\n",
        "    out_wGz = model_wGz(Z)\n",
        "    # loss_marginal = marginalGz(model_g, inp.detach(), Z.clone().detach()).item()\n",
        "\n",
        "    myinp = torch.cat([inp for i in range(1)], 0)\n",
        "    mymuz = torch.cat([mu_z for i in range(1)], 0)\n",
        "    mysz = torch.cat([sz for i in range(1)], 0)\n",
        "    myW = torch.cat([W for i in range(1)], 0)\n",
        "    myZ = torch.cat([Z for i in range(1)], 0)\n",
        "\n",
        "    loss_marginal = nll(out, myinp, (mymuz, mysz), out_wGz, myZ, myW, reduce = False).mean()\n",
        "    # loss_marginal = 0\n",
        "    joint_losses = []\n",
        "    \n",
        "    for iter_num in range(opt.FINETUNE_NUM_ITER): \n",
        "        # Train conditional\n",
        "        out_zGw = model_zGw(W)\n",
        "        mu_z, sz = out_zGw\n",
        "        \n",
        "        \n",
        "        \n",
        "        samples = z_normal.sample((opt.MONTE_CARLO_STEPS, 1))\n",
        "        inp2 = sz.reshape(1, -1)\n",
        "        inp3 = torch.cat([mu_z.reshape(1, -1) for i in range(opt.MONTE_CARLO_STEPS)], 0)\n",
        "        if opt.CUDA:\n",
        "          samples = samples.cuda()\n",
        "          inp2 = inp2.cuda()\n",
        "          inp3 = inp3.cuda()\n",
        "\n",
        "        Z_inner = torch.matmul(samples, inp2) +  inp3\n",
        "        # Z_inner = torch.matmul(z_normal.sample((opt.MONTE_CARLO_STEPS, 1)), sz.reshape(1, -1)) + torch.cat([mu_z.reshape(1, -1) for i in range(opt.MONTE_CARLO_STEPS)], 0)\n",
        "        Z_inner = Z_inner.reshape(-1, 1)\n",
        "        \n",
        "\n",
        "        mu_z_pass = torch.cat([mu_z for i in range(opt.MONTE_CARLO_STEPS)], 0)\n",
        "        s_z_pass = torch.cat([sz for i in range(opt.MONTE_CARLO_STEPS)], 0)\n",
        "        \n",
        "        out = model(inp_use, Z_inner)\n",
        "        out_wGz = model_wGz(Z_inner)\n",
        "        lo = nll(out, tar_use, (mu_z_pass, s_z_pass), out_wGz, Z_inner, W_use, reduce = False)\n",
        "\n",
        "        loss_conditional = torch.mean(lo)\n",
        "        #prd = model(inp[0], inp[1])\n",
        "        #loss_conditional = nll(prd, tar)\n",
        "        optim_model.zero_grad()\n",
        "        loss_conditional.backward()\n",
        "        optim_model.step()\n",
        "        joint_losses.append(loss_conditional.item() + loss_marginal)\n",
        "    # Return losses\n",
        "    return joint_losses\n",
        "\n",
        "def auc_transfer_metric(opt, model, modelC, model_wGz, model_zGw, inp, tar, W, nll):\n",
        "    # Tune\n",
        "    losses = transfer_tune(opt, model, modelC, model_wGz, model_zGw, inp, tar, W, nll)\n",
        "    # Compute the integral of the loss curve\n",
        "    return sum(losses)\n",
        "\n",
        "def transfer_ind(opt, modelx, modely, model_zGw, model_wGz, W, tarx, tary, nll):\n",
        "    modelx = deepcopy(modelx)\n",
        "    modely = deepcopy(modely)\n",
        "    model_zGw = deepcopy(model_zGw)\n",
        "    model_wGz = deepcopy(model_wGz)\n",
        "    \n",
        "\n",
        "    joint_losses = []\n",
        "    for iter_num in range(opt.FINETUNE_NUM_ITER): \n",
        "        if opt.CUDA:\n",
        "          W = W.cuda()\n",
        "        out_zGw = model_zGw(W)\n",
        "        mu_z, sz = out_zGw\n",
        "        z_normal = torch.distributions.Normal(0, 1) \n",
        "\n",
        "        samples = z_normal.sample((1, 1))\n",
        "        inp2 = sz.reshape(1, -1)\n",
        "        inp3 = torch.cat([mu_z.reshape(1, -1) for i in range(1)], 0)\n",
        "\n",
        "        if opt.CUDA:\n",
        "              samples = samples.cuda()\n",
        "              inp2 = inp2.cuda()\n",
        "              inp3 = inp3.cuda()\n",
        "        \n",
        "        Z = torch.matmul(samples, inp2) +  inp3\n",
        "        # Z_inner = torch.matmul(z_normal.sample((opt.MONTE_CARLO_STEPS, 1)), sz.reshape(1, -1)) + torch.cat([mu_z.reshape(1, -1) for i in range(opt.MONTE_CARLO_STEPS)], 0)\n",
        "        Z = Z.reshape(-1, 1)\n",
        "        \n",
        "        zeros = torch.zeros_like(Z).cuda()\n",
        "        outx = modelx(torch.zeros_like(Z).cuda(), Z)\n",
        "        outy = modely(torch.zeros_like(Z).cuda(), Z)\n",
        "        out_wGz = model_wGz(Z)\n",
        "        # loss_marginal = marginalGz(model_g, inp.detach(), Z.clone().detach()).item()\n",
        "\n",
        "        mymuz = torch.cat([mu_z for i in range(1)], 0)\n",
        "        mysz = torch.cat([sz for i in range(1)], 0)\n",
        "        myW = torch.cat([W for i in range(1)], 0)\n",
        "        myZ = torch.cat([Z for i in range(1)], 0)\n",
        "\n",
        "        loss_marginalx = nll(outx, tarx, (mymuz, mysz), out_wGz, myZ, myW, reduce = False).mean()\n",
        "        loss_marginaly = nll(outy, tary, (mymuz, mysz), out_wGz, myZ, myW, reduce = False).mean()\n",
        "        joint_losses.append(loss_marginalx + loss_marginaly)\n",
        "    return sum(joint_losses)\n",
        "\n",
        "def train_alpha(opt, model_x2y, model_y2x, model_xGz, model_yGz, model_x2y_wGz, model_x2y_zGw, \n",
        "                model_y2x_wGz, model_y2x_zGw, model_zGw, model_wGz, alpha, beta, gt_scm, \n",
        "                distr, Z_distr_fn, W_distr_fn, sweep_distr, nll, transfer_metric, mixmode='logmix', ind_prior = 10):\n",
        "  # print(mixmode)\n",
        "    # Everyone to CUDA\n",
        "    if opt.CUDA: \n",
        "        model_x2y.cuda()\n",
        "        model_y2x.cuda()\n",
        "    alpha_optim = torch.optim.Adam([alpha], lr=opt.ALPHA_LR)\n",
        "    beta_optim = torch.optim.Adam([beta], lr=opt.ALPHA_LR)\n",
        "    frames = []\n",
        "    iterations = tnrange(opt.ALPHA_NUM_ITER, leave=False)\n",
        "    for iter_num in iterations:\n",
        "        # Sample parameter for the transfer distribution\n",
        "        sweep_param = sweep_distr()\n",
        "        # Sample X from transfer\n",
        "        #zx = normal(0, 1, 1000)\n",
        "        #zy = normal(0, 1, 1000)\n",
        "        Z = Z_distr_fn()\n",
        "        X_gt = distr(sweep_param, Z)\n",
        "        W = W_distr_fn(Z)\n",
        "        Y_gt = gt_scm(X_gt, Z)\n",
        "        # Y_gt = W_distr_fn(Z)\n",
        "        #X_gt = W_distr_fn(Z)\n",
        "        with torch.no_grad():\n",
        "            if opt.CUDA:\n",
        "                X_gt, Y_gt = X_gt.cuda(), Y_gt.cuda()\n",
        "        # Evaluate performance\n",
        "        metric_x2y = transfer_metric(opt, model_x2y, model_xGz, model_x2y_wGz, model_x2y_zGw, X_gt, Y_gt, W, nll)\n",
        "        metric_y2x = transfer_metric(opt, model_y2x, model_yGz, model_y2x_wGz, model_y2x_zGw, Y_gt, X_gt, W, nll)\n",
        "        metric_ind = transfer_ind(opt, model_xGz, model_yGz, model_zGw, model_wGz, W, X_gt, Y_gt, nll)\n",
        "        # Estimate gradient\n",
        "        if mixmode == 'logmix':\n",
        "            loss_alpha = torch.sigmoid(alpha) * metric_x2y + (1 - torch.sigmoid(alpha)) * metric_y2x\n",
        "            minmet = min(metric_x2y, metric_y2x)\n",
        "            # print('evidence for x->y', metric_x2y)\n",
        "            # print('evidence for y->x', metric_y2x)\n",
        "            # print('minmet: ', minmet)\n",
        "            # print('indep: ', metric_ind)\n",
        "            loss_beta = torch.sigmoid(beta) * (metric_ind) *ind_prior + (1 - torch.sigmoid(beta)) * minmet.clone().detach()\n",
        "        else:\n",
        "            log_alpha, log_1_m_alpha = F.logsigmoid(alpha), F.logsigmoid(-alpha)\n",
        "            as_lse = logsumexp(log_alpha + metric_x2y, log_1_m_alpha + metric_y2x)\n",
        "            if mixmode == 'logsigp': \n",
        "                loss_alpha = as_lse\n",
        "            elif mixmode == 'sigp':\n",
        "                loss_alpha = as_lse.exp()\n",
        "        # Optimize\n",
        "        alpha_optim.zero_grad()\n",
        "        loss_alpha.backward(retain_graph = True)\n",
        "        alpha_optim.step()\n",
        "\n",
        "        beta_optim.zero_grad()\n",
        "        loss_beta.backward()\n",
        "        beta_optim.step()\n",
        "        # Append info\n",
        "        with torch.no_grad():\n",
        "            frames.append(Namespace(iter_num=iter_num,\n",
        "                                    alpha=alpha.item(), \n",
        "                                    sig_alpha=torch.sigmoid(alpha).item(), \n",
        "                                    sig_beta=torch.sigmoid(beta).item(), \n",
        "                                    metric_x2y=metric_x2y, \n",
        "                                    metric_y2x=metric_y2x, \n",
        "                                    loss_alpha=loss_alpha.item()))\n",
        "        iterations.set_postfix({'alpha':'{0:.4f}'.format(torch.sigmoid(alpha).item()),'beta':'{0:.4f}'.format(torch.sigmoid(beta).item())})\n",
        "    return frames"
      ],
      "execution_count": 201,
      "outputs": []
    },
    {
      "cell_type": "code",
      "metadata": {
        "id": "6fIzGRU60b_W"
      },
      "source": [
        "# def mdn(opt): \n",
        "#     return MDN(opt.CAPACITY, opt.NUM_COMPONENTS)\n",
        "\n",
        "def mdn(opt): \n",
        "    return FCMMDN(opt.CAPACITY, opt.NUM_COMPONENTS)\n",
        "def mdn_mu_sigma_z(opt): \n",
        "    return FCM_muSigma(opt.CAPACITY, opt.Z_COMPONENTS)\n",
        "def mdn_mu_sigma_w(opt): \n",
        "    return FCM_muSigma(opt.CAPACITY, opt.W_COMPONENTS)\n",
        "def gmm(opt): \n",
        "    return GaussianMixture(opt.GMM_NUM_COMPONENTS)"
      ],
      "execution_count": 202,
      "outputs": []
    },
    {
      "cell_type": "code",
      "metadata": {
        "id": "VRvT__O3zS8d",
        "outputId": "23628a6a-2757-4475-ba95-6d7d37ba2b55",
        "colab": {
          "base_uri": "https://localhost:8080/",
          "height": 35,
          "referenced_widgets": [
            "9dd9e56b209e42f4a6abaadcde20be34",
            "e7e930faf8a141da87d7b234738e536c",
            "f28dcefb42034125b6c4d005d13890ae",
            "72d8ce0d6f6542a89b9c39e039391788",
            "ce5f634ca5874cc097139ac1397fafd2",
            "c53a4b70877549ba8d02a99de9b515a0",
            "4f2eb3f394f14bf69d9b5ef4249a0d5f",
            "ab2249f735b04ed1bf8f359bd45753b7"
          ]
        }
      },
      "source": [
        "model_x2y = mdn(opt)\n",
        "model_x2y_wGz = mdn_mu_sigma_w(opt)\n",
        "model_x2y_zGw = mdn_mu_sigma_z(opt)\n",
        "\n",
        "model_xGz = FCMMDN(opt.CAPACITY, 1)\n",
        "\n",
        "frames_x2y = train_nll(opt, model_x2y, model_x2y_zGw, model_x2y_wGz, scm, opt.TRAIN_DISTRY, \n",
        "                       opt.DISTR_FOR_Z, opt.DISTR_FOR_W, polarity='X2Y',\n",
        "                        loss_fn=mdn_nll, decoder=None, encoder=None)"
      ],
      "execution_count": 203,
      "outputs": [
        {
          "output_type": "stream",
          "text": [
            "/usr/local/lib/python3.6/dist-packages/ipykernel_launcher.py:39: TqdmDeprecationWarning: Please use `tqdm.notebook.trange` instead of `tqdm.tnrange`\n"
          ],
          "name": "stderr"
        },
        {
          "output_type": "display_data",
          "data": {
            "application/vnd.jupyter.widget-view+json": {
              "model_id": "9dd9e56b209e42f4a6abaadcde20be34",
              "version_minor": 0,
              "version_major": 2
            },
            "text/plain": [
              "HBox(children=(FloatProgress(value=0.0, max=500.0), HTML(value='')))"
            ]
          },
          "metadata": {
            "tags": []
          }
        }
      ]
    },
    {
      "cell_type": "code",
      "metadata": {
        "id": "vWqTeg_AzTZq",
        "outputId": "7266dbf8-a7e3-4ad4-a110-6dfd12fb9675",
        "colab": {
          "base_uri": "https://localhost:8080/",
          "height": 35,
          "referenced_widgets": [
            "70f10a669bcd40f1b2359114e4b57bc6",
            "e9cfdab74f7946c2bf78fe2703e645e3",
            "1550f309d8aa41f58cfa0f00c79e4a46",
            "a6fa2c84f0e54028b4aba5413d5b01f6",
            "9ac16fe2f4dd4df2a38a781987beea0b",
            "a8390f3a4bff4220a24827a9db982826",
            "fcb9ae900c4c4787901d7b32ece6a7e9",
            "85eb0b65f1394b8ebe2b317a24d012ff"
          ]
        }
      },
      "source": [
        "model_y2x = mdn(opt)\n",
        "model_y2x_wGz = mdn_mu_sigma_w(opt)\n",
        "model_y2x_zGw = mdn_mu_sigma_z(opt)\n",
        "frames_y2x = train_nll(opt, model_y2x, model_y2x_zGw, model_y2x_wGz, scm, opt.TRAIN_DISTRY, \n",
        "                       opt.DISTR_FOR_Z, opt.DISTR_FOR_W, polarity='Y2X',\n",
        "                        loss_fn=mdn_nll, decoder=None, encoder=None)"
      ],
      "execution_count": 204,
      "outputs": [
        {
          "output_type": "stream",
          "text": [
            "/usr/local/lib/python3.6/dist-packages/ipykernel_launcher.py:39: TqdmDeprecationWarning: Please use `tqdm.notebook.trange` instead of `tqdm.tnrange`\n"
          ],
          "name": "stderr"
        },
        {
          "output_type": "display_data",
          "data": {
            "application/vnd.jupyter.widget-view+json": {
              "model_id": "70f10a669bcd40f1b2359114e4b57bc6",
              "version_minor": 0,
              "version_major": 2
            },
            "text/plain": [
              "HBox(children=(FloatProgress(value=0.0, max=500.0), HTML(value='')))"
            ]
          },
          "metadata": {
            "tags": []
          }
        }
      ]
    },
    {
      "cell_type": "code",
      "metadata": {
        "id": "4iCNPMYNYcPS",
        "outputId": "348ddeb3-4e66-46fa-f9d3-8a640a3f8ecd",
        "colab": {
          "base_uri": "https://localhost:8080/",
          "height": 35,
          "referenced_widgets": [
            "f105f6c313a2412e9142212da5c3cc5c",
            "b9ecbd4ce7134603b7daefb0ebe56aa2",
            "8264b3c2f969449a9be084d7ea700c80",
            "5b226cafd68b4e8b84f2490d9224f32a",
            "096b190c66bb41369060ab111c54a9e5",
            "cf599f82ed4445f8a5227c184eea79aa",
            "0bf4a2c003324fee94b3da81492ceb11",
            "12caf68a78724745928d019bbd4e7d4e"
          ]
        }
      },
      "source": [
        "# model_xGz = FCMMDN(opt.CAPACITY, 1)\n",
        "# model_yGz = FCMMDN(opt.CAPACITY, 1)\n",
        "model_xGz = mdn(opt)\n",
        "model_yGz = mdn(opt)\n",
        "model_zGw = mdn_mu_sigma_z(opt)\n",
        "model_wGz = mdn_mu_sigma_z(opt)\n",
        "margframs = train_marg(opt, model_xGz, model_yGz, model_zGw, model_wGz, scm, opt.TRAIN_DISTRY, opt.TRAIN_DISTRY, \n",
        "                       opt.DISTR_FOR_Z, opt.DISTR_FOR_W,\n",
        "                        loss_fn=mdn_nll, decoder=None, encoder=None)"
      ],
      "execution_count": 205,
      "outputs": [
        {
          "output_type": "stream",
          "text": [
            "/usr/local/lib/python3.6/dist-packages/ipykernel_launcher.py:131: TqdmDeprecationWarning: Please use `tqdm.notebook.trange` instead of `tqdm.tnrange`\n"
          ],
          "name": "stderr"
        },
        {
          "output_type": "display_data",
          "data": {
            "application/vnd.jupyter.widget-view+json": {
              "model_id": "f105f6c313a2412e9142212da5c3cc5c",
              "version_minor": 0,
              "version_major": 2
            },
            "text/plain": [
              "HBox(children=(FloatProgress(value=0.0, max=500.0), HTML(value='')))"
            ]
          },
          "metadata": {
            "tags": []
          }
        }
      ]
    },
    {
      "cell_type": "code",
      "metadata": {
        "id": "kWM96gA7zUfi",
        "outputId": "d78614ca-002a-42d6-d47e-6293b2b5cf65",
        "colab": {
          "base_uri": "https://localhost:8080/",
          "height": 35,
          "referenced_widgets": [
            "85d29ad31aea4866819ff0ab133db878",
            "18621c2f71194777af6497959ffc17e7",
            "9fbb543371294e64bae904e239ade655",
            "33051e59f0cf4a609c72661fa81c3c48",
            "d9b4dbceb99d4f74988a34a5a96e493c",
            "2f399816e6e54ac8bf49ce856bb753a8",
            "3156d67975bc4a81a90971c1b42f3295",
            "dd91e1a0e6594e0caf9a160c31d8e9e1"
          ]
        }
      },
      "source": [
        "alpha = make_alpha(opt)\n",
        "beta = make_alpha(opt)\n",
        "alpha_frames = train_alpha(opt, model_x2y, model_y2x, model_xGz, model_yGz, model_x2y_zGw, model_x2y_wGz, \n",
        "                           model_y2x_zGw, model_y2x_wGz, model_zGw, model_wGz, alpha, beta, scm, \n",
        "                           opt.PARAM_DISTRY, opt.DISTR_FOR_Z, opt.DISTR_FOR_W, \n",
        "                           opt.PARAM_SAMPLER, mdn_nll,auc_transfer_metric, mixmode='logmix')"
      ],
      "execution_count": 200,
      "outputs": [
        {
          "output_type": "stream",
          "text": [
            "/usr/local/lib/python3.6/dist-packages/ipykernel_launcher.py:374: TqdmDeprecationWarning: Please use `tqdm.notebook.trange` instead of `tqdm.tnrange`\n"
          ],
          "name": "stderr"
        },
        {
          "output_type": "display_data",
          "data": {
            "application/vnd.jupyter.widget-view+json": {
              "model_id": "85d29ad31aea4866819ff0ab133db878",
              "version_minor": 0,
              "version_major": 2
            },
            "text/plain": [
              "HBox(children=(FloatProgress(value=0.0, max=500.0), HTML(value='')))"
            ]
          },
          "metadata": {
            "tags": []
          }
        }
      ]
    },
    {
      "cell_type": "code",
      "metadata": {
        "id": "xVzeFu9Tg9ow",
        "outputId": "ffaa515f-6bc2-4a0d-ca5c-d788556c93cd",
        "colab": {
          "base_uri": "https://localhost:8080/",
          "height": 35,
          "referenced_widgets": [
            "33be5a6eb1d141eba4ce58e8d2cb737d",
            "39a0976f8f1f47e79a38714446b52b78",
            "66bb710b9e4345bfa960008357566c28",
            "15e3029b37944f768f8e182136a68692",
            "3dd89d55455d4ea79c4169d2cfa54449",
            "266f36a25b184284a070181735587d13",
            "3291b0297a2e4cd5a2fb85c463c3c661",
            "d39a26b52dee474eb99725a2e2e2bd09"
          ]
        }
      },
      "source": [
        "alpha = make_alpha(opt)\n",
        "beta = make_alpha(opt)\n",
        "alpha_frames2 = train_alpha(opt, model_x2y, model_y2x, model_xGz, model_yGz, model_x2y_zGw, model_x2y_wGz, \n",
        "                           model_y2x_zGw, model_y2x_wGz, model_zGw, model_wGz, alpha, beta, scm, \n",
        "                           opt.PARAM_DISTRY, opt.DISTR_FOR_Z, opt.DISTR_FOR_W, \n",
        "                           opt.PARAM_SAMPLER, mdn_nll,auc_transfer_metric, mixmode='logmix')"
      ],
      "execution_count": 206,
      "outputs": [
        {
          "output_type": "stream",
          "text": [
            "/usr/local/lib/python3.6/dist-packages/ipykernel_launcher.py:374: TqdmDeprecationWarning: Please use `tqdm.notebook.trange` instead of `tqdm.tnrange`\n"
          ],
          "name": "stderr"
        },
        {
          "output_type": "display_data",
          "data": {
            "application/vnd.jupyter.widget-view+json": {
              "model_id": "33be5a6eb1d141eba4ce58e8d2cb737d",
              "version_minor": 0,
              "version_major": 2
            },
            "text/plain": [
              "HBox(children=(FloatProgress(value=0.0, max=500.0), HTML(value='')))"
            ]
          },
          "metadata": {
            "tags": []
          }
        }
      ]
    },
    {
      "cell_type": "code",
      "metadata": {
        "id": "YIwxmSrchAlp",
        "outputId": "4e609d40-221f-4648-fb3f-633de7022e7e",
        "colab": {
          "base_uri": "https://localhost:8080/",
          "height": 343
        }
      },
      "source": [
        "alphas1 = np.asarray([frame.sig_alpha for frame in alpha_frames])\n",
        "alphas2 = np.asarray([frame.sig_alpha for frame in alpha_frames2])\n",
        "\n",
        "fig = plt.figure(figsize=(9, 5))\n",
        "ax = plt.subplot(1, 1, 1)\n",
        "\n",
        "ax.tick_params(axis='both', which='major', labelsize=13)\n",
        "ax.axhline(1, c='lightgray', ls='--')\n",
        "ax.axhline(0, c='lightgray', ls='--')\n",
        "ax.plot(alphas1, lw=2, color='k', label='No causality'.format(10))\n",
        "ax.plot(alphas2, lw=2, color='b', label='No causality'.format(10))\n",
        "\n",
        "# ax.set_xlim([0, opt.ALPHA_NUM_ITER - 1])\n",
        "ax.set_xlabel('Number of episodes', fontsize=14)\n",
        "ax.set_ylabel(r'$\\sigma(\\gamma)$', fontsize=14)\n",
        "ax.legend(loc=4, prop={'size': 13})\n",
        "\n",
        "plt.show()"
      ],
      "execution_count": 209,
      "outputs": [
        {
          "output_type": "display_data",
          "data": {
            "image/png": "[encoded data removed]",
            "text/plain": [
              "<Figure size 648x360 with 1 Axes>"
            ]
          },
          "metadata": {
            "tags": [],
            "needs_background": "light"
          }
        }
      ]
    },
    {
      "cell_type": "code",
      "metadata": {
        "id": "cTv4WJZmjeAH",
        "outputId": "62b35877-07c1-41aa-ad77-6ab74d921ddb",
        "colab": {
          "base_uri": "https://localhost:8080/",
          "height": 343
        }
      },
      "source": [
        "alphas1 = np.asarray([frame.sig_beta for frame in alpha_frames])\n",
        "alphas2 = np.asarray([frame.sig_beta for frame in alpha_frames2])\n",
        "\n",
        "fig = plt.figure(figsize=(9, 5))\n",
        "ax = plt.subplot(1, 1, 1)\n",
        "\n",
        "ax.tick_params(axis='both', which='major', labelsize=13)\n",
        "ax.axhline(1, c='lightgray', ls='--')\n",
        "ax.axhline(0, c='lightgray', ls='--')\n",
        "ax.plot(alphas1, lw=2, color='k', label='No causality'.format(10))\n",
        "ax.plot(alphas2, lw=2, color='b', label='No causality'.format(10))\n",
        "\n",
        "# ax.set_xlim([0, opt.ALPHA_NUM_ITER - 1])\n",
        "ax.set_xlabel('Number of episodes', fontsize=14)\n",
        "ax.set_ylabel(r'$\\sigma(\\gamma)$', fontsize=14)\n",
        "ax.legend(loc=4, prop={'size': 13})\n",
        "\n",
        "plt.show()"
      ],
      "execution_count": 210,
      "outputs": [
        {
          "output_type": "display_data",
          "data": {
            "image/png": "[encoded data removed]",
            "text/plain": [
              "<Figure size 648x360 with 1 Axes>"
            ]
          },
          "metadata": {
            "tags": [],
            "needs_background": "light"
          }
        }
      ]
    },
    {
      "cell_type": "code",
      "metadata": {
        "id": "-O-sA9DuHQix",
        "outputId": "19264e8e-34a7-4f33-f3ab-df48b1ba6df8",
        "colab": {
          "base_uri": "https://localhost:8080/",
          "height": 343
        }
      },
      "source": [
        "alphas = np.asarray([frame.sig_alpha for frame in alpha_frames])\n",
        "\n",
        "fig = plt.figure(figsize=(9, 5))\n",
        "ax = plt.subplot(1, 1, 1)\n",
        "\n",
        "ax.tick_params(axis='both', which='major', labelsize=13)\n",
        "ax.axhline(1, c='lightgray', ls='--')\n",
        "ax.axhline(0, c='lightgray', ls='--')\n",
        "ax.plot(alphas, lw=2, color='k', label='No causality'.format(10))\n",
        "\n",
        "# ax.set_xlim([0, opt.ALPHA_NUM_ITER - 1])\n",
        "ax.set_xlabel('Number of episodes', fontsize=14)\n",
        "ax.set_ylabel(r'$\\sigma(\\gamma)$', fontsize=14)\n",
        "ax.legend(loc=4, prop={'size': 13})\n",
        "\n",
        "plt.show()"
      ],
      "execution_count": 190,
      "outputs": [
        {
          "output_type": "display_data",
          "data": {
            "image/png": "[encoded data removed]",
            "text/plain": [
              "<Figure size 648x360 with 1 Axes>"
            ]
          },
          "metadata": {
            "tags": [],
            "needs_background": "light"
          }
        }
      ]
    },
    {
      "cell_type": "code",
      "metadata": {
        "id": "rnWgEQBALvLK",
        "outputId": "62864057-5f32-4cbd-c89f-dbf642333070",
        "colab": {
          "base_uri": "https://localhost:8080/",
          "height": 343
        }
      },
      "source": [
        "betas = np.asarray([frame.sig_beta for frame in alpha_frames])\n",
        "\n",
        "fig = plt.figure(figsize=(9, 5))\n",
        "ax = plt.subplot(1, 1, 1)\n",
        "\n",
        "ax.tick_params(axis='both', which='major', labelsize=13)\n",
        "ax.axhline(1, c='lightgray', ls='--')\n",
        "ax.axhline(0, c='lightgray', ls='--')\n",
        "ax.plot(betas, lw=2, color='k', label='No causality'.format(10))\n",
        "\n",
        "# ax.set_xlim([0, opt.ALPHA_NUM_ITER - 1])\n",
        "ax.set_xlabel('Number of episodes', fontsize=14)\n",
        "ax.set_ylabel(r'$\\sigma(\\gamma)$', fontsize=14)\n",
        "ax.legend(loc=4, prop={'size': 13})\n",
        "\n",
        "plt.show()"
      ],
      "execution_count": 191,
      "outputs": [
        {
          "output_type": "display_data",
          "data": {
            "image/png": "[encoded data removed]",
            "text/plain": [
              "<Figure size 648x360 with 1 Axes>"
            ]
          },
          "metadata": {
            "tags": [],
            "needs_background": "light"
          }
        }
      ]
    },
    {
      "cell_type": "code",
      "metadata": {
        "id": "s5VpKO35GAj-",
        "outputId": "1f4a37ad-49ab-478a-cbee-d3c3e590cef5",
        "colab": {
          "base_uri": "https://localhost:8080/",
          "height": 343
        }
      },
      "source": [
        "alphas = np.asarray([frame.sig_alpha for frame in alpha_frames])\n",
        "\n",
        "fig = plt.figure(figsize=(9, 5))\n",
        "ax = plt.subplot(1, 1, 1)\n",
        "\n",
        "ax.tick_params(axis='both', which='major', labelsize=13)\n",
        "ax.axhline(1, c='lightgray', ls='--')\n",
        "ax.axhline(0, c='lightgray', ls='--')\n",
        "ax.plot(alphas, lw=2, color='k', label='No causality'.format(10))\n",
        "\n",
        "# ax.set_xlim([0, opt.ALPHA_NUM_ITER - 1])\n",
        "ax.set_xlabel('Number of episodes', fontsize=14)\n",
        "ax.set_ylabel(r'$\\sigma(\\gamma)$', fontsize=14)\n",
        "ax.legend(loc=4, prop={'size': 13})\n",
        "\n",
        "plt.show()"
      ],
      "execution_count": 82,
      "outputs": [
        {
          "output_type": "display_data",
          "data": {
            "image/png": "[encoded data removed]",
            "text/plain": [
              "<Figure size 648x360 with 1 Axes>"
            ]
          },
          "metadata": {
            "tags": [],
            "needs_background": "light"
          }
        }
      ]
    },
    {
      "cell_type": "code",
      "metadata": {
        "id": "s3NeBDJJGBFZ"
      },
      "source": [
        ""
      ],
      "execution_count": null,
      "outputs": []
    },
    {
      "cell_type": "code",
      "metadata": {
        "id": "KCh2cRjRGBIC"
      },
      "source": [
        ""
      ],
      "execution_count": null,
      "outputs": []
    },
    {
      "cell_type": "code",
      "metadata": {
        "id": "yI_xRGmrDRRl",
        "outputId": "18ab629a-d8b6-40e3-dc70-bea71c087835",
        "colab": {
          "base_uri": "https://localhost:8080/",
          "height": 343
        }
      },
      "source": [
        "alphas = np.asarray([frame.sig_alpha for frame in alpha_frames])\n",
        "\n",
        "fig = plt.figure(figsize=(9, 5))\n",
        "ax = plt.subplot(1, 1, 1)\n",
        "\n",
        "ax.tick_params(axis='both', which='major', labelsize=13)\n",
        "ax.axhline(1, c='lightgray', ls='--')\n",
        "ax.axhline(0, c='lightgray', ls='--')\n",
        "ax.plot(alphas, lw=2, color='k', label='No causality'.format(10))\n",
        "\n",
        "# ax.set_xlim([0, opt.ALPHA_NUM_ITER - 1])\n",
        "ax.set_xlabel('Number of episodes', fontsize=14)\n",
        "ax.set_ylabel(r'$\\sigma(\\gamma)$', fontsize=14)\n",
        "ax.legend(loc=4, prop={'size': 13})\n",
        "\n",
        "plt.show()"
      ],
      "execution_count": 69,
      "outputs": [
        {
          "output_type": "display_data",
          "data": {
            "image/png": "[encoded data removed]",
            "text/plain": [
              "<Figure size 648x360 with 1 Axes>"
            ]
          },
          "metadata": {
            "tags": [],
            "needs_background": "light"
          }
        }
      ]
    },
    {
      "cell_type": "code",
      "metadata": {
        "id": "ZfXmFIzw2Prf",
        "outputId": "1d686f56-b58a-44c6-efac-128999b33fc2",
        "colab": {
          "base_uri": "https://localhost:8080/",
          "height": 343
        }
      },
      "source": [
        "alphas = np.asarray([frame.sig_alpha for frame in alpha_frames])\n",
        "\n",
        "fig = plt.figure(figsize=(9, 5))\n",
        "ax = plt.subplot(1, 1, 1)\n",
        "\n",
        "ax.tick_params(axis='both', which='major', labelsize=13)\n",
        "ax.axhline(1, c='lightgray', ls='--')\n",
        "ax.axhline(0, c='lightgray', ls='--')\n",
        "ax.plot(alphas, lw=2, color='k', label='No causality'.format(10))\n",
        "\n",
        "ax.set_xlim([0, opt.ALPHA_NUM_ITER - 1])\n",
        "ax.set_xlabel('Number of episodes', fontsize=14)\n",
        "ax.set_ylabel(r'$\\sigma(\\gamma)$', fontsize=14)\n",
        "ax.legend(loc=4, prop={'size': 13})\n",
        "\n",
        "plt.show()"
      ],
      "execution_count": 26,
      "outputs": [
        {
          "output_type": "display_data",
          "data": {
            "image/png": "[encoded data removed]",
            "text/plain": [
              "<Figure size 648x360 with 1 Axes>"
            ]
          },
          "metadata": {
            "tags": [],
            "needs_background": "light"
          }
        }
      ]
    },
    {
      "cell_type": "code",
      "metadata": {
        "id": "-H8F3lLs2PVJ",
        "outputId": "2ea567e2-e5c3-4e25-d6b9-4532e747b93c",
        "colab": {
          "base_uri": "https://localhost:8080/",
          "height": 343
        }
      },
      "source": [
        "betas = np.asarray([frame.sig_beta for frame in alpha_frames])\n",
        "\n",
        "fig = plt.figure(figsize=(9, 5))\n",
        "ax = plt.subplot(1, 1, 1)\n",
        "\n",
        "ax.tick_params(axis='both', which='major', labelsize=13)\n",
        "ax.axhline(1, c='lightgray', ls='--')\n",
        "ax.axhline(0, c='lightgray', ls='--')\n",
        "ax.plot(betas, lw=2, color='k', label='No causality')\n",
        "\n",
        "ax.set_xlim([0, opt.ALPHA_NUM_ITER - 1])\n",
        "ax.set_xlabel('Number of episodes', fontsize=14)\n",
        "ax.set_ylabel(r'$\\sigma(\\gamma)$', fontsize=14)\n",
        "ax.legend(loc=4, prop={'size': 13})\n",
        "\n",
        "plt.show()"
      ],
      "execution_count": null,
      "outputs": [
        {
          "output_type": "display_data",
          "data": {
            "image/png": "[encoded data removed]",
            "text/plain": [
              "<Figure size 648x360 with 1 Axes>"
            ]
          },
          "metadata": {
            "tags": [],
            "needs_background": "light"
          }
        }
      ]
    },
    {
      "cell_type": "code",
      "metadata": {
        "id": "6FFtzMzFDYkD"
      },
      "source": [
        ""
      ],
      "execution_count": null,
      "outputs": []
    },
    {
      "cell_type": "markdown",
      "metadata": {
        "id": "HnoADnQ-F845"
      },
      "source": [
        "# End"
      ]
    }
  ]
}