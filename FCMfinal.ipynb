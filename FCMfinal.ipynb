{
  "nbformat": 4,
  "nbformat_minor": 0,
  "metadata": {
    "colab": {
      "name": "Copy of Profile of FCMtest.ipynb",
      "provenance": [],
      "collapsed_sections": [],
      "toc_visible": true,
      "include_colab_link": true
    },
    "kernelspec": {
      "name": "python3",
      "display_name": "Python 3"
    },
    "widgets": {
      "application/vnd.jupyter.widget-state+json": {
        "87586b1b6c824cf5aa8124c8d999d5e6": {
          "model_module": "@jupyter-widgets/controls",
          "model_name": "HBoxModel",
          "state": {
            "_view_name": "HBoxView",
            "_dom_classes": [],
            "_model_name": "HBoxModel",
            "_view_module": "@jupyter-widgets/controls",
            "_model_module_version": "1.5.0",
            "_view_count": null,
            "_view_module_version": "1.5.0",
            "box_style": "",
            "layout": "IPY_MODEL_7e29dc31c5434a0ab577abafafd6d933",
            "_model_module": "@jupyter-widgets/controls",
            "children": [
              "IPY_MODEL_72cde7494ce248619db6163f36993b7e",
              "IPY_MODEL_4aa699960b9443e89f18349eaa2a21a8"
            ]
          }
        },
        "7e29dc31c5434a0ab577abafafd6d933": {
          "model_module": "@jupyter-widgets/base",
          "model_name": "LayoutModel",
          "state": {
            "_view_name": "LayoutView",
            "grid_template_rows": null,
            "right": null,
            "justify_content": null,
            "_view_module": "@jupyter-widgets/base",
            "overflow": null,
            "_model_module_version": "1.2.0",
            "_view_count": null,
            "flex_flow": null,
            "width": null,
            "min_width": null,
            "border": null,
            "align_items": null,
            "bottom": null,
            "_model_module": "@jupyter-widgets/base",
            "top": null,
            "grid_column": null,
            "overflow_y": null,
            "overflow_x": null,
            "grid_auto_flow": null,
            "grid_area": null,
            "grid_template_columns": null,
            "flex": null,
            "_model_name": "LayoutModel",
            "justify_items": null,
            "grid_row": null,
            "max_height": null,
            "align_content": null,
            "visibility": null,
            "align_self": null,
            "height": null,
            "min_height": null,
            "padding": null,
            "grid_auto_rows": null,
            "grid_gap": null,
            "max_width": null,
            "order": null,
            "_view_module_version": "1.2.0",
            "grid_template_areas": null,
            "object_position": null,
            "object_fit": null,
            "grid_auto_columns": null,
            "margin": null,
            "display": null,
            "left": null
          }
        },
        "72cde7494ce248619db6163f36993b7e": {
          "model_module": "@jupyter-widgets/controls",
          "model_name": "FloatProgressModel",
          "state": {
            "_view_name": "ProgressView",
            "style": "IPY_MODEL_8f18dfda2fc84f05bda95f50c463d82d",
            "_dom_classes": [],
            "description": "100%",
            "_model_name": "FloatProgressModel",
            "bar_style": "",
            "max": 500,
            "_view_module": "@jupyter-widgets/controls",
            "_model_module_version": "1.5.0",
            "value": 500,
            "_view_count": null,
            "_view_module_version": "1.5.0",
            "orientation": "horizontal",
            "min": 0,
            "description_tooltip": null,
            "_model_module": "@jupyter-widgets/controls",
            "layout": "IPY_MODEL_dd242c28d97547ee848fc65dd5fab48f"
          }
        },
        "4aa699960b9443e89f18349eaa2a21a8": {
          "model_module": "@jupyter-widgets/controls",
          "model_name": "HTMLModel",
          "state": {
            "_view_name": "HTMLView",
            "style": "IPY_MODEL_edc65516971248f08c0a5d4c5bfcff95",
            "_dom_classes": [],
            "description": "",
            "_model_name": "HTMLModel",
            "placeholder": "​",
            "_view_module": "@jupyter-widgets/controls",
            "_model_module_version": "1.5.0",
            "value": " 500/500 [00:17&lt;00:00, 28.70it/s]",
            "_view_count": null,
            "_view_module_version": "1.5.0",
            "description_tooltip": null,
            "_model_module": "@jupyter-widgets/controls",
            "layout": "IPY_MODEL_e057c736722f49b2b2d3e17671295897"
          }
        },
        "8f18dfda2fc84f05bda95f50c463d82d": {
          "model_module": "@jupyter-widgets/controls",
          "model_name": "ProgressStyleModel",
          "state": {
            "_view_name": "StyleView",
            "_model_name": "ProgressStyleModel",
            "description_width": "initial",
            "_view_module": "@jupyter-widgets/base",
            "_model_module_version": "1.5.0",
            "_view_count": null,
            "_view_module_version": "1.2.0",
            "bar_color": null,
            "_model_module": "@jupyter-widgets/controls"
          }
        },
        "dd242c28d97547ee848fc65dd5fab48f": {
          "model_module": "@jupyter-widgets/base",
          "model_name": "LayoutModel",
          "state": {
            "_view_name": "LayoutView",
            "grid_template_rows": null,
            "right": null,
            "justify_content": null,
            "_view_module": "@jupyter-widgets/base",
            "overflow": null,
            "_model_module_version": "1.2.0",
            "_view_count": null,
            "flex_flow": null,
            "width": null,
            "min_width": null,
            "border": null,
            "align_items": null,
            "bottom": null,
            "_model_module": "@jupyter-widgets/base",
            "top": null,
            "grid_column": null,
            "overflow_y": null,
            "overflow_x": null,
            "grid_auto_flow": null,
            "grid_area": null,
            "grid_template_columns": null,
            "flex": null,
            "_model_name": "LayoutModel",
            "justify_items": null,
            "grid_row": null,
            "max_height": null,
            "align_content": null,
            "visibility": null,
            "align_self": null,
            "height": null,
            "min_height": null,
            "padding": null,
            "grid_auto_rows": null,
            "grid_gap": null,
            "max_width": null,
            "order": null,
            "_view_module_version": "1.2.0",
            "grid_template_areas": null,
            "object_position": null,
            "object_fit": null,
            "grid_auto_columns": null,
            "margin": null,
            "display": null,
            "left": null
          }
        },
        "edc65516971248f08c0a5d4c5bfcff95": {
          "model_module": "@jupyter-widgets/controls",
          "model_name": "DescriptionStyleModel",
          "state": {
            "_view_name": "StyleView",
            "_model_name": "DescriptionStyleModel",
            "description_width": "",
            "_view_module": "@jupyter-widgets/base",
            "_model_module_version": "1.5.0",
            "_view_count": null,
            "_view_module_version": "1.2.0",
            "_model_module": "@jupyter-widgets/controls"
          }
        },
        "e057c736722f49b2b2d3e17671295897": {
          "model_module": "@jupyter-widgets/base",
          "model_name": "LayoutModel",
          "state": {
            "_view_name": "LayoutView",
            "grid_template_rows": null,
            "right": null,
            "justify_content": null,
            "_view_module": "@jupyter-widgets/base",
            "overflow": null,
            "_model_module_version": "1.2.0",
            "_view_count": null,
            "flex_flow": null,
            "width": null,
            "min_width": null,
            "border": null,
            "align_items": null,
            "bottom": null,
            "_model_module": "@jupyter-widgets/base",
            "top": null,
            "grid_column": null,
            "overflow_y": null,
            "overflow_x": null,
            "grid_auto_flow": null,
            "grid_area": null,
            "grid_template_columns": null,
            "flex": null,
            "_model_name": "LayoutModel",
            "justify_items": null,
            "grid_row": null,
            "max_height": null,
            "align_content": null,
            "visibility": null,
            "align_self": null,
            "height": null,
            "min_height": null,
            "padding": null,
            "grid_auto_rows": null,
            "grid_gap": null,
            "max_width": null,
            "order": null,
            "_view_module_version": "1.2.0",
            "grid_template_areas": null,
            "object_position": null,
            "object_fit": null,
            "grid_auto_columns": null,
            "margin": null,
            "display": null,
            "left": null
          }
        },
        "6cc6a0765d7b4d8b846654bff6ddcc40": {
          "model_module": "@jupyter-widgets/controls",
          "model_name": "HBoxModel",
          "state": {
            "_view_name": "HBoxView",
            "_dom_classes": [],
            "_model_name": "HBoxModel",
            "_view_module": "@jupyter-widgets/controls",
            "_model_module_version": "1.5.0",
            "_view_count": null,
            "_view_module_version": "1.5.0",
            "box_style": "",
            "layout": "IPY_MODEL_2a3a79f5cb5b44c190854af728e98ccd",
            "_model_module": "@jupyter-widgets/controls",
            "children": [
              "IPY_MODEL_f0575ddd339a4faca4c99cf3f39b87ca",
              "IPY_MODEL_cb8e910a56fb42c08f31f6b9d2933431"
            ]
          }
        },
        "2a3a79f5cb5b44c190854af728e98ccd": {
          "model_module": "@jupyter-widgets/base",
          "model_name": "LayoutModel",
          "state": {
            "_view_name": "LayoutView",
            "grid_template_rows": null,
            "right": null,
            "justify_content": null,
            "_view_module": "@jupyter-widgets/base",
            "overflow": null,
            "_model_module_version": "1.2.0",
            "_view_count": null,
            "flex_flow": null,
            "width": null,
            "min_width": null,
            "border": null,
            "align_items": null,
            "bottom": null,
            "_model_module": "@jupyter-widgets/base",
            "top": null,
            "grid_column": null,
            "overflow_y": null,
            "overflow_x": null,
            "grid_auto_flow": null,
            "grid_area": null,
            "grid_template_columns": null,
            "flex": null,
            "_model_name": "LayoutModel",
            "justify_items": null,
            "grid_row": null,
            "max_height": null,
            "align_content": null,
            "visibility": null,
            "align_self": null,
            "height": null,
            "min_height": null,
            "padding": null,
            "grid_auto_rows": null,
            "grid_gap": null,
            "max_width": null,
            "order": null,
            "_view_module_version": "1.2.0",
            "grid_template_areas": null,
            "object_position": null,
            "object_fit": null,
            "grid_auto_columns": null,
            "margin": null,
            "display": null,
            "left": null
          }
        },
        "f0575ddd339a4faca4c99cf3f39b87ca": {
          "model_module": "@jupyter-widgets/controls",
          "model_name": "FloatProgressModel",
          "state": {
            "_view_name": "ProgressView",
            "style": "IPY_MODEL_94223a450c7a4816aa690645b4121bde",
            "_dom_classes": [],
            "description": "100%",
            "_model_name": "FloatProgressModel",
            "bar_style": "",
            "max": 500,
            "_view_module": "@jupyter-widgets/controls",
            "_model_module_version": "1.5.0",
            "value": 500,
            "_view_count": null,
            "_view_module_version": "1.5.0",
            "orientation": "horizontal",
            "min": 0,
            "description_tooltip": null,
            "_model_module": "@jupyter-widgets/controls",
            "layout": "IPY_MODEL_00462afe2afb4bb5b9352740d2ba8405"
          }
        },
        "cb8e910a56fb42c08f31f6b9d2933431": {
          "model_module": "@jupyter-widgets/controls",
          "model_name": "HTMLModel",
          "state": {
            "_view_name": "HTMLView",
            "style": "IPY_MODEL_1bb054a34ba54c3eb4a9f3530cae042c",
            "_dom_classes": [],
            "description": "",
            "_model_name": "HTMLModel",
            "placeholder": "​",
            "_view_module": "@jupyter-widgets/controls",
            "_model_module_version": "1.5.0",
            "value": " 500/500 [00:17&lt;00:00, 28.51it/s]",
            "_view_count": null,
            "_view_module_version": "1.5.0",
            "description_tooltip": null,
            "_model_module": "@jupyter-widgets/controls",
            "layout": "IPY_MODEL_e79788c10cbc4a8d88ff2986e238c7a2"
          }
        },
        "94223a450c7a4816aa690645b4121bde": {
          "model_module": "@jupyter-widgets/controls",
          "model_name": "ProgressStyleModel",
          "state": {
            "_view_name": "StyleView",
            "_model_name": "ProgressStyleModel",
            "description_width": "initial",
            "_view_module": "@jupyter-widgets/base",
            "_model_module_version": "1.5.0",
            "_view_count": null,
            "_view_module_version": "1.2.0",
            "bar_color": null,
            "_model_module": "@jupyter-widgets/controls"
          }
        },
        "00462afe2afb4bb5b9352740d2ba8405": {
          "model_module": "@jupyter-widgets/base",
          "model_name": "LayoutModel",
          "state": {
            "_view_name": "LayoutView",
            "grid_template_rows": null,
            "right": null,
            "justify_content": null,
            "_view_module": "@jupyter-widgets/base",
            "overflow": null,
            "_model_module_version": "1.2.0",
            "_view_count": null,
            "flex_flow": null,
            "width": null,
            "min_width": null,
            "border": null,
            "align_items": null,
            "bottom": null,
            "_model_module": "@jupyter-widgets/base",
            "top": null,
            "grid_column": null,
            "overflow_y": null,
            "overflow_x": null,
            "grid_auto_flow": null,
            "grid_area": null,
            "grid_template_columns": null,
            "flex": null,
            "_model_name": "LayoutModel",
            "justify_items": null,
            "grid_row": null,
            "max_height": null,
            "align_content": null,
            "visibility": null,
            "align_self": null,
            "height": null,
            "min_height": null,
            "padding": null,
            "grid_auto_rows": null,
            "grid_gap": null,
            "max_width": null,
            "order": null,
            "_view_module_version": "1.2.0",
            "grid_template_areas": null,
            "object_position": null,
            "object_fit": null,
            "grid_auto_columns": null,
            "margin": null,
            "display": null,
            "left": null
          }
        },
        "1bb054a34ba54c3eb4a9f3530cae042c": {
          "model_module": "@jupyter-widgets/controls",
          "model_name": "DescriptionStyleModel",
          "state": {
            "_view_name": "StyleView",
            "_model_name": "DescriptionStyleModel",
            "description_width": "",
            "_view_module": "@jupyter-widgets/base",
            "_model_module_version": "1.5.0",
            "_view_count": null,
            "_view_module_version": "1.2.0",
            "_model_module": "@jupyter-widgets/controls"
          }
        },
        "e79788c10cbc4a8d88ff2986e238c7a2": {
          "model_module": "@jupyter-widgets/base",
          "model_name": "LayoutModel",
          "state": {
            "_view_name": "LayoutView",
            "grid_template_rows": null,
            "right": null,
            "justify_content": null,
            "_view_module": "@jupyter-widgets/base",
            "overflow": null,
            "_model_module_version": "1.2.0",
            "_view_count": null,
            "flex_flow": null,
            "width": null,
            "min_width": null,
            "border": null,
            "align_items": null,
            "bottom": null,
            "_model_module": "@jupyter-widgets/base",
            "top": null,
            "grid_column": null,
            "overflow_y": null,
            "overflow_x": null,
            "grid_auto_flow": null,
            "grid_area": null,
            "grid_template_columns": null,
            "flex": null,
            "_model_name": "LayoutModel",
            "justify_items": null,
            "grid_row": null,
            "max_height": null,
            "align_content": null,
            "visibility": null,
            "align_self": null,
            "height": null,
            "min_height": null,
            "padding": null,
            "grid_auto_rows": null,
            "grid_gap": null,
            "max_width": null,
            "order": null,
            "_view_module_version": "1.2.0",
            "grid_template_areas": null,
            "object_position": null,
            "object_fit": null,
            "grid_auto_columns": null,
            "margin": null,
            "display": null,
            "left": null
          }
        },
        "8ca476826e8d45109d3d718f47686ad8": {
          "model_module": "@jupyter-widgets/controls",
          "model_name": "HBoxModel",
          "state": {
            "_view_name": "HBoxView",
            "_dom_classes": [],
            "_model_name": "HBoxModel",
            "_view_module": "@jupyter-widgets/controls",
            "_model_module_version": "1.5.0",
            "_view_count": null,
            "_view_module_version": "1.5.0",
            "box_style": "",
            "layout": "IPY_MODEL_7b5ec2fbf5b849f987301c4fd9984229",
            "_model_module": "@jupyter-widgets/controls",
            "children": [
              "IPY_MODEL_350ed50e4d22427bb6d140a3e392372a",
              "IPY_MODEL_7c0ff4305935475dac4a7d1e6a0339b2"
            ]
          }
        },
        "7b5ec2fbf5b849f987301c4fd9984229": {
          "model_module": "@jupyter-widgets/base",
          "model_name": "LayoutModel",
          "state": {
            "_view_name": "LayoutView",
            "grid_template_rows": null,
            "right": null,
            "justify_content": null,
            "_view_module": "@jupyter-widgets/base",
            "overflow": null,
            "_model_module_version": "1.2.0",
            "_view_count": null,
            "flex_flow": null,
            "width": null,
            "min_width": null,
            "border": null,
            "align_items": null,
            "bottom": null,
            "_model_module": "@jupyter-widgets/base",
            "top": null,
            "grid_column": null,
            "overflow_y": null,
            "overflow_x": null,
            "grid_auto_flow": null,
            "grid_area": null,
            "grid_template_columns": null,
            "flex": null,
            "_model_name": "LayoutModel",
            "justify_items": null,
            "grid_row": null,
            "max_height": null,
            "align_content": null,
            "visibility": null,
            "align_self": null,
            "height": null,
            "min_height": null,
            "padding": null,
            "grid_auto_rows": null,
            "grid_gap": null,
            "max_width": null,
            "order": null,
            "_view_module_version": "1.2.0",
            "grid_template_areas": null,
            "object_position": null,
            "object_fit": null,
            "grid_auto_columns": null,
            "margin": null,
            "display": null,
            "left": null
          }
        },
        "350ed50e4d22427bb6d140a3e392372a": {
          "model_module": "@jupyter-widgets/controls",
          "model_name": "FloatProgressModel",
          "state": {
            "_view_name": "ProgressView",
            "style": "IPY_MODEL_37647a62607c46a5822d370ec37cf1ea",
            "_dom_classes": [],
            "description": "100%",
            "_model_name": "FloatProgressModel",
            "bar_style": "",
            "max": 5000,
            "_view_module": "@jupyter-widgets/controls",
            "_model_module_version": "1.5.0",
            "value": 5000,
            "_view_count": null,
            "_view_module_version": "1.5.0",
            "orientation": "horizontal",
            "min": 0,
            "description_tooltip": null,
            "_model_module": "@jupyter-widgets/controls",
            "layout": "IPY_MODEL_8106d50af2f148faa1f0daf1aa868537"
          }
        },
        "7c0ff4305935475dac4a7d1e6a0339b2": {
          "model_module": "@jupyter-widgets/controls",
          "model_name": "HTMLModel",
          "state": {
            "_view_name": "HTMLView",
            "style": "IPY_MODEL_9e7bbe5269a54e928f72169b492beaa5",
            "_dom_classes": [],
            "description": "",
            "_model_name": "HTMLModel",
            "placeholder": "​",
            "_view_module": "@jupyter-widgets/controls",
            "_model_module_version": "1.5.0",
            "value": " 5000/5000 [04:19&lt;00:00, 18.90it/s]",
            "_view_count": null,
            "_view_module_version": "1.5.0",
            "description_tooltip": null,
            "_model_module": "@jupyter-widgets/controls",
            "layout": "IPY_MODEL_b11cb845c7b4408bb6df95ec5515615f"
          }
        },
        "37647a62607c46a5822d370ec37cf1ea": {
          "model_module": "@jupyter-widgets/controls",
          "model_name": "ProgressStyleModel",
          "state": {
            "_view_name": "StyleView",
            "_model_name": "ProgressStyleModel",
            "description_width": "initial",
            "_view_module": "@jupyter-widgets/base",
            "_model_module_version": "1.5.0",
            "_view_count": null,
            "_view_module_version": "1.2.0",
            "bar_color": null,
            "_model_module": "@jupyter-widgets/controls"
          }
        },
        "8106d50af2f148faa1f0daf1aa868537": {
          "model_module": "@jupyter-widgets/base",
          "model_name": "LayoutModel",
          "state": {
            "_view_name": "LayoutView",
            "grid_template_rows": null,
            "right": null,
            "justify_content": null,
            "_view_module": "@jupyter-widgets/base",
            "overflow": null,
            "_model_module_version": "1.2.0",
            "_view_count": null,
            "flex_flow": null,
            "width": null,
            "min_width": null,
            "border": null,
            "align_items": null,
            "bottom": null,
            "_model_module": "@jupyter-widgets/base",
            "top": null,
            "grid_column": null,
            "overflow_y": null,
            "overflow_x": null,
            "grid_auto_flow": null,
            "grid_area": null,
            "grid_template_columns": null,
            "flex": null,
            "_model_name": "LayoutModel",
            "justify_items": null,
            "grid_row": null,
            "max_height": null,
            "align_content": null,
            "visibility": null,
            "align_self": null,
            "height": null,
            "min_height": null,
            "padding": null,
            "grid_auto_rows": null,
            "grid_gap": null,
            "max_width": null,
            "order": null,
            "_view_module_version": "1.2.0",
            "grid_template_areas": null,
            "object_position": null,
            "object_fit": null,
            "grid_auto_columns": null,
            "margin": null,
            "display": null,
            "left": null
          }
        },
        "9e7bbe5269a54e928f72169b492beaa5": {
          "model_module": "@jupyter-widgets/controls",
          "model_name": "DescriptionStyleModel",
          "state": {
            "_view_name": "StyleView",
            "_model_name": "DescriptionStyleModel",
            "description_width": "",
            "_view_module": "@jupyter-widgets/base",
            "_model_module_version": "1.5.0",
            "_view_count": null,
            "_view_module_version": "1.2.0",
            "_model_module": "@jupyter-widgets/controls"
          }
        },
        "b11cb845c7b4408bb6df95ec5515615f": {
          "model_module": "@jupyter-widgets/base",
          "model_name": "LayoutModel",
          "state": {
            "_view_name": "LayoutView",
            "grid_template_rows": null,
            "right": null,
            "justify_content": null,
            "_view_module": "@jupyter-widgets/base",
            "overflow": null,
            "_model_module_version": "1.2.0",
            "_view_count": null,
            "flex_flow": null,
            "width": null,
            "min_width": null,
            "border": null,
            "align_items": null,
            "bottom": null,
            "_model_module": "@jupyter-widgets/base",
            "top": null,
            "grid_column": null,
            "overflow_y": null,
            "overflow_x": null,
            "grid_auto_flow": null,
            "grid_area": null,
            "grid_template_columns": null,
            "flex": null,
            "_model_name": "LayoutModel",
            "justify_items": null,
            "grid_row": null,
            "max_height": null,
            "align_content": null,
            "visibility": null,
            "align_self": null,
            "height": null,
            "min_height": null,
            "padding": null,
            "grid_auto_rows": null,
            "grid_gap": null,
            "max_width": null,
            "order": null,
            "_view_module_version": "1.2.0",
            "grid_template_areas": null,
            "object_position": null,
            "object_fit": null,
            "grid_auto_columns": null,
            "margin": null,
            "display": null,
            "left": null
          }
        },
        "15f489f484e646a9b7ba27a650ac5bda": {
          "model_module": "@jupyter-widgets/controls",
          "model_name": "HBoxModel",
          "state": {
            "_view_name": "HBoxView",
            "_dom_classes": [],
            "_model_name": "HBoxModel",
            "_view_module": "@jupyter-widgets/controls",
            "_model_module_version": "1.5.0",
            "_view_count": null,
            "_view_module_version": "1.5.0",
            "box_style": "",
            "layout": "IPY_MODEL_1da13a1ce6a24712ac0e8239dc400539",
            "_model_module": "@jupyter-widgets/controls",
            "children": [
              "IPY_MODEL_9dc97d273f544a35aba0a6144b3be7f8",
              "IPY_MODEL_56eef2b8f70d41679aafe6672fd3e30b"
            ]
          }
        },
        "1da13a1ce6a24712ac0e8239dc400539": {
          "model_module": "@jupyter-widgets/base",
          "model_name": "LayoutModel",
          "state": {
            "_view_name": "LayoutView",
            "grid_template_rows": null,
            "right": null,
            "justify_content": null,
            "_view_module": "@jupyter-widgets/base",
            "overflow": null,
            "_model_module_version": "1.2.0",
            "_view_count": null,
            "flex_flow": null,
            "width": null,
            "min_width": null,
            "border": null,
            "align_items": null,
            "bottom": null,
            "_model_module": "@jupyter-widgets/base",
            "top": null,
            "grid_column": null,
            "overflow_y": null,
            "overflow_x": null,
            "grid_auto_flow": null,
            "grid_area": null,
            "grid_template_columns": null,
            "flex": null,
            "_model_name": "LayoutModel",
            "justify_items": null,
            "grid_row": null,
            "max_height": null,
            "align_content": null,
            "visibility": null,
            "align_self": null,
            "height": null,
            "min_height": null,
            "padding": null,
            "grid_auto_rows": null,
            "grid_gap": null,
            "max_width": null,
            "order": null,
            "_view_module_version": "1.2.0",
            "grid_template_areas": null,
            "object_position": null,
            "object_fit": null,
            "grid_auto_columns": null,
            "margin": null,
            "display": null,
            "left": null
          }
        },
        "9dc97d273f544a35aba0a6144b3be7f8": {
          "model_module": "@jupyter-widgets/controls",
          "model_name": "FloatProgressModel",
          "state": {
            "_view_name": "ProgressView",
            "style": "IPY_MODEL_99654ef541a142c3b77804e9e70508b7",
            "_dom_classes": [],
            "description": " 14%",
            "_model_name": "FloatProgressModel",
            "bar_style": "danger",
            "max": 500,
            "_view_module": "@jupyter-widgets/controls",
            "_model_module_version": "1.5.0",
            "value": 71,
            "_view_count": null,
            "_view_module_version": "1.5.0",
            "orientation": "horizontal",
            "min": 0,
            "description_tooltip": null,
            "_model_module": "@jupyter-widgets/controls",
            "layout": "IPY_MODEL_9145e0413ed54d99a33748bf11974e7b"
          }
        },
        "56eef2b8f70d41679aafe6672fd3e30b": {
          "model_module": "@jupyter-widgets/controls",
          "model_name": "HTMLModel",
          "state": {
            "_view_name": "HTMLView",
            "style": "IPY_MODEL_dc7a1e994e6a45239e3f80f326c50809",
            "_dom_classes": [],
            "description": "",
            "_model_name": "HTMLModel",
            "placeholder": "​",
            "_view_module": "@jupyter-widgets/controls",
            "_model_module_version": "1.5.0",
            "value": " 71/500 [00:24&lt;02:26,  2.93it/s, alpha=0.5061, beta=0.6532]",
            "_view_count": null,
            "_view_module_version": "1.5.0",
            "description_tooltip": null,
            "_model_module": "@jupyter-widgets/controls",
            "layout": "IPY_MODEL_25e87117d29142ea95c04eb4d9d1d775"
          }
        },
        "99654ef541a142c3b77804e9e70508b7": {
          "model_module": "@jupyter-widgets/controls",
          "model_name": "ProgressStyleModel",
          "state": {
            "_view_name": "StyleView",
            "_model_name": "ProgressStyleModel",
            "description_width": "initial",
            "_view_module": "@jupyter-widgets/base",
            "_model_module_version": "1.5.0",
            "_view_count": null,
            "_view_module_version": "1.2.0",
            "bar_color": null,
            "_model_module": "@jupyter-widgets/controls"
          }
        },
        "9145e0413ed54d99a33748bf11974e7b": {
          "model_module": "@jupyter-widgets/base",
          "model_name": "LayoutModel",
          "state": {
            "_view_name": "LayoutView",
            "grid_template_rows": null,
            "right": null,
            "justify_content": null,
            "_view_module": "@jupyter-widgets/base",
            "overflow": null,
            "_model_module_version": "1.2.0",
            "_view_count": null,
            "flex_flow": null,
            "width": null,
            "min_width": null,
            "border": null,
            "align_items": null,
            "bottom": null,
            "_model_module": "@jupyter-widgets/base",
            "top": null,
            "grid_column": null,
            "overflow_y": null,
            "overflow_x": null,
            "grid_auto_flow": null,
            "grid_area": null,
            "grid_template_columns": null,
            "flex": null,
            "_model_name": "LayoutModel",
            "justify_items": null,
            "grid_row": null,
            "max_height": null,
            "align_content": null,
            "visibility": null,
            "align_self": null,
            "height": null,
            "min_height": null,
            "padding": null,
            "grid_auto_rows": null,
            "grid_gap": null,
            "max_width": null,
            "order": null,
            "_view_module_version": "1.2.0",
            "grid_template_areas": null,
            "object_position": null,
            "object_fit": null,
            "grid_auto_columns": null,
            "margin": null,
            "display": null,
            "left": null
          }
        },
        "dc7a1e994e6a45239e3f80f326c50809": {
          "model_module": "@jupyter-widgets/controls",
          "model_name": "DescriptionStyleModel",
          "state": {
            "_view_name": "StyleView",
            "_model_name": "DescriptionStyleModel",
            "description_width": "",
            "_view_module": "@jupyter-widgets/base",
            "_model_module_version": "1.5.0",
            "_view_count": null,
            "_view_module_version": "1.2.0",
            "_model_module": "@jupyter-widgets/controls"
          }
        },
        "25e87117d29142ea95c04eb4d9d1d775": {
          "model_module": "@jupyter-widgets/base",
          "model_name": "LayoutModel",
          "state": {
            "_view_name": "LayoutView",
            "grid_template_rows": null,
            "right": null,
            "justify_content": null,
            "_view_module": "@jupyter-widgets/base",
            "overflow": null,
            "_model_module_version": "1.2.0",
            "_view_count": null,
            "flex_flow": null,
            "width": null,
            "min_width": null,
            "border": null,
            "align_items": null,
            "bottom": null,
            "_model_module": "@jupyter-widgets/base",
            "top": null,
            "grid_column": null,
            "overflow_y": null,
            "overflow_x": null,
            "grid_auto_flow": null,
            "grid_area": null,
            "grid_template_columns": null,
            "flex": null,
            "_model_name": "LayoutModel",
            "justify_items": null,
            "grid_row": null,
            "max_height": null,
            "align_content": null,
            "visibility": null,
            "align_self": null,
            "height": null,
            "min_height": null,
            "padding": null,
            "grid_auto_rows": null,
            "grid_gap": null,
            "max_width": null,
            "order": null,
            "_view_module_version": "1.2.0",
            "grid_template_areas": null,
            "object_position": null,
            "object_fit": null,
            "grid_auto_columns": null,
            "margin": null,
            "display": null,
            "left": null
          }
        }
      }
    },
    "accelerator": "GPU"
  },
  "cells": [
    {
      "cell_type": "markdown",
      "metadata": {
        "id": "view-in-github",
        "colab_type": "text"
      },
      "source": [
        "<a href=\"https://colab.research.google.com/github/JustinWongStanford/CS330P/blob/master/FCMfinal.ipynb\" target=\"_parent\"><img src=\"https://colab.research.google.com/assets/colab-badge.svg\" alt=\"Open In Colab\"/></a>"
      ]
    },
    {
      "cell_type": "code",
      "metadata": {
        "id": "7YGFN4-wKqM_"
      },
      "source": [
        ""
      ],
      "execution_count": null,
      "outputs": []
    },
    {
      "cell_type": "markdown",
      "metadata": {
        "id": "qafSafaXpFpP"
      },
      "source": [
        "# TOP"
      ]
    },
    {
      "cell_type": "code",
      "metadata": {
        "id": "0-5i9QzOSacZ",
        "outputId": "570236b6-919c-4d73-c867-d6b17b66125c",
        "colab": {
          "base_uri": "https://localhost:8080/"
        }
      },
      "source": [
        "! git clone https://github.com/authors-1901-10912/A-Meta-Transfer-Objective-For-Learning-To-Disentangle-Causal-Mechanisms.git"
      ],
      "execution_count": 1,
      "outputs": [
        {
          "output_type": "stream",
          "text": [
            "Cloning into 'A-Meta-Transfer-Objective-For-Learning-To-Disentangle-Causal-Mechanisms'...\n",
            "remote: Enumerating objects: 51, done.\u001b[K\n",
            "remote: Total 51 (delta 0), reused 0 (delta 0), pack-reused 51\u001b[K\n",
            "Unpacking objects: 100% (51/51), done.\n"
          ],
          "name": "stdout"
        }
      ]
    },
    {
      "cell_type": "code",
      "metadata": {
        "id": "sdh_nDYLSzcr",
        "outputId": "daedc985-ded3-47f1-cb2c-84deebd57481",
        "colab": {
          "base_uri": "https://localhost:8080/"
        }
      },
      "source": [
        "! git pull"
      ],
      "execution_count": 2,
      "outputs": [
        {
          "output_type": "stream",
          "text": [
            "fatal: not a git repository (or any of the parent directories): .git\n"
          ],
          "name": "stdout"
        }
      ]
    },
    {
      "cell_type": "code",
      "metadata": {
        "id": "An2J4AXMTHns"
      },
      "source": [
        "!ln -s A-Meta-Transfer-Objective-For-Learning-To-Disentangle-Causal-Mechanisms gitcode"
      ],
      "execution_count": 3,
      "outputs": []
    },
    {
      "cell_type": "code",
      "metadata": {
        "id": "q_LkeFzKTXLF",
        "outputId": "72b37d6b-b086-4e00-8e55-1c0bda362930",
        "colab": {
          "base_uri": "https://localhost:8080/"
        }
      },
      "source": [
        "!ls"
      ],
      "execution_count": 4,
      "outputs": [
        {
          "output_type": "stream",
          "text": [
            "A-Meta-Transfer-Objective-For-Learning-To-Disentangle-Causal-Mechanisms\n",
            "gitcode\n",
            "sample_data\n"
          ],
          "name": "stdout"
        }
      ]
    },
    {
      "cell_type": "code",
      "metadata": {
        "id": "3d5MxX6vTbgf",
        "outputId": "9b784497-17c9-4763-9db3-47b331d977e9",
        "colab": {
          "base_uri": "https://localhost:8080/"
        }
      },
      "source": [
        "!pip install -r gitcode/requirements.txt"
      ],
      "execution_count": 5,
      "outputs": [
        {
          "output_type": "stream",
          "text": [
            "Collecting torch==1.0.0\n",
            "\u001b[?25l  Downloading https://files.pythonhosted.org/packages/7e/60/66415660aa46b23b5e1b72bc762e816736ce8d7260213e22365af51e8f9c/torch-1.0.0-cp36-cp36m-manylinux1_x86_64.whl (591.8MB)\n",
            "\u001b[K     |████████████████████████████████| 591.8MB 28kB/s \n",
            "\u001b[?25hRequirement already satisfied: numpy in /usr/local/lib/python3.6/dist-packages (from -r gitcode/requirements.txt (line 2)) (1.18.5)\n",
            "Requirement already satisfied: jupyter in /usr/local/lib/python3.6/dist-packages (from -r gitcode/requirements.txt (line 3)) (1.0.0)\n",
            "Requirement already satisfied: tqdm in /usr/local/lib/python3.6/dist-packages (from -r gitcode/requirements.txt (line 4)) (4.41.1)\n",
            "Requirement already satisfied: matplotlib in /usr/local/lib/python3.6/dist-packages (from -r gitcode/requirements.txt (line 5)) (3.2.2)\n",
            "Requirement already satisfied: scipy in /usr/local/lib/python3.6/dist-packages (from -r gitcode/requirements.txt (line 6)) (1.4.1)\n",
            "Requirement already satisfied: jupyter-console in /usr/local/lib/python3.6/dist-packages (from jupyter->-r gitcode/requirements.txt (line 3)) (5.2.0)\n",
            "Requirement already satisfied: ipywidgets in /usr/local/lib/python3.6/dist-packages (from jupyter->-r gitcode/requirements.txt (line 3)) (7.5.1)\n",
            "Requirement already satisfied: qtconsole in /usr/local/lib/python3.6/dist-packages (from jupyter->-r gitcode/requirements.txt (line 3)) (4.7.7)\n",
            "Requirement already satisfied: ipykernel in /usr/local/lib/python3.6/dist-packages (from jupyter->-r gitcode/requirements.txt (line 3)) (4.10.1)\n",
            "Requirement already satisfied: notebook in /usr/local/lib/python3.6/dist-packages (from jupyter->-r gitcode/requirements.txt (line 3)) (5.3.1)\n",
            "Requirement already satisfied: nbconvert in /usr/local/lib/python3.6/dist-packages (from jupyter->-r gitcode/requirements.txt (line 3)) (5.6.1)\n",
            "Requirement already satisfied: pyparsing!=2.0.4,!=2.1.2,!=2.1.6,>=2.0.1 in /usr/local/lib/python3.6/dist-packages (from matplotlib->-r gitcode/requirements.txt (line 5)) (2.4.7)\n",
            "Requirement already satisfied: python-dateutil>=2.1 in /usr/local/lib/python3.6/dist-packages (from matplotlib->-r gitcode/requirements.txt (line 5)) (2.8.1)\n",
            "Requirement already satisfied: cycler>=0.10 in /usr/local/lib/python3.6/dist-packages (from matplotlib->-r gitcode/requirements.txt (line 5)) (0.10.0)\n",
            "Requirement already satisfied: kiwisolver>=1.0.1 in /usr/local/lib/python3.6/dist-packages (from matplotlib->-r gitcode/requirements.txt (line 5)) (1.3.1)\n",
            "Requirement already satisfied: prompt-toolkit<2.0.0,>=1.0.0 in /usr/local/lib/python3.6/dist-packages (from jupyter-console->jupyter->-r gitcode/requirements.txt (line 3)) (1.0.18)\n",
            "Requirement already satisfied: jupyter-client in /usr/local/lib/python3.6/dist-packages (from jupyter-console->jupyter->-r gitcode/requirements.txt (line 3)) (5.3.5)\n",
            "Requirement already satisfied: ipython in /usr/local/lib/python3.6/dist-packages (from jupyter-console->jupyter->-r gitcode/requirements.txt (line 3)) (5.5.0)\n",
            "Requirement already satisfied: pygments in /usr/local/lib/python3.6/dist-packages (from jupyter-console->jupyter->-r gitcode/requirements.txt (line 3)) (2.6.1)\n",
            "Requirement already satisfied: nbformat>=4.2.0 in /usr/local/lib/python3.6/dist-packages (from ipywidgets->jupyter->-r gitcode/requirements.txt (line 3)) (5.0.8)\n",
            "Requirement already satisfied: widgetsnbextension~=3.5.0 in /usr/local/lib/python3.6/dist-packages (from ipywidgets->jupyter->-r gitcode/requirements.txt (line 3)) (3.5.1)\n",
            "Requirement already satisfied: traitlets>=4.3.1 in /usr/local/lib/python3.6/dist-packages (from ipywidgets->jupyter->-r gitcode/requirements.txt (line 3)) (4.3.3)\n",
            "Requirement already satisfied: qtpy in /usr/local/lib/python3.6/dist-packages (from qtconsole->jupyter->-r gitcode/requirements.txt (line 3)) (1.9.0)\n",
            "Requirement already satisfied: jupyter-core in /usr/local/lib/python3.6/dist-packages (from qtconsole->jupyter->-r gitcode/requirements.txt (line 3)) (4.6.3)\n",
            "Requirement already satisfied: pyzmq>=17.1 in /usr/local/lib/python3.6/dist-packages (from qtconsole->jupyter->-r gitcode/requirements.txt (line 3)) (19.0.2)\n",
            "Requirement already satisfied: ipython-genutils in /usr/local/lib/python3.6/dist-packages (from qtconsole->jupyter->-r gitcode/requirements.txt (line 3)) (0.2.0)\n",
            "Requirement already satisfied: tornado>=4.0 in /usr/local/lib/python3.6/dist-packages (from ipykernel->jupyter->-r gitcode/requirements.txt (line 3)) (5.1.1)\n",
            "Requirement already satisfied: jinja2 in /usr/local/lib/python3.6/dist-packages (from notebook->jupyter->-r gitcode/requirements.txt (line 3)) (2.11.2)\n",
            "Requirement already satisfied: Send2Trash in /usr/local/lib/python3.6/dist-packages (from notebook->jupyter->-r gitcode/requirements.txt (line 3)) (1.5.0)\n",
            "Requirement already satisfied: terminado>=0.8.1 in /usr/local/lib/python3.6/dist-packages (from notebook->jupyter->-r gitcode/requirements.txt (line 3)) (0.9.1)\n",
            "Requirement already satisfied: entrypoints>=0.2.2 in /usr/local/lib/python3.6/dist-packages (from nbconvert->jupyter->-r gitcode/requirements.txt (line 3)) (0.3)\n",
            "Requirement already satisfied: bleach in /usr/local/lib/python3.6/dist-packages (from nbconvert->jupyter->-r gitcode/requirements.txt (line 3)) (3.2.1)\n",
            "Requirement already satisfied: defusedxml in /usr/local/lib/python3.6/dist-packages (from nbconvert->jupyter->-r gitcode/requirements.txt (line 3)) (0.6.0)\n",
            "Requirement already satisfied: pandocfilters>=1.4.1 in /usr/local/lib/python3.6/dist-packages (from nbconvert->jupyter->-r gitcode/requirements.txt (line 3)) (1.4.3)\n",
            "Requirement already satisfied: mistune<2,>=0.8.1 in /usr/local/lib/python3.6/dist-packages (from nbconvert->jupyter->-r gitcode/requirements.txt (line 3)) (0.8.4)\n",
            "Requirement already satisfied: testpath in /usr/local/lib/python3.6/dist-packages (from nbconvert->jupyter->-r gitcode/requirements.txt (line 3)) (0.4.4)\n",
            "Requirement already satisfied: six>=1.5 in /usr/local/lib/python3.6/dist-packages (from python-dateutil>=2.1->matplotlib->-r gitcode/requirements.txt (line 5)) (1.15.0)\n",
            "Requirement already satisfied: wcwidth in /usr/local/lib/python3.6/dist-packages (from prompt-toolkit<2.0.0,>=1.0.0->jupyter-console->jupyter->-r gitcode/requirements.txt (line 3)) (0.2.5)\n",
            "Requirement already satisfied: pexpect; sys_platform != \"win32\" in /usr/local/lib/python3.6/dist-packages (from ipython->jupyter-console->jupyter->-r gitcode/requirements.txt (line 3)) (4.8.0)\n",
            "Requirement already satisfied: simplegeneric>0.8 in /usr/local/lib/python3.6/dist-packages (from ipython->jupyter-console->jupyter->-r gitcode/requirements.txt (line 3)) (0.8.1)\n",
            "Requirement already satisfied: pickleshare in /usr/local/lib/python3.6/dist-packages (from ipython->jupyter-console->jupyter->-r gitcode/requirements.txt (line 3)) (0.7.5)\n",
            "Requirement already satisfied: decorator in /usr/local/lib/python3.6/dist-packages (from ipython->jupyter-console->jupyter->-r gitcode/requirements.txt (line 3)) (4.4.2)\n",
            "Requirement already satisfied: setuptools>=18.5 in /usr/local/lib/python3.6/dist-packages (from ipython->jupyter-console->jupyter->-r gitcode/requirements.txt (line 3)) (50.3.2)\n",
            "Requirement already satisfied: jsonschema!=2.5.0,>=2.4 in /usr/local/lib/python3.6/dist-packages (from nbformat>=4.2.0->ipywidgets->jupyter->-r gitcode/requirements.txt (line 3)) (2.6.0)\n",
            "Requirement already satisfied: MarkupSafe>=0.23 in /usr/local/lib/python3.6/dist-packages (from jinja2->notebook->jupyter->-r gitcode/requirements.txt (line 3)) (1.1.1)\n",
            "Requirement already satisfied: ptyprocess; os_name != \"nt\" in /usr/local/lib/python3.6/dist-packages (from terminado>=0.8.1->notebook->jupyter->-r gitcode/requirements.txt (line 3)) (0.6.0)\n",
            "Requirement already satisfied: packaging in /usr/local/lib/python3.6/dist-packages (from bleach->nbconvert->jupyter->-r gitcode/requirements.txt (line 3)) (20.4)\n",
            "Requirement already satisfied: webencodings in /usr/local/lib/python3.6/dist-packages (from bleach->nbconvert->jupyter->-r gitcode/requirements.txt (line 3)) (0.5.1)\n",
            "\u001b[31mERROR: torchvision 0.8.1+cu101 has requirement torch==1.7.0, but you'll have torch 1.0.0 which is incompatible.\u001b[0m\n",
            "Installing collected packages: torch\n",
            "  Found existing installation: torch 1.7.0+cu101\n",
            "    Uninstalling torch-1.7.0+cu101:\n",
            "      Successfully uninstalled torch-1.7.0+cu101\n",
            "Successfully installed torch-1.0.0\n"
          ],
          "name": "stdout"
        }
      ]
    },
    {
      "cell_type": "code",
      "metadata": {
        "id": "70kdl8K3V5bY",
        "outputId": "c45af558-b119-4e24-c380-ba2c7e14b889",
        "colab": {
          "base_uri": "https://localhost:8080/"
        }
      },
      "source": [
        "% cd gitcode"
      ],
      "execution_count": 6,
      "outputs": [
        {
          "output_type": "stream",
          "text": [
            "/content/A-Meta-Transfer-Objective-For-Learning-To-Disentangle-Causal-Mechanisms\n"
          ],
          "name": "stdout"
        }
      ]
    },
    {
      "cell_type": "code",
      "metadata": {
        "id": "Bh1Hv6Hl2tWs"
      },
      "source": [
        "!ln -s ../A-Meta-Transfer-Objective-For-Learning-To-Disentangle-Causal-Mechanisms/notebooks/bivariate-continuous-multimodal/ bcm"
      ],
      "execution_count": 7,
      "outputs": []
    },
    {
      "cell_type": "code",
      "metadata": {
        "id": "HhW2r1c_WFa_",
        "outputId": "4739c9a9-6c22-47c8-8c64-04ef2ac7b407",
        "colab": {
          "base_uri": "https://localhost:8080/"
        }
      },
      "source": [
        "\n",
        "! ls \n",
        "\n",
        "# ! pip install ."
      ],
      "execution_count": 8,
      "outputs": [
        {
          "output_type": "stream",
          "text": [
            "bcm\tcausal_meta  notebooks\trequirements.txt\n",
            "causal\t__init__.py  README.md\trun.py\n"
          ],
          "name": "stdout"
        }
      ]
    },
    {
      "cell_type": "code",
      "metadata": {
        "id": "ok2wSZYT0PQE"
      },
      "source": [
        "import sys\n",
        "# sys.path.append('../..')"
      ],
      "execution_count": 9,
      "outputs": []
    },
    {
      "cell_type": "code",
      "metadata": {
        "id": "Rxu-MzzdTdNR"
      },
      "source": [
        "import torch\n",
        "import torch.nn as nn\n",
        "import torch.nn.functional as F\n",
        "\n",
        "import numpy as np\n",
        "from scipy import interpolate\n",
        "\n",
        "import random\n",
        "import tqdm\n",
        "from copy import deepcopy\n",
        "from argparse import Namespace\n",
        "import warnings\n",
        "\n",
        "%matplotlib inline\n",
        "import matplotlib.pyplot as plt\n",
        "import seaborn as sns\n",
        "sns.set()"
      ],
      "execution_count": 142,
      "outputs": []
    },
    {
      "cell_type": "code",
      "metadata": {
        "id": "K04SPx_2TlSO"
      },
      "source": [
        "# from causal_meta.modules import networks as nets\n",
        "from causal_meta.utils.data_utils import RandomSplineSCM\n",
        "\n",
        "import causal_meta.utils.train_utils as tu\n",
        "# from bcm.encoder import Rotor\n",
        "from causal_meta.modules.mdn import MDN, GMM, mdn_nll\n",
        "from causal_meta.modules.gmm import GaussianMixture"
      ],
      "execution_count": 143,
      "outputs": []
    },
    {
      "cell_type": "code",
      "metadata": {
        "id": "l98Cqdvpy6Pu"
      },
      "source": [
        "%matplotlib inline\n",
        "import torch\n",
        "import numpy as np\n",
        "import matplotlib.pyplot as plt\n",
        "\n",
        "from causal_meta.modules.mdn import mdn_nll\n",
        "from causal_meta.utils.data_utils import RandomSplineSCM\n",
        "from causal_meta.utils.train_utils import train_nll, make_alpha, train_alpha\n",
        "from bcm.models import mdn, gmm, auc_transfer_metric\n",
        "from argparse import Namespace"
      ],
      "execution_count": 144,
      "outputs": []
    },
    {
      "cell_type": "code",
      "metadata": {
        "id": "R0WRDr-mpM81"
      },
      "source": [
        "import torch\n",
        "import torch.nn as nn\n",
        "import torch.nn.functional as F\n",
        "\n",
        "class FCMMDN(nn.Module):\n",
        "    def __init__(self, n_hidden, n_gaussians = 1):\n",
        "        super(FCMMDN, self).__init__()\n",
        "        self.z_h = nn.Sequential(\n",
        "            nn.Linear(2, n_hidden),\n",
        "            nn.Tanh()\n",
        "        )\n",
        "        self.z_pi = nn.Linear(n_hidden, n_gaussians)\n",
        "        self.z_mu = nn.Linear(n_hidden, n_gaussians)\n",
        "        self.z_sigma = nn.Linear(n_hidden, n_gaussians)\n",
        "\n",
        "    def forward(self, x, z):\n",
        "        y = torch.cat([x, z], dim=-1)\n",
        "        z_h = self.z_h(y)\n",
        "        pi = F.softmax(self.z_pi(z_h), -1)\n",
        "        mu = self.z_mu(z_h)\n",
        "        sigma = torch.exp(self.z_sigma(z_h))\n",
        "        return pi, mu, sigma\n",
        "\n",
        "\n",
        "class FCM_muSigma(nn.Module):\n",
        "    def __init__(self, n_hidden, n_gaussians = 1):\n",
        "        super(FCM_muSigma, self).__init__()\n",
        "        self.z_h = nn.Sequential(\n",
        "            nn.Linear(1, n_hidden),\n",
        "            nn.Tanh()\n",
        "        )\n",
        "        self.z_mu = nn.Linear(n_hidden, n_gaussians)\n",
        "        self.z_sigma = nn.Linear(n_hidden, n_gaussians)\n",
        "\n",
        "    def forward(self, x):\n",
        "        z_h = self.z_h(x)\n",
        "        mu = self.z_mu(z_h)\n",
        "        sigma = torch.exp(self.z_sigma(z_h))\n",
        "        return mu, sigma\n",
        "        "
      ],
      "execution_count": 145,
      "outputs": []
    },
    {
      "cell_type": "code",
      "metadata": {
        "id": "wGBp0imzVdHr"
      },
      "source": [
        "SEED = 91023\n",
        "torch.manual_seed(SEED)\n",
        "np.random.seed(SEED)"
      ],
      "execution_count": 146,
      "outputs": []
    },
    {
      "cell_type": "markdown",
      "metadata": {
        "id": "tEvwxwGc5zOm"
      },
      "source": [
        "# Boilerplate"
      ]
    },
    {
      "cell_type": "code",
      "metadata": {
        "id": "4TxJRzR60GNN"
      },
      "source": [
        "def normal(mean, std, N): \n",
        "    return torch.normal(torch.ones(N).mul_(mean), torch.ones(N).mul_(std)).view(-1, 1)"
      ],
      "execution_count": 147,
      "outputs": []
    },
    {
      "cell_type": "code",
      "metadata": {
        "id": "ZuBOP0E1z8bG"
      },
      "source": [
        "# opt = Namespace()\n",
        "# # Model\n",
        "# opt.CAPACITY = 32\n",
        "# opt.NUM_COMPONENTS = 10\n",
        "# opt.GMM_NUM_COMPONENTS = 10\n",
        "# # Training\n",
        "# opt.LR = 0.001\n",
        "# opt.NUM_ITER = 3000\n",
        "# opt.CUDA = False\n",
        "# opt.REC_FREQ = 10\n",
        "# # Meta\n",
        "# opt.ALPHA_LR = 0.1\n",
        "# opt.ALPHA_NUM_ITER = 500\n",
        "# opt.FINETUNE_LR = 0.001\n",
        "# opt.FINETUNE_NUM_ITER = 10\n",
        "# opt.PARAM_DISTRY = lambda mean: normal(mean, 2, opt.NUM_SAMPLES)\n",
        "# opt.PARAM_SAMPLER = lambda: np.random.uniform(-4, 4)\n",
        "# # Sampling \n",
        "# opt.NUM_SAMPLES = 1000\n",
        "# opt.TRAIN_DISTRY = lambda: normal(0, 2, opt.NUM_SAMPLES)\n",
        "# opt.TRANS_DISTRY = lambda: normal(random.randint(-4, 4), 2, opt.NUM_SAMPLES)\n",
        "\n",
        "opt = Namespace()\n",
        "\n",
        "# Model\n",
        "opt.CAPACITY = 32\n",
        "opt.NUM_COMPONENTS = 10\n",
        "# opt.GMM_NUM_COMPONENTS = 10\n",
        "opt.GMM_NUM_COMPONENTS = 10\n",
        "opt.Z_COMPONENTS = 1\n",
        "opt.W_COMPONENTS = 1\n",
        "\n",
        "\n",
        "# Training\n",
        "opt.LR = 0.01\n",
        "opt.NUM_ITER = 500\n",
        "opt.NUM_META_ITER = 1000\n",
        "opt.ALPHA_LR = 0.01\n",
        "opt.ALPHA_NUM_ITER = 1000\n",
        "opt.CUDA = True\n",
        "opt.REC_FREQ = 10\n",
        "opt.ALPHA_INIT = 0.\n",
        "opt.USE_BASELINE = True\n",
        "opt.MONTE_CARLO_STEPS = 300\n",
        "\n",
        "# Fine tuning\n",
        "opt.FINETUNE_NUM_ITER = 5\n",
        "opt.FINETUNE_LR = 0.001\n",
        "opt.EM_ITERS = 300\n",
        "\n",
        "# Sampling \n",
        "opt.NUM_SAMPLES = 1000\n",
        "opt.TRAIN_DISTRY = lambda z: normal(0, 2, opt.NUM_SAMPLES) + z\n",
        "opt.TRANS_DISTRY = lambda z: normal(np.random.uniform(-4, 4), \n",
        "                                  2, opt.NUM_SAMPLES) + z\n",
        "opt.DISTR_FOR_Z = lambda: normal(0, 4, opt.NUM_SAMPLES)\n",
        "opt.DISTR_FOR_W = lambda z: normal(2, 2, opt.NUM_SAMPLES) + z\n",
        "\n",
        "opt.PARAM_DISTRY = lambda mean, z: normal(mean, 2, opt.NUM_SAMPLES) + z\n",
        "opt.PARAM_SAMPLER = lambda: np.random.uniform(-4, 4)\n",
        "opt.ALPHA_NUM_ITER = 500\n",
        "\n",
        "# Encoder\n",
        "opt.DECODER_DEFAULT = -float(0.5 * np.pi/2)"
      ],
      "execution_count": 148,
      "outputs": []
    },
    {
      "cell_type": "code",
      "metadata": {
        "id": "VBYdexLuax9r"
      },
      "source": [
        "import torch\n",
        "import torch.nn as nn\n",
        "import numpy as np\n",
        "import scipy\n",
        "from scipy import interpolate\n",
        "try:\n",
        "    import matplotlib.pyplot as plt\n",
        "except Exception: \n",
        "    plt = None\n",
        "\n",
        "class RandomSplineSCM(nn.Module): \n",
        "    def __init__(self, input_noise=False, output_noise=True, \n",
        "                 span=6, num_anchors=10, order=3, range_scale=1.): \n",
        "        super(RandomSplineSCM, self).__init__()\n",
        "        self._span = span\n",
        "        self._num_anchors = num_anchors\n",
        "        self._range_scale = range_scale\n",
        "        self._x = np.linspace(-span, span, num_anchors)\n",
        "        self._y = np.random.uniform(-range_scale * span, range_scale * span, \n",
        "                                    size=(num_anchors,))\n",
        "        self._spline_spec = interpolate.splrep(self._x, self._y, k=order)\n",
        "        self.input_noise = input_noise\n",
        "        self.output_noise = output_noise\n",
        "    \n",
        "    def forward(self, X, Z=None):\n",
        "        #if Z is None: \n",
        "        to_add = Z + self.sample(X.shape[0])\n",
        "        if self.input_noise: \n",
        "            X = X + Z\n",
        "        X_np = X.detach().cpu().numpy().squeeze()\n",
        "        _Y_np = interpolate.splev(X_np, self._spline_spec)\n",
        "        _Y = torch.from_numpy(_Y_np).view(-1, 1).float().to(X.device)\n",
        "        if self.output_noise:\n",
        "            Y = _Y + to_add\n",
        "        else: \n",
        "            Y = _Y\n",
        "        return Y\n",
        "        \n",
        "    def sample(self, N): \n",
        "        return torch.normal(torch.zeros(N), torch.ones(N)).view(-1, 1)\n",
        "    \n",
        "    def plot(self, X, title=\"Samples from the SCM\", label=None, show=True): \n",
        "        Y = self(X)\n",
        "        if show:\n",
        "            plt.figure()\n",
        "            plt.title(title)\n",
        "        plt.scatter(X.squeeze().numpy(), Y.squeeze().numpy(), marker='+', label=label)\n",
        "        if show:\n",
        "            plt.xlabel(\"X\")\n",
        "            plt.ylabel(\"Y\")\n",
        "            plt.show()\n",
        "\n",
        "\n",
        "def original_mdn_nll(pi_mu_sigma, y, reduce=True):\n",
        "    pi, mu, sigma = pi_mu_sigma\n",
        "    m = torch.distributions.Normal(loc=mu, scale=sigma)\n",
        "    log_prob_y = m.log_prob(y)\n",
        "    log_prob_pi_y = log_prob_y + torch.log(pi)\n",
        "    loss = -torch.logsumexp(log_prob_pi_y, dim=1)\n",
        "    if reduce:\n",
        "        return torch.mean(loss)\n",
        "    else:\n",
        "        return loss\n",
        "\n",
        "def mdn_nll(pi_mu_sigma, y, mu_sigma_z, mu_sigma_w, z, w, reduce=True):\n",
        "    pi, mu, sigma = pi_mu_sigma\n",
        "    mu_w, sigma_w = mu_sigma_w\n",
        "    mu_z, sigma_z = mu_sigma_z\n",
        "    m = torch.distributions.Normal(loc=mu, scale=sigma)\n",
        "    mz = torch.distributions.Normal(loc=0, scale=1)\n",
        "    mzGw = torch.distributions.Normal(loc=mu_z, scale=sigma_z)\n",
        "    mw = torch.distributions.Normal(loc=mu_w, scale=sigma_w)\n",
        "\n",
        "    log_prob_y = m.log_prob(y)\n",
        "    log_prob_w = mw.log_prob(w)\n",
        "    log_prob_z = mz.log_prob(z)\n",
        "    log_prob_zGw = mzGw.log_prob(z) \n",
        "    log_prob_pi_y = log_prob_y + torch.log(pi)\n",
        "    loss = - (log_prob_w.reshape(-1) + log_prob_z.reshape(-1) - log_prob_zGw.reshape(-1) + torch.logsumexp(log_prob_pi_y, dim=1))\n",
        "    if reduce:\n",
        "        return torch.mean(loss)\n",
        "    else:\n",
        "        return loss\n"
      ],
      "execution_count": 149,
      "outputs": []
    },
    {
      "cell_type": "code",
      "metadata": {
        "id": "yC-3meKjz92W"
      },
      "source": [
        "scm = RandomSplineSCM(False, True, 8, 10, 3, range_scale=1.)"
      ],
      "execution_count": 150,
      "outputs": []
    },
    {
      "cell_type": "code",
      "metadata": {
        "id": "SgOl66dcZ0UL"
      },
      "source": [
        "def splitmusigma(h, dim = -1):\n",
        "  m, h = torch.split(h, h.size(dim) // 2, dim=dim)\n",
        "  v = F.softplus(h) + 1e-8\n",
        "  return m, v\n",
        "\n",
        "def kl_normal(qm, qv, pm, pv):\n",
        "    element_wise = 0.5 * (torch.log(pv) - torch.log(qv) + qv / pv + (qm - pm).pow(2) / pv - 1)\n",
        "    kl = element_wise.sum(-1)\n",
        "    return kl\n",
        "\n",
        "bce = torch.nn.BCEWithLogitsLoss(reduction='none')\n",
        "def log_bernoulli_with_logits(x, logits):\n",
        "    log_prob = -bce(input=logits, target=x).sum(-1)\n",
        "    return log_prob\n",
        "\n",
        "def sample_gaussian(m, v):\n",
        "    eps = torch.normal(mean = 0, std = torch.ones(v.shape))\n",
        "    eps = eps.cuda()\n",
        "    z = m + eps * torch.sqrt(v.to(0))\n",
        "    return z\n",
        "\n",
        "class VAE(nn.Module):\n",
        "  def __init__(self, n_hidden):\n",
        "        super().__init__()\n",
        "       \n",
        "        self.encodenet = nn.Sequential(\n",
        "            nn.Linear(1, n_hidden),\n",
        "            nn.ELU(),\n",
        "            nn.Linear(n_hidden, 2)\n",
        "        )\n",
        "\n",
        "        self.decodenet = nn.Sequential(\n",
        "            nn.Linear(1, n_hidden),\n",
        "            nn.ELU(),\n",
        "            nn.Linear(n_hidden, 1)\n",
        "        )\n",
        "\n",
        "        self.z_prior_m = torch.nn.Parameter(torch.zeros(1), requires_grad=False)\n",
        "        self.z_prior_v = torch.nn.Parameter(torch.ones(1), requires_grad=False)\n",
        "        self.z_prior = (self.z_prior_m, self.z_prior_v)\n",
        "    \n",
        "  def encode(self, x, y = None):\n",
        "        xy = x if y is None else torch.cat((x, y), dim=1)\n",
        "        h = self.encodenet(xy)\n",
        "        m, v = splitmusigma(h, dim=1)\n",
        "        return m, v\n",
        "\n",
        "  def decode(self, z, y=None):\n",
        "        zy = z if y is None else torch.cat((z, y), dim=1)\n",
        "        return self.decodenet(zy)\n",
        "\n",
        "  def loss(self, x):\n",
        "        st = self.encode(x)\n",
        "        # print(st[0].size())\n",
        "        # print(x.size())\n",
        "        kl = kl_normal(st[0], st[1], self.z_prior_m, self.z_prior_v)\n",
        "        # rec = -log_bernoulli_with_logits(x, self.decode(sample_gaussian(st[0], st[1])))\n",
        "        rec = -(x -  self.decode(sample_gaussian(st[0], st[1])))**2\n",
        "        nelbo = (kl + rec).mean()\n",
        "        return nelbo"
      ],
      "execution_count": 151,
      "outputs": []
    },
    {
      "cell_type": "code",
      "metadata": {
        "id": "wH8Xjc4z0gxv"
      },
      "source": [
        "import torch\n",
        "import torch.nn as nn\n",
        "import torch.nn.functional as F\n",
        "\n",
        "from causal_meta.utils.torch_utils import logsumexp\n",
        "from tqdm import tnrange, tqdm_notebook, notebook\n",
        "from argparse import Namespace\n",
        "from copy import deepcopy\n",
        "\n",
        "\n",
        "def inner_train_fn(inp, tar, W, Z_inner, model, model_wGz, out_zGw, loss_fn):\n",
        "  out = model(inp, Z_inner)\n",
        "  out_wGz = model_wGz(Z_inner)\n",
        "  loss = loss_fn(out, tar, out_zGw, out_wGz, Z_inner, W, reduce = False)\n",
        "  return loss.reshape(-1, 1)\n",
        "\n",
        "def inner_train_marg(inp, tar, W, Z_inner, model, model_wGz, out_zGw, loss_fn):\n",
        "  zeros = torch.zeros_like(Z_inner).cuda()\n",
        "  out = model(zeros, Z_inner)\n",
        "  out_wGz = model_wGz(Z_inner)\n",
        "  loss = loss_fn(out, inp, out_zGw, out_wGz, Z_inner, W, reduce = False)\n",
        "  return loss.reshape(-1, 1)\n",
        "\n",
        "\n",
        "def train_nll(opt, model, model_zGw, model_wGz, scm, train_distr_fn, Z_distr_fn, W_distr_fn, polarity='X2Y', loss_fn=nn.MSELoss(),\n",
        "              decoder=None, encoder=None):\n",
        "    optim = torch.optim.Adam(model.parameters(), lr=opt.LR)\n",
        "    optim_wGz = torch.optim.Adam(model_wGz.parameters(), lr=opt.LR)\n",
        "    optim_zGw = torch.optim.Adam(model_zGw.parameters(), lr=opt.LR)\n",
        "    if opt.CUDA:\n",
        "        model = model.cuda()\n",
        "        model_zGw = model_zGw.cuda()\n",
        "        model_wGz = model_wGz.cuda()\n",
        "        if encoder is not None: \n",
        "            encoder = encoder.cuda()\n",
        "        if decoder is not None: \n",
        "            decoder = decoder.cuda()\n",
        "    frames = []\n",
        "    for iter_num in tnrange(opt.NUM_ITER, leave=False):\n",
        "        # Generate samples from the training distry\n",
        "        Z = Z_distr_fn()\n",
        "        X = train_distr_fn(Z)\n",
        "        W = W_distr_fn(Z)\n",
        "        with torch.no_grad():\n",
        "            Y = scm(X, Z)\n",
        "        Y = W_distr_fn(Z)\n",
        "        #X = W_distr_fn(Z)\n",
        "        if opt.CUDA:\n",
        "            X, Y = X.cuda(), Y.cuda()\n",
        "        with torch.no_grad():\n",
        "            if decoder is not None:\n",
        "                # X and Y are sampled from the underlying distribution.\n",
        "                # We apply a secret random transformation to the true latent\n",
        "                # variables to obtain the raw input\n",
        "                X, Y = decoder(X, Y)\n",
        "            if encoder is not None:\n",
        "                # Apply the encoder, meant to \"undo\" the decoder up to swapping X and Y.\n",
        "                X, Y = encoder(X, Y)\n",
        "        # Now, train as usual\n",
        "        if polarity == 'X2Y':\n",
        "            inp, tar = X, Y\n",
        "        elif polarity == 'Y2X':\n",
        "            inp, tar = Y, X\n",
        "        else:\n",
        "            raise ValueError\n",
        "        if opt.CUDA:\n",
        "            inp, tar = inp.cuda(), tar.cuda()\n",
        "            Z = Z.cuda()\n",
        "            W = W.cuda()\n",
        "        # Train\n",
        "        out_zGw = model_zGw(W)\n",
        "        mu_z, sz = out_zGw\n",
        "        z_normal = torch.distributions.Normal(0, 1)\n",
        "        # if opt.CUDA:\n",
        "        #   z_normal = z_normal.cuda()\n",
        "        \n",
        "        #monte_carlo_z = []\n",
        "        #print(mu_z.shape, sz.shape)\n",
        "        #print(z_normal.sample((opt.MONTE_CARLO_STEPS,1)).shape)\n",
        "        #print(z_normal.sample((opt.MONTE_CARLO_STEPS,1))*sz.shape)\n",
        "        samples = z_normal.sample((opt.MONTE_CARLO_STEPS, 1))\n",
        "        inp2 = sz.reshape(1, -1)\n",
        "        inp3 = torch.cat([mu_z.reshape(1, -1) for i in range(opt.MONTE_CARLO_STEPS)], 0)\n",
        "        if opt.CUDA:\n",
        "          samples = samples.cuda()\n",
        "          inp2 = inp2.cuda()\n",
        "          inp3 = inp3.cuda()\n",
        "\n",
        "        Z_inner = torch.matmul(samples, inp2) +  inp3\n",
        "        Z_inner = Z_inner.reshape(-1, 1)\n",
        "        tar = torch.cat([tar for i in range(opt.MONTE_CARLO_STEPS)], 0)\n",
        "        inp = torch.cat([inp for i in range(opt.MONTE_CARLO_STEPS)], 0)\n",
        "        W = torch.cat([W for i in range(opt.MONTE_CARLO_STEPS)], 0)\n",
        "\n",
        "        mu_z_pass = torch.cat([mu_z for i in range(opt.MONTE_CARLO_STEPS)], 0)\n",
        "        s_z_pass = torch.cat([sz for i in range(opt.MONTE_CARLO_STEPS)], 0)\n",
        "\n",
        "        lo = inner_train_fn(inp, tar, W, Z_inner, model, model_wGz, (mu_z_pass, s_z_pass), loss_fn)\n",
        "        loss = torch.mean(lo)\n",
        "\n",
        "        optim.zero_grad()\n",
        "        optim_wGz.zero_grad()\n",
        "        optim_zGw.zero_grad()\n",
        "        loss.backward()\n",
        "        optim.step()\n",
        "        optim_wGz.step()\n",
        "        optim_zGw.step()\n",
        "        # Append info\n",
        "        if iter_num % opt.REC_FREQ or iter_num == (opt.NUM_ITER - 1):\n",
        "            info = Namespace(loss=loss.item(),\n",
        "                             iter_num=iter_num)\n",
        "            frames.append(info)\n",
        "    return frames\n",
        "\n",
        "def train_marg(opt, modelx, modely, model_zGw, model_wGz, scm, x_distr_fn, y_distr_fn, Z_distr_fn, W_distr_fn, loss_fn=nn.MSELoss(),\n",
        "              decoder=None, encoder=None):\n",
        "    optimx = torch.optim.Adam(modelx.parameters(), lr=opt.LR)\n",
        "    optimy = torch.optim.Adam(modely.parameters(), lr=opt.LR)\n",
        "    optim_wGz = torch.optim.Adam(model_wGz.parameters(), lr=opt.LR)\n",
        "    optim_zGw = torch.optim.Adam(model_zGw.parameters(), lr=opt.LR)\n",
        "    if opt.CUDA:\n",
        "        modelx = modelx.cuda()\n",
        "        modely = modely.cuda()\n",
        "        model_wGz = model_wGz.cuda()\n",
        "        model_zGw = model_zGw.cuda()\n",
        "        if encoder is not None: \n",
        "            encoder = encoder.cuda()\n",
        "        if decoder is not None: \n",
        "            decoder = decoder.cuda()\n",
        "    frames = []\n",
        "    for iter_num in tnrange(opt.NUM_ITER * 10, leave=False):\n",
        "        # Generate samples from the training distry\n",
        "        Z = Z_distr_fn()\n",
        "        X = x_distr_fn(Z)\n",
        "        Y = W_distr_fn(Z)\n",
        "        W = W_distr_fn(Z)\n",
        "        # with torch.no_grad():\n",
        "        #     Y = scm(X, Z)\n",
        "        if opt.CUDA:\n",
        "            X, Y = X.cuda(), Y.cuda()\n",
        "        with torch.no_grad():\n",
        "            if decoder is not None:\n",
        "                # X and Y are sampled from the underlying distribution.\n",
        "                # We apply a secret random transformation to the true latent\n",
        "                # variables to obtain the raw input\n",
        "                X, Y = decoder(X, Y)\n",
        "            if encoder is not None:\n",
        "                # Apply the encoder, meant to \"undo\" the decoder up to swapping X and Y.\n",
        "                X, Y = encoder(X, Y)\n",
        "        # Now, train as usual\n",
        "        inp, tar = X, Y\n",
        "        if opt.CUDA:\n",
        "            inp, tar = inp.cuda(), tar.cuda()\n",
        "            Z = Z.cuda()\n",
        "            W = W.cuda()\n",
        "        # Train\n",
        "        out_zGw = model_zGw(W)\n",
        "        mu_z, sz = out_zGw\n",
        "        z_normal = torch.distributions.Normal(0, 1)\n",
        "        # if opt.CUDA:\n",
        "        #   z_normal = z_normal.cuda()\n",
        "        \n",
        "        #monte_carlo_z = []\n",
        "        #print(mu_z.shape, sz.shape)\n",
        "        #print(z_normal.sample((opt.MONTE_CARLO_STEPS,1)).shape)\n",
        "        #print(z_normal.sample((opt.MONTE_CARLO_STEPS,1))*sz.shape)\n",
        "        samples = z_normal.sample((opt.MONTE_CARLO_STEPS, 1))\n",
        "        inp2 = sz.reshape(1, -1)\n",
        "        inp3 = torch.cat([mu_z.reshape(1, -1) for i in range(opt.MONTE_CARLO_STEPS)], 0)\n",
        "        if opt.CUDA:\n",
        "          samples = samples.cuda()\n",
        "          inp2 = inp2.cuda()\n",
        "          inp3 = inp3.cuda()\n",
        "\n",
        "        Z_inner = torch.matmul(samples, inp2) +  inp3\n",
        "        Z_inner = Z_inner.reshape(-1, 1)\n",
        "        tar = torch.cat([tar for i in range(opt.MONTE_CARLO_STEPS)], 0)\n",
        "        inp = torch.cat([inp for i in range(opt.MONTE_CARLO_STEPS)], 0)\n",
        "        W = torch.cat([W for i in range(opt.MONTE_CARLO_STEPS)], 0)\n",
        "\n",
        "        mu_z_pass = torch.cat([mu_z for i in range(opt.MONTE_CARLO_STEPS)], 0)\n",
        "        s_z_pass = torch.cat([sz for i in range(opt.MONTE_CARLO_STEPS)], 0)\n",
        "\n",
        "        lox = inner_train_marg(inp, inp, W, Z_inner, modelx, model_wGz, (mu_z_pass, s_z_pass), loss_fn)\n",
        "        lossx = torch.mean(lox)\n",
        "\n",
        "        loy = inner_train_marg(tar, tar, W, Z_inner, modely, model_wGz, (mu_z_pass, s_z_pass), loss_fn)\n",
        "        lossy = torch.mean(loy)\n",
        "\n",
        "        optimx.zero_grad()\n",
        "        optimy.zero_grad()\n",
        "        optim_wGz.zero_grad()\n",
        "        optim_zGw.zero_grad()\n",
        "        \n",
        "        lossx.backward(retain_graph=True)\n",
        "        lossy.backward(retain_graph = True)\n",
        "\n",
        "        optimx.step()\n",
        "        optimy.step()\n",
        "        optim_wGz.step()\n",
        "        optim_zGw.step()\n",
        "        # Append info\n",
        "        # if iter_num % opt.REC_FREQ or iter_num == (opt.NUM_ITER - 1):\n",
        "        #     info = Namespace(loss=loss.item(),\n",
        "        #                      iter_num=iter_num)\n",
        "        #     frames.append(info)\n",
        "    return frames\n",
        "\n",
        "def marginal_nll(opt, inp, nll): \n",
        "    model_g = gmm(opt)\n",
        "    if opt.CUDA: \n",
        "        model_g = model_g.cuda()\n",
        "    model_g.fit(inp)\n",
        "    with torch.no_grad():\n",
        "        loss_marginal = nll(model_g(inp), inp)\n",
        "    return loss_marginal\n",
        "\n",
        "def marginalGz(model_g, input, Z):\n",
        "    zeros = torch.zeros_like(Z).cuda()\n",
        "    if opt.CUDA: \n",
        "        model_g = model_g.cuda()\n",
        "    with torch.no_grad():\n",
        "        loss_marginal = original_mdn_nll(model_g(zeros, Z), input)\n",
        "    return loss_marginal\n",
        "\n",
        "def transfer_tune(opt, model, model_g, model_wGz, model_zGw, inp, tar, W, nll): \n",
        "    model = deepcopy(model)\n",
        "    model_wGz = deepcopy(model_wGz)\n",
        "    model_zGw = deepcopy(model_zGw)\n",
        "    optim_model = torch.optim.Adam(model.parameters(), \n",
        "                                   opt.FINETUNE_LR)\n",
        "    if opt.CUDA:\n",
        "      W = W.cuda()\n",
        "    \n",
        "    tar_use = torch.cat([tar for i in range(opt.MONTE_CARLO_STEPS)], 0)\n",
        "    inp_use = torch.cat([inp for i in range(opt.MONTE_CARLO_STEPS)], 0)\n",
        "    W_use = torch.cat([W for i in range(opt.MONTE_CARLO_STEPS)], 0)\n",
        "    # loss_marginal = 0\n",
        "    # loss_marginal = marginal_nll(opt, inp[0], nll).item()\n",
        "\n",
        "    out_zGw = model_zGw(W)\n",
        "    mu_z, sz = out_zGw\n",
        "    z_normal = torch.distributions.Normal(0, 1) \n",
        "\n",
        "    samples = z_normal.sample((1, 1))\n",
        "    inp2 = sz.reshape(1, -1)\n",
        "    inp3 = torch.cat([mu_z.reshape(1, -1) for i in range(1)], 0)\n",
        "\n",
        "    if opt.CUDA:\n",
        "          samples = samples.cuda()\n",
        "          inp2 = inp2.cuda()\n",
        "          inp3 = inp3.cuda()\n",
        "    \n",
        "    Z = torch.matmul(samples, inp2) +  inp3\n",
        "    # Z_inner = torch.matmul(z_normal.sample((opt.MONTE_CARLO_STEPS, 1)), sz.reshape(1, -1)) + torch.cat([mu_z.reshape(1, -1) for i in range(opt.MONTE_CARLO_STEPS)], 0)\n",
        "    Z = Z.reshape(-1, 1)\n",
        "    loss_marginal = marginalGz(model_g, inp.detach(), Z.clone().detach()).item()\n",
        "    joint_losses = []\n",
        "    \n",
        "    for iter_num in range(opt.FINETUNE_NUM_ITER): \n",
        "        # Train conditional\n",
        "        out_zGw = model_zGw(W)\n",
        "        mu_z, sz = out_zGw\n",
        "        \n",
        "        \n",
        "        \n",
        "        samples = z_normal.sample((opt.MONTE_CARLO_STEPS, 1))\n",
        "        inp2 = sz.reshape(1, -1)\n",
        "        inp3 = torch.cat([mu_z.reshape(1, -1) for i in range(opt.MONTE_CARLO_STEPS)], 0)\n",
        "        if opt.CUDA:\n",
        "          samples = samples.cuda()\n",
        "          inp2 = inp2.cuda()\n",
        "          inp3 = inp3.cuda()\n",
        "\n",
        "        Z_inner = torch.matmul(samples, inp2) +  inp3\n",
        "        # Z_inner = torch.matmul(z_normal.sample((opt.MONTE_CARLO_STEPS, 1)), sz.reshape(1, -1)) + torch.cat([mu_z.reshape(1, -1) for i in range(opt.MONTE_CARLO_STEPS)], 0)\n",
        "        Z_inner = Z_inner.reshape(-1, 1)\n",
        "        \n",
        "\n",
        "        mu_z_pass = torch.cat([mu_z for i in range(opt.MONTE_CARLO_STEPS)], 0)\n",
        "        s_z_pass = torch.cat([sz for i in range(opt.MONTE_CARLO_STEPS)], 0)\n",
        "        \n",
        "        out = model(inp_use, Z_inner)\n",
        "        out_wGz = model_wGz(Z_inner)\n",
        "        lo = nll(out, tar_use, (mu_z_pass, s_z_pass), out_wGz, Z_inner, W_use, reduce = False)\n",
        "\n",
        "        loss_conditional = torch.mean(lo)\n",
        "        #prd = model(inp[0], inp[1])\n",
        "        #loss_conditional = nll(prd, tar)\n",
        "        optim_model.zero_grad()\n",
        "        loss_conditional.backward()\n",
        "        optim_model.step()\n",
        "        joint_losses.append(loss_conditional.item() + loss_marginal)\n",
        "    # Return losses\n",
        "    return joint_losses\n",
        "\n",
        "def auc_transfer_metric(opt, model, modelC, model_wGz, model_zGw, inp, tar, W, nll):\n",
        "    # Tune\n",
        "    losses = transfer_tune(opt, model, modelC, model_wGz, model_zGw, inp, tar, W, nll)\n",
        "    # Compute the integral of the loss curve\n",
        "    return sum(losses)\n",
        "\n",
        "def transfer_ind(opt, modelx, modely, model_zGw, W, tarx, tary, nll = original_mdn_nll):\n",
        "    modelx = deepcopy(modelx)\n",
        "    modely = deepcopy(modely)\n",
        "\n",
        "    if opt.CUDA:\n",
        "      W = W.cuda()\n",
        "    out_zGw = model_zGw(W)\n",
        "    mu_z, sz = out_zGw\n",
        "    z_normal = torch.distributions.Normal(0, 1) \n",
        "\n",
        "    samples = z_normal.sample((1, 1))\n",
        "    inp2 = sz.reshape(1, -1)\n",
        "    inp3 = torch.cat([mu_z.reshape(1, -1) for i in range(1)], 0)\n",
        "\n",
        "    if opt.CUDA:\n",
        "          samples = samples.cuda()\n",
        "          inp2 = inp2.cuda()\n",
        "          inp3 = inp3.cuda()\n",
        "    \n",
        "    Z = torch.matmul(samples, inp2) +  inp3\n",
        "    # Z_inner = torch.matmul(z_normal.sample((opt.MONTE_CARLO_STEPS, 1)), sz.reshape(1, -1)) + torch.cat([mu_z.reshape(1, -1) for i in range(opt.MONTE_CARLO_STEPS)], 0)\n",
        "    Z = Z.reshape(-1, 1)\n",
        "    # loss_marginal = marginalGz(model_g, inp.detach(), Z.clone().detach()).item()\n",
        "    # optim_modely = torch.optim.Adam(modely.parameters(), \n",
        "    #                                 opt.FINETUNE_LR)\n",
        "    # loss_marginal = marginal_nll(opt, inp[0], nll).item()\n",
        "    joint_losses = []\n",
        "    zeros = torch.zeros_like(Z).cuda()\n",
        "    for iter_num in range(opt.FINETUNE_NUM_ITER): \n",
        "        # Train conditional\n",
        "        prdx = modelx(zeros, Z)\n",
        "        loss_conditionalx = nll(prdx, tarx)\n",
        "        # optim_modelx.zero_grad()\n",
        "        # loss_conditionalx.backward()\n",
        "        # optim_modelx.step()\n",
        "\n",
        "        prdy = modely(zeros, Z)\n",
        "        loss_conditionaly = nll(prdy, tary)\n",
        "        # optim_modely.zero_grad()\n",
        "        # loss_conditionaly.backward()\n",
        "        # optim_modely.step()\n",
        "\n",
        "        joint_losses.append(loss_conditionaly.item() + loss_conditionalx.item())\n",
        "    # Return losses\n",
        "    return sum(joint_losses)\n",
        "\n",
        "def train_alpha(opt, model_x2y, model_y2x, model_xGz, model_yGz, model_x2y_wGz, model_x2y_zGw, \n",
        "                model_y2x_wGz, model_y2x_zGw, model_zGw, alpha, beta, gt_scm, \n",
        "                distr, Z_distr_fn, W_distr_fn, sweep_distr, nll, transfer_metric, mixmode='logmix'):\n",
        "  # print(mixmode)\n",
        "    # Everyone to CUDA\n",
        "    if opt.CUDA: \n",
        "        model_x2y.cuda()\n",
        "        model_y2x.cuda()\n",
        "    alpha_optim = torch.optim.Adam([alpha], lr=opt.ALPHA_LR)\n",
        "    beta_optim = torch.optim.Adam([beta], lr=opt.ALPHA_LR)\n",
        "    frames = []\n",
        "    iterations = tnrange(opt.ALPHA_NUM_ITER, leave=False)\n",
        "    for iter_num in iterations:\n",
        "        # Sample parameter for the transfer distribution\n",
        "        sweep_param = sweep_distr()\n",
        "        # Sample X from transfer\n",
        "        #zx = normal(0, 1, 1000)\n",
        "        #zy = normal(0, 1, 1000)\n",
        "        Z = Z_distr_fn()\n",
        "        X_gt = distr(sweep_param, Z)\n",
        "        W = W_distr_fn(Z)\n",
        "        Y_gt = gt_scm(X_gt, Z)\n",
        "        Y_gt = W_distr_fn(Z)\n",
        "        #X_gt = W_distr_fn(Z)\n",
        "        with torch.no_grad():\n",
        "            if opt.CUDA:\n",
        "                X_gt, Y_gt = X_gt.cuda(), Y_gt.cuda()\n",
        "        # Evaluate performance\n",
        "        metric_x2y = transfer_metric(opt, model_x2y, model_xGz, model_x2y_wGz, model_x2y_zGw, X_gt, Y_gt, W, nll)\n",
        "        metric_y2x = transfer_metric(opt, model_y2x, model_yGz, model_y2x_wGz, model_y2x_zGw, Y_gt, X_gt, W, nll)\n",
        "        metric_ind = transfer_ind(opt, model_xGz, model_yGz, model_zGw, W, X_gt, Y_gt)\n",
        "        # Estimate gradient\n",
        "        if mixmode == 'logmix':\n",
        "            loss_alpha = torch.sigmoid(alpha) * metric_x2y + (1 - torch.sigmoid(alpha)) * metric_y2x\n",
        "            maxmet = max(metric_x2y, metric_y2x)\n",
        "            loss_beta = torch.sigmoid(beta) * metric_ind + (1 - torch.sigmoid(beta)) * maxmet\n",
        "        else:\n",
        "            log_alpha, log_1_m_alpha = F.logsigmoid(alpha), F.logsigmoid(-alpha)\n",
        "            as_lse = logsumexp(log_alpha + metric_x2y, log_1_m_alpha + metric_y2x)\n",
        "            if mixmode == 'logsigp': \n",
        "                loss_alpha = as_lse\n",
        "            elif mixmode == 'sigp':\n",
        "                loss_alpha = as_lse.exp()\n",
        "        # Optimize\n",
        "        alpha_optim.zero_grad()\n",
        "        loss_alpha.backward()\n",
        "        alpha_optim.step()\n",
        "\n",
        "        beta_optim.zero_grad()\n",
        "        loss_beta.backward()\n",
        "        beta_optim.step()\n",
        "        # Append info\n",
        "        with torch.no_grad():\n",
        "            frames.append(Namespace(iter_num=iter_num,\n",
        "                                    alpha=alpha.item(), \n",
        "                                    sig_alpha=torch.sigmoid(alpha).item(), \n",
        "                                    sig_beta=torch.sigmoid(beta).item(), \n",
        "                                    metric_x2y=metric_x2y, \n",
        "                                    metric_y2x=metric_y2x, \n",
        "                                    loss_alpha=loss_alpha.item()))\n",
        "        iterations.set_postfix({'alpha':'{0:.4f}'.format(torch.sigmoid(alpha).item()),'beta':'{0:.4f}'.format(torch.sigmoid(beta).item())})\n",
        "    return frames"
      ],
      "execution_count": 202,
      "outputs": []
    },
    {
      "cell_type": "code",
      "metadata": {
        "id": "6fIzGRU60b_W"
      },
      "source": [
        "# def mdn(opt): \n",
        "#     return MDN(opt.CAPACITY, opt.NUM_COMPONENTS)\n",
        "\n",
        "def mdn(opt): \n",
        "    return FCMMDN(opt.CAPACITY, opt.NUM_COMPONENTS)\n",
        "def mdn_mu_sigma_z(opt): \n",
        "    return FCM_muSigma(opt.CAPACITY, opt.Z_COMPONENTS)\n",
        "def mdn_mu_sigma_w(opt): \n",
        "    return FCM_muSigma(opt.CAPACITY, opt.W_COMPONENTS)\n",
        "def gmm(opt): \n",
        "    return GaussianMixture(opt.GMM_NUM_COMPONENTS)"
      ],
      "execution_count": 153,
      "outputs": []
    },
    {
      "cell_type": "code",
      "metadata": {
        "id": "VRvT__O3zS8d",
        "outputId": "bb8b7808-659d-4e1c-a322-f51beb8d2fc1",
        "colab": {
          "base_uri": "https://localhost:8080/",
          "height": 35,
          "referenced_widgets": [
            "87586b1b6c824cf5aa8124c8d999d5e6",
            "7e29dc31c5434a0ab577abafafd6d933",
            "72cde7494ce248619db6163f36993b7e",
            "4aa699960b9443e89f18349eaa2a21a8",
            "8f18dfda2fc84f05bda95f50c463d82d",
            "dd242c28d97547ee848fc65dd5fab48f",
            "edc65516971248f08c0a5d4c5bfcff95",
            "e057c736722f49b2b2d3e17671295897"
          ]
        }
      },
      "source": [
        "model_x2y = mdn(opt)\n",
        "model_x2y_wGz = mdn_mu_sigma_w(opt)\n",
        "model_x2y_zGw = mdn_mu_sigma_z(opt)\n",
        "\n",
        "model_xGz = FCMMDN(opt.CAPACITY, 1)\n",
        "\n",
        "frames_x2y = train_nll(opt, model_x2y, model_x2y_zGw, model_x2y_wGz, scm, opt.TRAIN_DISTRY, \n",
        "                       opt.DISTR_FOR_Z, opt.DISTR_FOR_W, polarity='X2Y',\n",
        "                        loss_fn=mdn_nll, decoder=None, encoder=None)"
      ],
      "execution_count": 154,
      "outputs": [
        {
          "output_type": "stream",
          "text": [
            "/usr/local/lib/python3.6/dist-packages/ipykernel_launcher.py:39: TqdmDeprecationWarning: Please use `tqdm.notebook.trange` instead of `tqdm.tnrange`\n"
          ],
          "name": "stderr"
        },
        {
          "output_type": "display_data",
          "data": {
            "application/vnd.jupyter.widget-view+json": {
              "model_id": "87586b1b6c824cf5aa8124c8d999d5e6",
              "version_minor": 0,
              "version_major": 2
            },
            "text/plain": [
              "HBox(children=(FloatProgress(value=0.0, max=500.0), HTML(value='')))"
            ]
          },
          "metadata": {
            "tags": []
          }
        }
      ]
    },
    {
      "cell_type": "code",
      "metadata": {
        "id": "vWqTeg_AzTZq",
        "outputId": "f2454555-b4fc-4afe-a488-031774933144",
        "colab": {
          "base_uri": "https://localhost:8080/",
          "height": 35,
          "referenced_widgets": [
            "6cc6a0765d7b4d8b846654bff6ddcc40",
            "2a3a79f5cb5b44c190854af728e98ccd",
            "f0575ddd339a4faca4c99cf3f39b87ca",
            "cb8e910a56fb42c08f31f6b9d2933431",
            "94223a450c7a4816aa690645b4121bde",
            "00462afe2afb4bb5b9352740d2ba8405",
            "1bb054a34ba54c3eb4a9f3530cae042c",
            "e79788c10cbc4a8d88ff2986e238c7a2"
          ]
        }
      },
      "source": [
        "model_y2x = mdn(opt)\n",
        "model_y2x_wGz = mdn_mu_sigma_w(opt)\n",
        "model_y2x_zGw = mdn_mu_sigma_z(opt)\n",
        "frames_y2x = train_nll(opt, model_y2x, model_y2x_zGw, model_y2x_wGz, scm, opt.TRAIN_DISTRY, \n",
        "                       opt.DISTR_FOR_Z, opt.DISTR_FOR_W, polarity='Y2X',\n",
        "                        loss_fn=mdn_nll, decoder=None, encoder=None)"
      ],
      "execution_count": 155,
      "outputs": [
        {
          "output_type": "stream",
          "text": [
            "/usr/local/lib/python3.6/dist-packages/ipykernel_launcher.py:39: TqdmDeprecationWarning: Please use `tqdm.notebook.trange` instead of `tqdm.tnrange`\n"
          ],
          "name": "stderr"
        },
        {
          "output_type": "display_data",
          "data": {
            "application/vnd.jupyter.widget-view+json": {
              "model_id": "6cc6a0765d7b4d8b846654bff6ddcc40",
              "version_minor": 0,
              "version_major": 2
            },
            "text/plain": [
              "HBox(children=(FloatProgress(value=0.0, max=500.0), HTML(value='')))"
            ]
          },
          "metadata": {
            "tags": []
          }
        }
      ]
    },
    {
      "cell_type": "code",
      "metadata": {
        "id": "4iCNPMYNYcPS",
        "outputId": "f101f8f6-39e2-466d-c09f-5fe663944e76",
        "colab": {
          "base_uri": "https://localhost:8080/",
          "height": 55,
          "referenced_widgets": [
            "8ca476826e8d45109d3d718f47686ad8",
            "7b5ec2fbf5b849f987301c4fd9984229",
            "350ed50e4d22427bb6d140a3e392372a",
            "7c0ff4305935475dac4a7d1e6a0339b2",
            "37647a62607c46a5822d370ec37cf1ea",
            "8106d50af2f148faa1f0daf1aa868537",
            "9e7bbe5269a54e928f72169b492beaa5",
            "b11cb845c7b4408bb6df95ec5515615f"
          ]
        }
      },
      "source": [
        "model_xGz = FCMMDN(opt.CAPACITY, 1)\n",
        "model_yGz = FCMMDN(opt.CAPACITY, 1)\n",
        "model_zGw = mdn_mu_sigma_z(opt)\n",
        "model_wGz = mdn_mu_sigma_z(opt)\n",
        "margframs = train_marg(opt, model_xGz, model_yGz, model_zGw, model_wGz, scm, opt.TRAIN_DISTRY, opt.TRAIN_DISTRY, \n",
        "                       opt.DISTR_FOR_Z, opt.DISTR_FOR_W,\n",
        "                        loss_fn=mdn_nll, decoder=None, encoder=None)"
      ],
      "execution_count": 198,
      "outputs": [
        {
          "output_type": "stream",
          "text": [
            "/usr/local/lib/python3.6/dist-packages/ipykernel_launcher.py:131: TqdmDeprecationWarning: Please use `tqdm.notebook.trange` instead of `tqdm.tnrange`\n"
          ],
          "name": "stderr"
        },
        {
          "output_type": "display_data",
          "data": {
            "application/vnd.jupyter.widget-view+json": {
              "model_id": "8ca476826e8d45109d3d718f47686ad8",
              "version_minor": 0,
              "version_major": 2
            },
            "text/plain": [
              "HBox(children=(FloatProgress(value=0.0, max=5000.0), HTML(value='')))"
            ]
          },
          "metadata": {
            "tags": []
          }
        }
      ]
    },
    {
      "cell_type": "code",
      "metadata": {
        "id": "kWM96gA7zUfi",
        "outputId": "13f56205-6b4c-4a96-82b4-0835db7474d9",
        "colab": {
          "base_uri": "https://localhost:8080/",
          "height": 465,
          "referenced_widgets": [
            "15f489f484e646a9b7ba27a650ac5bda",
            "1da13a1ce6a24712ac0e8239dc400539",
            "9dc97d273f544a35aba0a6144b3be7f8",
            "56eef2b8f70d41679aafe6672fd3e30b",
            "99654ef541a142c3b77804e9e70508b7",
            "9145e0413ed54d99a33748bf11974e7b",
            "dc7a1e994e6a45239e3f80f326c50809",
            "25e87117d29142ea95c04eb4d9d1d775"
          ]
        }
      },
      "source": [
        "alpha = make_alpha(opt)\n",
        "beta = make_alpha(opt)\n",
        "alpha_frames = train_alpha(opt, model_x2y, model_y2x, model_xGz, model_yGz, model_x2y_zGw, model_x2y_wGz, \n",
        "                           model_y2x_zGw, model_y2x_wGz, model_zGw, alpha, beta, scm, \n",
        "                           opt.PARAM_DISTRY, opt.DISTR_FOR_Z, opt.DISTR_FOR_W, \n",
        "                           opt.PARAM_SAMPLER, mdn_nll,auc_transfer_metric, mixmode='logmix')"
      ],
      "execution_count": 203,
      "outputs": [
        {
          "output_type": "stream",
          "text": [
            "/usr/local/lib/python3.6/dist-packages/ipykernel_launcher.py:360: TqdmDeprecationWarning: Please use `tqdm.notebook.trange` instead of `tqdm.tnrange`\n"
          ],
          "name": "stderr"
        },
        {
          "output_type": "display_data",
          "data": {
            "application/vnd.jupyter.widget-view+json": {
              "model_id": "15f489f484e646a9b7ba27a650ac5bda",
              "version_minor": 0,
              "version_major": 2
            },
            "text/plain": [
              "HBox(children=(FloatProgress(value=0.0, max=500.0), HTML(value='')))"
            ]
          },
          "metadata": {
            "tags": []
          }
        },
        {
          "output_type": "error",
          "ename": "KeyboardInterrupt",
          "evalue": "ignored",
          "traceback": [
            "\u001b[0;31m---------------------------------------------------------------------------\u001b[0m",
            "\u001b[0;31mKeyboardInterrupt\u001b[0m                         Traceback (most recent call last)",
            "\u001b[0;32m<ipython-input-203-55d13cbaea0b>\u001b[0m in \u001b[0;36m<module>\u001b[0;34m()\u001b[0m\n\u001b[1;32m      4\u001b[0m                            \u001b[0mmodel_y2x_zGw\u001b[0m\u001b[0;34m,\u001b[0m \u001b[0mmodel_y2x_wGz\u001b[0m\u001b[0;34m,\u001b[0m \u001b[0mmodel_zGw\u001b[0m\u001b[0;34m,\u001b[0m \u001b[0malpha\u001b[0m\u001b[0;34m,\u001b[0m \u001b[0mbeta\u001b[0m\u001b[0;34m,\u001b[0m \u001b[0mscm\u001b[0m\u001b[0;34m,\u001b[0m\u001b[0;34m\u001b[0m\u001b[0;34m\u001b[0m\u001b[0m\n\u001b[1;32m      5\u001b[0m                            \u001b[0mopt\u001b[0m\u001b[0;34m.\u001b[0m\u001b[0mPARAM_DISTRY\u001b[0m\u001b[0;34m,\u001b[0m \u001b[0mopt\u001b[0m\u001b[0;34m.\u001b[0m\u001b[0mDISTR_FOR_Z\u001b[0m\u001b[0;34m,\u001b[0m \u001b[0mopt\u001b[0m\u001b[0;34m.\u001b[0m\u001b[0mDISTR_FOR_W\u001b[0m\u001b[0;34m,\u001b[0m\u001b[0;34m\u001b[0m\u001b[0;34m\u001b[0m\u001b[0m\n\u001b[0;32m----> 6\u001b[0;31m                            opt.PARAM_SAMPLER, mdn_nll,auc_transfer_metric, mixmode='logmix')\n\u001b[0m",
            "\u001b[0;32m<ipython-input-202-2ffa40b18cb9>\u001b[0m in \u001b[0;36mtrain_alpha\u001b[0;34m(opt, model_x2y, model_y2x, model_xGz, model_yGz, model_x2y_wGz, model_x2y_zGw, model_y2x_wGz, model_y2x_zGw, model_zGw, alpha, beta, gt_scm, distr, Z_distr_fn, W_distr_fn, sweep_distr, nll, transfer_metric, mixmode)\u001b[0m\n\u001b[1;32m    376\u001b[0m         \u001b[0;31m# Evaluate performance\u001b[0m\u001b[0;34m\u001b[0m\u001b[0;34m\u001b[0m\u001b[0;34m\u001b[0m\u001b[0m\n\u001b[1;32m    377\u001b[0m         \u001b[0mmetric_x2y\u001b[0m \u001b[0;34m=\u001b[0m \u001b[0mtransfer_metric\u001b[0m\u001b[0;34m(\u001b[0m\u001b[0mopt\u001b[0m\u001b[0;34m,\u001b[0m \u001b[0mmodel_x2y\u001b[0m\u001b[0;34m,\u001b[0m \u001b[0mmodel_xGz\u001b[0m\u001b[0;34m,\u001b[0m \u001b[0mmodel_x2y_wGz\u001b[0m\u001b[0;34m,\u001b[0m \u001b[0mmodel_x2y_zGw\u001b[0m\u001b[0;34m,\u001b[0m \u001b[0mX_gt\u001b[0m\u001b[0;34m,\u001b[0m \u001b[0mY_gt\u001b[0m\u001b[0;34m,\u001b[0m \u001b[0mW\u001b[0m\u001b[0;34m,\u001b[0m \u001b[0mnll\u001b[0m\u001b[0;34m)\u001b[0m\u001b[0;34m\u001b[0m\u001b[0;34m\u001b[0m\u001b[0m\n\u001b[0;32m--> 378\u001b[0;31m         \u001b[0mmetric_y2x\u001b[0m \u001b[0;34m=\u001b[0m \u001b[0mtransfer_metric\u001b[0m\u001b[0;34m(\u001b[0m\u001b[0mopt\u001b[0m\u001b[0;34m,\u001b[0m \u001b[0mmodel_y2x\u001b[0m\u001b[0;34m,\u001b[0m \u001b[0mmodel_yGz\u001b[0m\u001b[0;34m,\u001b[0m \u001b[0mmodel_y2x_wGz\u001b[0m\u001b[0;34m,\u001b[0m \u001b[0mmodel_y2x_zGw\u001b[0m\u001b[0;34m,\u001b[0m \u001b[0mY_gt\u001b[0m\u001b[0;34m,\u001b[0m \u001b[0mX_gt\u001b[0m\u001b[0;34m,\u001b[0m \u001b[0mW\u001b[0m\u001b[0;34m,\u001b[0m \u001b[0mnll\u001b[0m\u001b[0;34m)\u001b[0m\u001b[0;34m\u001b[0m\u001b[0;34m\u001b[0m\u001b[0m\n\u001b[0m\u001b[1;32m    379\u001b[0m         \u001b[0mmetric_ind\u001b[0m \u001b[0;34m=\u001b[0m \u001b[0mtransfer_ind\u001b[0m\u001b[0;34m(\u001b[0m\u001b[0mopt\u001b[0m\u001b[0;34m,\u001b[0m \u001b[0mmodel_xGz\u001b[0m\u001b[0;34m,\u001b[0m \u001b[0mmodel_yGz\u001b[0m\u001b[0;34m,\u001b[0m \u001b[0mmodel_zGw\u001b[0m\u001b[0;34m,\u001b[0m \u001b[0mW\u001b[0m\u001b[0;34m,\u001b[0m \u001b[0mX_gt\u001b[0m\u001b[0;34m,\u001b[0m \u001b[0mY_gt\u001b[0m\u001b[0;34m)\u001b[0m\u001b[0;34m\u001b[0m\u001b[0;34m\u001b[0m\u001b[0m\n\u001b[1;32m    380\u001b[0m         \u001b[0;31m# Estimate gradient\u001b[0m\u001b[0;34m\u001b[0m\u001b[0;34m\u001b[0m\u001b[0;34m\u001b[0m\u001b[0m\n",
            "\u001b[0;32m<ipython-input-202-2ffa40b18cb9>\u001b[0m in \u001b[0;36mauc_transfer_metric\u001b[0;34m(opt, model, modelC, model_wGz, model_zGw, inp, tar, W, nll)\u001b[0m\n\u001b[1;32m    297\u001b[0m \u001b[0;32mdef\u001b[0m \u001b[0mauc_transfer_metric\u001b[0m\u001b[0;34m(\u001b[0m\u001b[0mopt\u001b[0m\u001b[0;34m,\u001b[0m \u001b[0mmodel\u001b[0m\u001b[0;34m,\u001b[0m \u001b[0mmodelC\u001b[0m\u001b[0;34m,\u001b[0m \u001b[0mmodel_wGz\u001b[0m\u001b[0;34m,\u001b[0m \u001b[0mmodel_zGw\u001b[0m\u001b[0;34m,\u001b[0m \u001b[0minp\u001b[0m\u001b[0;34m,\u001b[0m \u001b[0mtar\u001b[0m\u001b[0;34m,\u001b[0m \u001b[0mW\u001b[0m\u001b[0;34m,\u001b[0m \u001b[0mnll\u001b[0m\u001b[0;34m)\u001b[0m\u001b[0;34m:\u001b[0m\u001b[0;34m\u001b[0m\u001b[0;34m\u001b[0m\u001b[0m\n\u001b[1;32m    298\u001b[0m     \u001b[0;31m# Tune\u001b[0m\u001b[0;34m\u001b[0m\u001b[0;34m\u001b[0m\u001b[0;34m\u001b[0m\u001b[0m\n\u001b[0;32m--> 299\u001b[0;31m     \u001b[0mlosses\u001b[0m \u001b[0;34m=\u001b[0m \u001b[0mtransfer_tune\u001b[0m\u001b[0;34m(\u001b[0m\u001b[0mopt\u001b[0m\u001b[0;34m,\u001b[0m \u001b[0mmodel\u001b[0m\u001b[0;34m,\u001b[0m \u001b[0mmodelC\u001b[0m\u001b[0;34m,\u001b[0m \u001b[0mmodel_wGz\u001b[0m\u001b[0;34m,\u001b[0m \u001b[0mmodel_zGw\u001b[0m\u001b[0;34m,\u001b[0m \u001b[0minp\u001b[0m\u001b[0;34m,\u001b[0m \u001b[0mtar\u001b[0m\u001b[0;34m,\u001b[0m \u001b[0mW\u001b[0m\u001b[0;34m,\u001b[0m \u001b[0mnll\u001b[0m\u001b[0;34m)\u001b[0m\u001b[0;34m\u001b[0m\u001b[0;34m\u001b[0m\u001b[0m\n\u001b[0m\u001b[1;32m    300\u001b[0m     \u001b[0;31m# Compute the integral of the loss curve\u001b[0m\u001b[0;34m\u001b[0m\u001b[0;34m\u001b[0m\u001b[0;34m\u001b[0m\u001b[0m\n\u001b[1;32m    301\u001b[0m     \u001b[0;32mreturn\u001b[0m \u001b[0msum\u001b[0m\u001b[0;34m(\u001b[0m\u001b[0mlosses\u001b[0m\u001b[0;34m)\u001b[0m\u001b[0;34m\u001b[0m\u001b[0;34m\u001b[0m\u001b[0m\n",
            "\u001b[0;32m<ipython-input-202-2ffa40b18cb9>\u001b[0m in \u001b[0;36mtransfer_tune\u001b[0;34m(opt, model, model_g, model_wGz, model_zGw, inp, tar, W, nll)\u001b[0m\n\u001b[1;32m    289\u001b[0m         \u001b[0;31m#loss_conditional = nll(prd, tar)\u001b[0m\u001b[0;34m\u001b[0m\u001b[0;34m\u001b[0m\u001b[0;34m\u001b[0m\u001b[0m\n\u001b[1;32m    290\u001b[0m         \u001b[0moptim_model\u001b[0m\u001b[0;34m.\u001b[0m\u001b[0mzero_grad\u001b[0m\u001b[0;34m(\u001b[0m\u001b[0;34m)\u001b[0m\u001b[0;34m\u001b[0m\u001b[0;34m\u001b[0m\u001b[0m\n\u001b[0;32m--> 291\u001b[0;31m         \u001b[0mloss_conditional\u001b[0m\u001b[0;34m.\u001b[0m\u001b[0mbackward\u001b[0m\u001b[0;34m(\u001b[0m\u001b[0;34m)\u001b[0m\u001b[0;34m\u001b[0m\u001b[0;34m\u001b[0m\u001b[0m\n\u001b[0m\u001b[1;32m    292\u001b[0m         \u001b[0moptim_model\u001b[0m\u001b[0;34m.\u001b[0m\u001b[0mstep\u001b[0m\u001b[0;34m(\u001b[0m\u001b[0;34m)\u001b[0m\u001b[0;34m\u001b[0m\u001b[0;34m\u001b[0m\u001b[0m\n\u001b[1;32m    293\u001b[0m         \u001b[0mjoint_losses\u001b[0m\u001b[0;34m.\u001b[0m\u001b[0mappend\u001b[0m\u001b[0;34m(\u001b[0m\u001b[0mloss_conditional\u001b[0m\u001b[0;34m.\u001b[0m\u001b[0mitem\u001b[0m\u001b[0;34m(\u001b[0m\u001b[0;34m)\u001b[0m \u001b[0;34m+\u001b[0m \u001b[0mloss_marginal\u001b[0m\u001b[0;34m)\u001b[0m\u001b[0;34m\u001b[0m\u001b[0;34m\u001b[0m\u001b[0m\n",
            "\u001b[0;32m/usr/local/lib/python3.6/dist-packages/torch/tensor.py\u001b[0m in \u001b[0;36mbackward\u001b[0;34m(self, gradient, retain_graph, create_graph)\u001b[0m\n\u001b[1;32m    100\u001b[0m                 \u001b[0mproducts\u001b[0m\u001b[0;34m.\u001b[0m \u001b[0mDefaults\u001b[0m \u001b[0mto\u001b[0m\u001b[0;31m \u001b[0m\u001b[0;31m`\u001b[0m\u001b[0;31m`\u001b[0m\u001b[0;32mFalse\u001b[0m\u001b[0;31m`\u001b[0m\u001b[0;31m`\u001b[0m\u001b[0;34m.\u001b[0m\u001b[0;34m\u001b[0m\u001b[0;34m\u001b[0m\u001b[0m\n\u001b[1;32m    101\u001b[0m         \"\"\"\n\u001b[0;32m--> 102\u001b[0;31m         \u001b[0mtorch\u001b[0m\u001b[0;34m.\u001b[0m\u001b[0mautograd\u001b[0m\u001b[0;34m.\u001b[0m\u001b[0mbackward\u001b[0m\u001b[0;34m(\u001b[0m\u001b[0mself\u001b[0m\u001b[0;34m,\u001b[0m \u001b[0mgradient\u001b[0m\u001b[0;34m,\u001b[0m \u001b[0mretain_graph\u001b[0m\u001b[0;34m,\u001b[0m \u001b[0mcreate_graph\u001b[0m\u001b[0;34m)\u001b[0m\u001b[0;34m\u001b[0m\u001b[0;34m\u001b[0m\u001b[0m\n\u001b[0m\u001b[1;32m    103\u001b[0m \u001b[0;34m\u001b[0m\u001b[0m\n\u001b[1;32m    104\u001b[0m     \u001b[0;32mdef\u001b[0m \u001b[0mregister_hook\u001b[0m\u001b[0;34m(\u001b[0m\u001b[0mself\u001b[0m\u001b[0;34m,\u001b[0m \u001b[0mhook\u001b[0m\u001b[0;34m)\u001b[0m\u001b[0;34m:\u001b[0m\u001b[0;34m\u001b[0m\u001b[0;34m\u001b[0m\u001b[0m\n",
            "\u001b[0;32m/usr/local/lib/python3.6/dist-packages/torch/autograd/__init__.py\u001b[0m in \u001b[0;36mbackward\u001b[0;34m(tensors, grad_tensors, retain_graph, create_graph, grad_variables)\u001b[0m\n\u001b[1;32m     88\u001b[0m     Variable._execution_engine.run_backward(\n\u001b[1;32m     89\u001b[0m         \u001b[0mtensors\u001b[0m\u001b[0;34m,\u001b[0m \u001b[0mgrad_tensors\u001b[0m\u001b[0;34m,\u001b[0m \u001b[0mretain_graph\u001b[0m\u001b[0;34m,\u001b[0m \u001b[0mcreate_graph\u001b[0m\u001b[0;34m,\u001b[0m\u001b[0;34m\u001b[0m\u001b[0;34m\u001b[0m\u001b[0m\n\u001b[0;32m---> 90\u001b[0;31m         allow_unreachable=True)  # allow_unreachable flag\n\u001b[0m\u001b[1;32m     91\u001b[0m \u001b[0;34m\u001b[0m\u001b[0m\n\u001b[1;32m     92\u001b[0m \u001b[0;34m\u001b[0m\u001b[0m\n",
            "\u001b[0;31mKeyboardInterrupt\u001b[0m: "
          ]
        }
      ]
    },
    {
      "cell_type": "code",
      "metadata": {
        "id": "-H8F3lLs2PVJ"
      },
      "source": [
        "betas = np.asarray([frame.sig_beta for frame in alpha_frames])\n",
        "\n",
        "fig = plt.figure(figsize=(9, 5))\n",
        "ax = plt.subplot(1, 1, 1)\n",
        "\n",
        "ax.tick_params(axis='both', which='major', labelsize=13)\n",
        "ax.axhline(1, c='lightgray', ls='--')\n",
        "ax.axhline(0, c='lightgray', ls='--')\n",
        "ax.plot(alphas, lw=2, color='k', label='No causality')\n",
        "\n",
        "ax.set_xlim([0, opt.ALPHA_NUM_ITER - 1])\n",
        "ax.set_xlabel('Number of episodes', fontsize=14)\n",
        "ax.set_ylabel(r'$\\sigma(\\gamma)$', fontsize=14)\n",
        "ax.legend(loc=4, prop={'size': 13})\n",
        "\n",
        "plt.show()"
      ],
      "execution_count": null,
      "outputs": []
    },
    {
      "cell_type": "code",
      "metadata": {
        "id": "ZfXmFIzw2Prf"
      },
      "source": [
        "alphas = np.asarray([frame.sig_alpha for frame in alpha_frames])\n",
        "\n",
        "fig = plt.figure(figsize=(9, 5))\n",
        "ax = plt.subplot(1, 1, 1)\n",
        "\n",
        "ax.tick_params(axis='both', which='major', labelsize=13)\n",
        "ax.axhline(1, c='lightgray', ls='--')\n",
        "ax.axhline(0, c='lightgray', ls='--')\n",
        "ax.plot(alphas, lw=2, color='k', label='No causality'.format(10))\n",
        "\n",
        "ax.set_xlim([0, opt.ALPHA_NUM_ITER - 1])\n",
        "ax.set_xlabel('Number of episodes', fontsize=14)\n",
        "ax.set_ylabel(r'$\\sigma(\\gamma)$', fontsize=14)\n",
        "ax.legend(loc=4, prop={'size': 13})\n",
        "\n",
        "plt.show()"
      ],
      "execution_count": null,
      "outputs": []
    },
    {
      "cell_type": "code",
      "metadata": {
        "id": "RV45GhlkzW_Y",
        "outputId": "17625d34-c196-4789-9afc-503fde16d01c",
        "colab": {
          "base_uri": "https://localhost:8080/",
          "height": 343
        }
      },
      "source": [
        "alphas = np.asarray([frame.sig_alpha for frame in alpha_frames])\n",
        "\n",
        "fig = plt.figure(figsize=(9, 5))\n",
        "ax = plt.subplot(1, 1, 1)\n",
        "\n",
        "ax.tick_params(axis='both', which='major', labelsize=13)\n",
        "ax.axhline(1, c='lightgray', ls='--')\n",
        "ax.axhline(0, c='lightgray', ls='--')\n",
        "ax.plot(alphas, lw=2, color='k', label='N = {0}'.format(10))\n",
        "\n",
        "ax.set_xlim([0, opt.ALPHA_NUM_ITER - 1])\n",
        "ax.set_xlabel('Number of episodes', fontsize=14)\n",
        "ax.set_ylabel(r'$\\sigma(\\gamma)$', fontsize=14)\n",
        "ax.legend(loc=4, prop={'size': 13})\n",
        "\n",
        "plt.show()"
      ],
      "execution_count": null,
      "outputs": [
        {
          "output_type": "display_data",
          "data": {
            "image/png": "[encoded data removed]",
            "text/plain": [
              "<Figure size 648x360 with 1 Axes>"
            ]
          },
          "metadata": {
            "tags": [],
            "needs_background": "light"
          }
        }
      ]
    },
    {
      "cell_type": "code",
      "metadata": {
        "id": "ZHAad-fIY2zr",
        "outputId": "97b50d9c-3ee4-4053-e89c-832ec061a45e",
        "colab": {
          "base_uri": "https://localhost:8080/"
        }
      },
      "source": [
        "alphas"
      ],
      "execution_count": null,
      "outputs": [
        {
          "output_type": "execute_result",
          "data": {
            "text/plain": [
              "array([0.5025    , 0.50500017, 0.50750059, 0.51000142, 0.51250261,\n",
              "       0.5150044 , 0.51750672, 0.52000964, 0.52251333, 0.52501774,\n",
              "       0.52752292, 0.530029  , 0.53253591, 0.53504378, 0.53755254,\n",
              "       0.54006225, 0.54257292, 0.54508454, 0.54759711, 0.55011052,\n",
              "       0.55262494, 0.5551402 , 0.55765629, 0.56017321, 0.56269085,\n",
              "       0.56520915, 0.56772816, 0.57024765, 0.57276762, 0.575288  ,\n",
              "       0.57780874, 0.58032966, 0.58285064, 0.58537167, 0.58789259,\n",
              "       0.59041327, 0.59293365, 0.59545356, 0.59797287, 0.60049146,\n",
              "       0.60300916, 0.60552591, 0.60804147, 0.61055577, 0.61306864,\n",
              "       0.6155799 , 0.61808944, 0.62059712, 0.62310272, 0.62560606,\n",
              "       0.62810713, 0.63060558, 0.63310134, 0.63559431, 0.63808417,\n",
              "       0.64057094, 0.64305425, 0.64553404, 0.64801025, 0.65048248,\n",
              "       0.6529507 , 0.65541476, 0.65787441, 0.66032958, 0.66277999,\n",
              "       0.66522557, 0.66766602, 0.6701014 , 0.67253131, 0.67495573,\n",
              "       0.67737442, 0.67978728, 0.68219405, 0.68459463, 0.68698889,\n",
              "       0.68937665, 0.69175774, 0.69413203, 0.69649935, 0.69885945,\n",
              "       0.70121241, 0.70355779, 0.7058956 , 0.70822579, 0.71054804,\n",
              "       0.71286231, 0.71516842, 0.71746618, 0.71975553, 0.72203636,\n",
              "       0.72430837, 0.72657162, 0.72882593, 0.73107117, 0.73330712,\n",
              "       0.73553377, 0.73775095, 0.73995852, 0.74215645, 0.74434453,\n",
              "       0.74652272, 0.74869084, 0.75084901, 0.75299674, 0.75513422,\n",
              "       0.75726128, 0.75937778, 0.76148361, 0.76357877, 0.76566315,\n",
              "       0.76773661, 0.76979911, 0.77185059, 0.77389085, 0.77592003,\n",
              "       0.77793783, 0.7799443 , 0.78193939, 0.78392291, 0.78589493,\n",
              "       0.78785539, 0.78980416, 0.79174119, 0.79366642, 0.79557985,\n",
              "       0.79748142, 0.79937106, 0.80124873, 0.80311441, 0.80496812,\n",
              "       0.80680966, 0.80863911, 0.81045651, 0.81226164, 0.81405467,\n",
              "       0.81583548, 0.81760401, 0.81936026, 0.82110435, 0.82283604,\n",
              "       0.82455552, 0.82626271, 0.82795751, 0.82964003, 0.83131015,\n",
              "       0.83296812, 0.83461368, 0.83624697, 0.83786792, 0.83947659,\n",
              "       0.84107292, 0.84265697, 0.84422874, 0.8457883 , 0.84733558,\n",
              "       0.84887069, 0.85039359, 0.85190433, 0.85340285, 0.85488927,\n",
              "       0.85636359, 0.85782588, 0.85927606, 0.86071432, 0.86214048,\n",
              "       0.86355484, 0.86495727, 0.86634779, 0.86772639, 0.86909336,\n",
              "       0.87044841, 0.87179184, 0.87312365, 0.87444383, 0.87575239,\n",
              "       0.87704957, 0.87833512, 0.87960935, 0.88087207, 0.88212359,\n",
              "       0.88336378, 0.88459283, 0.88581061, 0.88701743, 0.8882131 ,\n",
              "       0.8893978 , 0.89057159, 0.89173448, 0.89288652, 0.89402789,\n",
              "       0.89515847, 0.89627844, 0.89738792, 0.89848679, 0.89957529,\n",
              "       0.90065336, 0.90172112, 0.90277869, 0.903826  , 0.90486324,\n",
              "       0.90589035, 0.9069075 , 0.90791482, 0.90891218, 0.90989977,\n",
              "       0.9108777 , 0.91184598, 0.91280454, 0.91375369, 0.91469347,\n",
              "       0.91562378, 0.91654474, 0.91745645, 0.9183591 , 0.91925257,\n",
              "       0.92013705, 0.92101252, 0.92187917, 0.92273694, 0.92358595,\n",
              "       0.92442626, 0.92525798, 0.92608118, 0.92689592, 0.92770219,\n",
              "       0.92850018, 0.92928982, 0.93007129, 0.9308446 , 0.93160993,\n",
              "       0.93236727, 0.93311661, 0.93385816, 0.93459189, 0.93531787,\n",
              "       0.93603623, 0.93674701, 0.93745017, 0.938146  , 0.93883449,\n",
              "       0.93951553, 0.9401893 , 0.94085598, 0.94151556, 0.942168  ,\n",
              "       0.94281352, 0.94345206, 0.94408375, 0.9447087 , 0.94532681,\n",
              "       0.94593835, 0.94654328, 0.94714165, 0.94773346, 0.9483189 ,\n",
              "       0.94889808, 0.94947082, 0.95003742, 0.95059776, 0.95115203,\n",
              "       0.95170027, 0.95224249, 0.95277888, 0.95330918, 0.95383382,\n",
              "       0.95435262, 0.95486581, 0.95537323, 0.95587522, 0.95637161,\n",
              "       0.95686239, 0.95734793, 0.95782804, 0.9583028 , 0.95877236,\n",
              "       0.95923668, 0.95969594, 0.96015   , 0.96059906, 0.96104312,\n",
              "       0.96148217, 0.96191645, 0.96234584, 0.9627704 , 0.96319026,\n",
              "       0.96360552, 0.96401602, 0.96442199, 0.96482331, 0.96522027,\n",
              "       0.96561271, 0.9660008 , 0.96638453, 0.96676397, 0.96713912,\n",
              "       0.96751004, 0.96787685, 0.96823949, 0.96859813, 0.96895254,\n",
              "       0.96930313, 0.96964979, 0.9699924 , 0.97033125, 0.97066629,\n",
              "       0.97099757, 0.97132504, 0.97164887, 0.97196895, 0.97228551,\n",
              "       0.97259843, 0.97290784, 0.97321373, 0.97351623, 0.9738152 ,\n",
              "       0.97411084, 0.97440308, 0.97469217, 0.97497785, 0.9752602 ,\n",
              "       0.97553957, 0.97581565, 0.97608858, 0.97635841, 0.9766252 ,\n",
              "       0.97688895, 0.97714978, 0.97740752, 0.9776625 , 0.97791445,\n",
              "       0.9781636 , 0.97840983, 0.97865343, 0.97889417, 0.97913206,\n",
              "       0.97936743, 0.97960001, 0.97982991, 0.98005724, 0.98028207,\n",
              "       0.98050427, 0.98072386, 0.98094112, 0.98115575, 0.98136812,\n",
              "       0.98157793, 0.98178536, 0.9819904 , 0.98219323, 0.98239362,\n",
              "       0.98259175, 0.98278773, 0.98298138, 0.98317289, 0.98336214,\n",
              "       0.98354924, 0.98373425, 0.98391712, 0.98409802, 0.98427677,\n",
              "       0.9844535 , 0.9846282 , 0.98480093, 0.98497158, 0.98514044,\n",
              "       0.98530734, 0.98547226, 0.9856354 , 0.98579663, 0.98595607,\n",
              "       0.98611361, 0.98626941, 0.98642343, 0.98657578, 0.98672628,\n",
              "       0.98687512, 0.98702222, 0.98716766, 0.98731148, 0.98745358,\n",
              "       0.98759419, 0.98773313, 0.98787051, 0.98800629, 0.98814046,\n",
              "       0.98827332, 0.98840439, 0.98853415, 0.98866242, 0.9887892 ,\n",
              "       0.98891455, 0.98903847, 0.98916107, 0.98928213, 0.98940188,\n",
              "       0.98952031, 0.98963732, 0.98975301, 0.98986745, 0.98998052,\n",
              "       0.99009234, 0.9902029 , 0.99031222, 0.99042028, 0.99052703,\n",
              "       0.99063265, 0.99073714, 0.99084038, 0.99094242, 0.99104333,\n",
              "       0.99114311, 0.99124169, 0.99133915, 0.99143559, 0.9915309 ,\n",
              "       0.99162513, 0.99171829, 0.9918105 , 0.99190146, 0.99199158,\n",
              "       0.99208051, 0.99216861, 0.99225557, 0.99234164, 0.99242663,\n",
              "       0.9925108 , 0.99259394, 0.99267608, 0.99275732, 0.99283773,\n",
              "       0.99291718, 0.99299568, 0.9930734 , 0.99315017, 0.99322611,\n",
              "       0.99330115, 0.99337536, 0.99344879, 0.99352127, 0.99359304,\n",
              "       0.99366391, 0.99373406, 0.99380338, 0.99387193, 0.99393976,\n",
              "       0.99400675, 0.99407297, 0.99413848, 0.99420327, 0.9942674 ,\n",
              "       0.99433064, 0.99439323, 0.99445528, 0.99451643, 0.99457693,\n",
              "       0.99463683, 0.99469596, 0.99475443, 0.99481237, 0.99486947,\n",
              "       0.9949261 , 0.99498206, 0.99503726, 0.99509192, 0.99514598,\n",
              "       0.99519944, 0.99525237, 0.99530458, 0.99535626, 0.99540734,\n",
              "       0.99545789, 0.99550784, 0.99555725, 0.99560601, 0.99565434,\n",
              "       0.99570209, 0.99574935, 0.99579608, 0.99584216, 0.99588794,\n",
              "       0.995933  , 0.9959777 , 0.99602181, 0.99606544, 0.99610859,\n",
              "       0.99615127, 0.99619353, 0.99623519, 0.99627644, 0.99631727,\n",
              "       0.99635762, 0.99639755, 0.99643695, 0.99647599, 0.99651462,\n",
              "       0.99655271, 0.9965905 , 0.99662775, 0.99666458, 0.99670106])"
            ]
          },
          "metadata": {
            "tags": []
          },
          "execution_count": 25
        }
      ]
    },
    {
      "cell_type": "code",
      "metadata": {
        "id": "0RCgReBZT8sM",
        "outputId": "d54e484e-e493-4466-cd6a-ad00c8abb2f9",
        "colab": {
          "base_uri": "https://localhost:8080/"
        }
      },
      "source": [
        "torch.exp(torch.distributions.Normal(0, 1).log_prob(torch.tensor(0)))"
      ],
      "execution_count": null,
      "outputs": [
        {
          "output_type": "execute_result",
          "data": {
            "text/plain": [
              "tensor(0.3989)"
            ]
          },
          "metadata": {
            "tags": []
          },
          "execution_count": 26
        }
      ]
    },
    {
      "cell_type": "code",
      "metadata": {
        "id": "s5IqzMELmWcE"
      },
      "source": [
        "torch.distributions.Normal(3, 10).sample()"
      ],
      "execution_count": null,
      "outputs": []
    },
    {
      "cell_type": "code",
      "metadata": {
        "id": "vK4zWpe9tkMq",
        "outputId": "a49ed4c4-6bbc-49e7-c072-85e1c7f3e18b",
        "colab": {
          "base_uri": "https://localhost:8080/"
        }
      },
      "source": [
        "W = opt.DISTR_FOR_Z()\n",
        "torch.cat([W for i in range(3)], 0).shape"
      ],
      "execution_count": null,
      "outputs": [
        {
          "output_type": "execute_result",
          "data": {
            "text/plain": [
              "torch.Size([3000, 1])"
            ]
          },
          "metadata": {
            "tags": []
          },
          "execution_count": 32
        }
      ]
    },
    {
      "cell_type": "code",
      "metadata": {
        "id": "dg3R8tgvlDxc",
        "outputId": "1f3ee163-0435-4035-88b7-e2535ca53285",
        "colab": {
          "base_uri": "https://localhost:8080/"
        }
      },
      "source": [
        "a = torch.distributions.Normal(0, 1).sample((10, 1)) \n",
        "g = torch.Tensor([1,2, 3, 4, 5]).reshape(-1, 1) #.reshape(-1, 1)\n",
        "b = torch.cat([a for i in range(5)], 1)\n",
        "b.reshape(-1, 1)[0]\n",
        "\n",
        "l = torch.matmul(a, g.reshape(1, -1))\n",
        "h = torch.Tensor([1,2, 3, 4, 5]).reshape(-1, 1)\n",
        "l = l + torch.cat([h.reshape(1, -1) for i in range(10)], 0)\n",
        "l"
      ],
      "execution_count": null,
      "outputs": [
        {
          "output_type": "execute_result",
          "data": {
            "text/plain": [
              "tensor([[ 1.2846,  2.5692,  3.8538,  5.1383,  6.4229],\n",
              "        [ 1.3914,  2.7829,  4.1743,  5.5658,  6.9572],\n",
              "        [ 1.3097,  2.6195,  3.9292,  5.2390,  6.5487],\n",
              "        [ 2.5245,  5.0491,  7.5736, 10.0982, 12.6227],\n",
              "        [ 0.3886,  0.7772,  1.1659,  1.5545,  1.9431],\n",
              "        [ 1.7679,  3.5358,  5.3037,  7.0717,  8.8396],\n",
              "        [-0.0694, -0.1389, -0.2083, -0.2778, -0.3472],\n",
              "        [-0.6110, -1.2221, -1.8331, -2.4442, -3.0552],\n",
              "        [-0.0453, -0.0905, -0.1358, -0.1811, -0.2263],\n",
              "        [ 1.8414,  3.6827,  5.5241,  7.3655,  9.2068]])"
            ]
          },
          "metadata": {
            "tags": []
          },
          "execution_count": 86
        }
      ]
    },
    {
      "cell_type": "code",
      "metadata": {
        "id": "9eTey5hW44IK",
        "outputId": "7c936167-1507-4d2e-d785-6a36057e995c",
        "colab": {
          "base_uri": "https://localhost:8080/"
        }
      },
      "source": [
        "l.reshape(-1, 1)"
      ],
      "execution_count": null,
      "outputs": [
        {
          "output_type": "execute_result",
          "data": {
            "text/plain": [
              "tensor([[ 1.2846],\n",
              "        [ 2.5692],\n",
              "        [ 3.8538],\n",
              "        [ 5.1383],\n",
              "        [ 6.4229],\n",
              "        [ 1.3914],\n",
              "        [ 2.7829],\n",
              "        [ 4.1743],\n",
              "        [ 5.5658],\n",
              "        [ 6.9572],\n",
              "        [ 1.3097],\n",
              "        [ 2.6195],\n",
              "        [ 3.9292],\n",
              "        [ 5.2390],\n",
              "        [ 6.5487],\n",
              "        [ 2.5245],\n",
              "        [ 5.0491],\n",
              "        [ 7.5736],\n",
              "        [10.0982],\n",
              "        [12.6227],\n",
              "        [ 0.3886],\n",
              "        [ 0.7772],\n",
              "        [ 1.1659],\n",
              "        [ 1.5545],\n",
              "        [ 1.9431],\n",
              "        [ 1.7679],\n",
              "        [ 3.5358],\n",
              "        [ 5.3037],\n",
              "        [ 7.0717],\n",
              "        [ 8.8396],\n",
              "        [-0.0694],\n",
              "        [-0.1389],\n",
              "        [-0.2083],\n",
              "        [-0.2778],\n",
              "        [-0.3472],\n",
              "        [-0.6110],\n",
              "        [-1.2221],\n",
              "        [-1.8331],\n",
              "        [-2.4442],\n",
              "        [-3.0552],\n",
              "        [-0.0453],\n",
              "        [-0.0905],\n",
              "        [-0.1358],\n",
              "        [-0.1811],\n",
              "        [-0.2263],\n",
              "        [ 1.8414],\n",
              "        [ 3.6827],\n",
              "        [ 5.5241],\n",
              "        [ 7.3655],\n",
              "        [ 9.2068]])"
            ]
          },
          "metadata": {
            "tags": []
          },
          "execution_count": 87
        }
      ]
    },
    {
      "cell_type": "code",
      "metadata": {
        "id": "i_z7V1_j7iUH",
        "outputId": "ef5fff00-afa8-4684-fe6c-cfef8a2ef153",
        "colab": {
          "base_uri": "https://localhost:8080/"
        }
      },
      "source": [
        "h = torch.Tensor([1,2, 3, 4, 5]).reshape(-1, 1)\n",
        "torch.cat([h.reshape(1, -1) for i in range(10)], 0)"
      ],
      "execution_count": null,
      "outputs": [
        {
          "output_type": "execute_result",
          "data": {
            "text/plain": [
              "tensor([[1., 2., 3., 4., 5.],\n",
              "        [1., 2., 3., 4., 5.],\n",
              "        [1., 2., 3., 4., 5.],\n",
              "        [1., 2., 3., 4., 5.],\n",
              "        [1., 2., 3., 4., 5.],\n",
              "        [1., 2., 3., 4., 5.],\n",
              "        [1., 2., 3., 4., 5.],\n",
              "        [1., 2., 3., 4., 5.],\n",
              "        [1., 2., 3., 4., 5.],\n",
              "        [1., 2., 3., 4., 5.]])"
            ]
          },
          "metadata": {
            "tags": []
          },
          "execution_count": 85
        }
      ]
    },
    {
      "cell_type": "code",
      "metadata": {
        "id": "c2Ewz1brDWwQ",
        "outputId": "993f3bb3-b33e-4937-deb1-783007056cb8",
        "colab": {
          "base_uri": "https://localhost:8080/"
        }
      },
      "source": [
        "h = torch.Tensor([1,2, 3, 4, 5]).reshape(-1, 1)\n",
        "torch.cat([h for i in range(10)], 0)"
      ],
      "execution_count": null,
      "outputs": [
        {
          "output_type": "execute_result",
          "data": {
            "text/plain": [
              "tensor([[1.],\n",
              "        [2.],\n",
              "        [3.],\n",
              "        [4.],\n",
              "        [5.],\n",
              "        [1.],\n",
              "        [2.],\n",
              "        [3.],\n",
              "        [4.],\n",
              "        [5.],\n",
              "        [1.],\n",
              "        [2.],\n",
              "        [3.],\n",
              "        [4.],\n",
              "        [5.],\n",
              "        [1.],\n",
              "        [2.],\n",
              "        [3.],\n",
              "        [4.],\n",
              "        [5.],\n",
              "        [1.],\n",
              "        [2.],\n",
              "        [3.],\n",
              "        [4.],\n",
              "        [5.],\n",
              "        [1.],\n",
              "        [2.],\n",
              "        [3.],\n",
              "        [4.],\n",
              "        [5.],\n",
              "        [1.],\n",
              "        [2.],\n",
              "        [3.],\n",
              "        [4.],\n",
              "        [5.],\n",
              "        [1.],\n",
              "        [2.],\n",
              "        [3.],\n",
              "        [4.],\n",
              "        [5.],\n",
              "        [1.],\n",
              "        [2.],\n",
              "        [3.],\n",
              "        [4.],\n",
              "        [5.],\n",
              "        [1.],\n",
              "        [2.],\n",
              "        [3.],\n",
              "        [4.],\n",
              "        [5.]])"
            ]
          },
          "metadata": {
            "tags": []
          },
          "execution_count": 100
        }
      ]
    },
    {
      "cell_type": "code",
      "metadata": {
        "id": "6FFtzMzFDYkD"
      },
      "source": [
        ""
      ],
      "execution_count": null,
      "outputs": []
    }
  ]
}