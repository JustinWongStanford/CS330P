{
  "nbformat": 4,
  "nbformat_minor": 0,
  "metadata": {
    "colab": {
      "name": "FCMtest.ipynb",
      "provenance": [],
      "collapsed_sections": [],
      "toc_visible": true,
      "authorship_tag": "ABX9TyPCcf3w86XZmEh4WzqBfMS1"
    },
    "kernelspec": {
      "name": "python3",
      "display_name": "Python 3"
    }
  },
  "cells": [
    {
      "cell_type": "code",
      "metadata": {
        "id": "7YGFN4-wKqM_"
      },
      "source": [
        ""
      ],
      "execution_count": null,
      "outputs": []
    },
    {
      "cell_type": "markdown",
      "metadata": {
        "id": "HQFFTDYN7-Qo"
      },
      "source": [
        "# VAE"
      ]
    },
    {
      "cell_type": "code",
      "metadata": {
        "id": "5u1EzWEq7_bo"
      },
      "source": [
        "def splitmusigma(h, dim = -1):\n",
        "  m, h = torch.split(h, h.size(dim) // 2, dim=dim)\n",
        "  v = F.softplus(h) + 1e-8\n",
        "  return m, v\n",
        "\n",
        "def kl_normal(qm, qv, pm, pv):\n",
        "    element_wise = 0.5 * (torch.log(pv) - torch.log(qv) + qv / pv + (qm - pm).pow(2) / pv - 1)\n",
        "    kl = element_wise.sum(-1)\n",
        "    return kl\n",
        "\n",
        "bce = torch.nn.BCEWithLogitsLoss(reduction='none')\n",
        "def log_bernoulli_with_logits(x, logits):\n",
        "    log_prob = -bce(input=logits, target=x).sum(-1)\n",
        "    return log_prob\n",
        "\n",
        "def sample_gaussian(m, v):\n",
        "    eps = torch.normal(mean = 0, std = torch.ones(v.shape))\n",
        "    z = m + eps * torch.sqrt(v)\n",
        "    return z\n",
        "\n",
        "class VAE(nn.Module):\n",
        "  def __init__(self, n_hidden):\n",
        "        super().__init__()\n",
        "        self.name = name\n",
        "        self.z_dim = z_dim\n",
        "       \n",
        "        self.encodenet = nn.Sequential(\n",
        "            nn.Linear(1, n_hidden),\n",
        "            nn.ELU(),\n",
        "            nn.Linear(n_hidden, 2)\n",
        "        )\n",
        "\n",
        "        self.decodenet = nn.Sequential(\n",
        "            nn.Linear(2, n_hidden),\n",
        "            nn.ELU(),\n",
        "            nn.Linear(n_hidden, 1)\n",
        "        )\n",
        "\n",
        "        self.z_prior_m = torch.nn.Parameter(torch.zeros(1), requires_grad=False)\n",
        "        self.z_prior_v = torch.nn.Parameter(torch.ones(1), requires_grad=False)\n",
        "        self.z_prior = (self.z_prior_m, self.z_prior_v)\n",
        "    \n",
        "  def encode(self, x, y = None):\n",
        "        xy = x if y is None else torch.cat((x, y), dim=1)\n",
        "        h = self.net(xy)\n",
        "        m, v = splitmusigma(h, dim=1)\n",
        "        return m, v\n",
        "\n",
        "  def decode(self, z, y=None):\n",
        "        zy = z if y is None else torch.cat((z, y), dim=1)\n",
        "        return self.decodenet(zy)\n",
        "\n",
        "  def loss(self, x):\n",
        "        st = self.encode(x)\n",
        "        kl = kl_normal(st[0], st[1], self.z_prior_m, self.z_prior_v)\n",
        "        rec = -log_bernoulli_with_logits(x, self.decode(sample_gaussian(st[0], st[1])))\n",
        "        nelbo = (kl + rec).mean()\n",
        "        return nelbo"
      ],
      "execution_count": null,
      "outputs": []
    },
    {
      "cell_type": "markdown",
      "metadata": {
        "id": "qafSafaXpFpP"
      },
      "source": [
        "# TOP"
      ]
    },
    {
      "cell_type": "code",
      "metadata": {
        "id": "0-5i9QzOSacZ",
        "outputId": "0f073f81-662c-4878-e296-e7014bb79036",
        "colab": {
          "base_uri": "https://localhost:8080/"
        }
      },
      "source": [
        "! git clone https://github.com/authors-1901-10912/A-Meta-Transfer-Objective-For-Learning-To-Disentangle-Causal-Mechanisms.git"
      ],
      "execution_count": null,
      "outputs": [
        {
          "output_type": "stream",
          "text": [
            "Cloning into 'A-Meta-Transfer-Objective-For-Learning-To-Disentangle-Causal-Mechanisms'...\n",
            "remote: Enumerating objects: 51, done.\u001b[K\n",
            "remote: Total 51 (delta 0), reused 0 (delta 0), pack-reused 51\u001b[K\n",
            "Unpacking objects: 100% (51/51), done.\n"
          ],
          "name": "stdout"
        }
      ]
    },
    {
      "cell_type": "code",
      "metadata": {
        "id": "sdh_nDYLSzcr",
        "outputId": "a0b42c22-b022-41bd-c3dd-5445e5d5bebe",
        "colab": {
          "base_uri": "https://localhost:8080/"
        }
      },
      "source": [
        "! git pull"
      ],
      "execution_count": null,
      "outputs": [
        {
          "output_type": "stream",
          "text": [
            "fatal: not a git repository (or any of the parent directories): .git\n"
          ],
          "name": "stdout"
        }
      ]
    },
    {
      "cell_type": "code",
      "metadata": {
        "id": "An2J4AXMTHns"
      },
      "source": [
        "!ln -s A-Meta-Transfer-Objective-For-Learning-To-Disentangle-Causal-Mechanisms gitcode"
      ],
      "execution_count": null,
      "outputs": []
    },
    {
      "cell_type": "code",
      "metadata": {
        "id": "q_LkeFzKTXLF",
        "outputId": "6c3d818d-ac6b-4e72-9f98-5f9e530d2a76",
        "colab": {
          "base_uri": "https://localhost:8080/"
        }
      },
      "source": [
        "!ls"
      ],
      "execution_count": null,
      "outputs": [
        {
          "output_type": "stream",
          "text": [
            "A-Meta-Transfer-Objective-For-Learning-To-Disentangle-Causal-Mechanisms\n",
            "gitcode\n",
            "sample_data\n"
          ],
          "name": "stdout"
        }
      ]
    },
    {
      "cell_type": "code",
      "metadata": {
        "id": "3d5MxX6vTbgf",
        "outputId": "6e2ba89c-42f7-498a-8d5a-30950d848d84",
        "colab": {
          "base_uri": "https://localhost:8080/"
        }
      },
      "source": [
        "!pip install -r gitcode/requirements.txt"
      ],
      "execution_count": null,
      "outputs": [
        {
          "output_type": "stream",
          "text": [
            "Collecting torch==1.0.0\n",
            "\u001b[?25l  Downloading https://files.pythonhosted.org/packages/7e/60/66415660aa46b23b5e1b72bc762e816736ce8d7260213e22365af51e8f9c/torch-1.0.0-cp36-cp36m-manylinux1_x86_64.whl (591.8MB)\n",
            "\u001b[K     |████████████████████████████████| 591.8MB 17kB/s \n",
            "\u001b[?25hRequirement already satisfied: numpy in /usr/local/lib/python3.6/dist-packages (from -r gitcode/requirements.txt (line 2)) (1.18.5)\n",
            "Requirement already satisfied: jupyter in /usr/local/lib/python3.6/dist-packages (from -r gitcode/requirements.txt (line 3)) (1.0.0)\n",
            "Requirement already satisfied: tqdm in /usr/local/lib/python3.6/dist-packages (from -r gitcode/requirements.txt (line 4)) (4.41.1)\n",
            "Requirement already satisfied: matplotlib in /usr/local/lib/python3.6/dist-packages (from -r gitcode/requirements.txt (line 5)) (3.2.2)\n",
            "Requirement already satisfied: scipy in /usr/local/lib/python3.6/dist-packages (from -r gitcode/requirements.txt (line 6)) (1.4.1)\n",
            "Requirement already satisfied: ipywidgets in /usr/local/lib/python3.6/dist-packages (from jupyter->-r gitcode/requirements.txt (line 3)) (7.5.1)\n",
            "Requirement already satisfied: jupyter-console in /usr/local/lib/python3.6/dist-packages (from jupyter->-r gitcode/requirements.txt (line 3)) (5.2.0)\n",
            "Requirement already satisfied: qtconsole in /usr/local/lib/python3.6/dist-packages (from jupyter->-r gitcode/requirements.txt (line 3)) (4.7.7)\n",
            "Requirement already satisfied: nbconvert in /usr/local/lib/python3.6/dist-packages (from jupyter->-r gitcode/requirements.txt (line 3)) (5.6.1)\n",
            "Requirement already satisfied: ipykernel in /usr/local/lib/python3.6/dist-packages (from jupyter->-r gitcode/requirements.txt (line 3)) (4.10.1)\n",
            "Requirement already satisfied: notebook in /usr/local/lib/python3.6/dist-packages (from jupyter->-r gitcode/requirements.txt (line 3)) (5.3.1)\n",
            "Requirement already satisfied: kiwisolver>=1.0.1 in /usr/local/lib/python3.6/dist-packages (from matplotlib->-r gitcode/requirements.txt (line 5)) (1.3.1)\n",
            "Requirement already satisfied: pyparsing!=2.0.4,!=2.1.2,!=2.1.6,>=2.0.1 in /usr/local/lib/python3.6/dist-packages (from matplotlib->-r gitcode/requirements.txt (line 5)) (2.4.7)\n",
            "Requirement already satisfied: cycler>=0.10 in /usr/local/lib/python3.6/dist-packages (from matplotlib->-r gitcode/requirements.txt (line 5)) (0.10.0)\n",
            "Requirement already satisfied: python-dateutil>=2.1 in /usr/local/lib/python3.6/dist-packages (from matplotlib->-r gitcode/requirements.txt (line 5)) (2.8.1)\n",
            "Requirement already satisfied: traitlets>=4.3.1 in /usr/local/lib/python3.6/dist-packages (from ipywidgets->jupyter->-r gitcode/requirements.txt (line 3)) (4.3.3)\n",
            "Requirement already satisfied: nbformat>=4.2.0 in /usr/local/lib/python3.6/dist-packages (from ipywidgets->jupyter->-r gitcode/requirements.txt (line 3)) (5.0.8)\n",
            "Requirement already satisfied: widgetsnbextension~=3.5.0 in /usr/local/lib/python3.6/dist-packages (from ipywidgets->jupyter->-r gitcode/requirements.txt (line 3)) (3.5.1)\n",
            "Requirement already satisfied: ipython>=4.0.0; python_version >= \"3.3\" in /usr/local/lib/python3.6/dist-packages (from ipywidgets->jupyter->-r gitcode/requirements.txt (line 3)) (5.5.0)\n",
            "Requirement already satisfied: pygments in /usr/local/lib/python3.6/dist-packages (from jupyter-console->jupyter->-r gitcode/requirements.txt (line 3)) (2.6.1)\n",
            "Requirement already satisfied: jupyter-client in /usr/local/lib/python3.6/dist-packages (from jupyter-console->jupyter->-r gitcode/requirements.txt (line 3)) (5.3.5)\n",
            "Requirement already satisfied: prompt-toolkit<2.0.0,>=1.0.0 in /usr/local/lib/python3.6/dist-packages (from jupyter-console->jupyter->-r gitcode/requirements.txt (line 3)) (1.0.18)\n",
            "Requirement already satisfied: ipython-genutils in /usr/local/lib/python3.6/dist-packages (from qtconsole->jupyter->-r gitcode/requirements.txt (line 3)) (0.2.0)\n",
            "Requirement already satisfied: jupyter-core in /usr/local/lib/python3.6/dist-packages (from qtconsole->jupyter->-r gitcode/requirements.txt (line 3)) (4.6.3)\n",
            "Requirement already satisfied: qtpy in /usr/local/lib/python3.6/dist-packages (from qtconsole->jupyter->-r gitcode/requirements.txt (line 3)) (1.9.0)\n",
            "Requirement already satisfied: pyzmq>=17.1 in /usr/local/lib/python3.6/dist-packages (from qtconsole->jupyter->-r gitcode/requirements.txt (line 3)) (19.0.2)\n",
            "Requirement already satisfied: pandocfilters>=1.4.1 in /usr/local/lib/python3.6/dist-packages (from nbconvert->jupyter->-r gitcode/requirements.txt (line 3)) (1.4.3)\n",
            "Requirement already satisfied: bleach in /usr/local/lib/python3.6/dist-packages (from nbconvert->jupyter->-r gitcode/requirements.txt (line 3)) (3.2.1)\n",
            "Requirement already satisfied: mistune<2,>=0.8.1 in /usr/local/lib/python3.6/dist-packages (from nbconvert->jupyter->-r gitcode/requirements.txt (line 3)) (0.8.4)\n",
            "Requirement already satisfied: jinja2>=2.4 in /usr/local/lib/python3.6/dist-packages (from nbconvert->jupyter->-r gitcode/requirements.txt (line 3)) (2.11.2)\n",
            "Requirement already satisfied: entrypoints>=0.2.2 in /usr/local/lib/python3.6/dist-packages (from nbconvert->jupyter->-r gitcode/requirements.txt (line 3)) (0.3)\n",
            "Requirement already satisfied: testpath in /usr/local/lib/python3.6/dist-packages (from nbconvert->jupyter->-r gitcode/requirements.txt (line 3)) (0.4.4)\n",
            "Requirement already satisfied: defusedxml in /usr/local/lib/python3.6/dist-packages (from nbconvert->jupyter->-r gitcode/requirements.txt (line 3)) (0.6.0)\n",
            "Requirement already satisfied: tornado>=4.0 in /usr/local/lib/python3.6/dist-packages (from ipykernel->jupyter->-r gitcode/requirements.txt (line 3)) (5.1.1)\n",
            "Requirement already satisfied: terminado>=0.8.1 in /usr/local/lib/python3.6/dist-packages (from notebook->jupyter->-r gitcode/requirements.txt (line 3)) (0.9.1)\n",
            "Requirement already satisfied: Send2Trash in /usr/local/lib/python3.6/dist-packages (from notebook->jupyter->-r gitcode/requirements.txt (line 3)) (1.5.0)\n",
            "Requirement already satisfied: six in /usr/local/lib/python3.6/dist-packages (from cycler>=0.10->matplotlib->-r gitcode/requirements.txt (line 5)) (1.15.0)\n",
            "Requirement already satisfied: decorator in /usr/local/lib/python3.6/dist-packages (from traitlets>=4.3.1->ipywidgets->jupyter->-r gitcode/requirements.txt (line 3)) (4.4.2)\n",
            "Requirement already satisfied: jsonschema!=2.5.0,>=2.4 in /usr/local/lib/python3.6/dist-packages (from nbformat>=4.2.0->ipywidgets->jupyter->-r gitcode/requirements.txt (line 3)) (2.6.0)\n",
            "Requirement already satisfied: pexpect; sys_platform != \"win32\" in /usr/local/lib/python3.6/dist-packages (from ipython>=4.0.0; python_version >= \"3.3\"->ipywidgets->jupyter->-r gitcode/requirements.txt (line 3)) (4.8.0)\n",
            "Requirement already satisfied: setuptools>=18.5 in /usr/local/lib/python3.6/dist-packages (from ipython>=4.0.0; python_version >= \"3.3\"->ipywidgets->jupyter->-r gitcode/requirements.txt (line 3)) (50.3.2)\n",
            "Requirement already satisfied: simplegeneric>0.8 in /usr/local/lib/python3.6/dist-packages (from ipython>=4.0.0; python_version >= \"3.3\"->ipywidgets->jupyter->-r gitcode/requirements.txt (line 3)) (0.8.1)\n",
            "Requirement already satisfied: pickleshare in /usr/local/lib/python3.6/dist-packages (from ipython>=4.0.0; python_version >= \"3.3\"->ipywidgets->jupyter->-r gitcode/requirements.txt (line 3)) (0.7.5)\n",
            "Requirement already satisfied: wcwidth in /usr/local/lib/python3.6/dist-packages (from prompt-toolkit<2.0.0,>=1.0.0->jupyter-console->jupyter->-r gitcode/requirements.txt (line 3)) (0.2.5)\n",
            "Requirement already satisfied: webencodings in /usr/local/lib/python3.6/dist-packages (from bleach->nbconvert->jupyter->-r gitcode/requirements.txt (line 3)) (0.5.1)\n",
            "Requirement already satisfied: packaging in /usr/local/lib/python3.6/dist-packages (from bleach->nbconvert->jupyter->-r gitcode/requirements.txt (line 3)) (20.4)\n",
            "Requirement already satisfied: MarkupSafe>=0.23 in /usr/local/lib/python3.6/dist-packages (from jinja2>=2.4->nbconvert->jupyter->-r gitcode/requirements.txt (line 3)) (1.1.1)\n",
            "Requirement already satisfied: ptyprocess; os_name != \"nt\" in /usr/local/lib/python3.6/dist-packages (from terminado>=0.8.1->notebook->jupyter->-r gitcode/requirements.txt (line 3)) (0.6.0)\n",
            "\u001b[31mERROR: torchvision 0.8.1+cu101 has requirement torch==1.7.0, but you'll have torch 1.0.0 which is incompatible.\u001b[0m\n",
            "Installing collected packages: torch\n",
            "  Found existing installation: torch 1.7.0+cu101\n",
            "    Uninstalling torch-1.7.0+cu101:\n",
            "      Successfully uninstalled torch-1.7.0+cu101\n",
            "Successfully installed torch-1.0.0\n"
          ],
          "name": "stdout"
        }
      ]
    },
    {
      "cell_type": "code",
      "metadata": {
        "id": "70kdl8K3V5bY",
        "outputId": "cf9fef8d-f86c-4596-ed82-8afecb2a9f11",
        "colab": {
          "base_uri": "https://localhost:8080/"
        }
      },
      "source": [
        "% cd gitcode"
      ],
      "execution_count": null,
      "outputs": [
        {
          "output_type": "stream",
          "text": [
            "/content/A-Meta-Transfer-Objective-For-Learning-To-Disentangle-Causal-Mechanisms\n"
          ],
          "name": "stdout"
        }
      ]
    },
    {
      "cell_type": "code",
      "metadata": {
        "id": "Bh1Hv6Hl2tWs"
      },
      "source": [
        "!ln -s ../A-Meta-Transfer-Objective-For-Learning-To-Disentangle-Causal-Mechanisms/notebooks/bivariate-continuous-multimodal/ bcm"
      ],
      "execution_count": null,
      "outputs": []
    },
    {
      "cell_type": "code",
      "metadata": {
        "id": "HhW2r1c_WFa_",
        "outputId": "72d2a303-86d9-4561-ae69-07b6aa830e33",
        "colab": {
          "base_uri": "https://localhost:8080/"
        }
      },
      "source": [
        "! ls \n",
        "\n",
        "# ! pip install ."
      ],
      "execution_count": null,
      "outputs": [
        {
          "output_type": "stream",
          "text": [
            "bcm\tcausal_meta  notebooks\trequirements.txt\n",
            "causal\t__init__.py  README.md\trun.py\n"
          ],
          "name": "stdout"
        }
      ]
    },
    {
      "cell_type": "code",
      "metadata": {
        "id": "ok2wSZYT0PQE"
      },
      "source": [
        "import sys\n",
        "# sys.path.append('../..')"
      ],
      "execution_count": null,
      "outputs": []
    },
    {
      "cell_type": "code",
      "metadata": {
        "id": "Rxu-MzzdTdNR"
      },
      "source": [
        "import torch\n",
        "import torch.nn as nn\n",
        "import torch.nn.functional as F\n",
        "\n",
        "import numpy as np\n",
        "from scipy import interpolate\n",
        "\n",
        "import random\n",
        "import tqdm\n",
        "from copy import deepcopy\n",
        "from argparse import Namespace\n",
        "import warnings\n",
        "\n",
        "%matplotlib inline\n",
        "import matplotlib.pyplot as plt\n",
        "import seaborn as sns\n",
        "sns.set()"
      ],
      "execution_count": null,
      "outputs": []
    },
    {
      "cell_type": "code",
      "metadata": {
        "id": "K04SPx_2TlSO"
      },
      "source": [
        "# from causal_meta.modules import networks as nets\n",
        "from causal_meta.utils.data_utils import RandomSplineSCM\n",
        "\n",
        "import causal_meta.utils.train_utils as tu\n",
        "# from bcm.encoder import Rotor\n",
        "from causal_meta.modules.mdn import MDN, GMM, mdn_nll\n",
        "from causal_meta.modules.gmm import GaussianMixture"
      ],
      "execution_count": null,
      "outputs": []
    },
    {
      "cell_type": "code",
      "metadata": {
        "id": "l98Cqdvpy6Pu"
      },
      "source": [
        "%matplotlib inline\n",
        "import torch\n",
        "import numpy as np\n",
        "import matplotlib.pyplot as plt\n",
        "\n",
        "from causal_meta.modules.mdn import mdn_nll\n",
        "from causal_meta.utils.data_utils import RandomSplineSCM\n",
        "from causal_meta.utils.train_utils import train_nll, make_alpha, train_alpha\n",
        "from bcm.models import mdn, gmm, auc_transfer_metric\n",
        "from argparse import Namespace"
      ],
      "execution_count": null,
      "outputs": []
    },
    {
      "cell_type": "code",
      "metadata": {
        "id": "R0WRDr-mpM81"
      },
      "source": [
        "import torch\n",
        "import torch.nn as nn\n",
        "import torch.nn.functional as F\n",
        "\n",
        "\n",
        "class FCMMDN(nn.Module):\n",
        "    def __init__(self, n_hidden, n_gaussians = 1):\n",
        "        super(FCMMDN, self).__init__()\n",
        "        self.z_h = nn.Sequential(\n",
        "            nn.Linear(2, n_hidden),\n",
        "            nn.Tanh()\n",
        "        )\n",
        "        self.z_pi = nn.Linear(n_hidden, n_gaussians)\n",
        "        self.z_mu = nn.Linear(n_hidden, n_gaussians)\n",
        "        self.z_sigma = nn.Linear(n_hidden, n_gaussians)\n",
        "\n",
        "    def forward(self, x, z):\n",
        "        y = torch.cat([x, z], dim=-1)\n",
        "        z_h = self.z_h(y)\n",
        "        pi = F.softmax(self.z_pi(z_h), -1)\n",
        "        mu = self.z_mu(z_h)\n",
        "        sigma = torch.exp(self.z_sigma(z_h))\n",
        "        return pi, mu, sigma"
      ],
      "execution_count": null,
      "outputs": []
    },
    {
      "cell_type": "code",
      "metadata": {
        "id": "wGBp0imzVdHr"
      },
      "source": [
        "SEED = 91023\n",
        "torch.manual_seed(SEED)\n",
        "np.random.seed(SEED)"
      ],
      "execution_count": null,
      "outputs": []
    },
    {
      "cell_type": "markdown",
      "metadata": {
        "id": "tEvwxwGc5zOm"
      },
      "source": [
        "# Boilerplate"
      ]
    },
    {
      "cell_type": "code",
      "metadata": {
        "id": "4TxJRzR60GNN"
      },
      "source": [
        "def normal(mean, std, N): \n",
        "    return torch.normal(torch.ones(N).mul_(mean), torch.ones(N).mul_(std)).view(-1, 1)"
      ],
      "execution_count": null,
      "outputs": []
    },
    {
      "cell_type": "code",
      "metadata": {
        "id": "ZuBOP0E1z8bG"
      },
      "source": [
        "# opt = Namespace()\n",
        "# # Model\n",
        "# opt.CAPACITY = 32\n",
        "# opt.NUM_COMPONENTS = 10\n",
        "# opt.GMM_NUM_COMPONENTS = 10\n",
        "# # Training\n",
        "# opt.LR = 0.001\n",
        "# opt.NUM_ITER = 3000\n",
        "# opt.CUDA = False\n",
        "# opt.REC_FREQ = 10\n",
        "# # Meta\n",
        "# opt.ALPHA_LR = 0.1\n",
        "# opt.ALPHA_NUM_ITER = 500\n",
        "# opt.FINETUNE_LR = 0.001\n",
        "# opt.FINETUNE_NUM_ITER = 10\n",
        "# opt.PARAM_DISTRY = lambda mean: normal(mean, 2, opt.NUM_SAMPLES)\n",
        "# opt.PARAM_SAMPLER = lambda: np.random.uniform(-4, 4)\n",
        "# # Sampling \n",
        "# opt.NUM_SAMPLES = 1000\n",
        "# opt.TRAIN_DISTRY = lambda: normal(0, 2, opt.NUM_SAMPLES)\n",
        "# opt.TRANS_DISTRY = lambda: normal(random.randint(-4, 4), 2, opt.NUM_SAMPLES)\n",
        "\n",
        "opt = Namespace()\n",
        "\n",
        "# Model\n",
        "opt.CAPACITY = 32\n",
        "opt.NUM_COMPONENTS = 10\n",
        "# opt.GMM_NUM_COMPONENTS = 10\n",
        "opt.GMM_NUM_COMPONENTS = 10\n",
        "\n",
        "\n",
        "# Training\n",
        "opt.LR = 0.01\n",
        "opt.NUM_ITER = 500\n",
        "opt.NUM_META_ITER = 1000\n",
        "opt.ALPHA_LR = 0.01\n",
        "opt.ALPHA_NUM_ITER = 1000\n",
        "opt.CUDA = False\n",
        "opt.REC_FREQ = 10\n",
        "opt.ALPHA_INIT = 0.\n",
        "opt.USE_BASELINE = True\n",
        "\n",
        "# Fine tuning\n",
        "opt.FINETUNE_NUM_ITER = 5\n",
        "opt.FINETUNE_LR = 0.001\n",
        "opt.EM_ITERS = 500\n",
        "\n",
        "# Sampling \n",
        "opt.NUM_SAMPLES = 1000\n",
        "opt.TRAIN_DISTRY = lambda: normal(0, 2, opt.NUM_SAMPLES)\n",
        "opt.TRANS_DISTRY = lambda: normal(np.random.uniform(-4, 4), \n",
        "                                  2, opt.NUM_SAMPLES)\n",
        "\n",
        "opt.PARAM_DISTRY = lambda mean: normal(mean, 2, opt.NUM_SAMPLES)\n",
        "opt.PARAM_SAMPLER = lambda: np.random.uniform(-4, 4)\n",
        "opt.ALPHA_NUM_ITER = 500\n",
        "\n",
        "# Encoder\n",
        "opt.DECODER_DEFAULT = -float(0.5 * np.pi/2)"
      ],
      "execution_count": null,
      "outputs": []
    },
    {
      "cell_type": "code",
      "metadata": {
        "id": "yC-3meKjz92W"
      },
      "source": [
        "scm = RandomSplineSCM(False, True, 8, 10, 3, range_scale=1.)"
      ],
      "execution_count": null,
      "outputs": []
    },
    {
      "cell_type": "code",
      "metadata": {
        "id": "wH8Xjc4z0gxv"
      },
      "source": [
        "import torch\n",
        "import torch.nn as nn\n",
        "import torch.nn.functional as F\n",
        "\n",
        "from causal_meta.utils.torch_utils import logsumexp\n",
        "from tqdm import tnrange, tqdm_notebook, notebook\n",
        "from argparse import Namespace\n",
        "from copy import deepcopy\n",
        "\n",
        "\n",
        "def train_nll(opt, model, scm, train_distr_fn, polarity='X2Y', loss_fn=nn.MSELoss(),\n",
        "              decoder=None, encoder=None):\n",
        "    optim = torch.optim.Adam(model.parameters(), lr=opt.LR)\n",
        "    if opt.CUDA:\n",
        "        model = model.cuda()\n",
        "        if encoder is not None: \n",
        "            encoder = encoder.cuda()\n",
        "        if decoder is not None: \n",
        "            decoder = decoder.cuda()\n",
        "    frames = []\n",
        "    for iter_num in tnrange(opt.NUM_ITER, leave=False):\n",
        "        # Generate samples from the training distry\n",
        "        X = train_distr_fn()\n",
        "        with torch.no_grad():\n",
        "            Y = scm(X)\n",
        "        if opt.CUDA:\n",
        "            X, Y = X.cuda(), Y.cuda()\n",
        "        with torch.no_grad():\n",
        "            if decoder is not None:\n",
        "                # X and Y are sampled from the underlying distribution.\n",
        "                # We apply a secret random transformation to the true latent\n",
        "                # variables to obtain the raw input\n",
        "                X, Y = decoder(X, Y)\n",
        "            if encoder is not None:\n",
        "                # Apply the encoder, meant to \"undo\" the decoder up to swapping X and Y.\n",
        "                X, Y = encoder(X, Y)\n",
        "        # Now, train as usual\n",
        "        if polarity == 'X2Y':\n",
        "            inp, tar = X, Y\n",
        "        elif polarity == 'Y2X':\n",
        "            inp, tar = Y, X\n",
        "        else:\n",
        "            raise ValueError\n",
        "        if opt.CUDA:\n",
        "            inp, tar = inp.cuda(), tar.cuda()\n",
        "        # Train\n",
        "        out = model(inp, normal(0, 1, X.size()))\n",
        "        loss = loss_fn(out, tar)\n",
        "        optim.zero_grad()\n",
        "        loss.backward()\n",
        "        optim.step()\n",
        "        # Append info\n",
        "        if iter_num % opt.REC_FREQ or iter_num == (opt.NUM_ITER - 1):\n",
        "            info = Namespace(loss=loss.item(),\n",
        "                             iter_num=iter_num)\n",
        "            frames.append(info)\n",
        "    return frames\n",
        "\n",
        "def marginal_nll(opt, inp, nll): \n",
        "    model_g = gmm(opt)\n",
        "    if opt.CUDA: \n",
        "        model_g = model_g.cuda()\n",
        "    model_g.fit(inp)\n",
        "    with torch.no_grad():\n",
        "        loss_marginal = nll(model_g(inp), inp)\n",
        "    return loss_marginal\n",
        "\n",
        "def transfer_tune(opt, model, model_g, inp, tar, nll): \n",
        "    model = deepcopy(model)\n",
        "    optim_model = torch.optim.Adam(model.parameters(), \n",
        "                                   opt.FINETUNE_LR)\n",
        "    loss_marginal = marginal_nll(opt, inp[0], nll).item()\n",
        "    joint_losses = []\n",
        "    for iter_num in range(opt.FINETUNE_NUM_ITER): \n",
        "        # Train conditional\n",
        "        prd = model(inp[0], inp[1])\n",
        "        loss_conditional = nll(prd, tar)\n",
        "        optim_model.zero_grad()\n",
        "        loss_conditional.backward()\n",
        "        optim_model.step()\n",
        "        joint_losses.append(loss_conditional.item() + loss_marginal)\n",
        "    # Return losses\n",
        "    return joint_losses\n",
        "\n",
        "def auc_transfer_metric(opt, model, model_g, inp, tar, nll):\n",
        "    # Tune\n",
        "    losses = transfer_tune(opt, model, model_g, inp, tar, nll)\n",
        "    # Compute the integral of the loss curve\n",
        "    return sum(losses)\n",
        "\n",
        "def train_alpha(opt, model_x2y, model_y2x, model_g2y, model_g2x, alpha, gt_scm, \n",
        "                distr, sweep_distr, nll, transfer_metric, mixmode='logmix'):\n",
        "    # Everyone to CUDA\n",
        "    if opt.CUDA: \n",
        "        model_x2y.cuda()\n",
        "        model_y2x.cuda()\n",
        "    alpha_optim = torch.optim.Adam([alpha], lr=opt.ALPHA_LR)\n",
        "    frames = []\n",
        "    iterations = tnrange(opt.ALPHA_NUM_ITER, leave=False)\n",
        "    for iter_num in iterations:\n",
        "        # Sample parameter for the transfer distribution\n",
        "        sweep_param = sweep_distr()\n",
        "        # Sample X from transfer\n",
        "        zx = normal(0, 1, 1000)\n",
        "        zy = normal(0, 1, 1000)\n",
        "        X_gt = distr(sweep_param)\n",
        "        Y_gt = gt_scm(X_gt)\n",
        "        with torch.no_grad():\n",
        "            if opt.CUDA:\n",
        "                X_gt, Y_gt = X_gt.cuda(), Y_gt.cuda()\n",
        "        # Evaluate performance\n",
        "        metric_x2y = transfer_metric(opt, model_x2y, model_g2x, [X_gt, zy], Y_gt, nll)\n",
        "        metric_y2x = transfer_metric(opt, model_y2x, model_g2y, [Y_gt, zx], X_gt, nll)\n",
        "        # Estimate gradient\n",
        "        if mixmode == 'logmix':\n",
        "            loss_alpha = torch.sigmoid(alpha) * metric_x2y + (1 - torch.sigmoid(alpha)) * metric_y2x\n",
        "        else:\n",
        "            log_alpha, log_1_m_alpha = F.logsigmoid(alpha), F.logsigmoid(-alpha)\n",
        "            as_lse = logsumexp(log_alpha + metric_x2y, log_1_m_alpha + metric_y2x)\n",
        "            if mixmode == 'logsigp': \n",
        "                loss_alpha = as_lse\n",
        "            elif mixmode == 'sigp':\n",
        "                loss_alpha = as_lse.exp()\n",
        "        # Optimize\n",
        "        alpha_optim.zero_grad()\n",
        "        loss_alpha.backward()\n",
        "        alpha_optim.step()\n",
        "        # Append info\n",
        "        with torch.no_grad():\n",
        "            frames.append(Namespace(iter_num=iter_num,\n",
        "                                    alpha=alpha.item(), \n",
        "                                    sig_alpha=torch.sigmoid(alpha).item(), \n",
        "                                    metric_x2y=metric_x2y, \n",
        "                                    metric_y2x=metric_y2x, \n",
        "                                    loss_alpha=loss_alpha.item()))\n",
        "        iterations.set_postfix(alpha='{0:.4f}'.format(torch.sigmoid(alpha).item()))\n",
        "    return frames"
      ],
      "execution_count": null,
      "outputs": []
    },
    {
      "cell_type": "code",
      "metadata": {
        "id": "6fIzGRU60b_W"
      },
      "source": [
        "# def mdn(opt): \n",
        "#     return MDN(opt.CAPACITY, opt.NUM_COMPONENTS)\n",
        "\n",
        "def mdn(opt): \n",
        "    return FCMMDN(opt.CAPACITY, opt.NUM_COMPONENTS)\n",
        "\n",
        "def gmm(opt): \n",
        "    return GaussianMixture(opt.GMM_NUM_COMPONENTS)"
      ],
      "execution_count": null,
      "outputs": []
    },
    {
      "cell_type": "code",
      "metadata": {
        "id": "VRvT__O3zS8d",
        "outputId": "57087b94-6d45-40f6-e93b-a857107c3bed",
        "colab": {
          "base_uri": "https://localhost:8080/",
          "height": 34,
          "referenced_widgets": [
            "bfb4d7abab8446ae9f7265338d51785d",
            "2db8e01ae8174acb911dc2224b689783",
            "8480bf01fa8b4aa2af9e2466416d9a5c",
            "83f78a6d4c4f42d1b35a031674272926",
            "ba0b092e01484871b79951e0cce220cb",
            "d986c81e8dd045cdbe42c5d5d7b53a7f",
            "d9cf8d3f41e54e659d6aebbd36c308f8",
            "d428c96a00c1415f82677bb8d1d6b3b5"
          ]
        }
      },
      "source": [
        "model_x2y = mdn(opt)\n",
        "frames_x2y = train_nll(opt, model_x2y, scm, opt.TRAIN_DISTRY, polarity='X2Y',\n",
        "    loss_fn=mdn_nll, decoder=None, encoder=None)"
      ],
      "execution_count": null,
      "outputs": [
        {
          "output_type": "stream",
          "text": [
            "/usr/local/lib/python3.6/dist-packages/ipykernel_launcher.py:21: TqdmDeprecationWarning: Please use `tqdm.notebook.trange` instead of `tqdm.tnrange`\n"
          ],
          "name": "stderr"
        },
        {
          "output_type": "display_data",
          "data": {
            "application/vnd.jupyter.widget-view+json": {
              "model_id": "bfb4d7abab8446ae9f7265338d51785d",
              "version_minor": 0,
              "version_major": 2
            },
            "text/plain": [
              "HBox(children=(FloatProgress(value=0.0, max=500.0), HTML(value='')))"
            ]
          },
          "metadata": {
            "tags": []
          }
        },
        {
          "output_type": "stream",
          "text": [
            "\r"
          ],
          "name": "stdout"
        }
      ]
    },
    {
      "cell_type": "code",
      "metadata": {
        "id": "vWqTeg_AzTZq",
        "outputId": "67303307-f76e-4e03-c085-973062213667",
        "colab": {
          "base_uri": "https://localhost:8080/",
          "height": 34,
          "referenced_widgets": [
            "c979f0e82fd648f7b0dd7369721cb031",
            "6802a5ea36fb4b068c4ff5c3e118539a",
            "abb326a4e6df4a16b6d4bc65b79b4330",
            "b0a6f25b2c9d4756bf92fc38fff6312b",
            "4c8b4e165a0d465a971848fefb57ebd0",
            "312d843c42864eac80f29a8ef096bc2d",
            "8e90847c685644aba2882d5edfc06168",
            "63b2cffc22954fbf8ec5d19985fb101a"
          ]
        }
      },
      "source": [
        "model_y2x = mdn(opt)\n",
        "frames_y2x = train_nll(opt, model_y2x, scm, opt.TRAIN_DISTRY, polarity='Y2X',\n",
        "    loss_fn=mdn_nll, decoder=None, encoder=None)"
      ],
      "execution_count": null,
      "outputs": [
        {
          "output_type": "stream",
          "text": [
            "/usr/local/lib/python3.6/dist-packages/ipykernel_launcher.py:21: TqdmDeprecationWarning: Please use `tqdm.notebook.trange` instead of `tqdm.tnrange`\n"
          ],
          "name": "stderr"
        },
        {
          "output_type": "display_data",
          "data": {
            "application/vnd.jupyter.widget-view+json": {
              "model_id": "c979f0e82fd648f7b0dd7369721cb031",
              "version_minor": 0,
              "version_major": 2
            },
            "text/plain": [
              "HBox(children=(FloatProgress(value=0.0, max=500.0), HTML(value='')))"
            ]
          },
          "metadata": {
            "tags": []
          }
        },
        {
          "output_type": "stream",
          "text": [
            "\r"
          ],
          "name": "stdout"
        }
      ]
    },
    {
      "cell_type": "code",
      "metadata": {
        "id": "kWM96gA7zUfi",
        "outputId": "9514afde-4813-4f7b-a15a-0f25376a8e31",
        "colab": {
          "base_uri": "https://localhost:8080/",
          "height": 34,
          "referenced_widgets": [
            "565e45717ca74a129a139a06920d9154",
            "cdde86a97f2c4cd7a1caced043a4bd31",
            "2e9ebf7c4a7b4b1aacaba65181c10342",
            "476d90303bcb4f52a2a9a848a57cf963",
            "d6add113c2f74e6486d1449ed04b662f",
            "10fbc5bc46814c89b0d4f93b8310653f",
            "7911359038234b7eb3ec70f1892d2a30",
            "f6c589820b0141888f15dd9ed9bf95d6"
          ]
        }
      },
      "source": [
        "alpha = make_alpha(opt)\n",
        "alpha_frames = train_alpha(opt, model_x2y, model_y2x, None, None, alpha, scm, \n",
        "                           opt.PARAM_DISTRY, opt.PARAM_SAMPLER, mdn_nll,\n",
        "                           auc_transfer_metric, mixmode='logsigp')"
      ],
      "execution_count": null,
      "outputs": [
        {
          "output_type": "stream",
          "text": [
            "/usr/local/lib/python3.6/dist-packages/ipykernel_launcher.py:99: TqdmDeprecationWarning: Please use `tqdm.notebook.trange` instead of `tqdm.tnrange`\n"
          ],
          "name": "stderr"
        },
        {
          "output_type": "display_data",
          "data": {
            "application/vnd.jupyter.widget-view+json": {
              "model_id": "565e45717ca74a129a139a06920d9154",
              "version_minor": 0,
              "version_major": 2
            },
            "text/plain": [
              "HBox(children=(FloatProgress(value=0.0, max=500.0), HTML(value='')))"
            ]
          },
          "metadata": {
            "tags": []
          }
        },
        {
          "output_type": "stream",
          "text": [
            "\r"
          ],
          "name": "stdout"
        }
      ]
    },
    {
      "cell_type": "code",
      "metadata": {
        "id": "RV45GhlkzW_Y",
        "outputId": "10e1314d-572d-423e-ffd7-af8bfe371113",
        "colab": {
          "base_uri": "https://localhost:8080/",
          "height": 343
        }
      },
      "source": [
        "alphas = np.asarray([frame.sig_alpha for frame in alpha_frames])\n",
        "\n",
        "fig = plt.figure(figsize=(9, 5))\n",
        "ax = plt.subplot(1, 1, 1)\n",
        "\n",
        "ax.tick_params(axis='both', which='major', labelsize=13)\n",
        "ax.axhline(1, c='lightgray', ls='--')\n",
        "ax.axhline(0, c='lightgray', ls='--')\n",
        "ax.plot(alphas, lw=2, color='k', label='N = {0}'.format(10))\n",
        "\n",
        "ax.set_xlim([0, opt.ALPHA_NUM_ITER - 1])\n",
        "ax.set_xlabel('Number of episodes', fontsize=14)\n",
        "ax.set_ylabel(r'$\\sigma(\\gamma)$', fontsize=14)\n",
        "ax.legend(loc=4, prop={'size': 13})\n",
        "\n",
        "plt.show()"
      ],
      "execution_count": null,
      "outputs": [
        {
          "output_type": "display_data",
          "data": {
            "image/png": "[encoded data removed]",
            "text/plain": [
              "<Figure size 648x360 with 1 Axes>"
            ]
          },
          "metadata": {
            "tags": [],
            "needs_background": "light"
          }
        }
      ]
    }
  ]
}