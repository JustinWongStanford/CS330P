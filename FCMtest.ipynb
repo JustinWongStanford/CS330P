{
  "nbformat": 4,
  "nbformat_minor": 0,
  "metadata": {
    "colab": {
      "name": "FCM.ipynb",
      "provenance": [],
      "collapsed_sections": [],
      "toc_visible": true
    },
    "kernelspec": {
      "name": "python3",
      "display_name": "Python 3"
    },
    "widgets": {
      "application/vnd.jupyter.widget-state+json": {
        "be64ddef54e24aaaab939e528dc79f86": {
          "model_module": "@jupyter-widgets/controls",
          "model_name": "HBoxModel",
          "state": {
            "_view_name": "HBoxView",
            "_dom_classes": [],
            "_model_name": "HBoxModel",
            "_view_module": "@jupyter-widgets/controls",
            "_model_module_version": "1.5.0",
            "_view_count": null,
            "_view_module_version": "1.5.0",
            "box_style": "",
            "layout": "IPY_MODEL_8a128ef2411542ff81ce8d1153f64d12",
            "_model_module": "@jupyter-widgets/controls",
            "children": [
              "IPY_MODEL_a2cee62c34c24a61b89f469f6b3b829d",
              "IPY_MODEL_c0cd1e6cb79a4a4d95fb99612cf5be44"
            ]
          }
        },
        "8a128ef2411542ff81ce8d1153f64d12": {
          "model_module": "@jupyter-widgets/base",
          "model_name": "LayoutModel",
          "state": {
            "_view_name": "LayoutView",
            "grid_template_rows": null,
            "right": null,
            "justify_content": null,
            "_view_module": "@jupyter-widgets/base",
            "overflow": null,
            "_model_module_version": "1.2.0",
            "_view_count": null,
            "flex_flow": null,
            "width": null,
            "min_width": null,
            "border": null,
            "align_items": null,
            "bottom": null,
            "_model_module": "@jupyter-widgets/base",
            "top": null,
            "grid_column": null,
            "overflow_y": null,
            "overflow_x": null,
            "grid_auto_flow": null,
            "grid_area": null,
            "grid_template_columns": null,
            "flex": null,
            "_model_name": "LayoutModel",
            "justify_items": null,
            "grid_row": null,
            "max_height": null,
            "align_content": null,
            "visibility": null,
            "align_self": null,
            "height": null,
            "min_height": null,
            "padding": null,
            "grid_auto_rows": null,
            "grid_gap": null,
            "max_width": null,
            "order": null,
            "_view_module_version": "1.2.0",
            "grid_template_areas": null,
            "object_position": null,
            "object_fit": null,
            "grid_auto_columns": null,
            "margin": null,
            "display": null,
            "left": null
          }
        },
        "a2cee62c34c24a61b89f469f6b3b829d": {
          "model_module": "@jupyter-widgets/controls",
          "model_name": "FloatProgressModel",
          "state": {
            "_view_name": "ProgressView",
            "style": "IPY_MODEL_bd4e60200c744f0481ba3d917751341e",
            "_dom_classes": [],
            "description": "100%",
            "_model_name": "FloatProgressModel",
            "bar_style": "",
            "max": 500,
            "_view_module": "@jupyter-widgets/controls",
            "_model_module_version": "1.5.0",
            "value": 500,
            "_view_count": null,
            "_view_module_version": "1.5.0",
            "orientation": "horizontal",
            "min": 0,
            "description_tooltip": null,
            "_model_module": "@jupyter-widgets/controls",
            "layout": "IPY_MODEL_b7d585f1fad147eeb6dc19f0ff121605"
          }
        },
        "c0cd1e6cb79a4a4d95fb99612cf5be44": {
          "model_module": "@jupyter-widgets/controls",
          "model_name": "HTMLModel",
          "state": {
            "_view_name": "HTMLView",
            "style": "IPY_MODEL_e3caaf6558db468bb1f4e89b73527b1b",
            "_dom_classes": [],
            "description": "",
            "_model_name": "HTMLModel",
            "placeholder": "​",
            "_view_module": "@jupyter-widgets/controls",
            "_model_module_version": "1.5.0",
            "value": " 500/500 [00:03&lt;00:00, 134.52it/s]",
            "_view_count": null,
            "_view_module_version": "1.5.0",
            "description_tooltip": null,
            "_model_module": "@jupyter-widgets/controls",
            "layout": "IPY_MODEL_cddf699694894899bf17103b81b6c06f"
          }
        },
        "bd4e60200c744f0481ba3d917751341e": {
          "model_module": "@jupyter-widgets/controls",
          "model_name": "ProgressStyleModel",
          "state": {
            "_view_name": "StyleView",
            "_model_name": "ProgressStyleModel",
            "description_width": "initial",
            "_view_module": "@jupyter-widgets/base",
            "_model_module_version": "1.5.0",
            "_view_count": null,
            "_view_module_version": "1.2.0",
            "bar_color": null,
            "_model_module": "@jupyter-widgets/controls"
          }
        },
        "b7d585f1fad147eeb6dc19f0ff121605": {
          "model_module": "@jupyter-widgets/base",
          "model_name": "LayoutModel",
          "state": {
            "_view_name": "LayoutView",
            "grid_template_rows": null,
            "right": null,
            "justify_content": null,
            "_view_module": "@jupyter-widgets/base",
            "overflow": null,
            "_model_module_version": "1.2.0",
            "_view_count": null,
            "flex_flow": null,
            "width": null,
            "min_width": null,
            "border": null,
            "align_items": null,
            "bottom": null,
            "_model_module": "@jupyter-widgets/base",
            "top": null,
            "grid_column": null,
            "overflow_y": null,
            "overflow_x": null,
            "grid_auto_flow": null,
            "grid_area": null,
            "grid_template_columns": null,
            "flex": null,
            "_model_name": "LayoutModel",
            "justify_items": null,
            "grid_row": null,
            "max_height": null,
            "align_content": null,
            "visibility": null,
            "align_self": null,
            "height": null,
            "min_height": null,
            "padding": null,
            "grid_auto_rows": null,
            "grid_gap": null,
            "max_width": null,
            "order": null,
            "_view_module_version": "1.2.0",
            "grid_template_areas": null,
            "object_position": null,
            "object_fit": null,
            "grid_auto_columns": null,
            "margin": null,
            "display": null,
            "left": null
          }
        },
        "e3caaf6558db468bb1f4e89b73527b1b": {
          "model_module": "@jupyter-widgets/controls",
          "model_name": "DescriptionStyleModel",
          "state": {
            "_view_name": "StyleView",
            "_model_name": "DescriptionStyleModel",
            "description_width": "",
            "_view_module": "@jupyter-widgets/base",
            "_model_module_version": "1.5.0",
            "_view_count": null,
            "_view_module_version": "1.2.0",
            "_model_module": "@jupyter-widgets/controls"
          }
        },
        "cddf699694894899bf17103b81b6c06f": {
          "model_module": "@jupyter-widgets/base",
          "model_name": "LayoutModel",
          "state": {
            "_view_name": "LayoutView",
            "grid_template_rows": null,
            "right": null,
            "justify_content": null,
            "_view_module": "@jupyter-widgets/base",
            "overflow": null,
            "_model_module_version": "1.2.0",
            "_view_count": null,
            "flex_flow": null,
            "width": null,
            "min_width": null,
            "border": null,
            "align_items": null,
            "bottom": null,
            "_model_module": "@jupyter-widgets/base",
            "top": null,
            "grid_column": null,
            "overflow_y": null,
            "overflow_x": null,
            "grid_auto_flow": null,
            "grid_area": null,
            "grid_template_columns": null,
            "flex": null,
            "_model_name": "LayoutModel",
            "justify_items": null,
            "grid_row": null,
            "max_height": null,
            "align_content": null,
            "visibility": null,
            "align_self": null,
            "height": null,
            "min_height": null,
            "padding": null,
            "grid_auto_rows": null,
            "grid_gap": null,
            "max_width": null,
            "order": null,
            "_view_module_version": "1.2.0",
            "grid_template_areas": null,
            "object_position": null,
            "object_fit": null,
            "grid_auto_columns": null,
            "margin": null,
            "display": null,
            "left": null
          }
        },
        "fce34b7c95d84e8e9681400d22fae2b9": {
          "model_module": "@jupyter-widgets/controls",
          "model_name": "HBoxModel",
          "state": {
            "_view_name": "HBoxView",
            "_dom_classes": [],
            "_model_name": "HBoxModel",
            "_view_module": "@jupyter-widgets/controls",
            "_model_module_version": "1.5.0",
            "_view_count": null,
            "_view_module_version": "1.5.0",
            "box_style": "",
            "layout": "IPY_MODEL_def773a5266348f08fabca7b745d73f7",
            "_model_module": "@jupyter-widgets/controls",
            "children": [
              "IPY_MODEL_4338397b5d4e4b48b09b0b933195601f",
              "IPY_MODEL_39461dddcf9c4e5eb60dccb767c1a3cd"
            ]
          }
        },
        "def773a5266348f08fabca7b745d73f7": {
          "model_module": "@jupyter-widgets/base",
          "model_name": "LayoutModel",
          "state": {
            "_view_name": "LayoutView",
            "grid_template_rows": null,
            "right": null,
            "justify_content": null,
            "_view_module": "@jupyter-widgets/base",
            "overflow": null,
            "_model_module_version": "1.2.0",
            "_view_count": null,
            "flex_flow": null,
            "width": null,
            "min_width": null,
            "border": null,
            "align_items": null,
            "bottom": null,
            "_model_module": "@jupyter-widgets/base",
            "top": null,
            "grid_column": null,
            "overflow_y": null,
            "overflow_x": null,
            "grid_auto_flow": null,
            "grid_area": null,
            "grid_template_columns": null,
            "flex": null,
            "_model_name": "LayoutModel",
            "justify_items": null,
            "grid_row": null,
            "max_height": null,
            "align_content": null,
            "visibility": null,
            "align_self": null,
            "height": null,
            "min_height": null,
            "padding": null,
            "grid_auto_rows": null,
            "grid_gap": null,
            "max_width": null,
            "order": null,
            "_view_module_version": "1.2.0",
            "grid_template_areas": null,
            "object_position": null,
            "object_fit": null,
            "grid_auto_columns": null,
            "margin": null,
            "display": null,
            "left": null
          }
        },
        "4338397b5d4e4b48b09b0b933195601f": {
          "model_module": "@jupyter-widgets/controls",
          "model_name": "FloatProgressModel",
          "state": {
            "_view_name": "ProgressView",
            "style": "IPY_MODEL_8656c2c29db1415ba3a56e4716f2c22f",
            "_dom_classes": [],
            "description": "100%",
            "_model_name": "FloatProgressModel",
            "bar_style": "",
            "max": 500,
            "_view_module": "@jupyter-widgets/controls",
            "_model_module_version": "1.5.0",
            "value": 500,
            "_view_count": null,
            "_view_module_version": "1.5.0",
            "orientation": "horizontal",
            "min": 0,
            "description_tooltip": null,
            "_model_module": "@jupyter-widgets/controls",
            "layout": "IPY_MODEL_7410b293b0ae482088836f7b58143bb5"
          }
        },
        "39461dddcf9c4e5eb60dccb767c1a3cd": {
          "model_module": "@jupyter-widgets/controls",
          "model_name": "HTMLModel",
          "state": {
            "_view_name": "HTMLView",
            "style": "IPY_MODEL_aac0dd94ceeb49058897ccffc0e56b5b",
            "_dom_classes": [],
            "description": "",
            "_model_name": "HTMLModel",
            "placeholder": "​",
            "_view_module": "@jupyter-widgets/controls",
            "_model_module_version": "1.5.0",
            "value": " 500/500 [00:02&lt;00:00, 214.48it/s]",
            "_view_count": null,
            "_view_module_version": "1.5.0",
            "description_tooltip": null,
            "_model_module": "@jupyter-widgets/controls",
            "layout": "IPY_MODEL_c198240eb7d54aa08e0cb00bb16a0657"
          }
        },
        "8656c2c29db1415ba3a56e4716f2c22f": {
          "model_module": "@jupyter-widgets/controls",
          "model_name": "ProgressStyleModel",
          "state": {
            "_view_name": "StyleView",
            "_model_name": "ProgressStyleModel",
            "description_width": "initial",
            "_view_module": "@jupyter-widgets/base",
            "_model_module_version": "1.5.0",
            "_view_count": null,
            "_view_module_version": "1.2.0",
            "bar_color": null,
            "_model_module": "@jupyter-widgets/controls"
          }
        },
        "7410b293b0ae482088836f7b58143bb5": {
          "model_module": "@jupyter-widgets/base",
          "model_name": "LayoutModel",
          "state": {
            "_view_name": "LayoutView",
            "grid_template_rows": null,
            "right": null,
            "justify_content": null,
            "_view_module": "@jupyter-widgets/base",
            "overflow": null,
            "_model_module_version": "1.2.0",
            "_view_count": null,
            "flex_flow": null,
            "width": null,
            "min_width": null,
            "border": null,
            "align_items": null,
            "bottom": null,
            "_model_module": "@jupyter-widgets/base",
            "top": null,
            "grid_column": null,
            "overflow_y": null,
            "overflow_x": null,
            "grid_auto_flow": null,
            "grid_area": null,
            "grid_template_columns": null,
            "flex": null,
            "_model_name": "LayoutModel",
            "justify_items": null,
            "grid_row": null,
            "max_height": null,
            "align_content": null,
            "visibility": null,
            "align_self": null,
            "height": null,
            "min_height": null,
            "padding": null,
            "grid_auto_rows": null,
            "grid_gap": null,
            "max_width": null,
            "order": null,
            "_view_module_version": "1.2.0",
            "grid_template_areas": null,
            "object_position": null,
            "object_fit": null,
            "grid_auto_columns": null,
            "margin": null,
            "display": null,
            "left": null
          }
        },
        "aac0dd94ceeb49058897ccffc0e56b5b": {
          "model_module": "@jupyter-widgets/controls",
          "model_name": "DescriptionStyleModel",
          "state": {
            "_view_name": "StyleView",
            "_model_name": "DescriptionStyleModel",
            "description_width": "",
            "_view_module": "@jupyter-widgets/base",
            "_model_module_version": "1.5.0",
            "_view_count": null,
            "_view_module_version": "1.2.0",
            "_model_module": "@jupyter-widgets/controls"
          }
        },
        "c198240eb7d54aa08e0cb00bb16a0657": {
          "model_module": "@jupyter-widgets/base",
          "model_name": "LayoutModel",
          "state": {
            "_view_name": "LayoutView",
            "grid_template_rows": null,
            "right": null,
            "justify_content": null,
            "_view_module": "@jupyter-widgets/base",
            "overflow": null,
            "_model_module_version": "1.2.0",
            "_view_count": null,
            "flex_flow": null,
            "width": null,
            "min_width": null,
            "border": null,
            "align_items": null,
            "bottom": null,
            "_model_module": "@jupyter-widgets/base",
            "top": null,
            "grid_column": null,
            "overflow_y": null,
            "overflow_x": null,
            "grid_auto_flow": null,
            "grid_area": null,
            "grid_template_columns": null,
            "flex": null,
            "_model_name": "LayoutModel",
            "justify_items": null,
            "grid_row": null,
            "max_height": null,
            "align_content": null,
            "visibility": null,
            "align_self": null,
            "height": null,
            "min_height": null,
            "padding": null,
            "grid_auto_rows": null,
            "grid_gap": null,
            "max_width": null,
            "order": null,
            "_view_module_version": "1.2.0",
            "grid_template_areas": null,
            "object_position": null,
            "object_fit": null,
            "grid_auto_columns": null,
            "margin": null,
            "display": null,
            "left": null
          }
        },
        "db621cebdafe4f1ab44d166cf15e8d02": {
          "model_module": "@jupyter-widgets/controls",
          "model_name": "HBoxModel",
          "state": {
            "_view_name": "HBoxView",
            "_dom_classes": [],
            "_model_name": "HBoxModel",
            "_view_module": "@jupyter-widgets/controls",
            "_model_module_version": "1.5.0",
            "_view_count": null,
            "_view_module_version": "1.5.0",
            "box_style": "",
            "layout": "IPY_MODEL_419dc460b6e6440a93510cbd71f4d92c",
            "_model_module": "@jupyter-widgets/controls",
            "children": [
              "IPY_MODEL_b6bae3720a4646ec8d45fe7e825f724c",
              "IPY_MODEL_dda9aa2c732d49b793f84ebf4b897b3a"
            ]
          }
        },
        "419dc460b6e6440a93510cbd71f4d92c": {
          "model_module": "@jupyter-widgets/base",
          "model_name": "LayoutModel",
          "state": {
            "_view_name": "LayoutView",
            "grid_template_rows": null,
            "right": null,
            "justify_content": null,
            "_view_module": "@jupyter-widgets/base",
            "overflow": null,
            "_model_module_version": "1.2.0",
            "_view_count": null,
            "flex_flow": null,
            "width": null,
            "min_width": null,
            "border": null,
            "align_items": null,
            "bottom": null,
            "_model_module": "@jupyter-widgets/base",
            "top": null,
            "grid_column": null,
            "overflow_y": null,
            "overflow_x": null,
            "grid_auto_flow": null,
            "grid_area": null,
            "grid_template_columns": null,
            "flex": null,
            "_model_name": "LayoutModel",
            "justify_items": null,
            "grid_row": null,
            "max_height": null,
            "align_content": null,
            "visibility": null,
            "align_self": null,
            "height": null,
            "min_height": null,
            "padding": null,
            "grid_auto_rows": null,
            "grid_gap": null,
            "max_width": null,
            "order": null,
            "_view_module_version": "1.2.0",
            "grid_template_areas": null,
            "object_position": null,
            "object_fit": null,
            "grid_auto_columns": null,
            "margin": null,
            "display": null,
            "left": null
          }
        },
        "b6bae3720a4646ec8d45fe7e825f724c": {
          "model_module": "@jupyter-widgets/controls",
          "model_name": "FloatProgressModel",
          "state": {
            "_view_name": "ProgressView",
            "style": "IPY_MODEL_d0577fd3bb034ddaa882149b594abebc",
            "_dom_classes": [],
            "description": "100%",
            "_model_name": "FloatProgressModel",
            "bar_style": "",
            "max": 500,
            "_view_module": "@jupyter-widgets/controls",
            "_model_module_version": "1.5.0",
            "value": 500,
            "_view_count": null,
            "_view_module_version": "1.5.0",
            "orientation": "horizontal",
            "min": 0,
            "description_tooltip": null,
            "_model_module": "@jupyter-widgets/controls",
            "layout": "IPY_MODEL_418aecb41fef4460aaf0b9e6ba4ef6aa"
          }
        },
        "dda9aa2c732d49b793f84ebf4b897b3a": {
          "model_module": "@jupyter-widgets/controls",
          "model_name": "HTMLModel",
          "state": {
            "_view_name": "HTMLView",
            "style": "IPY_MODEL_fdf69accfb944d0cacc75baa32043228",
            "_dom_classes": [],
            "description": "",
            "_model_name": "HTMLModel",
            "placeholder": "​",
            "_view_module": "@jupyter-widgets/controls",
            "_model_module_version": "1.5.0",
            "value": " 500/500 [00:02&lt;00:00, 213.64it/s]",
            "_view_count": null,
            "_view_module_version": "1.5.0",
            "description_tooltip": null,
            "_model_module": "@jupyter-widgets/controls",
            "layout": "IPY_MODEL_1aff423a972742c0b48e01872afbea29"
          }
        },
        "d0577fd3bb034ddaa882149b594abebc": {
          "model_module": "@jupyter-widgets/controls",
          "model_name": "ProgressStyleModel",
          "state": {
            "_view_name": "StyleView",
            "_model_name": "ProgressStyleModel",
            "description_width": "initial",
            "_view_module": "@jupyter-widgets/base",
            "_model_module_version": "1.5.0",
            "_view_count": null,
            "_view_module_version": "1.2.0",
            "bar_color": null,
            "_model_module": "@jupyter-widgets/controls"
          }
        },
        "418aecb41fef4460aaf0b9e6ba4ef6aa": {
          "model_module": "@jupyter-widgets/base",
          "model_name": "LayoutModel",
          "state": {
            "_view_name": "LayoutView",
            "grid_template_rows": null,
            "right": null,
            "justify_content": null,
            "_view_module": "@jupyter-widgets/base",
            "overflow": null,
            "_model_module_version": "1.2.0",
            "_view_count": null,
            "flex_flow": null,
            "width": null,
            "min_width": null,
            "border": null,
            "align_items": null,
            "bottom": null,
            "_model_module": "@jupyter-widgets/base",
            "top": null,
            "grid_column": null,
            "overflow_y": null,
            "overflow_x": null,
            "grid_auto_flow": null,
            "grid_area": null,
            "grid_template_columns": null,
            "flex": null,
            "_model_name": "LayoutModel",
            "justify_items": null,
            "grid_row": null,
            "max_height": null,
            "align_content": null,
            "visibility": null,
            "align_self": null,
            "height": null,
            "min_height": null,
            "padding": null,
            "grid_auto_rows": null,
            "grid_gap": null,
            "max_width": null,
            "order": null,
            "_view_module_version": "1.2.0",
            "grid_template_areas": null,
            "object_position": null,
            "object_fit": null,
            "grid_auto_columns": null,
            "margin": null,
            "display": null,
            "left": null
          }
        },
        "fdf69accfb944d0cacc75baa32043228": {
          "model_module": "@jupyter-widgets/controls",
          "model_name": "DescriptionStyleModel",
          "state": {
            "_view_name": "StyleView",
            "_model_name": "DescriptionStyleModel",
            "description_width": "",
            "_view_module": "@jupyter-widgets/base",
            "_model_module_version": "1.5.0",
            "_view_count": null,
            "_view_module_version": "1.2.0",
            "_model_module": "@jupyter-widgets/controls"
          }
        },
        "1aff423a972742c0b48e01872afbea29": {
          "model_module": "@jupyter-widgets/base",
          "model_name": "LayoutModel",
          "state": {
            "_view_name": "LayoutView",
            "grid_template_rows": null,
            "right": null,
            "justify_content": null,
            "_view_module": "@jupyter-widgets/base",
            "overflow": null,
            "_model_module_version": "1.2.0",
            "_view_count": null,
            "flex_flow": null,
            "width": null,
            "min_width": null,
            "border": null,
            "align_items": null,
            "bottom": null,
            "_model_module": "@jupyter-widgets/base",
            "top": null,
            "grid_column": null,
            "overflow_y": null,
            "overflow_x": null,
            "grid_auto_flow": null,
            "grid_area": null,
            "grid_template_columns": null,
            "flex": null,
            "_model_name": "LayoutModel",
            "justify_items": null,
            "grid_row": null,
            "max_height": null,
            "align_content": null,
            "visibility": null,
            "align_self": null,
            "height": null,
            "min_height": null,
            "padding": null,
            "grid_auto_rows": null,
            "grid_gap": null,
            "max_width": null,
            "order": null,
            "_view_module_version": "1.2.0",
            "grid_template_areas": null,
            "object_position": null,
            "object_fit": null,
            "grid_auto_columns": null,
            "margin": null,
            "display": null,
            "left": null
          }
        },
        "08a4e75620744d83ba517ba15032d694": {
          "model_module": "@jupyter-widgets/controls",
          "model_name": "HBoxModel",
          "state": {
            "_view_name": "HBoxView",
            "_dom_classes": [],
            "_model_name": "HBoxModel",
            "_view_module": "@jupyter-widgets/controls",
            "_model_module_version": "1.5.0",
            "_view_count": null,
            "_view_module_version": "1.5.0",
            "box_style": "",
            "layout": "IPY_MODEL_082fcba7f54e4bd489d901756a29797e",
            "_model_module": "@jupyter-widgets/controls",
            "children": [
              "IPY_MODEL_ffb4bf9bfd42495f9e2820c4dbcdaa38",
              "IPY_MODEL_175cd096e4804b43bf27d2f695871d41"
            ]
          }
        },
        "082fcba7f54e4bd489d901756a29797e": {
          "model_module": "@jupyter-widgets/base",
          "model_name": "LayoutModel",
          "state": {
            "_view_name": "LayoutView",
            "grid_template_rows": null,
            "right": null,
            "justify_content": null,
            "_view_module": "@jupyter-widgets/base",
            "overflow": null,
            "_model_module_version": "1.2.0",
            "_view_count": null,
            "flex_flow": null,
            "width": null,
            "min_width": null,
            "border": null,
            "align_items": null,
            "bottom": null,
            "_model_module": "@jupyter-widgets/base",
            "top": null,
            "grid_column": null,
            "overflow_y": null,
            "overflow_x": null,
            "grid_auto_flow": null,
            "grid_area": null,
            "grid_template_columns": null,
            "flex": null,
            "_model_name": "LayoutModel",
            "justify_items": null,
            "grid_row": null,
            "max_height": null,
            "align_content": null,
            "visibility": null,
            "align_self": null,
            "height": null,
            "min_height": null,
            "padding": null,
            "grid_auto_rows": null,
            "grid_gap": null,
            "max_width": null,
            "order": null,
            "_view_module_version": "1.2.0",
            "grid_template_areas": null,
            "object_position": null,
            "object_fit": null,
            "grid_auto_columns": null,
            "margin": null,
            "display": null,
            "left": null
          }
        },
        "ffb4bf9bfd42495f9e2820c4dbcdaa38": {
          "model_module": "@jupyter-widgets/controls",
          "model_name": "FloatProgressModel",
          "state": {
            "_view_name": "ProgressView",
            "style": "IPY_MODEL_0cf09ac25d6149d5bcc411360437eaa8",
            "_dom_classes": [],
            "description": "100%",
            "_model_name": "FloatProgressModel",
            "bar_style": "",
            "max": 500,
            "_view_module": "@jupyter-widgets/controls",
            "_model_module_version": "1.5.0",
            "value": 500,
            "_view_count": null,
            "_view_module_version": "1.5.0",
            "orientation": "horizontal",
            "min": 0,
            "description_tooltip": null,
            "_model_module": "@jupyter-widgets/controls",
            "layout": "IPY_MODEL_e050f68d445d4eb7bd8d35fd7f827d25"
          }
        },
        "175cd096e4804b43bf27d2f695871d41": {
          "model_module": "@jupyter-widgets/controls",
          "model_name": "HTMLModel",
          "state": {
            "_view_name": "HTMLView",
            "style": "IPY_MODEL_36ca675378344918b64a004c5e183e0e",
            "_dom_classes": [],
            "description": "",
            "_model_name": "HTMLModel",
            "placeholder": "​",
            "_view_module": "@jupyter-widgets/controls",
            "_model_module_version": "1.5.0",
            "value": " 500/500 [00:33&lt;00:00, 14.44it/s, alpha=0.8714, beta=0.0892]",
            "_view_count": null,
            "_view_module_version": "1.5.0",
            "description_tooltip": null,
            "_model_module": "@jupyter-widgets/controls",
            "layout": "IPY_MODEL_35a0645f20554ebdba44c9f78eb9a9d3"
          }
        },
        "0cf09ac25d6149d5bcc411360437eaa8": {
          "model_module": "@jupyter-widgets/controls",
          "model_name": "ProgressStyleModel",
          "state": {
            "_view_name": "StyleView",
            "_model_name": "ProgressStyleModel",
            "description_width": "initial",
            "_view_module": "@jupyter-widgets/base",
            "_model_module_version": "1.5.0",
            "_view_count": null,
            "_view_module_version": "1.2.0",
            "bar_color": null,
            "_model_module": "@jupyter-widgets/controls"
          }
        },
        "e050f68d445d4eb7bd8d35fd7f827d25": {
          "model_module": "@jupyter-widgets/base",
          "model_name": "LayoutModel",
          "state": {
            "_view_name": "LayoutView",
            "grid_template_rows": null,
            "right": null,
            "justify_content": null,
            "_view_module": "@jupyter-widgets/base",
            "overflow": null,
            "_model_module_version": "1.2.0",
            "_view_count": null,
            "flex_flow": null,
            "width": null,
            "min_width": null,
            "border": null,
            "align_items": null,
            "bottom": null,
            "_model_module": "@jupyter-widgets/base",
            "top": null,
            "grid_column": null,
            "overflow_y": null,
            "overflow_x": null,
            "grid_auto_flow": null,
            "grid_area": null,
            "grid_template_columns": null,
            "flex": null,
            "_model_name": "LayoutModel",
            "justify_items": null,
            "grid_row": null,
            "max_height": null,
            "align_content": null,
            "visibility": null,
            "align_self": null,
            "height": null,
            "min_height": null,
            "padding": null,
            "grid_auto_rows": null,
            "grid_gap": null,
            "max_width": null,
            "order": null,
            "_view_module_version": "1.2.0",
            "grid_template_areas": null,
            "object_position": null,
            "object_fit": null,
            "grid_auto_columns": null,
            "margin": null,
            "display": null,
            "left": null
          }
        },
        "36ca675378344918b64a004c5e183e0e": {
          "model_module": "@jupyter-widgets/controls",
          "model_name": "DescriptionStyleModel",
          "state": {
            "_view_name": "StyleView",
            "_model_name": "DescriptionStyleModel",
            "description_width": "",
            "_view_module": "@jupyter-widgets/base",
            "_model_module_version": "1.5.0",
            "_view_count": null,
            "_view_module_version": "1.2.0",
            "_model_module": "@jupyter-widgets/controls"
          }
        },
        "35a0645f20554ebdba44c9f78eb9a9d3": {
          "model_module": "@jupyter-widgets/base",
          "model_name": "LayoutModel",
          "state": {
            "_view_name": "LayoutView",
            "grid_template_rows": null,
            "right": null,
            "justify_content": null,
            "_view_module": "@jupyter-widgets/base",
            "overflow": null,
            "_model_module_version": "1.2.0",
            "_view_count": null,
            "flex_flow": null,
            "width": null,
            "min_width": null,
            "border": null,
            "align_items": null,
            "bottom": null,
            "_model_module": "@jupyter-widgets/base",
            "top": null,
            "grid_column": null,
            "overflow_y": null,
            "overflow_x": null,
            "grid_auto_flow": null,
            "grid_area": null,
            "grid_template_columns": null,
            "flex": null,
            "_model_name": "LayoutModel",
            "justify_items": null,
            "grid_row": null,
            "max_height": null,
            "align_content": null,
            "visibility": null,
            "align_self": null,
            "height": null,
            "min_height": null,
            "padding": null,
            "grid_auto_rows": null,
            "grid_gap": null,
            "max_width": null,
            "order": null,
            "_view_module_version": "1.2.0",
            "grid_template_areas": null,
            "object_position": null,
            "object_fit": null,
            "grid_auto_columns": null,
            "margin": null,
            "display": null,
            "left": null
          }
        },
        "a12d1e0926e5468084929d25c45f0cda": {
          "model_module": "@jupyter-widgets/controls",
          "model_name": "HBoxModel",
          "state": {
            "_view_name": "HBoxView",
            "_dom_classes": [],
            "_model_name": "HBoxModel",
            "_view_module": "@jupyter-widgets/controls",
            "_model_module_version": "1.5.0",
            "_view_count": null,
            "_view_module_version": "1.5.0",
            "box_style": "",
            "layout": "IPY_MODEL_a8c7e4c376244f068bb9e32f9526cf0e",
            "_model_module": "@jupyter-widgets/controls",
            "children": [
              "IPY_MODEL_ea6e123967a940fb8deeb25444e9d7a0",
              "IPY_MODEL_0aa60b686c0740739bf10c0f9d92e48d"
            ]
          }
        },
        "a8c7e4c376244f068bb9e32f9526cf0e": {
          "model_module": "@jupyter-widgets/base",
          "model_name": "LayoutModel",
          "state": {
            "_view_name": "LayoutView",
            "grid_template_rows": null,
            "right": null,
            "justify_content": null,
            "_view_module": "@jupyter-widgets/base",
            "overflow": null,
            "_model_module_version": "1.2.0",
            "_view_count": null,
            "flex_flow": null,
            "width": null,
            "min_width": null,
            "border": null,
            "align_items": null,
            "bottom": null,
            "_model_module": "@jupyter-widgets/base",
            "top": null,
            "grid_column": null,
            "overflow_y": null,
            "overflow_x": null,
            "grid_auto_flow": null,
            "grid_area": null,
            "grid_template_columns": null,
            "flex": null,
            "_model_name": "LayoutModel",
            "justify_items": null,
            "grid_row": null,
            "max_height": null,
            "align_content": null,
            "visibility": null,
            "align_self": null,
            "height": null,
            "min_height": null,
            "padding": null,
            "grid_auto_rows": null,
            "grid_gap": null,
            "max_width": null,
            "order": null,
            "_view_module_version": "1.2.0",
            "grid_template_areas": null,
            "object_position": null,
            "object_fit": null,
            "grid_auto_columns": null,
            "margin": null,
            "display": null,
            "left": null
          }
        },
        "ea6e123967a940fb8deeb25444e9d7a0": {
          "model_module": "@jupyter-widgets/controls",
          "model_name": "FloatProgressModel",
          "state": {
            "_view_name": "ProgressView",
            "style": "IPY_MODEL_aac5090f4a0145418e480db287c63727",
            "_dom_classes": [],
            "description": "100%",
            "_model_name": "FloatProgressModel",
            "bar_style": "",
            "max": 500,
            "_view_module": "@jupyter-widgets/controls",
            "_model_module_version": "1.5.0",
            "value": 500,
            "_view_count": null,
            "_view_module_version": "1.5.0",
            "orientation": "horizontal",
            "min": 0,
            "description_tooltip": null,
            "_model_module": "@jupyter-widgets/controls",
            "layout": "IPY_MODEL_bd49dd1b2a744fd79f23cfcd4aed251e"
          }
        },
        "0aa60b686c0740739bf10c0f9d92e48d": {
          "model_module": "@jupyter-widgets/controls",
          "model_name": "HTMLModel",
          "state": {
            "_view_name": "HTMLView",
            "style": "IPY_MODEL_a9276e1a69234b08ba93ec5432504b22",
            "_dom_classes": [],
            "description": "",
            "_model_name": "HTMLModel",
            "placeholder": "​",
            "_view_module": "@jupyter-widgets/controls",
            "_model_module_version": "1.5.0",
            "value": " 500/500 [00:26&lt;00:00, 18.69it/s, alpha=0.8972]",
            "_view_count": null,
            "_view_module_version": "1.5.0",
            "description_tooltip": null,
            "_model_module": "@jupyter-widgets/controls",
            "layout": "IPY_MODEL_0d23218194fa4ec08754ac3b7c2a2b90"
          }
        },
        "aac5090f4a0145418e480db287c63727": {
          "model_module": "@jupyter-widgets/controls",
          "model_name": "ProgressStyleModel",
          "state": {
            "_view_name": "StyleView",
            "_model_name": "ProgressStyleModel",
            "description_width": "initial",
            "_view_module": "@jupyter-widgets/base",
            "_model_module_version": "1.5.0",
            "_view_count": null,
            "_view_module_version": "1.2.0",
            "bar_color": null,
            "_model_module": "@jupyter-widgets/controls"
          }
        },
        "bd49dd1b2a744fd79f23cfcd4aed251e": {
          "model_module": "@jupyter-widgets/base",
          "model_name": "LayoutModel",
          "state": {
            "_view_name": "LayoutView",
            "grid_template_rows": null,
            "right": null,
            "justify_content": null,
            "_view_module": "@jupyter-widgets/base",
            "overflow": null,
            "_model_module_version": "1.2.0",
            "_view_count": null,
            "flex_flow": null,
            "width": null,
            "min_width": null,
            "border": null,
            "align_items": null,
            "bottom": null,
            "_model_module": "@jupyter-widgets/base",
            "top": null,
            "grid_column": null,
            "overflow_y": null,
            "overflow_x": null,
            "grid_auto_flow": null,
            "grid_area": null,
            "grid_template_columns": null,
            "flex": null,
            "_model_name": "LayoutModel",
            "justify_items": null,
            "grid_row": null,
            "max_height": null,
            "align_content": null,
            "visibility": null,
            "align_self": null,
            "height": null,
            "min_height": null,
            "padding": null,
            "grid_auto_rows": null,
            "grid_gap": null,
            "max_width": null,
            "order": null,
            "_view_module_version": "1.2.0",
            "grid_template_areas": null,
            "object_position": null,
            "object_fit": null,
            "grid_auto_columns": null,
            "margin": null,
            "display": null,
            "left": null
          }
        },
        "a9276e1a69234b08ba93ec5432504b22": {
          "model_module": "@jupyter-widgets/controls",
          "model_name": "DescriptionStyleModel",
          "state": {
            "_view_name": "StyleView",
            "_model_name": "DescriptionStyleModel",
            "description_width": "",
            "_view_module": "@jupyter-widgets/base",
            "_model_module_version": "1.5.0",
            "_view_count": null,
            "_view_module_version": "1.2.0",
            "_model_module": "@jupyter-widgets/controls"
          }
        },
        "0d23218194fa4ec08754ac3b7c2a2b90": {
          "model_module": "@jupyter-widgets/base",
          "model_name": "LayoutModel",
          "state": {
            "_view_name": "LayoutView",
            "grid_template_rows": null,
            "right": null,
            "justify_content": null,
            "_view_module": "@jupyter-widgets/base",
            "overflow": null,
            "_model_module_version": "1.2.0",
            "_view_count": null,
            "flex_flow": null,
            "width": null,
            "min_width": null,
            "border": null,
            "align_items": null,
            "bottom": null,
            "_model_module": "@jupyter-widgets/base",
            "top": null,
            "grid_column": null,
            "overflow_y": null,
            "overflow_x": null,
            "grid_auto_flow": null,
            "grid_area": null,
            "grid_template_columns": null,
            "flex": null,
            "_model_name": "LayoutModel",
            "justify_items": null,
            "grid_row": null,
            "max_height": null,
            "align_content": null,
            "visibility": null,
            "align_self": null,
            "height": null,
            "min_height": null,
            "padding": null,
            "grid_auto_rows": null,
            "grid_gap": null,
            "max_width": null,
            "order": null,
            "_view_module_version": "1.2.0",
            "grid_template_areas": null,
            "object_position": null,
            "object_fit": null,
            "grid_auto_columns": null,
            "margin": null,
            "display": null,
            "left": null
          }
        },
        "e7f598e522d8453d8d3e9de0e0005183": {
          "model_module": "@jupyter-widgets/controls",
          "model_name": "HBoxModel",
          "state": {
            "_view_name": "HBoxView",
            "_dom_classes": [],
            "_model_name": "HBoxModel",
            "_view_module": "@jupyter-widgets/controls",
            "_model_module_version": "1.5.0",
            "_view_count": null,
            "_view_module_version": "1.5.0",
            "box_style": "",
            "layout": "IPY_MODEL_30c50dec202d4db4a69486b5cb71b2fb",
            "_model_module": "@jupyter-widgets/controls",
            "children": [
              "IPY_MODEL_d55eb9039476470bbbbc28fd8c817487",
              "IPY_MODEL_edda4f722d8945768902d595505167a8"
            ]
          }
        },
        "30c50dec202d4db4a69486b5cb71b2fb": {
          "model_module": "@jupyter-widgets/base",
          "model_name": "LayoutModel",
          "state": {
            "_view_name": "LayoutView",
            "grid_template_rows": null,
            "right": null,
            "justify_content": null,
            "_view_module": "@jupyter-widgets/base",
            "overflow": null,
            "_model_module_version": "1.2.0",
            "_view_count": null,
            "flex_flow": null,
            "width": null,
            "min_width": null,
            "border": null,
            "align_items": null,
            "bottom": null,
            "_model_module": "@jupyter-widgets/base",
            "top": null,
            "grid_column": null,
            "overflow_y": null,
            "overflow_x": null,
            "grid_auto_flow": null,
            "grid_area": null,
            "grid_template_columns": null,
            "flex": null,
            "_model_name": "LayoutModel",
            "justify_items": null,
            "grid_row": null,
            "max_height": null,
            "align_content": null,
            "visibility": null,
            "align_self": null,
            "height": null,
            "min_height": null,
            "padding": null,
            "grid_auto_rows": null,
            "grid_gap": null,
            "max_width": null,
            "order": null,
            "_view_module_version": "1.2.0",
            "grid_template_areas": null,
            "object_position": null,
            "object_fit": null,
            "grid_auto_columns": null,
            "margin": null,
            "display": null,
            "left": null
          }
        },
        "d55eb9039476470bbbbc28fd8c817487": {
          "model_module": "@jupyter-widgets/controls",
          "model_name": "FloatProgressModel",
          "state": {
            "_view_name": "ProgressView",
            "style": "IPY_MODEL_7b6c135b06f6463284135cd0ccf038f8",
            "_dom_classes": [],
            "description": "100%",
            "_model_name": "FloatProgressModel",
            "bar_style": "",
            "max": 500,
            "_view_module": "@jupyter-widgets/controls",
            "_model_module_version": "1.5.0",
            "value": 500,
            "_view_count": null,
            "_view_module_version": "1.5.0",
            "orientation": "horizontal",
            "min": 0,
            "description_tooltip": null,
            "_model_module": "@jupyter-widgets/controls",
            "layout": "IPY_MODEL_215c54cf070a427abd3446ff2c87f8f4"
          }
        },
        "edda4f722d8945768902d595505167a8": {
          "model_module": "@jupyter-widgets/controls",
          "model_name": "HTMLModel",
          "state": {
            "_view_name": "HTMLView",
            "style": "IPY_MODEL_b60dc1542912497592aa06263f10979b",
            "_dom_classes": [],
            "description": "",
            "_model_name": "HTMLModel",
            "placeholder": "​",
            "_view_module": "@jupyter-widgets/controls",
            "_model_module_version": "1.5.0",
            "value": " 500/500 [00:03&lt;00:00, 137.45it/s]",
            "_view_count": null,
            "_view_module_version": "1.5.0",
            "description_tooltip": null,
            "_model_module": "@jupyter-widgets/controls",
            "layout": "IPY_MODEL_944c047a83884368b7272bdae0db7b60"
          }
        },
        "7b6c135b06f6463284135cd0ccf038f8": {
          "model_module": "@jupyter-widgets/controls",
          "model_name": "ProgressStyleModel",
          "state": {
            "_view_name": "StyleView",
            "_model_name": "ProgressStyleModel",
            "description_width": "initial",
            "_view_module": "@jupyter-widgets/base",
            "_model_module_version": "1.5.0",
            "_view_count": null,
            "_view_module_version": "1.2.0",
            "bar_color": null,
            "_model_module": "@jupyter-widgets/controls"
          }
        },
        "215c54cf070a427abd3446ff2c87f8f4": {
          "model_module": "@jupyter-widgets/base",
          "model_name": "LayoutModel",
          "state": {
            "_view_name": "LayoutView",
            "grid_template_rows": null,
            "right": null,
            "justify_content": null,
            "_view_module": "@jupyter-widgets/base",
            "overflow": null,
            "_model_module_version": "1.2.0",
            "_view_count": null,
            "flex_flow": null,
            "width": null,
            "min_width": null,
            "border": null,
            "align_items": null,
            "bottom": null,
            "_model_module": "@jupyter-widgets/base",
            "top": null,
            "grid_column": null,
            "overflow_y": null,
            "overflow_x": null,
            "grid_auto_flow": null,
            "grid_area": null,
            "grid_template_columns": null,
            "flex": null,
            "_model_name": "LayoutModel",
            "justify_items": null,
            "grid_row": null,
            "max_height": null,
            "align_content": null,
            "visibility": null,
            "align_self": null,
            "height": null,
            "min_height": null,
            "padding": null,
            "grid_auto_rows": null,
            "grid_gap": null,
            "max_width": null,
            "order": null,
            "_view_module_version": "1.2.0",
            "grid_template_areas": null,
            "object_position": null,
            "object_fit": null,
            "grid_auto_columns": null,
            "margin": null,
            "display": null,
            "left": null
          }
        },
        "b60dc1542912497592aa06263f10979b": {
          "model_module": "@jupyter-widgets/controls",
          "model_name": "DescriptionStyleModel",
          "state": {
            "_view_name": "StyleView",
            "_model_name": "DescriptionStyleModel",
            "description_width": "",
            "_view_module": "@jupyter-widgets/base",
            "_model_module_version": "1.5.0",
            "_view_count": null,
            "_view_module_version": "1.2.0",
            "_model_module": "@jupyter-widgets/controls"
          }
        },
        "944c047a83884368b7272bdae0db7b60": {
          "model_module": "@jupyter-widgets/base",
          "model_name": "LayoutModel",
          "state": {
            "_view_name": "LayoutView",
            "grid_template_rows": null,
            "right": null,
            "justify_content": null,
            "_view_module": "@jupyter-widgets/base",
            "overflow": null,
            "_model_module_version": "1.2.0",
            "_view_count": null,
            "flex_flow": null,
            "width": null,
            "min_width": null,
            "border": null,
            "align_items": null,
            "bottom": null,
            "_model_module": "@jupyter-widgets/base",
            "top": null,
            "grid_column": null,
            "overflow_y": null,
            "overflow_x": null,
            "grid_auto_flow": null,
            "grid_area": null,
            "grid_template_columns": null,
            "flex": null,
            "_model_name": "LayoutModel",
            "justify_items": null,
            "grid_row": null,
            "max_height": null,
            "align_content": null,
            "visibility": null,
            "align_self": null,
            "height": null,
            "min_height": null,
            "padding": null,
            "grid_auto_rows": null,
            "grid_gap": null,
            "max_width": null,
            "order": null,
            "_view_module_version": "1.2.0",
            "grid_template_areas": null,
            "object_position": null,
            "object_fit": null,
            "grid_auto_columns": null,
            "margin": null,
            "display": null,
            "left": null
          }
        },
        "38427d6e9ca3443c87236302db99b501": {
          "model_module": "@jupyter-widgets/controls",
          "model_name": "HBoxModel",
          "state": {
            "_view_name": "HBoxView",
            "_dom_classes": [],
            "_model_name": "HBoxModel",
            "_view_module": "@jupyter-widgets/controls",
            "_model_module_version": "1.5.0",
            "_view_count": null,
            "_view_module_version": "1.5.0",
            "box_style": "",
            "layout": "IPY_MODEL_bad8ca458ff44cd5aa4f49afefb60cba",
            "_model_module": "@jupyter-widgets/controls",
            "children": [
              "IPY_MODEL_d8d16958eb4846e09b2e87ef1ad16a74",
              "IPY_MODEL_8026e6d424f24bb8aa7301f7a7f9bfa8"
            ]
          }
        },
        "bad8ca458ff44cd5aa4f49afefb60cba": {
          "model_module": "@jupyter-widgets/base",
          "model_name": "LayoutModel",
          "state": {
            "_view_name": "LayoutView",
            "grid_template_rows": null,
            "right": null,
            "justify_content": null,
            "_view_module": "@jupyter-widgets/base",
            "overflow": null,
            "_model_module_version": "1.2.0",
            "_view_count": null,
            "flex_flow": null,
            "width": null,
            "min_width": null,
            "border": null,
            "align_items": null,
            "bottom": null,
            "_model_module": "@jupyter-widgets/base",
            "top": null,
            "grid_column": null,
            "overflow_y": null,
            "overflow_x": null,
            "grid_auto_flow": null,
            "grid_area": null,
            "grid_template_columns": null,
            "flex": null,
            "_model_name": "LayoutModel",
            "justify_items": null,
            "grid_row": null,
            "max_height": null,
            "align_content": null,
            "visibility": null,
            "align_self": null,
            "height": null,
            "min_height": null,
            "padding": null,
            "grid_auto_rows": null,
            "grid_gap": null,
            "max_width": null,
            "order": null,
            "_view_module_version": "1.2.0",
            "grid_template_areas": null,
            "object_position": null,
            "object_fit": null,
            "grid_auto_columns": null,
            "margin": null,
            "display": null,
            "left": null
          }
        },
        "d8d16958eb4846e09b2e87ef1ad16a74": {
          "model_module": "@jupyter-widgets/controls",
          "model_name": "FloatProgressModel",
          "state": {
            "_view_name": "ProgressView",
            "style": "IPY_MODEL_cac0b3f7cce043d69b9ca81060d841e9",
            "_dom_classes": [],
            "description": "100%",
            "_model_name": "FloatProgressModel",
            "bar_style": "",
            "max": 500,
            "_view_module": "@jupyter-widgets/controls",
            "_model_module_version": "1.5.0",
            "value": 500,
            "_view_count": null,
            "_view_module_version": "1.5.0",
            "orientation": "horizontal",
            "min": 0,
            "description_tooltip": null,
            "_model_module": "@jupyter-widgets/controls",
            "layout": "IPY_MODEL_a59fdc5123f64d54ad74bbffd0733f16"
          }
        },
        "8026e6d424f24bb8aa7301f7a7f9bfa8": {
          "model_module": "@jupyter-widgets/controls",
          "model_name": "HTMLModel",
          "state": {
            "_view_name": "HTMLView",
            "style": "IPY_MODEL_8719e7c9f8db468ab080c6cf75b3e244",
            "_dom_classes": [],
            "description": "",
            "_model_name": "HTMLModel",
            "placeholder": "​",
            "_view_module": "@jupyter-widgets/controls",
            "_model_module_version": "1.5.0",
            "value": " 500/500 [00:02&lt;00:00, 210.99it/s]",
            "_view_count": null,
            "_view_module_version": "1.5.0",
            "description_tooltip": null,
            "_model_module": "@jupyter-widgets/controls",
            "layout": "IPY_MODEL_b7357f28640b4ebf964bc86f50523b09"
          }
        },
        "cac0b3f7cce043d69b9ca81060d841e9": {
          "model_module": "@jupyter-widgets/controls",
          "model_name": "ProgressStyleModel",
          "state": {
            "_view_name": "StyleView",
            "_model_name": "ProgressStyleModel",
            "description_width": "initial",
            "_view_module": "@jupyter-widgets/base",
            "_model_module_version": "1.5.0",
            "_view_count": null,
            "_view_module_version": "1.2.0",
            "bar_color": null,
            "_model_module": "@jupyter-widgets/controls"
          }
        },
        "a59fdc5123f64d54ad74bbffd0733f16": {
          "model_module": "@jupyter-widgets/base",
          "model_name": "LayoutModel",
          "state": {
            "_view_name": "LayoutView",
            "grid_template_rows": null,
            "right": null,
            "justify_content": null,
            "_view_module": "@jupyter-widgets/base",
            "overflow": null,
            "_model_module_version": "1.2.0",
            "_view_count": null,
            "flex_flow": null,
            "width": null,
            "min_width": null,
            "border": null,
            "align_items": null,
            "bottom": null,
            "_model_module": "@jupyter-widgets/base",
            "top": null,
            "grid_column": null,
            "overflow_y": null,
            "overflow_x": null,
            "grid_auto_flow": null,
            "grid_area": null,
            "grid_template_columns": null,
            "flex": null,
            "_model_name": "LayoutModel",
            "justify_items": null,
            "grid_row": null,
            "max_height": null,
            "align_content": null,
            "visibility": null,
            "align_self": null,
            "height": null,
            "min_height": null,
            "padding": null,
            "grid_auto_rows": null,
            "grid_gap": null,
            "max_width": null,
            "order": null,
            "_view_module_version": "1.2.0",
            "grid_template_areas": null,
            "object_position": null,
            "object_fit": null,
            "grid_auto_columns": null,
            "margin": null,
            "display": null,
            "left": null
          }
        },
        "8719e7c9f8db468ab080c6cf75b3e244": {
          "model_module": "@jupyter-widgets/controls",
          "model_name": "DescriptionStyleModel",
          "state": {
            "_view_name": "StyleView",
            "_model_name": "DescriptionStyleModel",
            "description_width": "",
            "_view_module": "@jupyter-widgets/base",
            "_model_module_version": "1.5.0",
            "_view_count": null,
            "_view_module_version": "1.2.0",
            "_model_module": "@jupyter-widgets/controls"
          }
        },
        "b7357f28640b4ebf964bc86f50523b09": {
          "model_module": "@jupyter-widgets/base",
          "model_name": "LayoutModel",
          "state": {
            "_view_name": "LayoutView",
            "grid_template_rows": null,
            "right": null,
            "justify_content": null,
            "_view_module": "@jupyter-widgets/base",
            "overflow": null,
            "_model_module_version": "1.2.0",
            "_view_count": null,
            "flex_flow": null,
            "width": null,
            "min_width": null,
            "border": null,
            "align_items": null,
            "bottom": null,
            "_model_module": "@jupyter-widgets/base",
            "top": null,
            "grid_column": null,
            "overflow_y": null,
            "overflow_x": null,
            "grid_auto_flow": null,
            "grid_area": null,
            "grid_template_columns": null,
            "flex": null,
            "_model_name": "LayoutModel",
            "justify_items": null,
            "grid_row": null,
            "max_height": null,
            "align_content": null,
            "visibility": null,
            "align_self": null,
            "height": null,
            "min_height": null,
            "padding": null,
            "grid_auto_rows": null,
            "grid_gap": null,
            "max_width": null,
            "order": null,
            "_view_module_version": "1.2.0",
            "grid_template_areas": null,
            "object_position": null,
            "object_fit": null,
            "grid_auto_columns": null,
            "margin": null,
            "display": null,
            "left": null
          }
        },
        "3e6af7f164c3414396e4e8905ccbe0af": {
          "model_module": "@jupyter-widgets/controls",
          "model_name": "HBoxModel",
          "state": {
            "_view_name": "HBoxView",
            "_dom_classes": [],
            "_model_name": "HBoxModel",
            "_view_module": "@jupyter-widgets/controls",
            "_model_module_version": "1.5.0",
            "_view_count": null,
            "_view_module_version": "1.5.0",
            "box_style": "",
            "layout": "IPY_MODEL_0f15bbed40754690a9356fa0ca838c34",
            "_model_module": "@jupyter-widgets/controls",
            "children": [
              "IPY_MODEL_79ffd16246ca46a3a5d49c74580d8da7",
              "IPY_MODEL_b29cdcacc7134c99a1c846f278b88187"
            ]
          }
        },
        "0f15bbed40754690a9356fa0ca838c34": {
          "model_module": "@jupyter-widgets/base",
          "model_name": "LayoutModel",
          "state": {
            "_view_name": "LayoutView",
            "grid_template_rows": null,
            "right": null,
            "justify_content": null,
            "_view_module": "@jupyter-widgets/base",
            "overflow": null,
            "_model_module_version": "1.2.0",
            "_view_count": null,
            "flex_flow": null,
            "width": null,
            "min_width": null,
            "border": null,
            "align_items": null,
            "bottom": null,
            "_model_module": "@jupyter-widgets/base",
            "top": null,
            "grid_column": null,
            "overflow_y": null,
            "overflow_x": null,
            "grid_auto_flow": null,
            "grid_area": null,
            "grid_template_columns": null,
            "flex": null,
            "_model_name": "LayoutModel",
            "justify_items": null,
            "grid_row": null,
            "max_height": null,
            "align_content": null,
            "visibility": null,
            "align_self": null,
            "height": null,
            "min_height": null,
            "padding": null,
            "grid_auto_rows": null,
            "grid_gap": null,
            "max_width": null,
            "order": null,
            "_view_module_version": "1.2.0",
            "grid_template_areas": null,
            "object_position": null,
            "object_fit": null,
            "grid_auto_columns": null,
            "margin": null,
            "display": null,
            "left": null
          }
        },
        "79ffd16246ca46a3a5d49c74580d8da7": {
          "model_module": "@jupyter-widgets/controls",
          "model_name": "FloatProgressModel",
          "state": {
            "_view_name": "ProgressView",
            "style": "IPY_MODEL_34ed4242639a4a27a69715bebd9dbbc0",
            "_dom_classes": [],
            "description": "100%",
            "_model_name": "FloatProgressModel",
            "bar_style": "",
            "max": 500,
            "_view_module": "@jupyter-widgets/controls",
            "_model_module_version": "1.5.0",
            "value": 500,
            "_view_count": null,
            "_view_module_version": "1.5.0",
            "orientation": "horizontal",
            "min": 0,
            "description_tooltip": null,
            "_model_module": "@jupyter-widgets/controls",
            "layout": "IPY_MODEL_136e079ff3cc45e8affff20eb01411d5"
          }
        },
        "b29cdcacc7134c99a1c846f278b88187": {
          "model_module": "@jupyter-widgets/controls",
          "model_name": "HTMLModel",
          "state": {
            "_view_name": "HTMLView",
            "style": "IPY_MODEL_01f00237ae9b42ffbd683af8c3a3cc01",
            "_dom_classes": [],
            "description": "",
            "_model_name": "HTMLModel",
            "placeholder": "​",
            "_view_module": "@jupyter-widgets/controls",
            "_model_module_version": "1.5.0",
            "value": " 500/500 [00:02&lt;00:00, 204.62it/s]",
            "_view_count": null,
            "_view_module_version": "1.5.0",
            "description_tooltip": null,
            "_model_module": "@jupyter-widgets/controls",
            "layout": "IPY_MODEL_b78652b064b94739b5f2af3b2f2b47dd"
          }
        },
        "34ed4242639a4a27a69715bebd9dbbc0": {
          "model_module": "@jupyter-widgets/controls",
          "model_name": "ProgressStyleModel",
          "state": {
            "_view_name": "StyleView",
            "_model_name": "ProgressStyleModel",
            "description_width": "initial",
            "_view_module": "@jupyter-widgets/base",
            "_model_module_version": "1.5.0",
            "_view_count": null,
            "_view_module_version": "1.2.0",
            "bar_color": null,
            "_model_module": "@jupyter-widgets/controls"
          }
        },
        "136e079ff3cc45e8affff20eb01411d5": {
          "model_module": "@jupyter-widgets/base",
          "model_name": "LayoutModel",
          "state": {
            "_view_name": "LayoutView",
            "grid_template_rows": null,
            "right": null,
            "justify_content": null,
            "_view_module": "@jupyter-widgets/base",
            "overflow": null,
            "_model_module_version": "1.2.0",
            "_view_count": null,
            "flex_flow": null,
            "width": null,
            "min_width": null,
            "border": null,
            "align_items": null,
            "bottom": null,
            "_model_module": "@jupyter-widgets/base",
            "top": null,
            "grid_column": null,
            "overflow_y": null,
            "overflow_x": null,
            "grid_auto_flow": null,
            "grid_area": null,
            "grid_template_columns": null,
            "flex": null,
            "_model_name": "LayoutModel",
            "justify_items": null,
            "grid_row": null,
            "max_height": null,
            "align_content": null,
            "visibility": null,
            "align_self": null,
            "height": null,
            "min_height": null,
            "padding": null,
            "grid_auto_rows": null,
            "grid_gap": null,
            "max_width": null,
            "order": null,
            "_view_module_version": "1.2.0",
            "grid_template_areas": null,
            "object_position": null,
            "object_fit": null,
            "grid_auto_columns": null,
            "margin": null,
            "display": null,
            "left": null
          }
        },
        "01f00237ae9b42ffbd683af8c3a3cc01": {
          "model_module": "@jupyter-widgets/controls",
          "model_name": "DescriptionStyleModel",
          "state": {
            "_view_name": "StyleView",
            "_model_name": "DescriptionStyleModel",
            "description_width": "",
            "_view_module": "@jupyter-widgets/base",
            "_model_module_version": "1.5.0",
            "_view_count": null,
            "_view_module_version": "1.2.0",
            "_model_module": "@jupyter-widgets/controls"
          }
        },
        "b78652b064b94739b5f2af3b2f2b47dd": {
          "model_module": "@jupyter-widgets/base",
          "model_name": "LayoutModel",
          "state": {
            "_view_name": "LayoutView",
            "grid_template_rows": null,
            "right": null,
            "justify_content": null,
            "_view_module": "@jupyter-widgets/base",
            "overflow": null,
            "_model_module_version": "1.2.0",
            "_view_count": null,
            "flex_flow": null,
            "width": null,
            "min_width": null,
            "border": null,
            "align_items": null,
            "bottom": null,
            "_model_module": "@jupyter-widgets/base",
            "top": null,
            "grid_column": null,
            "overflow_y": null,
            "overflow_x": null,
            "grid_auto_flow": null,
            "grid_area": null,
            "grid_template_columns": null,
            "flex": null,
            "_model_name": "LayoutModel",
            "justify_items": null,
            "grid_row": null,
            "max_height": null,
            "align_content": null,
            "visibility": null,
            "align_self": null,
            "height": null,
            "min_height": null,
            "padding": null,
            "grid_auto_rows": null,
            "grid_gap": null,
            "max_width": null,
            "order": null,
            "_view_module_version": "1.2.0",
            "grid_template_areas": null,
            "object_position": null,
            "object_fit": null,
            "grid_auto_columns": null,
            "margin": null,
            "display": null,
            "left": null
          }
        },
        "69d410c1408043a6bbc331bc4dacf5da": {
          "model_module": "@jupyter-widgets/controls",
          "model_name": "HBoxModel",
          "state": {
            "_view_name": "HBoxView",
            "_dom_classes": [],
            "_model_name": "HBoxModel",
            "_view_module": "@jupyter-widgets/controls",
            "_model_module_version": "1.5.0",
            "_view_count": null,
            "_view_module_version": "1.5.0",
            "box_style": "",
            "layout": "IPY_MODEL_9eb3c379e47341c8a6aaa9929ede8e95",
            "_model_module": "@jupyter-widgets/controls",
            "children": [
              "IPY_MODEL_134681edbec9443da2f413a3ba5e9092",
              "IPY_MODEL_2ab4b100b7d54b798654fad92b8973bd"
            ]
          }
        },
        "9eb3c379e47341c8a6aaa9929ede8e95": {
          "model_module": "@jupyter-widgets/base",
          "model_name": "LayoutModel",
          "state": {
            "_view_name": "LayoutView",
            "grid_template_rows": null,
            "right": null,
            "justify_content": null,
            "_view_module": "@jupyter-widgets/base",
            "overflow": null,
            "_model_module_version": "1.2.0",
            "_view_count": null,
            "flex_flow": null,
            "width": null,
            "min_width": null,
            "border": null,
            "align_items": null,
            "bottom": null,
            "_model_module": "@jupyter-widgets/base",
            "top": null,
            "grid_column": null,
            "overflow_y": null,
            "overflow_x": null,
            "grid_auto_flow": null,
            "grid_area": null,
            "grid_template_columns": null,
            "flex": null,
            "_model_name": "LayoutModel",
            "justify_items": null,
            "grid_row": null,
            "max_height": null,
            "align_content": null,
            "visibility": null,
            "align_self": null,
            "height": null,
            "min_height": null,
            "padding": null,
            "grid_auto_rows": null,
            "grid_gap": null,
            "max_width": null,
            "order": null,
            "_view_module_version": "1.2.0",
            "grid_template_areas": null,
            "object_position": null,
            "object_fit": null,
            "grid_auto_columns": null,
            "margin": null,
            "display": null,
            "left": null
          }
        },
        "134681edbec9443da2f413a3ba5e9092": {
          "model_module": "@jupyter-widgets/controls",
          "model_name": "FloatProgressModel",
          "state": {
            "_view_name": "ProgressView",
            "style": "IPY_MODEL_59bc9d58dc6348cf906819915ba46d7c",
            "_dom_classes": [],
            "description": "100%",
            "_model_name": "FloatProgressModel",
            "bar_style": "",
            "max": 500,
            "_view_module": "@jupyter-widgets/controls",
            "_model_module_version": "1.5.0",
            "value": 500,
            "_view_count": null,
            "_view_module_version": "1.5.0",
            "orientation": "horizontal",
            "min": 0,
            "description_tooltip": null,
            "_model_module": "@jupyter-widgets/controls",
            "layout": "IPY_MODEL_d3b45ba078aa4bf3b86f3084a2badd21"
          }
        },
        "2ab4b100b7d54b798654fad92b8973bd": {
          "model_module": "@jupyter-widgets/controls",
          "model_name": "HTMLModel",
          "state": {
            "_view_name": "HTMLView",
            "style": "IPY_MODEL_8b3a47d6920945559e04f91a24469ac3",
            "_dom_classes": [],
            "description": "",
            "_model_name": "HTMLModel",
            "placeholder": "​",
            "_view_module": "@jupyter-widgets/controls",
            "_model_module_version": "1.5.0",
            "value": " 500/500 [00:32&lt;00:00, 15.49it/s, alpha=0.1063, beta=0.0528]",
            "_view_count": null,
            "_view_module_version": "1.5.0",
            "description_tooltip": null,
            "_model_module": "@jupyter-widgets/controls",
            "layout": "IPY_MODEL_6ade7a289b2e46ce89fe146de6606d27"
          }
        },
        "59bc9d58dc6348cf906819915ba46d7c": {
          "model_module": "@jupyter-widgets/controls",
          "model_name": "ProgressStyleModel",
          "state": {
            "_view_name": "StyleView",
            "_model_name": "ProgressStyleModel",
            "description_width": "initial",
            "_view_module": "@jupyter-widgets/base",
            "_model_module_version": "1.5.0",
            "_view_count": null,
            "_view_module_version": "1.2.0",
            "bar_color": null,
            "_model_module": "@jupyter-widgets/controls"
          }
        },
        "d3b45ba078aa4bf3b86f3084a2badd21": {
          "model_module": "@jupyter-widgets/base",
          "model_name": "LayoutModel",
          "state": {
            "_view_name": "LayoutView",
            "grid_template_rows": null,
            "right": null,
            "justify_content": null,
            "_view_module": "@jupyter-widgets/base",
            "overflow": null,
            "_model_module_version": "1.2.0",
            "_view_count": null,
            "flex_flow": null,
            "width": null,
            "min_width": null,
            "border": null,
            "align_items": null,
            "bottom": null,
            "_model_module": "@jupyter-widgets/base",
            "top": null,
            "grid_column": null,
            "overflow_y": null,
            "overflow_x": null,
            "grid_auto_flow": null,
            "grid_area": null,
            "grid_template_columns": null,
            "flex": null,
            "_model_name": "LayoutModel",
            "justify_items": null,
            "grid_row": null,
            "max_height": null,
            "align_content": null,
            "visibility": null,
            "align_self": null,
            "height": null,
            "min_height": null,
            "padding": null,
            "grid_auto_rows": null,
            "grid_gap": null,
            "max_width": null,
            "order": null,
            "_view_module_version": "1.2.0",
            "grid_template_areas": null,
            "object_position": null,
            "object_fit": null,
            "grid_auto_columns": null,
            "margin": null,
            "display": null,
            "left": null
          }
        },
        "8b3a47d6920945559e04f91a24469ac3": {
          "model_module": "@jupyter-widgets/controls",
          "model_name": "DescriptionStyleModel",
          "state": {
            "_view_name": "StyleView",
            "_model_name": "DescriptionStyleModel",
            "description_width": "",
            "_view_module": "@jupyter-widgets/base",
            "_model_module_version": "1.5.0",
            "_view_count": null,
            "_view_module_version": "1.2.0",
            "_model_module": "@jupyter-widgets/controls"
          }
        },
        "6ade7a289b2e46ce89fe146de6606d27": {
          "model_module": "@jupyter-widgets/base",
          "model_name": "LayoutModel",
          "state": {
            "_view_name": "LayoutView",
            "grid_template_rows": null,
            "right": null,
            "justify_content": null,
            "_view_module": "@jupyter-widgets/base",
            "overflow": null,
            "_model_module_version": "1.2.0",
            "_view_count": null,
            "flex_flow": null,
            "width": null,
            "min_width": null,
            "border": null,
            "align_items": null,
            "bottom": null,
            "_model_module": "@jupyter-widgets/base",
            "top": null,
            "grid_column": null,
            "overflow_y": null,
            "overflow_x": null,
            "grid_auto_flow": null,
            "grid_area": null,
            "grid_template_columns": null,
            "flex": null,
            "_model_name": "LayoutModel",
            "justify_items": null,
            "grid_row": null,
            "max_height": null,
            "align_content": null,
            "visibility": null,
            "align_self": null,
            "height": null,
            "min_height": null,
            "padding": null,
            "grid_auto_rows": null,
            "grid_gap": null,
            "max_width": null,
            "order": null,
            "_view_module_version": "1.2.0",
            "grid_template_areas": null,
            "object_position": null,
            "object_fit": null,
            "grid_auto_columns": null,
            "margin": null,
            "display": null,
            "left": null
          }
        },
        "04a9900630a04df68e38c8bd30a7ebc5": {
          "model_module": "@jupyter-widgets/controls",
          "model_name": "HBoxModel",
          "state": {
            "_view_name": "HBoxView",
            "_dom_classes": [],
            "_model_name": "HBoxModel",
            "_view_module": "@jupyter-widgets/controls",
            "_model_module_version": "1.5.0",
            "_view_count": null,
            "_view_module_version": "1.5.0",
            "box_style": "",
            "layout": "IPY_MODEL_b2e56ed1f6834a6ab2060bb7f953a72f",
            "_model_module": "@jupyter-widgets/controls",
            "children": [
              "IPY_MODEL_2d774d1c354a42958e40767745812b40",
              "IPY_MODEL_7524eacd2d094fb09111a35e25347aef"
            ]
          }
        },
        "b2e56ed1f6834a6ab2060bb7f953a72f": {
          "model_module": "@jupyter-widgets/base",
          "model_name": "LayoutModel",
          "state": {
            "_view_name": "LayoutView",
            "grid_template_rows": null,
            "right": null,
            "justify_content": null,
            "_view_module": "@jupyter-widgets/base",
            "overflow": null,
            "_model_module_version": "1.2.0",
            "_view_count": null,
            "flex_flow": null,
            "width": null,
            "min_width": null,
            "border": null,
            "align_items": null,
            "bottom": null,
            "_model_module": "@jupyter-widgets/base",
            "top": null,
            "grid_column": null,
            "overflow_y": null,
            "overflow_x": null,
            "grid_auto_flow": null,
            "grid_area": null,
            "grid_template_columns": null,
            "flex": null,
            "_model_name": "LayoutModel",
            "justify_items": null,
            "grid_row": null,
            "max_height": null,
            "align_content": null,
            "visibility": null,
            "align_self": null,
            "height": null,
            "min_height": null,
            "padding": null,
            "grid_auto_rows": null,
            "grid_gap": null,
            "max_width": null,
            "order": null,
            "_view_module_version": "1.2.0",
            "grid_template_areas": null,
            "object_position": null,
            "object_fit": null,
            "grid_auto_columns": null,
            "margin": null,
            "display": null,
            "left": null
          }
        },
        "2d774d1c354a42958e40767745812b40": {
          "model_module": "@jupyter-widgets/controls",
          "model_name": "FloatProgressModel",
          "state": {
            "_view_name": "ProgressView",
            "style": "IPY_MODEL_173c398128a2494b949e944e265cbf84",
            "_dom_classes": [],
            "description": "100%",
            "_model_name": "FloatProgressModel",
            "bar_style": "",
            "max": 500,
            "_view_module": "@jupyter-widgets/controls",
            "_model_module_version": "1.5.0",
            "value": 500,
            "_view_count": null,
            "_view_module_version": "1.5.0",
            "orientation": "horizontal",
            "min": 0,
            "description_tooltip": null,
            "_model_module": "@jupyter-widgets/controls",
            "layout": "IPY_MODEL_8dfe07db52e34d4e96f6d8a913244947"
          }
        },
        "7524eacd2d094fb09111a35e25347aef": {
          "model_module": "@jupyter-widgets/controls",
          "model_name": "HTMLModel",
          "state": {
            "_view_name": "HTMLView",
            "style": "IPY_MODEL_80829a231deb4690ac0f39e56dd90abe",
            "_dom_classes": [],
            "description": "",
            "_model_name": "HTMLModel",
            "placeholder": "​",
            "_view_module": "@jupyter-widgets/controls",
            "_model_module_version": "1.5.0",
            "value": " 500/500 [00:26&lt;00:00, 19.80it/s, alpha=0.0045]",
            "_view_count": null,
            "_view_module_version": "1.5.0",
            "description_tooltip": null,
            "_model_module": "@jupyter-widgets/controls",
            "layout": "IPY_MODEL_dafb608a58a54af3a8162b627fdd4bb5"
          }
        },
        "173c398128a2494b949e944e265cbf84": {
          "model_module": "@jupyter-widgets/controls",
          "model_name": "ProgressStyleModel",
          "state": {
            "_view_name": "StyleView",
            "_model_name": "ProgressStyleModel",
            "description_width": "initial",
            "_view_module": "@jupyter-widgets/base",
            "_model_module_version": "1.5.0",
            "_view_count": null,
            "_view_module_version": "1.2.0",
            "bar_color": null,
            "_model_module": "@jupyter-widgets/controls"
          }
        },
        "8dfe07db52e34d4e96f6d8a913244947": {
          "model_module": "@jupyter-widgets/base",
          "model_name": "LayoutModel",
          "state": {
            "_view_name": "LayoutView",
            "grid_template_rows": null,
            "right": null,
            "justify_content": null,
            "_view_module": "@jupyter-widgets/base",
            "overflow": null,
            "_model_module_version": "1.2.0",
            "_view_count": null,
            "flex_flow": null,
            "width": null,
            "min_width": null,
            "border": null,
            "align_items": null,
            "bottom": null,
            "_model_module": "@jupyter-widgets/base",
            "top": null,
            "grid_column": null,
            "overflow_y": null,
            "overflow_x": null,
            "grid_auto_flow": null,
            "grid_area": null,
            "grid_template_columns": null,
            "flex": null,
            "_model_name": "LayoutModel",
            "justify_items": null,
            "grid_row": null,
            "max_height": null,
            "align_content": null,
            "visibility": null,
            "align_self": null,
            "height": null,
            "min_height": null,
            "padding": null,
            "grid_auto_rows": null,
            "grid_gap": null,
            "max_width": null,
            "order": null,
            "_view_module_version": "1.2.0",
            "grid_template_areas": null,
            "object_position": null,
            "object_fit": null,
            "grid_auto_columns": null,
            "margin": null,
            "display": null,
            "left": null
          }
        },
        "80829a231deb4690ac0f39e56dd90abe": {
          "model_module": "@jupyter-widgets/controls",
          "model_name": "DescriptionStyleModel",
          "state": {
            "_view_name": "StyleView",
            "_model_name": "DescriptionStyleModel",
            "description_width": "",
            "_view_module": "@jupyter-widgets/base",
            "_model_module_version": "1.5.0",
            "_view_count": null,
            "_view_module_version": "1.2.0",
            "_model_module": "@jupyter-widgets/controls"
          }
        },
        "dafb608a58a54af3a8162b627fdd4bb5": {
          "model_module": "@jupyter-widgets/base",
          "model_name": "LayoutModel",
          "state": {
            "_view_name": "LayoutView",
            "grid_template_rows": null,
            "right": null,
            "justify_content": null,
            "_view_module": "@jupyter-widgets/base",
            "overflow": null,
            "_model_module_version": "1.2.0",
            "_view_count": null,
            "flex_flow": null,
            "width": null,
            "min_width": null,
            "border": null,
            "align_items": null,
            "bottom": null,
            "_model_module": "@jupyter-widgets/base",
            "top": null,
            "grid_column": null,
            "overflow_y": null,
            "overflow_x": null,
            "grid_auto_flow": null,
            "grid_area": null,
            "grid_template_columns": null,
            "flex": null,
            "_model_name": "LayoutModel",
            "justify_items": null,
            "grid_row": null,
            "max_height": null,
            "align_content": null,
            "visibility": null,
            "align_self": null,
            "height": null,
            "min_height": null,
            "padding": null,
            "grid_auto_rows": null,
            "grid_gap": null,
            "max_width": null,
            "order": null,
            "_view_module_version": "1.2.0",
            "grid_template_areas": null,
            "object_position": null,
            "object_fit": null,
            "grid_auto_columns": null,
            "margin": null,
            "display": null,
            "left": null
          }
        },
        "00ec670877cb4aef97ce85c8f2e8f497": {
          "model_module": "@jupyter-widgets/controls",
          "model_name": "HBoxModel",
          "state": {
            "_view_name": "HBoxView",
            "_dom_classes": [],
            "_model_name": "HBoxModel",
            "_view_module": "@jupyter-widgets/controls",
            "_model_module_version": "1.5.0",
            "_view_count": null,
            "_view_module_version": "1.5.0",
            "box_style": "",
            "layout": "IPY_MODEL_17b23b6e68ae4bd9ab5a7635a7442b20",
            "_model_module": "@jupyter-widgets/controls",
            "children": [
              "IPY_MODEL_6845dda26b154d2b8002d2e46a129a83",
              "IPY_MODEL_429553dd83a54ff99a4aca1599a7384e"
            ]
          }
        },
        "17b23b6e68ae4bd9ab5a7635a7442b20": {
          "model_module": "@jupyter-widgets/base",
          "model_name": "LayoutModel",
          "state": {
            "_view_name": "LayoutView",
            "grid_template_rows": null,
            "right": null,
            "justify_content": null,
            "_view_module": "@jupyter-widgets/base",
            "overflow": null,
            "_model_module_version": "1.2.0",
            "_view_count": null,
            "flex_flow": null,
            "width": null,
            "min_width": null,
            "border": null,
            "align_items": null,
            "bottom": null,
            "_model_module": "@jupyter-widgets/base",
            "top": null,
            "grid_column": null,
            "overflow_y": null,
            "overflow_x": null,
            "grid_auto_flow": null,
            "grid_area": null,
            "grid_template_columns": null,
            "flex": null,
            "_model_name": "LayoutModel",
            "justify_items": null,
            "grid_row": null,
            "max_height": null,
            "align_content": null,
            "visibility": null,
            "align_self": null,
            "height": null,
            "min_height": null,
            "padding": null,
            "grid_auto_rows": null,
            "grid_gap": null,
            "max_width": null,
            "order": null,
            "_view_module_version": "1.2.0",
            "grid_template_areas": null,
            "object_position": null,
            "object_fit": null,
            "grid_auto_columns": null,
            "margin": null,
            "display": null,
            "left": null
          }
        },
        "6845dda26b154d2b8002d2e46a129a83": {
          "model_module": "@jupyter-widgets/controls",
          "model_name": "FloatProgressModel",
          "state": {
            "_view_name": "ProgressView",
            "style": "IPY_MODEL_f6a5c705df264c8e90e2df461f9d9474",
            "_dom_classes": [],
            "description": "100%",
            "_model_name": "FloatProgressModel",
            "bar_style": "",
            "max": 500,
            "_view_module": "@jupyter-widgets/controls",
            "_model_module_version": "1.5.0",
            "value": 500,
            "_view_count": null,
            "_view_module_version": "1.5.0",
            "orientation": "horizontal",
            "min": 0,
            "description_tooltip": null,
            "_model_module": "@jupyter-widgets/controls",
            "layout": "IPY_MODEL_ebb7a5b09d594a66a9e05f9fd91c8f55"
          }
        },
        "429553dd83a54ff99a4aca1599a7384e": {
          "model_module": "@jupyter-widgets/controls",
          "model_name": "HTMLModel",
          "state": {
            "_view_name": "HTMLView",
            "style": "IPY_MODEL_27674be4aa9c467db5d14306bc595683",
            "_dom_classes": [],
            "description": "",
            "_model_name": "HTMLModel",
            "placeholder": "​",
            "_view_module": "@jupyter-widgets/controls",
            "_model_module_version": "1.5.0",
            "value": " 500/500 [00:03&lt;00:00, 136.65it/s]",
            "_view_count": null,
            "_view_module_version": "1.5.0",
            "description_tooltip": null,
            "_model_module": "@jupyter-widgets/controls",
            "layout": "IPY_MODEL_a985715aff8e432882047b13baff1ae0"
          }
        },
        "f6a5c705df264c8e90e2df461f9d9474": {
          "model_module": "@jupyter-widgets/controls",
          "model_name": "ProgressStyleModel",
          "state": {
            "_view_name": "StyleView",
            "_model_name": "ProgressStyleModel",
            "description_width": "initial",
            "_view_module": "@jupyter-widgets/base",
            "_model_module_version": "1.5.0",
            "_view_count": null,
            "_view_module_version": "1.2.0",
            "bar_color": null,
            "_model_module": "@jupyter-widgets/controls"
          }
        },
        "ebb7a5b09d594a66a9e05f9fd91c8f55": {
          "model_module": "@jupyter-widgets/base",
          "model_name": "LayoutModel",
          "state": {
            "_view_name": "LayoutView",
            "grid_template_rows": null,
            "right": null,
            "justify_content": null,
            "_view_module": "@jupyter-widgets/base",
            "overflow": null,
            "_model_module_version": "1.2.0",
            "_view_count": null,
            "flex_flow": null,
            "width": null,
            "min_width": null,
            "border": null,
            "align_items": null,
            "bottom": null,
            "_model_module": "@jupyter-widgets/base",
            "top": null,
            "grid_column": null,
            "overflow_y": null,
            "overflow_x": null,
            "grid_auto_flow": null,
            "grid_area": null,
            "grid_template_columns": null,
            "flex": null,
            "_model_name": "LayoutModel",
            "justify_items": null,
            "grid_row": null,
            "max_height": null,
            "align_content": null,
            "visibility": null,
            "align_self": null,
            "height": null,
            "min_height": null,
            "padding": null,
            "grid_auto_rows": null,
            "grid_gap": null,
            "max_width": null,
            "order": null,
            "_view_module_version": "1.2.0",
            "grid_template_areas": null,
            "object_position": null,
            "object_fit": null,
            "grid_auto_columns": null,
            "margin": null,
            "display": null,
            "left": null
          }
        },
        "27674be4aa9c467db5d14306bc595683": {
          "model_module": "@jupyter-widgets/controls",
          "model_name": "DescriptionStyleModel",
          "state": {
            "_view_name": "StyleView",
            "_model_name": "DescriptionStyleModel",
            "description_width": "",
            "_view_module": "@jupyter-widgets/base",
            "_model_module_version": "1.5.0",
            "_view_count": null,
            "_view_module_version": "1.2.0",
            "_model_module": "@jupyter-widgets/controls"
          }
        },
        "a985715aff8e432882047b13baff1ae0": {
          "model_module": "@jupyter-widgets/base",
          "model_name": "LayoutModel",
          "state": {
            "_view_name": "LayoutView",
            "grid_template_rows": null,
            "right": null,
            "justify_content": null,
            "_view_module": "@jupyter-widgets/base",
            "overflow": null,
            "_model_module_version": "1.2.0",
            "_view_count": null,
            "flex_flow": null,
            "width": null,
            "min_width": null,
            "border": null,
            "align_items": null,
            "bottom": null,
            "_model_module": "@jupyter-widgets/base",
            "top": null,
            "grid_column": null,
            "overflow_y": null,
            "overflow_x": null,
            "grid_auto_flow": null,
            "grid_area": null,
            "grid_template_columns": null,
            "flex": null,
            "_model_name": "LayoutModel",
            "justify_items": null,
            "grid_row": null,
            "max_height": null,
            "align_content": null,
            "visibility": null,
            "align_self": null,
            "height": null,
            "min_height": null,
            "padding": null,
            "grid_auto_rows": null,
            "grid_gap": null,
            "max_width": null,
            "order": null,
            "_view_module_version": "1.2.0",
            "grid_template_areas": null,
            "object_position": null,
            "object_fit": null,
            "grid_auto_columns": null,
            "margin": null,
            "display": null,
            "left": null
          }
        },
        "62598f211df64bd48e67e375afb7baab": {
          "model_module": "@jupyter-widgets/controls",
          "model_name": "HBoxModel",
          "state": {
            "_view_name": "HBoxView",
            "_dom_classes": [],
            "_model_name": "HBoxModel",
            "_view_module": "@jupyter-widgets/controls",
            "_model_module_version": "1.5.0",
            "_view_count": null,
            "_view_module_version": "1.5.0",
            "box_style": "",
            "layout": "IPY_MODEL_31dfec5e770e4152b304c840c0dfa692",
            "_model_module": "@jupyter-widgets/controls",
            "children": [
              "IPY_MODEL_1c65a816892a4e8e924a418f75b56412",
              "IPY_MODEL_c326a00ba73e4c3a89c85a94a12f3770"
            ]
          }
        },
        "31dfec5e770e4152b304c840c0dfa692": {
          "model_module": "@jupyter-widgets/base",
          "model_name": "LayoutModel",
          "state": {
            "_view_name": "LayoutView",
            "grid_template_rows": null,
            "right": null,
            "justify_content": null,
            "_view_module": "@jupyter-widgets/base",
            "overflow": null,
            "_model_module_version": "1.2.0",
            "_view_count": null,
            "flex_flow": null,
            "width": null,
            "min_width": null,
            "border": null,
            "align_items": null,
            "bottom": null,
            "_model_module": "@jupyter-widgets/base",
            "top": null,
            "grid_column": null,
            "overflow_y": null,
            "overflow_x": null,
            "grid_auto_flow": null,
            "grid_area": null,
            "grid_template_columns": null,
            "flex": null,
            "_model_name": "LayoutModel",
            "justify_items": null,
            "grid_row": null,
            "max_height": null,
            "align_content": null,
            "visibility": null,
            "align_self": null,
            "height": null,
            "min_height": null,
            "padding": null,
            "grid_auto_rows": null,
            "grid_gap": null,
            "max_width": null,
            "order": null,
            "_view_module_version": "1.2.0",
            "grid_template_areas": null,
            "object_position": null,
            "object_fit": null,
            "grid_auto_columns": null,
            "margin": null,
            "display": null,
            "left": null
          }
        },
        "1c65a816892a4e8e924a418f75b56412": {
          "model_module": "@jupyter-widgets/controls",
          "model_name": "FloatProgressModel",
          "state": {
            "_view_name": "ProgressView",
            "style": "IPY_MODEL_74d09836b6164c60861cc8739b1104d2",
            "_dom_classes": [],
            "description": "100%",
            "_model_name": "FloatProgressModel",
            "bar_style": "",
            "max": 500,
            "_view_module": "@jupyter-widgets/controls",
            "_model_module_version": "1.5.0",
            "value": 500,
            "_view_count": null,
            "_view_module_version": "1.5.0",
            "orientation": "horizontal",
            "min": 0,
            "description_tooltip": null,
            "_model_module": "@jupyter-widgets/controls",
            "layout": "IPY_MODEL_1355f6ab5ca742aa8185797bd9fdf85a"
          }
        },
        "c326a00ba73e4c3a89c85a94a12f3770": {
          "model_module": "@jupyter-widgets/controls",
          "model_name": "HTMLModel",
          "state": {
            "_view_name": "HTMLView",
            "style": "IPY_MODEL_db8e4cdc6f634766b8134b20122563a4",
            "_dom_classes": [],
            "description": "",
            "_model_name": "HTMLModel",
            "placeholder": "​",
            "_view_module": "@jupyter-widgets/controls",
            "_model_module_version": "1.5.0",
            "value": " 500/500 [00:02&lt;00:00, 259.24it/s]",
            "_view_count": null,
            "_view_module_version": "1.5.0",
            "description_tooltip": null,
            "_model_module": "@jupyter-widgets/controls",
            "layout": "IPY_MODEL_0f036ce6b3ff47d881c4f1cc3c95921b"
          }
        },
        "74d09836b6164c60861cc8739b1104d2": {
          "model_module": "@jupyter-widgets/controls",
          "model_name": "ProgressStyleModel",
          "state": {
            "_view_name": "StyleView",
            "_model_name": "ProgressStyleModel",
            "description_width": "initial",
            "_view_module": "@jupyter-widgets/base",
            "_model_module_version": "1.5.0",
            "_view_count": null,
            "_view_module_version": "1.2.0",
            "bar_color": null,
            "_model_module": "@jupyter-widgets/controls"
          }
        },
        "1355f6ab5ca742aa8185797bd9fdf85a": {
          "model_module": "@jupyter-widgets/base",
          "model_name": "LayoutModel",
          "state": {
            "_view_name": "LayoutView",
            "grid_template_rows": null,
            "right": null,
            "justify_content": null,
            "_view_module": "@jupyter-widgets/base",
            "overflow": null,
            "_model_module_version": "1.2.0",
            "_view_count": null,
            "flex_flow": null,
            "width": null,
            "min_width": null,
            "border": null,
            "align_items": null,
            "bottom": null,
            "_model_module": "@jupyter-widgets/base",
            "top": null,
            "grid_column": null,
            "overflow_y": null,
            "overflow_x": null,
            "grid_auto_flow": null,
            "grid_area": null,
            "grid_template_columns": null,
            "flex": null,
            "_model_name": "LayoutModel",
            "justify_items": null,
            "grid_row": null,
            "max_height": null,
            "align_content": null,
            "visibility": null,
            "align_self": null,
            "height": null,
            "min_height": null,
            "padding": null,
            "grid_auto_rows": null,
            "grid_gap": null,
            "max_width": null,
            "order": null,
            "_view_module_version": "1.2.0",
            "grid_template_areas": null,
            "object_position": null,
            "object_fit": null,
            "grid_auto_columns": null,
            "margin": null,
            "display": null,
            "left": null
          }
        },
        "db8e4cdc6f634766b8134b20122563a4": {
          "model_module": "@jupyter-widgets/controls",
          "model_name": "DescriptionStyleModel",
          "state": {
            "_view_name": "StyleView",
            "_model_name": "DescriptionStyleModel",
            "description_width": "",
            "_view_module": "@jupyter-widgets/base",
            "_model_module_version": "1.5.0",
            "_view_count": null,
            "_view_module_version": "1.2.0",
            "_model_module": "@jupyter-widgets/controls"
          }
        },
        "0f036ce6b3ff47d881c4f1cc3c95921b": {
          "model_module": "@jupyter-widgets/base",
          "model_name": "LayoutModel",
          "state": {
            "_view_name": "LayoutView",
            "grid_template_rows": null,
            "right": null,
            "justify_content": null,
            "_view_module": "@jupyter-widgets/base",
            "overflow": null,
            "_model_module_version": "1.2.0",
            "_view_count": null,
            "flex_flow": null,
            "width": null,
            "min_width": null,
            "border": null,
            "align_items": null,
            "bottom": null,
            "_model_module": "@jupyter-widgets/base",
            "top": null,
            "grid_column": null,
            "overflow_y": null,
            "overflow_x": null,
            "grid_auto_flow": null,
            "grid_area": null,
            "grid_template_columns": null,
            "flex": null,
            "_model_name": "LayoutModel",
            "justify_items": null,
            "grid_row": null,
            "max_height": null,
            "align_content": null,
            "visibility": null,
            "align_self": null,
            "height": null,
            "min_height": null,
            "padding": null,
            "grid_auto_rows": null,
            "grid_gap": null,
            "max_width": null,
            "order": null,
            "_view_module_version": "1.2.0",
            "grid_template_areas": null,
            "object_position": null,
            "object_fit": null,
            "grid_auto_columns": null,
            "margin": null,
            "display": null,
            "left": null
          }
        },
        "406f7e4c0af747008efbbe58afe7b69d": {
          "model_module": "@jupyter-widgets/controls",
          "model_name": "HBoxModel",
          "state": {
            "_view_name": "HBoxView",
            "_dom_classes": [],
            "_model_name": "HBoxModel",
            "_view_module": "@jupyter-widgets/controls",
            "_model_module_version": "1.5.0",
            "_view_count": null,
            "_view_module_version": "1.5.0",
            "box_style": "",
            "layout": "IPY_MODEL_57129f4f2af0436b952414a750c93312",
            "_model_module": "@jupyter-widgets/controls",
            "children": [
              "IPY_MODEL_54a7b381685d46b0888fae3925705b82",
              "IPY_MODEL_31ba536e805a4270a5189c3c6879440b"
            ]
          }
        },
        "57129f4f2af0436b952414a750c93312": {
          "model_module": "@jupyter-widgets/base",
          "model_name": "LayoutModel",
          "state": {
            "_view_name": "LayoutView",
            "grid_template_rows": null,
            "right": null,
            "justify_content": null,
            "_view_module": "@jupyter-widgets/base",
            "overflow": null,
            "_model_module_version": "1.2.0",
            "_view_count": null,
            "flex_flow": null,
            "width": null,
            "min_width": null,
            "border": null,
            "align_items": null,
            "bottom": null,
            "_model_module": "@jupyter-widgets/base",
            "top": null,
            "grid_column": null,
            "overflow_y": null,
            "overflow_x": null,
            "grid_auto_flow": null,
            "grid_area": null,
            "grid_template_columns": null,
            "flex": null,
            "_model_name": "LayoutModel",
            "justify_items": null,
            "grid_row": null,
            "max_height": null,
            "align_content": null,
            "visibility": null,
            "align_self": null,
            "height": null,
            "min_height": null,
            "padding": null,
            "grid_auto_rows": null,
            "grid_gap": null,
            "max_width": null,
            "order": null,
            "_view_module_version": "1.2.0",
            "grid_template_areas": null,
            "object_position": null,
            "object_fit": null,
            "grid_auto_columns": null,
            "margin": null,
            "display": null,
            "left": null
          }
        },
        "54a7b381685d46b0888fae3925705b82": {
          "model_module": "@jupyter-widgets/controls",
          "model_name": "FloatProgressModel",
          "state": {
            "_view_name": "ProgressView",
            "style": "IPY_MODEL_4183773e6f5748e7b95137709d86f73f",
            "_dom_classes": [],
            "description": "100%",
            "_model_name": "FloatProgressModel",
            "bar_style": "",
            "max": 500,
            "_view_module": "@jupyter-widgets/controls",
            "_model_module_version": "1.5.0",
            "value": 500,
            "_view_count": null,
            "_view_module_version": "1.5.0",
            "orientation": "horizontal",
            "min": 0,
            "description_tooltip": null,
            "_model_module": "@jupyter-widgets/controls",
            "layout": "IPY_MODEL_cb8a7f50ee3b4b9e91f7ee9dbdfe18ee"
          }
        },
        "31ba536e805a4270a5189c3c6879440b": {
          "model_module": "@jupyter-widgets/controls",
          "model_name": "HTMLModel",
          "state": {
            "_view_name": "HTMLView",
            "style": "IPY_MODEL_f4dffe58a8b24daca12e8b3493ad7b02",
            "_dom_classes": [],
            "description": "",
            "_model_name": "HTMLModel",
            "placeholder": "​",
            "_view_module": "@jupyter-widgets/controls",
            "_model_module_version": "1.5.0",
            "value": " 500/500 [00:02&lt;00:00, 254.88it/s]",
            "_view_count": null,
            "_view_module_version": "1.5.0",
            "description_tooltip": null,
            "_model_module": "@jupyter-widgets/controls",
            "layout": "IPY_MODEL_ced6b591c6a7488d8d28d855a3ee2d8e"
          }
        },
        "4183773e6f5748e7b95137709d86f73f": {
          "model_module": "@jupyter-widgets/controls",
          "model_name": "ProgressStyleModel",
          "state": {
            "_view_name": "StyleView",
            "_model_name": "ProgressStyleModel",
            "description_width": "initial",
            "_view_module": "@jupyter-widgets/base",
            "_model_module_version": "1.5.0",
            "_view_count": null,
            "_view_module_version": "1.2.0",
            "bar_color": null,
            "_model_module": "@jupyter-widgets/controls"
          }
        },
        "cb8a7f50ee3b4b9e91f7ee9dbdfe18ee": {
          "model_module": "@jupyter-widgets/base",
          "model_name": "LayoutModel",
          "state": {
            "_view_name": "LayoutView",
            "grid_template_rows": null,
            "right": null,
            "justify_content": null,
            "_view_module": "@jupyter-widgets/base",
            "overflow": null,
            "_model_module_version": "1.2.0",
            "_view_count": null,
            "flex_flow": null,
            "width": null,
            "min_width": null,
            "border": null,
            "align_items": null,
            "bottom": null,
            "_model_module": "@jupyter-widgets/base",
            "top": null,
            "grid_column": null,
            "overflow_y": null,
            "overflow_x": null,
            "grid_auto_flow": null,
            "grid_area": null,
            "grid_template_columns": null,
            "flex": null,
            "_model_name": "LayoutModel",
            "justify_items": null,
            "grid_row": null,
            "max_height": null,
            "align_content": null,
            "visibility": null,
            "align_self": null,
            "height": null,
            "min_height": null,
            "padding": null,
            "grid_auto_rows": null,
            "grid_gap": null,
            "max_width": null,
            "order": null,
            "_view_module_version": "1.2.0",
            "grid_template_areas": null,
            "object_position": null,
            "object_fit": null,
            "grid_auto_columns": null,
            "margin": null,
            "display": null,
            "left": null
          }
        },
        "f4dffe58a8b24daca12e8b3493ad7b02": {
          "model_module": "@jupyter-widgets/controls",
          "model_name": "DescriptionStyleModel",
          "state": {
            "_view_name": "StyleView",
            "_model_name": "DescriptionStyleModel",
            "description_width": "",
            "_view_module": "@jupyter-widgets/base",
            "_model_module_version": "1.5.0",
            "_view_count": null,
            "_view_module_version": "1.2.0",
            "_model_module": "@jupyter-widgets/controls"
          }
        },
        "ced6b591c6a7488d8d28d855a3ee2d8e": {
          "model_module": "@jupyter-widgets/base",
          "model_name": "LayoutModel",
          "state": {
            "_view_name": "LayoutView",
            "grid_template_rows": null,
            "right": null,
            "justify_content": null,
            "_view_module": "@jupyter-widgets/base",
            "overflow": null,
            "_model_module_version": "1.2.0",
            "_view_count": null,
            "flex_flow": null,
            "width": null,
            "min_width": null,
            "border": null,
            "align_items": null,
            "bottom": null,
            "_model_module": "@jupyter-widgets/base",
            "top": null,
            "grid_column": null,
            "overflow_y": null,
            "overflow_x": null,
            "grid_auto_flow": null,
            "grid_area": null,
            "grid_template_columns": null,
            "flex": null,
            "_model_name": "LayoutModel",
            "justify_items": null,
            "grid_row": null,
            "max_height": null,
            "align_content": null,
            "visibility": null,
            "align_self": null,
            "height": null,
            "min_height": null,
            "padding": null,
            "grid_auto_rows": null,
            "grid_gap": null,
            "max_width": null,
            "order": null,
            "_view_module_version": "1.2.0",
            "grid_template_areas": null,
            "object_position": null,
            "object_fit": null,
            "grid_auto_columns": null,
            "margin": null,
            "display": null,
            "left": null
          }
        },
        "0a06432528a4444a85f87ff1988218f3": {
          "model_module": "@jupyter-widgets/controls",
          "model_name": "HBoxModel",
          "state": {
            "_view_name": "HBoxView",
            "_dom_classes": [],
            "_model_name": "HBoxModel",
            "_view_module": "@jupyter-widgets/controls",
            "_model_module_version": "1.5.0",
            "_view_count": null,
            "_view_module_version": "1.5.0",
            "box_style": "",
            "layout": "IPY_MODEL_5f62bdae650c4a30871850e53077ab5b",
            "_model_module": "@jupyter-widgets/controls",
            "children": [
              "IPY_MODEL_afdd118bfe754924bdaf95f008112a1e",
              "IPY_MODEL_18b6f8d3fe854055a5237777b407522d"
            ]
          }
        },
        "5f62bdae650c4a30871850e53077ab5b": {
          "model_module": "@jupyter-widgets/base",
          "model_name": "LayoutModel",
          "state": {
            "_view_name": "LayoutView",
            "grid_template_rows": null,
            "right": null,
            "justify_content": null,
            "_view_module": "@jupyter-widgets/base",
            "overflow": null,
            "_model_module_version": "1.2.0",
            "_view_count": null,
            "flex_flow": null,
            "width": null,
            "min_width": null,
            "border": null,
            "align_items": null,
            "bottom": null,
            "_model_module": "@jupyter-widgets/base",
            "top": null,
            "grid_column": null,
            "overflow_y": null,
            "overflow_x": null,
            "grid_auto_flow": null,
            "grid_area": null,
            "grid_template_columns": null,
            "flex": null,
            "_model_name": "LayoutModel",
            "justify_items": null,
            "grid_row": null,
            "max_height": null,
            "align_content": null,
            "visibility": null,
            "align_self": null,
            "height": null,
            "min_height": null,
            "padding": null,
            "grid_auto_rows": null,
            "grid_gap": null,
            "max_width": null,
            "order": null,
            "_view_module_version": "1.2.0",
            "grid_template_areas": null,
            "object_position": null,
            "object_fit": null,
            "grid_auto_columns": null,
            "margin": null,
            "display": null,
            "left": null
          }
        },
        "afdd118bfe754924bdaf95f008112a1e": {
          "model_module": "@jupyter-widgets/controls",
          "model_name": "FloatProgressModel",
          "state": {
            "_view_name": "ProgressView",
            "style": "IPY_MODEL_fe16a02ae15d4f1b9b8ed58bb2cf54eb",
            "_dom_classes": [],
            "description": "100%",
            "_model_name": "FloatProgressModel",
            "bar_style": "",
            "max": 500,
            "_view_module": "@jupyter-widgets/controls",
            "_model_module_version": "1.5.0",
            "value": 500,
            "_view_count": null,
            "_view_module_version": "1.5.0",
            "orientation": "horizontal",
            "min": 0,
            "description_tooltip": null,
            "_model_module": "@jupyter-widgets/controls",
            "layout": "IPY_MODEL_c812b0039f0c4366abc82197a7b98fe2"
          }
        },
        "18b6f8d3fe854055a5237777b407522d": {
          "model_module": "@jupyter-widgets/controls",
          "model_name": "HTMLModel",
          "state": {
            "_view_name": "HTMLView",
            "style": "IPY_MODEL_04d88e16064a4c208ff1ff4b99e89863",
            "_dom_classes": [],
            "description": "",
            "_model_name": "HTMLModel",
            "placeholder": "​",
            "_view_module": "@jupyter-widgets/controls",
            "_model_module_version": "1.5.0",
            "value": " 500/500 [00:29&lt;00:00, 16.83it/s, alpha=0.8836, beta=0.9401]",
            "_view_count": null,
            "_view_module_version": "1.5.0",
            "description_tooltip": null,
            "_model_module": "@jupyter-widgets/controls",
            "layout": "IPY_MODEL_a2b41be743494380bb73579fb1974622"
          }
        },
        "fe16a02ae15d4f1b9b8ed58bb2cf54eb": {
          "model_module": "@jupyter-widgets/controls",
          "model_name": "ProgressStyleModel",
          "state": {
            "_view_name": "StyleView",
            "_model_name": "ProgressStyleModel",
            "description_width": "initial",
            "_view_module": "@jupyter-widgets/base",
            "_model_module_version": "1.5.0",
            "_view_count": null,
            "_view_module_version": "1.2.0",
            "bar_color": null,
            "_model_module": "@jupyter-widgets/controls"
          }
        },
        "c812b0039f0c4366abc82197a7b98fe2": {
          "model_module": "@jupyter-widgets/base",
          "model_name": "LayoutModel",
          "state": {
            "_view_name": "LayoutView",
            "grid_template_rows": null,
            "right": null,
            "justify_content": null,
            "_view_module": "@jupyter-widgets/base",
            "overflow": null,
            "_model_module_version": "1.2.0",
            "_view_count": null,
            "flex_flow": null,
            "width": null,
            "min_width": null,
            "border": null,
            "align_items": null,
            "bottom": null,
            "_model_module": "@jupyter-widgets/base",
            "top": null,
            "grid_column": null,
            "overflow_y": null,
            "overflow_x": null,
            "grid_auto_flow": null,
            "grid_area": null,
            "grid_template_columns": null,
            "flex": null,
            "_model_name": "LayoutModel",
            "justify_items": null,
            "grid_row": null,
            "max_height": null,
            "align_content": null,
            "visibility": null,
            "align_self": null,
            "height": null,
            "min_height": null,
            "padding": null,
            "grid_auto_rows": null,
            "grid_gap": null,
            "max_width": null,
            "order": null,
            "_view_module_version": "1.2.0",
            "grid_template_areas": null,
            "object_position": null,
            "object_fit": null,
            "grid_auto_columns": null,
            "margin": null,
            "display": null,
            "left": null
          }
        },
        "04d88e16064a4c208ff1ff4b99e89863": {
          "model_module": "@jupyter-widgets/controls",
          "model_name": "DescriptionStyleModel",
          "state": {
            "_view_name": "StyleView",
            "_model_name": "DescriptionStyleModel",
            "description_width": "",
            "_view_module": "@jupyter-widgets/base",
            "_model_module_version": "1.5.0",
            "_view_count": null,
            "_view_module_version": "1.2.0",
            "_model_module": "@jupyter-widgets/controls"
          }
        },
        "a2b41be743494380bb73579fb1974622": {
          "model_module": "@jupyter-widgets/base",
          "model_name": "LayoutModel",
          "state": {
            "_view_name": "LayoutView",
            "grid_template_rows": null,
            "right": null,
            "justify_content": null,
            "_view_module": "@jupyter-widgets/base",
            "overflow": null,
            "_model_module_version": "1.2.0",
            "_view_count": null,
            "flex_flow": null,
            "width": null,
            "min_width": null,
            "border": null,
            "align_items": null,
            "bottom": null,
            "_model_module": "@jupyter-widgets/base",
            "top": null,
            "grid_column": null,
            "overflow_y": null,
            "overflow_x": null,
            "grid_auto_flow": null,
            "grid_area": null,
            "grid_template_columns": null,
            "flex": null,
            "_model_name": "LayoutModel",
            "justify_items": null,
            "grid_row": null,
            "max_height": null,
            "align_content": null,
            "visibility": null,
            "align_self": null,
            "height": null,
            "min_height": null,
            "padding": null,
            "grid_auto_rows": null,
            "grid_gap": null,
            "max_width": null,
            "order": null,
            "_view_module_version": "1.2.0",
            "grid_template_areas": null,
            "object_position": null,
            "object_fit": null,
            "grid_auto_columns": null,
            "margin": null,
            "display": null,
            "left": null
          }
        },
        "a4666421dd5c4a07ae87a54d32908363": {
          "model_module": "@jupyter-widgets/controls",
          "model_name": "HBoxModel",
          "state": {
            "_view_name": "HBoxView",
            "_dom_classes": [],
            "_model_name": "HBoxModel",
            "_view_module": "@jupyter-widgets/controls",
            "_model_module_version": "1.5.0",
            "_view_count": null,
            "_view_module_version": "1.5.0",
            "box_style": "",
            "layout": "IPY_MODEL_69b32012e91e4780ac39a7b0ae6f5e87",
            "_model_module": "@jupyter-widgets/controls",
            "children": [
              "IPY_MODEL_3c10d1d4e9ec4b58999676b044f151a1",
              "IPY_MODEL_2c23322b332940db83c49235e21289b0"
            ]
          }
        },
        "69b32012e91e4780ac39a7b0ae6f5e87": {
          "model_module": "@jupyter-widgets/base",
          "model_name": "LayoutModel",
          "state": {
            "_view_name": "LayoutView",
            "grid_template_rows": null,
            "right": null,
            "justify_content": null,
            "_view_module": "@jupyter-widgets/base",
            "overflow": null,
            "_model_module_version": "1.2.0",
            "_view_count": null,
            "flex_flow": null,
            "width": null,
            "min_width": null,
            "border": null,
            "align_items": null,
            "bottom": null,
            "_model_module": "@jupyter-widgets/base",
            "top": null,
            "grid_column": null,
            "overflow_y": null,
            "overflow_x": null,
            "grid_auto_flow": null,
            "grid_area": null,
            "grid_template_columns": null,
            "flex": null,
            "_model_name": "LayoutModel",
            "justify_items": null,
            "grid_row": null,
            "max_height": null,
            "align_content": null,
            "visibility": null,
            "align_self": null,
            "height": null,
            "min_height": null,
            "padding": null,
            "grid_auto_rows": null,
            "grid_gap": null,
            "max_width": null,
            "order": null,
            "_view_module_version": "1.2.0",
            "grid_template_areas": null,
            "object_position": null,
            "object_fit": null,
            "grid_auto_columns": null,
            "margin": null,
            "display": null,
            "left": null
          }
        },
        "3c10d1d4e9ec4b58999676b044f151a1": {
          "model_module": "@jupyter-widgets/controls",
          "model_name": "FloatProgressModel",
          "state": {
            "_view_name": "ProgressView",
            "style": "IPY_MODEL_fc4d34c38e2a4abf9e3b5cba19591afc",
            "_dom_classes": [],
            "description": "100%",
            "_model_name": "FloatProgressModel",
            "bar_style": "",
            "max": 500,
            "_view_module": "@jupyter-widgets/controls",
            "_model_module_version": "1.5.0",
            "value": 500,
            "_view_count": null,
            "_view_module_version": "1.5.0",
            "orientation": "horizontal",
            "min": 0,
            "description_tooltip": null,
            "_model_module": "@jupyter-widgets/controls",
            "layout": "IPY_MODEL_915fbcb00e5440d085fdd9e428ce5548"
          }
        },
        "2c23322b332940db83c49235e21289b0": {
          "model_module": "@jupyter-widgets/controls",
          "model_name": "HTMLModel",
          "state": {
            "_view_name": "HTMLView",
            "style": "IPY_MODEL_7d8e0be9a4ed4414a5412216ae355ed7",
            "_dom_classes": [],
            "description": "",
            "_model_name": "HTMLModel",
            "placeholder": "​",
            "_view_module": "@jupyter-widgets/controls",
            "_model_module_version": "1.5.0",
            "value": " 500/500 [00:22&lt;00:00, 21.96it/s, alpha=0.9398]",
            "_view_count": null,
            "_view_module_version": "1.5.0",
            "description_tooltip": null,
            "_model_module": "@jupyter-widgets/controls",
            "layout": "IPY_MODEL_de0138003ccd45b99fc77568fa4bc01d"
          }
        },
        "fc4d34c38e2a4abf9e3b5cba19591afc": {
          "model_module": "@jupyter-widgets/controls",
          "model_name": "ProgressStyleModel",
          "state": {
            "_view_name": "StyleView",
            "_model_name": "ProgressStyleModel",
            "description_width": "initial",
            "_view_module": "@jupyter-widgets/base",
            "_model_module_version": "1.5.0",
            "_view_count": null,
            "_view_module_version": "1.2.0",
            "bar_color": null,
            "_model_module": "@jupyter-widgets/controls"
          }
        },
        "915fbcb00e5440d085fdd9e428ce5548": {
          "model_module": "@jupyter-widgets/base",
          "model_name": "LayoutModel",
          "state": {
            "_view_name": "LayoutView",
            "grid_template_rows": null,
            "right": null,
            "justify_content": null,
            "_view_module": "@jupyter-widgets/base",
            "overflow": null,
            "_model_module_version": "1.2.0",
            "_view_count": null,
            "flex_flow": null,
            "width": null,
            "min_width": null,
            "border": null,
            "align_items": null,
            "bottom": null,
            "_model_module": "@jupyter-widgets/base",
            "top": null,
            "grid_column": null,
            "overflow_y": null,
            "overflow_x": null,
            "grid_auto_flow": null,
            "grid_area": null,
            "grid_template_columns": null,
            "flex": null,
            "_model_name": "LayoutModel",
            "justify_items": null,
            "grid_row": null,
            "max_height": null,
            "align_content": null,
            "visibility": null,
            "align_self": null,
            "height": null,
            "min_height": null,
            "padding": null,
            "grid_auto_rows": null,
            "grid_gap": null,
            "max_width": null,
            "order": null,
            "_view_module_version": "1.2.0",
            "grid_template_areas": null,
            "object_position": null,
            "object_fit": null,
            "grid_auto_columns": null,
            "margin": null,
            "display": null,
            "left": null
          }
        },
        "7d8e0be9a4ed4414a5412216ae355ed7": {
          "model_module": "@jupyter-widgets/controls",
          "model_name": "DescriptionStyleModel",
          "state": {
            "_view_name": "StyleView",
            "_model_name": "DescriptionStyleModel",
            "description_width": "",
            "_view_module": "@jupyter-widgets/base",
            "_model_module_version": "1.5.0",
            "_view_count": null,
            "_view_module_version": "1.2.0",
            "_model_module": "@jupyter-widgets/controls"
          }
        },
        "de0138003ccd45b99fc77568fa4bc01d": {
          "model_module": "@jupyter-widgets/base",
          "model_name": "LayoutModel",
          "state": {
            "_view_name": "LayoutView",
            "grid_template_rows": null,
            "right": null,
            "justify_content": null,
            "_view_module": "@jupyter-widgets/base",
            "overflow": null,
            "_model_module_version": "1.2.0",
            "_view_count": null,
            "flex_flow": null,
            "width": null,
            "min_width": null,
            "border": null,
            "align_items": null,
            "bottom": null,
            "_model_module": "@jupyter-widgets/base",
            "top": null,
            "grid_column": null,
            "overflow_y": null,
            "overflow_x": null,
            "grid_auto_flow": null,
            "grid_area": null,
            "grid_template_columns": null,
            "flex": null,
            "_model_name": "LayoutModel",
            "justify_items": null,
            "grid_row": null,
            "max_height": null,
            "align_content": null,
            "visibility": null,
            "align_self": null,
            "height": null,
            "min_height": null,
            "padding": null,
            "grid_auto_rows": null,
            "grid_gap": null,
            "max_width": null,
            "order": null,
            "_view_module_version": "1.2.0",
            "grid_template_areas": null,
            "object_position": null,
            "object_fit": null,
            "grid_auto_columns": null,
            "margin": null,
            "display": null,
            "left": null
          }
        }
      }
    },
    "accelerator": "GPU"
  },
  "cells": [
    {
      "cell_type": "markdown",
      "metadata": {
        "id": "qafSafaXpFpP"
      },
      "source": [
        "# TOP"
      ]
    },
    {
      "cell_type": "code",
      "metadata": {
        "id": "0-5i9QzOSacZ",
        "outputId": "f6c30c25-ebdd-4a28-8398-df247730cf55",
        "colab": {
          "base_uri": "https://localhost:8080/"
        }
      },
      "source": [
        "! git clone https://github.com/authors-1901-10912/A-Meta-Transfer-Objective-For-Learning-To-Disentangle-Causal-Mechanisms.git"
      ],
      "execution_count": null,
      "outputs": [
        {
          "output_type": "stream",
          "text": [
            "Cloning into 'A-Meta-Transfer-Objective-For-Learning-To-Disentangle-Causal-Mechanisms'...\n",
            "remote: Enumerating objects: 51, done.\u001b[K\n",
            "remote: Total 51 (delta 0), reused 0 (delta 0), pack-reused 51\u001b[K\n",
            "Unpacking objects: 100% (51/51), done.\n"
          ],
          "name": "stdout"
        }
      ]
    },
    {
      "cell_type": "code",
      "metadata": {
        "id": "sdh_nDYLSzcr",
        "outputId": "a8686d3c-faad-4564-dd1e-a3e912d20562",
        "colab": {
          "base_uri": "https://localhost:8080/"
        }
      },
      "source": [
        "! git pull"
      ],
      "execution_count": null,
      "outputs": [
        {
          "output_type": "stream",
          "text": [
            "fatal: not a git repository (or any of the parent directories): .git\n"
          ],
          "name": "stdout"
        }
      ]
    },
    {
      "cell_type": "code",
      "metadata": {
        "id": "An2J4AXMTHns"
      },
      "source": [
        "!ln -s A-Meta-Transfer-Objective-For-Learning-To-Disentangle-Causal-Mechanisms gitcode"
      ],
      "execution_count": null,
      "outputs": []
    },
    {
      "cell_type": "code",
      "metadata": {
        "id": "q_LkeFzKTXLF",
        "outputId": "5b33784e-78f4-4cea-cb35-1d0b2f67ecaf",
        "colab": {
          "base_uri": "https://localhost:8080/"
        }
      },
      "source": [
        "!ls"
      ],
      "execution_count": null,
      "outputs": [
        {
          "output_type": "stream",
          "text": [
            "A-Meta-Transfer-Objective-For-Learning-To-Disentangle-Causal-Mechanisms\n",
            "gitcode\n",
            "sample_data\n"
          ],
          "name": "stdout"
        }
      ]
    },
    {
      "cell_type": "code",
      "metadata": {
        "id": "3d5MxX6vTbgf",
        "outputId": "0af10a7b-29cf-427a-fddf-aa3e38388741",
        "colab": {
          "base_uri": "https://localhost:8080/"
        }
      },
      "source": [
        "!pip install -r gitcode/requirements.txt"
      ],
      "execution_count": null,
      "outputs": [
        {
          "output_type": "stream",
          "text": [
            "Collecting torch==1.0.0\n",
            "\u001b[?25l  Downloading https://files.pythonhosted.org/packages/7e/60/66415660aa46b23b5e1b72bc762e816736ce8d7260213e22365af51e8f9c/torch-1.0.0-cp36-cp36m-manylinux1_x86_64.whl (591.8MB)\n",
            "\u001b[K     |████████████████████████████████| 591.8MB 24kB/s \n",
            "\u001b[?25hRequirement already satisfied: numpy in /usr/local/lib/python3.6/dist-packages (from -r gitcode/requirements.txt (line 2)) (1.18.5)\n",
            "Requirement already satisfied: jupyter in /usr/local/lib/python3.6/dist-packages (from -r gitcode/requirements.txt (line 3)) (1.0.0)\n",
            "Requirement already satisfied: tqdm in /usr/local/lib/python3.6/dist-packages (from -r gitcode/requirements.txt (line 4)) (4.41.1)\n",
            "Requirement already satisfied: matplotlib in /usr/local/lib/python3.6/dist-packages (from -r gitcode/requirements.txt (line 5)) (3.2.2)\n",
            "Requirement already satisfied: scipy in /usr/local/lib/python3.6/dist-packages (from -r gitcode/requirements.txt (line 6)) (1.4.1)\n",
            "Requirement already satisfied: qtconsole in /usr/local/lib/python3.6/dist-packages (from jupyter->-r gitcode/requirements.txt (line 3)) (4.7.7)\n",
            "Requirement already satisfied: ipykernel in /usr/local/lib/python3.6/dist-packages (from jupyter->-r gitcode/requirements.txt (line 3)) (4.10.1)\n",
            "Requirement already satisfied: ipywidgets in /usr/local/lib/python3.6/dist-packages (from jupyter->-r gitcode/requirements.txt (line 3)) (7.5.1)\n",
            "Requirement already satisfied: notebook in /usr/local/lib/python3.6/dist-packages (from jupyter->-r gitcode/requirements.txt (line 3)) (5.3.1)\n",
            "Requirement already satisfied: jupyter-console in /usr/local/lib/python3.6/dist-packages (from jupyter->-r gitcode/requirements.txt (line 3)) (5.2.0)\n",
            "Requirement already satisfied: nbconvert in /usr/local/lib/python3.6/dist-packages (from jupyter->-r gitcode/requirements.txt (line 3)) (5.6.1)\n",
            "Requirement already satisfied: cycler>=0.10 in /usr/local/lib/python3.6/dist-packages (from matplotlib->-r gitcode/requirements.txt (line 5)) (0.10.0)\n",
            "Requirement already satisfied: python-dateutil>=2.1 in /usr/local/lib/python3.6/dist-packages (from matplotlib->-r gitcode/requirements.txt (line 5)) (2.8.1)\n",
            "Requirement already satisfied: kiwisolver>=1.0.1 in /usr/local/lib/python3.6/dist-packages (from matplotlib->-r gitcode/requirements.txt (line 5)) (1.3.1)\n",
            "Requirement already satisfied: pyparsing!=2.0.4,!=2.1.2,!=2.1.6,>=2.0.1 in /usr/local/lib/python3.6/dist-packages (from matplotlib->-r gitcode/requirements.txt (line 5)) (2.4.7)\n",
            "Requirement already satisfied: traitlets in /usr/local/lib/python3.6/dist-packages (from qtconsole->jupyter->-r gitcode/requirements.txt (line 3)) (4.3.3)\n",
            "Requirement already satisfied: pygments in /usr/local/lib/python3.6/dist-packages (from qtconsole->jupyter->-r gitcode/requirements.txt (line 3)) (2.6.1)\n",
            "Requirement already satisfied: qtpy in /usr/local/lib/python3.6/dist-packages (from qtconsole->jupyter->-r gitcode/requirements.txt (line 3)) (1.9.0)\n",
            "Requirement already satisfied: ipython-genutils in /usr/local/lib/python3.6/dist-packages (from qtconsole->jupyter->-r gitcode/requirements.txt (line 3)) (0.2.0)\n",
            "Requirement already satisfied: jupyter-client>=4.1 in /usr/local/lib/python3.6/dist-packages (from qtconsole->jupyter->-r gitcode/requirements.txt (line 3)) (5.3.5)\n",
            "Requirement already satisfied: jupyter-core in /usr/local/lib/python3.6/dist-packages (from qtconsole->jupyter->-r gitcode/requirements.txt (line 3)) (4.6.3)\n",
            "Requirement already satisfied: pyzmq>=17.1 in /usr/local/lib/python3.6/dist-packages (from qtconsole->jupyter->-r gitcode/requirements.txt (line 3)) (19.0.2)\n",
            "Requirement already satisfied: ipython>=4.0.0 in /usr/local/lib/python3.6/dist-packages (from ipykernel->jupyter->-r gitcode/requirements.txt (line 3)) (5.5.0)\n",
            "Requirement already satisfied: tornado>=4.0 in /usr/local/lib/python3.6/dist-packages (from ipykernel->jupyter->-r gitcode/requirements.txt (line 3)) (5.1.1)\n",
            "Requirement already satisfied: widgetsnbextension~=3.5.0 in /usr/local/lib/python3.6/dist-packages (from ipywidgets->jupyter->-r gitcode/requirements.txt (line 3)) (3.5.1)\n",
            "Requirement already satisfied: nbformat>=4.2.0 in /usr/local/lib/python3.6/dist-packages (from ipywidgets->jupyter->-r gitcode/requirements.txt (line 3)) (5.0.8)\n",
            "Requirement already satisfied: Send2Trash in /usr/local/lib/python3.6/dist-packages (from notebook->jupyter->-r gitcode/requirements.txt (line 3)) (1.5.0)\n",
            "Requirement already satisfied: jinja2 in /usr/local/lib/python3.6/dist-packages (from notebook->jupyter->-r gitcode/requirements.txt (line 3)) (2.11.2)\n",
            "Requirement already satisfied: terminado>=0.8.1 in /usr/local/lib/python3.6/dist-packages (from notebook->jupyter->-r gitcode/requirements.txt (line 3)) (0.9.1)\n",
            "Requirement already satisfied: prompt-toolkit<2.0.0,>=1.0.0 in /usr/local/lib/python3.6/dist-packages (from jupyter-console->jupyter->-r gitcode/requirements.txt (line 3)) (1.0.18)\n",
            "Requirement already satisfied: testpath in /usr/local/lib/python3.6/dist-packages (from nbconvert->jupyter->-r gitcode/requirements.txt (line 3)) (0.4.4)\n",
            "Requirement already satisfied: bleach in /usr/local/lib/python3.6/dist-packages (from nbconvert->jupyter->-r gitcode/requirements.txt (line 3)) (3.2.1)\n",
            "Requirement already satisfied: defusedxml in /usr/local/lib/python3.6/dist-packages (from nbconvert->jupyter->-r gitcode/requirements.txt (line 3)) (0.6.0)\n",
            "Requirement already satisfied: entrypoints>=0.2.2 in /usr/local/lib/python3.6/dist-packages (from nbconvert->jupyter->-r gitcode/requirements.txt (line 3)) (0.3)\n",
            "Requirement already satisfied: mistune<2,>=0.8.1 in /usr/local/lib/python3.6/dist-packages (from nbconvert->jupyter->-r gitcode/requirements.txt (line 3)) (0.8.4)\n",
            "Requirement already satisfied: pandocfilters>=1.4.1 in /usr/local/lib/python3.6/dist-packages (from nbconvert->jupyter->-r gitcode/requirements.txt (line 3)) (1.4.3)\n",
            "Requirement already satisfied: six in /usr/local/lib/python3.6/dist-packages (from cycler>=0.10->matplotlib->-r gitcode/requirements.txt (line 5)) (1.15.0)\n",
            "Requirement already satisfied: decorator in /usr/local/lib/python3.6/dist-packages (from traitlets->qtconsole->jupyter->-r gitcode/requirements.txt (line 3)) (4.4.2)\n",
            "Requirement already satisfied: setuptools>=18.5 in /usr/local/lib/python3.6/dist-packages (from ipython>=4.0.0->ipykernel->jupyter->-r gitcode/requirements.txt (line 3)) (50.3.2)\n",
            "Requirement already satisfied: simplegeneric>0.8 in /usr/local/lib/python3.6/dist-packages (from ipython>=4.0.0->ipykernel->jupyter->-r gitcode/requirements.txt (line 3)) (0.8.1)\n",
            "Requirement already satisfied: pickleshare in /usr/local/lib/python3.6/dist-packages (from ipython>=4.0.0->ipykernel->jupyter->-r gitcode/requirements.txt (line 3)) (0.7.5)\n",
            "Requirement already satisfied: pexpect; sys_platform != \"win32\" in /usr/local/lib/python3.6/dist-packages (from ipython>=4.0.0->ipykernel->jupyter->-r gitcode/requirements.txt (line 3)) (4.8.0)\n",
            "Requirement already satisfied: jsonschema!=2.5.0,>=2.4 in /usr/local/lib/python3.6/dist-packages (from nbformat>=4.2.0->ipywidgets->jupyter->-r gitcode/requirements.txt (line 3)) (2.6.0)\n",
            "Requirement already satisfied: MarkupSafe>=0.23 in /usr/local/lib/python3.6/dist-packages (from jinja2->notebook->jupyter->-r gitcode/requirements.txt (line 3)) (1.1.1)\n",
            "Requirement already satisfied: ptyprocess; os_name != \"nt\" in /usr/local/lib/python3.6/dist-packages (from terminado>=0.8.1->notebook->jupyter->-r gitcode/requirements.txt (line 3)) (0.6.0)\n",
            "Requirement already satisfied: wcwidth in /usr/local/lib/python3.6/dist-packages (from prompt-toolkit<2.0.0,>=1.0.0->jupyter-console->jupyter->-r gitcode/requirements.txt (line 3)) (0.2.5)\n",
            "Requirement already satisfied: packaging in /usr/local/lib/python3.6/dist-packages (from bleach->nbconvert->jupyter->-r gitcode/requirements.txt (line 3)) (20.4)\n",
            "Requirement already satisfied: webencodings in /usr/local/lib/python3.6/dist-packages (from bleach->nbconvert->jupyter->-r gitcode/requirements.txt (line 3)) (0.5.1)\n",
            "\u001b[31mERROR: torchvision 0.8.1+cu101 has requirement torch==1.7.0, but you'll have torch 1.0.0 which is incompatible.\u001b[0m\n",
            "Installing collected packages: torch\n",
            "  Found existing installation: torch 1.7.0+cu101\n",
            "    Uninstalling torch-1.7.0+cu101:\n",
            "      Successfully uninstalled torch-1.7.0+cu101\n",
            "Successfully installed torch-1.0.0\n"
          ],
          "name": "stdout"
        }
      ]
    },
    {
      "cell_type": "code",
      "metadata": {
        "id": "70kdl8K3V5bY",
        "outputId": "394f4566-08c9-4d67-9051-b031dd84f33e",
        "colab": {
          "base_uri": "https://localhost:8080/"
        }
      },
      "source": [
        "% cd gitcode"
      ],
      "execution_count": null,
      "outputs": [
        {
          "output_type": "stream",
          "text": [
            "/content/A-Meta-Transfer-Objective-For-Learning-To-Disentangle-Causal-Mechanisms\n"
          ],
          "name": "stdout"
        }
      ]
    },
    {
      "cell_type": "code",
      "metadata": {
        "id": "Bh1Hv6Hl2tWs"
      },
      "source": [
        "!ln -s ../A-Meta-Transfer-Objective-For-Learning-To-Disentangle-Causal-Mechanisms/notebooks/bivariate-continuous-multimodal/ bcm"
      ],
      "execution_count": null,
      "outputs": []
    },
    {
      "cell_type": "code",
      "metadata": {
        "id": "HhW2r1c_WFa_",
        "outputId": "d3e1f7d6-b644-406f-d457-9a983f83ebba",
        "colab": {
          "base_uri": "https://localhost:8080/"
        }
      },
      "source": [
        "! ls \n",
        "\n",
        "# ! pip install ."
      ],
      "execution_count": null,
      "outputs": [
        {
          "output_type": "stream",
          "text": [
            "bcm\tcausal_meta  notebooks\trequirements.txt\n",
            "causal\t__init__.py  README.md\trun.py\n"
          ],
          "name": "stdout"
        }
      ]
    },
    {
      "cell_type": "code",
      "metadata": {
        "id": "ok2wSZYT0PQE"
      },
      "source": [
        "import sys\n",
        "# sys.path.append('../..')"
      ],
      "execution_count": null,
      "outputs": []
    },
    {
      "cell_type": "code",
      "metadata": {
        "id": "Rxu-MzzdTdNR"
      },
      "source": [
        "import torch\n",
        "import torch.nn as nn\n",
        "import torch.nn.functional as F\n",
        "\n",
        "import numpy as np\n",
        "from scipy import interpolate\n",
        "\n",
        "import random\n",
        "import tqdm\n",
        "from copy import deepcopy\n",
        "from argparse import Namespace\n",
        "import warnings\n",
        "\n",
        "%matplotlib inline\n",
        "import matplotlib.pyplot as plt\n",
        "import seaborn as sns\n",
        "sns.set()"
      ],
      "execution_count": null,
      "outputs": []
    },
    {
      "cell_type": "code",
      "metadata": {
        "id": "K04SPx_2TlSO"
      },
      "source": [
        "# from causal_meta.modules import networks as nets\n",
        "from causal_meta.utils.data_utils import RandomSplineSCM\n",
        "\n",
        "import causal_meta.utils.train_utils as tu\n",
        "# from bcm.encoder import Rotor\n",
        "from causal_meta.modules.mdn import MDN, GMM, mdn_nll\n",
        "from causal_meta.modules.gmm import GaussianMixture"
      ],
      "execution_count": null,
      "outputs": []
    },
    {
      "cell_type": "code",
      "metadata": {
        "id": "l98Cqdvpy6Pu"
      },
      "source": [
        "%matplotlib inline\n",
        "import torch\n",
        "import numpy as np\n",
        "import matplotlib.pyplot as plt\n",
        "\n",
        "from causal_meta.modules.mdn import mdn_nll\n",
        "from causal_meta.utils.data_utils import RandomSplineSCM\n",
        "from causal_meta.utils.train_utils import train_nll, make_alpha, train_alpha\n",
        "from bcm.models import mdn, gmm, auc_transfer_metric\n",
        "from argparse import Namespace"
      ],
      "execution_count": null,
      "outputs": []
    },
    {
      "cell_type": "code",
      "metadata": {
        "id": "R0WRDr-mpM81"
      },
      "source": [
        "import torch\n",
        "import torch.nn as nn\n",
        "import torch.nn.functional as F\n",
        "\n",
        "\n",
        "class FCMMDN(nn.Module):\n",
        "    def __init__(self, n_hidden, n_gaussians = 1):\n",
        "        super(FCMMDN, self).__init__()\n",
        "        self.z_h = nn.Sequential(\n",
        "            nn.Linear(2, n_hidden),\n",
        "            nn.Tanh()\n",
        "        )\n",
        "        self.z_pi = nn.Linear(n_hidden, n_gaussians)\n",
        "        self.z_mu = nn.Linear(n_hidden, n_gaussians)\n",
        "        self.z_sigma = nn.Linear(n_hidden, n_gaussians)\n",
        "\n",
        "    def forward(self, x, z):\n",
        "        y = torch.cat([x, z], dim=-1)\n",
        "        z_h = self.z_h(y)\n",
        "        pi = F.softmax(self.z_pi(z_h), -1)\n",
        "        mu = self.z_mu(z_h)\n",
        "        sigma = torch.exp(self.z_sigma(z_h))\n",
        "        return pi, mu, sigma"
      ],
      "execution_count": null,
      "outputs": []
    },
    {
      "cell_type": "code",
      "metadata": {
        "id": "wGBp0imzVdHr"
      },
      "source": [
        "SEED = 91023\n",
        "torch.manual_seed(SEED)\n",
        "np.random.seed(SEED)"
      ],
      "execution_count": null,
      "outputs": []
    },
    {
      "cell_type": "markdown",
      "metadata": {
        "id": "tEvwxwGc5zOm"
      },
      "source": [
        "# Boilerplate"
      ]
    },
    {
      "cell_type": "code",
      "metadata": {
        "id": "4TxJRzR60GNN"
      },
      "source": [
        "def normal(mean, std, N): \n",
        "    return torch.normal(torch.ones(N).mul_(mean), torch.ones(N).mul_(std)).view(-1, 1)"
      ],
      "execution_count": null,
      "outputs": []
    },
    {
      "cell_type": "code",
      "metadata": {
        "id": "ZuBOP0E1z8bG"
      },
      "source": [
        "# opt = Namespace()\n",
        "# # Model\n",
        "# opt.CAPACITY = 32\n",
        "# opt.NUM_COMPONENTS = 10\n",
        "# opt.GMM_NUM_COMPONENTS = 10\n",
        "# # Training\n",
        "# opt.LR = 0.001\n",
        "# opt.NUM_ITER = 3000\n",
        "# opt.CUDA = False\n",
        "# opt.REC_FREQ = 10\n",
        "# # Meta\n",
        "# opt.ALPHA_LR = 0.1\n",
        "# opt.ALPHA_NUM_ITER = 500\n",
        "# opt.FINETUNE_LR = 0.001\n",
        "# opt.FINETUNE_NUM_ITER = 10\n",
        "# opt.PARAM_DISTRY = lambda mean: normal(mean, 2, opt.NUM_SAMPLES)\n",
        "# opt.PARAM_SAMPLER = lambda: np.random.uniform(-4, 4)\n",
        "# # Sampling \n",
        "# opt.NUM_SAMPLES = 1000\n",
        "# opt.TRAIN_DISTRY = lambda: normal(0, 2, opt.NUM_SAMPLES)\n",
        "# opt.TRANS_DISTRY = lambda: normal(random.randint(-4, 4), 2, opt.NUM_SAMPLES)\n",
        "\n",
        "opt = Namespace()\n",
        "\n",
        "# Model\n",
        "opt.CAPACITY = 32\n",
        "opt.NUM_COMPONENTS = 10\n",
        "# opt.GMM_NUM_COMPONENTS = 10\n",
        "opt.GMM_NUM_COMPONENTS = 10\n",
        "\n",
        "\n",
        "# Training\n",
        "opt.LR = 0.01\n",
        "opt.NUM_ITER = 500\n",
        "opt.NUM_META_ITER = 1000\n",
        "opt.ALPHA_LR = 0.01\n",
        "opt.ALPHA_NUM_ITER = 1000\n",
        "opt.CUDA = False\n",
        "opt.REC_FREQ = 10\n",
        "opt.ALPHA_INIT = 0.\n",
        "opt.USE_BASELINE = True\n",
        "\n",
        "# Fine tuning\n",
        "opt.FINETUNE_NUM_ITER = 5\n",
        "opt.FINETUNE_LR = 0.001\n",
        "opt.EM_ITERS = 500\n",
        "\n",
        "# Sampling \n",
        "opt.NUM_SAMPLES = 1000\n",
        "opt.TRAIN_DISTRY = lambda: normal(0, 2, opt.NUM_SAMPLES)\n",
        "opt.TRANS_DISTRY = lambda: normal(np.random.uniform(-4, 4), \n",
        "                                  2, opt.NUM_SAMPLES)\n",
        "\n",
        "opt.PARAM_DISTRY = lambda mean: normal(mean, 2, opt.NUM_SAMPLES)\n",
        "opt.PARAM_SAMPLER = lambda: np.random.uniform(-4, 4)\n",
        "opt.ALPHA_NUM_ITER = 500\n",
        "\n",
        "# Encoder\n",
        "opt.DECODER_DEFAULT = -float(0.5 * np.pi/2)"
      ],
      "execution_count": null,
      "outputs": []
    },
    {
      "cell_type": "code",
      "metadata": {
        "id": "yC-3meKjz92W"
      },
      "source": [
        "scm = RandomSplineSCM(False, True, 8, 10, 3, range_scale=1.)"
      ],
      "execution_count": null,
      "outputs": []
    },
    {
      "cell_type": "code",
      "metadata": {
        "id": "wH8Xjc4z0gxv"
      },
      "source": [
        "import torch\n",
        "import torch.nn as nn\n",
        "import torch.nn.functional as F\n",
        "\n",
        "from causal_meta.utils.torch_utils import logsumexp\n",
        "from tqdm import tnrange, tqdm_notebook, notebook\n",
        "from argparse import Namespace\n",
        "from copy import deepcopy\n",
        "\n",
        "def train_ind(opt, model1, model2, train_distr_fn1, train_distr_fn2, loss_fn=nn.MSELoss(),\n",
        "              decoder=None, encoder=None):\n",
        "    optim1 = torch.optim.Adam(model1.parameters(), lr=opt.LR)\n",
        "    optim2 = torch.optim.Adam(model2.parameters(), lr=opt.LR)\n",
        "    if opt.CUDA:\n",
        "        model = model.cuda()\n",
        "        if encoder is not None: \n",
        "            encoder = encoder.cuda()\n",
        "        if decoder is not None: \n",
        "            decoder = decoder.cuda()\n",
        "    frames = []\n",
        "    for iter_num in tnrange(opt.NUM_ITER, leave=False):\n",
        "        # Generate samples from the training distry\n",
        "        X = train_distr_fn1()\n",
        "        Y = train_distr_fn2()\n",
        "        if opt.CUDA:\n",
        "            X, Y = X.cuda(), Y.cuda()\n",
        "        with torch.no_grad():\n",
        "            if decoder is not None:\n",
        "                # X and Y are sampled from the underlying distribution.\n",
        "                # We apply a secret random transformation to the true latent\n",
        "                # variables to obtain the raw input\n",
        "                X, Y = decoder(X, Y)\n",
        "            if encoder is not None:\n",
        "                # Apply the encoder, meant to \"undo\" the decoder up to swapping X and Y.\n",
        "                X, Y = encoder(X, Y)\n",
        "        # Now, train as usual\n",
        "        tar1, tar2 = X, Y\n",
        "        if opt.CUDA:\n",
        "            tar1, tar2 = tar1.cuda(), tar2.cuda()\n",
        "        # Train\n",
        "        out1 = model1(normal(0, 1, X.size()))\n",
        "        loss1 = loss_fn(out1, tar1)\n",
        "        out2 = model2(normal(0, 1, Y.size()))\n",
        "        loss2 = loss_fn(out2, tar2)\n",
        "        optim1.zero_grad()\n",
        "        optim2.zero_grad()\n",
        "        loss1.backward()\n",
        "        loss2.backward()\n",
        "        optim1.step()\n",
        "        optim2.step()\n",
        "        # Append info\n",
        "        if iter_num % opt.REC_FREQ or iter_num == (opt.NUM_ITER - 1):\n",
        "            info = Namespace(loss1=loss1.item(),loss2=loss2.item(),\n",
        "                             iter_num=iter_num)\n",
        "            frames.append(info)\n",
        "    return frames\n",
        "\n",
        "def train_nll(opt, model, scm, train_distr_fn, polarity='X2Y', loss_fn=nn.MSELoss(),\n",
        "              decoder=None, encoder=None):\n",
        "    optim = torch.optim.Adam(model.parameters(), lr=opt.LR)\n",
        "    if opt.CUDA:\n",
        "        model = model.cuda()\n",
        "        if encoder is not None: \n",
        "            encoder = encoder.cuda()\n",
        "        if decoder is not None: \n",
        "            decoder = decoder.cuda()\n",
        "    frames = []\n",
        "    for iter_num in tnrange(opt.NUM_ITER, leave=False):\n",
        "        # Generate samples from the training distry\n",
        "        X = train_distr_fn()\n",
        "        with torch.no_grad():\n",
        "            Y = scm(X)\n",
        "        if opt.CUDA:\n",
        "            X, Y = X.cuda(), Y.cuda()\n",
        "        with torch.no_grad():\n",
        "            if decoder is not None:\n",
        "                # X and Y are sampled from the underlying distribution.\n",
        "                # We apply a secret random transformation to the true latent\n",
        "                # variables to obtain the raw input\n",
        "                X, Y = decoder(X, Y)\n",
        "            if encoder is not None:\n",
        "                # Apply the encoder, meant to \"undo\" the decoder up to swapping X and Y.\n",
        "                X, Y = encoder(X, Y)\n",
        "        # Now, train as usual\n",
        "        if polarity == 'X2Y':\n",
        "            inp, tar = X, Y\n",
        "        elif polarity == 'Y2X':\n",
        "            inp, tar = Y, X\n",
        "        else:\n",
        "            raise ValueError\n",
        "        if opt.CUDA:\n",
        "            inp, tar = inp.cuda(), tar.cuda()\n",
        "        # Train\n",
        "        out = model(inp, normal(0, 1, X.size()))\n",
        "        loss = loss_fn(out, tar)\n",
        "        optim.zero_grad()\n",
        "        loss.backward()\n",
        "        optim.step()\n",
        "        # Append info\n",
        "        if iter_num % opt.REC_FREQ or iter_num == (opt.NUM_ITER - 1):\n",
        "            info = Namespace(loss=loss.item(),\n",
        "                             iter_num=iter_num)\n",
        "            frames.append(info)\n",
        "    return frames\n",
        "\n",
        "# def marginal_nll(opt, inp, nll): \n",
        "#     model_g = gmm(opt)\n",
        "#     if opt.CUDA: \n",
        "#         model_g = model_g.cuda()\n",
        "#     model_g.fit(inp)\n",
        "#     with torch.no_grad():\n",
        "#         loss_marginal = nll(model_g(inp), inp)\n",
        "#     return loss_marginal\n",
        "\n",
        "def marginal_nll(opt, inp, model_g, nll): \n",
        "    model_g = deepcopy(model_g)\n",
        "    if opt.CUDA: \n",
        "        model_g = model_g.cuda()\n",
        "    # model_g.fit(inp)\n",
        "    with torch.no_grad():\n",
        "        loss_marginal = nll(model_g(inp), inp)\n",
        "    return loss_marginal\n",
        "\n",
        "def transfer_tune(opt, model, model_g, inp, tar, nll): \n",
        "    model = deepcopy(model)\n",
        "    optim_model = torch.optim.Adam(model.parameters(), \n",
        "                                   opt.FINETUNE_LR)\n",
        "    loss_marginal = marginal_nll(opt, inp[0], model_g, nll).item()\n",
        "    joint_losses = []\n",
        "    for iter_num in range(opt.FINETUNE_NUM_ITER): \n",
        "        # Train conditional\n",
        "        prd = model(inp[0], inp[1])\n",
        "        loss_conditional = nll(prd, tar)\n",
        "        optim_model.zero_grad()\n",
        "        loss_conditional.backward()\n",
        "        optim_model.step()\n",
        "        joint_losses.append(loss_conditional.item() + loss_marginal)\n",
        "    # Return losses\n",
        "    return joint_losses\n",
        "\n",
        "def auc_transfer_metric(opt, model, model_g, inp, tar, nll):\n",
        "    # Tune\n",
        "    losses = transfer_tune(opt, model, model_g, inp, tar, nll)\n",
        "    # Compute the integral of the loss curve\n",
        "    return sum(losses)\n",
        "\n",
        "def train_alpha(opt, model_x2y, model_y2x, model_g2y, model_g2x, alpha, gt_scm, \n",
        "                distr, sweep_distr, nll, transfer_metric, mixmode='logmix'):\n",
        "    # Everyone to CUDA\n",
        "    if opt.CUDA: \n",
        "        model_x2y.cuda()\n",
        "        model_y2x.cuda()\n",
        "    alpha_optim = torch.optim.Adam([alpha], lr=opt.ALPHA_LR)\n",
        "    frames = []\n",
        "    iterations = tnrange(opt.ALPHA_NUM_ITER, leave=False)\n",
        "    for iter_num in iterations:\n",
        "        # Sample parameter for the transfer distribution\n",
        "        sweep_param = sweep_distr()\n",
        "        # Sample X from transfer\n",
        "        zx = normal(0, 1, 1000)\n",
        "        zy = normal(0, 1, 1000)\n",
        "        X_gt = distr(sweep_param)\n",
        "        Y_gt = gt_scm(X_gt)\n",
        "        with torch.no_grad():\n",
        "            if opt.CUDA:\n",
        "                X_gt, Y_gt = X_gt.cuda(), Y_gt.cuda()\n",
        "        # Evaluate performance\n",
        "        metric_x2y = transfer_metric(opt, model_x2y, model_g2x, [X_gt, zy], Y_gt, nll)\n",
        "        metric_y2x = transfer_metric(opt, model_y2x, model_g2y, [Y_gt, zx], X_gt, nll)\n",
        "        # Estimate gradient\n",
        "        if mixmode == 'logmix':\n",
        "            loss_alpha = torch.sigmoid(alpha) * metric_x2y + (1 - torch.sigmoid(alpha)) * metric_y2x\n",
        "        else:\n",
        "            log_alpha, log_1_m_alpha = F.logsigmoid(alpha), F.logsigmoid(-alpha)\n",
        "            as_lse = logsumexp(log_alpha + metric_x2y, log_1_m_alpha + metric_y2x)\n",
        "            if mixmode == 'logsigp': \n",
        "                loss_alpha = as_lse\n",
        "            elif mixmode == 'sigp':\n",
        "                loss_alpha = as_lse.exp()\n",
        "        # Optimize\n",
        "        alpha_optim.zero_grad()\n",
        "        loss_alpha.backward()\n",
        "        alpha_optim.step()\n",
        "        # Append info\n",
        "        with torch.no_grad():\n",
        "            frames.append(Namespace(iter_num=iter_num,\n",
        "                                    alpha=alpha.item(), \n",
        "                                    sig_alpha=torch.sigmoid(alpha).item(), \n",
        "                                    metric_x2y=metric_x2y, \n",
        "                                    metric_y2x=metric_y2x, \n",
        "                                    loss_alpha=loss_alpha.item()))\n",
        "        iterations.set_postfix(alpha='{0:.4f}'.format(torch.sigmoid(alpha).item()))\n",
        "    return frames\n",
        "\n",
        "def train_alpha_beta(opt, model_x2y, model_y2x, model_g2y, model_g2x, indx, indy, alpha, beta, gt_scm, \n",
        "                distr, sweep_distr, nll, transfer_metric, mixmode='logmix'):\n",
        "    # Everyone to CUDA\n",
        "    if opt.CUDA: \n",
        "        model_x2y.cuda()\n",
        "        model_y2x.cuda()\n",
        "    alpha_optim = torch.optim.Adam([alpha], lr=opt.ALPHA_LR)\n",
        "    beta_optim = torch.optim.Adam([beta], lr=opt.ALPHA_LR)\n",
        "    frames = []\n",
        "    iterations = tnrange(opt.ALPHA_NUM_ITER, leave=False)\n",
        "    for iter_num in iterations:\n",
        "        # Sample parameter for the transfer distribution\n",
        "        sweep_paramX = sweep_distr()\n",
        "        # Sample X from transfer\n",
        "        zx = normal(0, 1, 1000)\n",
        "        zy = normal(0, 1, 1000)\n",
        "        X_gt = distr(sweep_paramX)\n",
        "        Y_gt = gt_scm(X_gt)\n",
        "        # Y_gt = gt_scm(X_gt)\n",
        "        with torch.no_grad():\n",
        "            if opt.CUDA:\n",
        "                X_gt, Y_gt = X_gt.cuda(), Y_gt.cuda()\n",
        "        # Evaluate performance\n",
        "        metric_x2y = transfer_metric(opt, model_x2y, model_g2x, [X_gt, zy], Y_gt, nll)\n",
        "        metric_y2x = transfer_metric(opt, model_y2x, model_g2y, [Y_gt, zx], X_gt, nll)\n",
        "        metric_xiy = transfer_ind(opt, indx, indy, zx, zy, X_gt, Y_gt, nll)\n",
        "        # Estimate gradient\n",
        "        if mixmode == 'logmix':\n",
        "            loss_alpha = torch.sigmoid(alpha) * metric_x2y + (1 - torch.sigmoid(alpha)) * metric_y2x\n",
        "            maxmet = max(metric_x2y, metric_y2x)\n",
        "            loss_beta = torch.sigmoid(beta) * metric_xiy + (1 - torch.sigmoid(beta)) * maxmet\n",
        "        else:\n",
        "            log_alpha, log_1_m_alpha = F.logsigmoid(alpha), F.logsigmoid(-alpha)\n",
        "            # log_beta, log_1_m_beta = F.logsigmoid(beta), F.logsigmoid(-beta)\n",
        "            as_lse = logsumexp(log_alpha + metric_x2y, log_1_m_alpha + metric_y2x)\n",
        "            # bs_lse = logsumexp(log_beta + metric_x2y, log_1_m_beta + metric_xiy + 2)\n",
        "            if mixmode == 'logsigp': \n",
        "                loss_alpha = as_lse\n",
        "            elif mixmode == 'sigp':\n",
        "                loss_alpha = as_lse.exp()\n",
        "        # Optimize\n",
        "        alpha_optim.zero_grad()\n",
        "        loss_alpha.backward()\n",
        "        alpha_optim.step()\n",
        "        \n",
        "        beta_optim.zero_grad()\n",
        "        loss_beta.backward()\n",
        "        beta_optim.step()\n",
        "        # Append info\n",
        "        with torch.no_grad():\n",
        "            frames.append(Namespace(iter_num=iter_num,\n",
        "                                    alpha=alpha.item(), \n",
        "                                    beta = beta.item(),\n",
        "                                    sig_alpha=torch.sigmoid(alpha).item(), \n",
        "                                    sig_beta=torch.sigmoid(beta).item(), \n",
        "                                    metric_x2y=metric_x2y, \n",
        "                                    metric_y2x=metric_y2x, \n",
        "                                    loss_alpha=loss_alpha.item()))\n",
        "        iterations.set_postfix({'alpha':'{0:.4f}'.format(torch.sigmoid(alpha).item()),'beta':'{0:.4f}'.format(torch.sigmoid(beta).item())})\n",
        "    return frames"
      ],
      "execution_count": null,
      "outputs": []
    },
    {
      "cell_type": "code",
      "metadata": {
        "id": "wzmEThBKSfks",
        "outputId": "f43981b1-9584-446c-ae18-293b60671452",
        "colab": {
          "base_uri": "https://localhost:8080/",
          "height": 34,
          "referenced_widgets": [
            "be64ddef54e24aaaab939e528dc79f86",
            "8a128ef2411542ff81ce8d1153f64d12",
            "a2cee62c34c24a61b89f469f6b3b829d",
            "c0cd1e6cb79a4a4d95fb99612cf5be44",
            "bd4e60200c744f0481ba3d917751341e",
            "b7d585f1fad147eeb6dc19f0ff121605",
            "e3caaf6558db468bb1f4e89b73527b1b",
            "cddf699694894899bf17103b81b6c06f"
          ]
        }
      },
      "source": [
        "model_x = mdn_orig(opt)\n",
        "model_y = mdn_orig(opt)\n",
        "\n",
        "frames_idp = train_ind(opt, model_x, model_y, opt.TRAIN_DISTRY, opt.TRAIN_DISTRY, loss_fn=mdn_nll, decoder=None, encoder=None)"
      ],
      "execution_count": null,
      "outputs": [
        {
          "output_type": "stream",
          "text": [
            "/usr/local/lib/python3.6/dist-packages/ipykernel_launcher.py:21: TqdmDeprecationWarning: Please use `tqdm.notebook.trange` instead of `tqdm.tnrange`\n"
          ],
          "name": "stderr"
        },
        {
          "output_type": "display_data",
          "data": {
            "application/vnd.jupyter.widget-view+json": {
              "model_id": "be64ddef54e24aaaab939e528dc79f86",
              "version_minor": 0,
              "version_major": 2
            },
            "text/plain": [
              "HBox(children=(FloatProgress(value=0.0, max=500.0), HTML(value='')))"
            ]
          },
          "metadata": {
            "tags": []
          }
        }
      ]
    },
    {
      "cell_type": "code",
      "metadata": {
        "id": "6fIzGRU60b_W"
      },
      "source": [
        "# def mdn(opt): \n",
        "#     return MDN(opt.CAPACITY, opt.NUM_COMPONENTS)\n",
        "\n",
        "def mdn_orig(opt): \n",
        "    return MDN(opt.CAPACITY, opt.NUM_COMPONENTS)\n",
        "\n",
        "def mdn(opt): \n",
        "    return FCMMDN(opt.CAPACITY, opt.NUM_COMPONENTS)\n",
        "\n",
        "def gmm(opt): \n",
        "    return GaussianMixture(opt.GMM_NUM_COMPONENTS)"
      ],
      "execution_count": null,
      "outputs": []
    },
    {
      "cell_type": "code",
      "metadata": {
        "id": "VRvT__O3zS8d",
        "outputId": "b441a64b-5cb9-47ab-aeab-6d794c6182fc",
        "colab": {
          "base_uri": "https://localhost:8080/",
          "height": 34,
          "referenced_widgets": [
            "fce34b7c95d84e8e9681400d22fae2b9",
            "def773a5266348f08fabca7b745d73f7",
            "4338397b5d4e4b48b09b0b933195601f",
            "39461dddcf9c4e5eb60dccb767c1a3cd",
            "8656c2c29db1415ba3a56e4716f2c22f",
            "7410b293b0ae482088836f7b58143bb5",
            "aac0dd94ceeb49058897ccffc0e56b5b",
            "c198240eb7d54aa08e0cb00bb16a0657"
          ]
        }
      },
      "source": [
        "model_x2y = mdn(opt)\n",
        "frames_x2y = train_nll(opt, model_x2y, scm, opt.TRAIN_DISTRY, polarity='X2Y',\n",
        "    loss_fn=mdn_nll, decoder=None, encoder=None)"
      ],
      "execution_count": null,
      "outputs": [
        {
          "output_type": "stream",
          "text": [
            "/usr/local/lib/python3.6/dist-packages/ipykernel_launcher.py:68: TqdmDeprecationWarning: Please use `tqdm.notebook.trange` instead of `tqdm.tnrange`\n"
          ],
          "name": "stderr"
        },
        {
          "output_type": "display_data",
          "data": {
            "application/vnd.jupyter.widget-view+json": {
              "model_id": "fce34b7c95d84e8e9681400d22fae2b9",
              "version_minor": 0,
              "version_major": 2
            },
            "text/plain": [
              "HBox(children=(FloatProgress(value=0.0, max=500.0), HTML(value='')))"
            ]
          },
          "metadata": {
            "tags": []
          }
        }
      ]
    },
    {
      "cell_type": "code",
      "metadata": {
        "id": "vWqTeg_AzTZq",
        "outputId": "cfb4c58d-f93e-48ac-9aff-45facb15e92d",
        "colab": {
          "base_uri": "https://localhost:8080/",
          "height": 34,
          "referenced_widgets": [
            "db621cebdafe4f1ab44d166cf15e8d02",
            "419dc460b6e6440a93510cbd71f4d92c",
            "b6bae3720a4646ec8d45fe7e825f724c",
            "dda9aa2c732d49b793f84ebf4b897b3a",
            "d0577fd3bb034ddaa882149b594abebc",
            "418aecb41fef4460aaf0b9e6ba4ef6aa",
            "fdf69accfb944d0cacc75baa32043228",
            "1aff423a972742c0b48e01872afbea29"
          ]
        }
      },
      "source": [
        "model_y2x = mdn(opt)\n",
        "frames_y2x = train_nll(opt, model_y2x, scm, opt.TRAIN_DISTRY, polarity='Y2X',\n",
        "    loss_fn=mdn_nll, decoder=None, encoder=None)"
      ],
      "execution_count": null,
      "outputs": [
        {
          "output_type": "stream",
          "text": [
            "/usr/local/lib/python3.6/dist-packages/ipykernel_launcher.py:68: TqdmDeprecationWarning: Please use `tqdm.notebook.trange` instead of `tqdm.tnrange`\n"
          ],
          "name": "stderr"
        },
        {
          "output_type": "display_data",
          "data": {
            "application/vnd.jupyter.widget-view+json": {
              "model_id": "db621cebdafe4f1ab44d166cf15e8d02",
              "version_minor": 0,
              "version_major": 2
            },
            "text/plain": [
              "HBox(children=(FloatProgress(value=0.0, max=500.0), HTML(value='')))"
            ]
          },
          "metadata": {
            "tags": []
          }
        }
      ]
    },
    {
      "cell_type": "code",
      "metadata": {
        "id": "TaTtscH7XA_9",
        "outputId": "f28fca8c-3aa2-49a8-c5dc-12681bcaef33",
        "colab": {
          "base_uri": "https://localhost:8080/",
          "height": 34,
          "referenced_widgets": [
            "08a4e75620744d83ba517ba15032d694",
            "082fcba7f54e4bd489d901756a29797e",
            "ffb4bf9bfd42495f9e2820c4dbcdaa38",
            "175cd096e4804b43bf27d2f695871d41",
            "0cf09ac25d6149d5bcc411360437eaa8",
            "e050f68d445d4eb7bd8d35fd7f827d25",
            "36ca675378344918b64a004c5e183e0e",
            "35a0645f20554ebdba44c9f78eb9a9d3"
          ]
        }
      },
      "source": [
        "alpha = make_alpha(opt)\n",
        "beta = make_alpha(opt)\n",
        "\n",
        "lpha_frames = train_alpha_beta(opt, model_x2y, model_y2x, model_x, model_y, model_x, model_y, alpha, beta, scm, \n",
        "                           opt.PARAM_DISTRY, opt.PARAM_SAMPLER, mdn_nll,\n",
        "                           auc_transfer_metric, mixmode='logmix')"
      ],
      "execution_count": null,
      "outputs": [
        {
          "output_type": "stream",
          "text": [
            "/usr/local/lib/python3.6/dist-packages/ipykernel_launcher.py:204: TqdmDeprecationWarning: Please use `tqdm.notebook.trange` instead of `tqdm.tnrange`\n"
          ],
          "name": "stderr"
        },
        {
          "output_type": "display_data",
          "data": {
            "application/vnd.jupyter.widget-view+json": {
              "model_id": "08a4e75620744d83ba517ba15032d694",
              "version_minor": 0,
              "version_major": 2
            },
            "text/plain": [
              "HBox(children=(FloatProgress(value=0.0, max=500.0), HTML(value='')))"
            ]
          },
          "metadata": {
            "tags": []
          }
        }
      ]
    },
    {
      "cell_type": "code",
      "metadata": {
        "id": "YBcfJcugXCYx",
        "outputId": "7a6003b6-2fb8-499d-ec60-17f0950cd64f",
        "colab": {
          "base_uri": "https://localhost:8080/",
          "height": 343
        }
      },
      "source": [
        "alphas = np.asarray([frame.sig_alpha for frame in lpha_frames])\n",
        "\n",
        "fig = plt.figure(figsize=(9, 5))\n",
        "ax = plt.subplot(1, 1, 1)\n",
        "\n",
        "ax.tick_params(axis='both', which='major', labelsize=13)\n",
        "ax.axhline(1, c='lightgray', ls='--')\n",
        "ax.axhline(0, c='lightgray', ls='--')\n",
        "ax.plot(alphas, lw=2, color='k', label='N = {0}'.format(10))\n",
        "\n",
        "ax.set_xlim([0, opt.ALPHA_NUM_ITER - 1])\n",
        "ax.set_xlabel('Number of episodes', fontsize=14)\n",
        "ax.set_ylabel(r'$\\sigma(\\gamma)$', fontsize=14)\n",
        "ax.legend(loc=4, prop={'size': 13})\n",
        "\n",
        "plt.show()"
      ],
      "execution_count": null,
      "outputs": [
        {
          "output_type": "display_data",
          "data": {
            "image/png": "[encoded data removed]",
            "text/plain": [
              "<Figure size 648x360 with 1 Axes>"
            ]
          },
          "metadata": {
            "tags": [],
            "needs_background": "light"
          }
        }
      ]
    },
    {
      "cell_type": "code",
      "metadata": {
        "id": "vIHTivpNXCtm",
        "outputId": "d0bf1503-b396-44cd-d5cb-66c9e1d1852b",
        "colab": {
          "base_uri": "https://localhost:8080/",
          "height": 343
        }
      },
      "source": [
        "alphas = np.asarray([frame.sig_beta for frame in lpha_frames])\n",
        "\n",
        "fig = plt.figure(figsize=(9, 5))\n",
        "ax = plt.subplot(1, 1, 1)\n",
        "\n",
        "ax.tick_params(axis='both', which='major', labelsize=13)\n",
        "ax.axhline(1, c='lightgray', ls='--')\n",
        "ax.axhline(0, c='lightgray', ls='--')\n",
        "ax.plot(alphas, lw=2, color='k', label='N = {0}'.format(10))\n",
        "\n",
        "ax.set_xlim([0, opt.ALPHA_NUM_ITER - 1])\n",
        "ax.set_xlabel('Number of episodes', fontsize=14)\n",
        "ax.set_ylabel(r'$\\sigma(\\gamma)$', fontsize=14)\n",
        "ax.legend(loc=4, prop={'size': 13})\n",
        "\n",
        "plt.show()"
      ],
      "execution_count": null,
      "outputs": [
        {
          "output_type": "display_data",
          "data": {
            "image/png": "[encoded data removed]",
            "text/plain": [
              "<Figure size 648x360 with 1 Axes>"
            ]
          },
          "metadata": {
            "tags": [],
            "needs_background": "light"
          }
        }
      ]
    },
    {
      "cell_type": "code",
      "metadata": {
        "id": "kWM96gA7zUfi",
        "outputId": "a9aee334-80b9-49cb-da9e-bd12ac684cbe",
        "colab": {
          "base_uri": "https://localhost:8080/",
          "height": 34,
          "referenced_widgets": [
            "a12d1e0926e5468084929d25c45f0cda",
            "a8c7e4c376244f068bb9e32f9526cf0e",
            "ea6e123967a940fb8deeb25444e9d7a0",
            "0aa60b686c0740739bf10c0f9d92e48d",
            "aac5090f4a0145418e480db287c63727",
            "bd49dd1b2a744fd79f23cfcd4aed251e",
            "a9276e1a69234b08ba93ec5432504b22",
            "0d23218194fa4ec08754ac3b7c2a2b90"
          ]
        }
      },
      "source": [
        "alpha = make_alpha(opt)\n",
        "# alpha_frames = train_alpha(opt, model_x2y, model_y2x, None, None, alpha, scm, \n",
        "#                            opt.PARAM_DISTRY, opt.PARAM_SAMPLER, mdn_nll,\n",
        "#                            auc_transfer_metric, mixmode='logsigp')\n",
        "alpha_frames = train_alpha(opt, model_x2y, model_y2x, model_x, model_y, alpha, scm, \n",
        "                           opt.PARAM_DISTRY, opt.PARAM_SAMPLER, mdn_nll,\n",
        "                           auc_transfer_metric, mixmode='logmix')"
      ],
      "execution_count": null,
      "outputs": [
        {
          "output_type": "stream",
          "text": [
            "/usr/local/lib/python3.6/dist-packages/ipykernel_launcher.py:155: TqdmDeprecationWarning: Please use `tqdm.notebook.trange` instead of `tqdm.tnrange`\n"
          ],
          "name": "stderr"
        },
        {
          "output_type": "display_data",
          "data": {
            "application/vnd.jupyter.widget-view+json": {
              "model_id": "a12d1e0926e5468084929d25c45f0cda",
              "version_minor": 0,
              "version_major": 2
            },
            "text/plain": [
              "HBox(children=(FloatProgress(value=0.0, max=500.0), HTML(value='')))"
            ]
          },
          "metadata": {
            "tags": []
          }
        }
      ]
    },
    {
      "cell_type": "code",
      "metadata": {
        "id": "RV45GhlkzW_Y",
        "outputId": "41abfc71-03e9-4d25-ea33-178ced36165e",
        "colab": {
          "base_uri": "https://localhost:8080/",
          "height": 343
        }
      },
      "source": [
        "alphas = np.asarray([frame.sig_alpha for frame in alpha_frames])\n",
        "\n",
        "fig = plt.figure(figsize=(9, 5))\n",
        "ax = plt.subplot(1, 1, 1)\n",
        "\n",
        "ax.tick_params(axis='both', which='major', labelsize=13)\n",
        "ax.axhline(1, c='lightgray', ls='--')\n",
        "ax.axhline(0, c='lightgray', ls='--')\n",
        "ax.plot(alphas, lw=2, color='k', label='N = {0}'.format(10))\n",
        "\n",
        "ax.set_xlim([0, opt.ALPHA_NUM_ITER - 1])\n",
        "ax.set_xlabel('Number of episodes', fontsize=14)\n",
        "ax.set_ylabel(r'$\\sigma(\\gamma)$', fontsize=14)\n",
        "ax.legend(loc=4, prop={'size': 13})\n",
        "\n",
        "plt.show()"
      ],
      "execution_count": null,
      "outputs": [
        {
          "output_type": "display_data",
          "data": {
            "image/png": "[encoded data removed]",
            "text/plain": [
              "<Figure size 648x360 with 1 Axes>"
            ]
          },
          "metadata": {
            "tags": [],
            "needs_background": "light"
          }
        }
      ]
    },
    {
      "cell_type": "code",
      "metadata": {
        "id": "ThAbD1d67kLy"
      },
      "source": [
        ""
      ],
      "execution_count": null,
      "outputs": []
    },
    {
      "cell_type": "markdown",
      "metadata": {
        "id": "4FkH4-sE7wsB"
      },
      "source": [
        "# Other Direction"
      ]
    },
    {
      "cell_type": "code",
      "metadata": {
        "id": "3f8-ZJ_F7yjI"
      },
      "source": [
        ""
      ],
      "execution_count": null,
      "outputs": []
    },
    {
      "cell_type": "code",
      "metadata": {
        "id": "0JDhbzjU7yxw"
      },
      "source": [
        "import torch\n",
        "import torch.nn as nn\n",
        "import torch.nn.functional as F\n",
        "\n",
        "from causal_meta.utils.torch_utils import logsumexp\n",
        "from tqdm import tnrange, tqdm_notebook, notebook\n",
        "from argparse import Namespace\n",
        "from copy import deepcopy\n",
        "\n",
        "\n",
        "def train_nll(opt, model, scm, train_distr_fn, polarity='X2Y', loss_fn=nn.MSELoss(),\n",
        "              decoder=None, encoder=None):\n",
        "    optim = torch.optim.Adam(model.parameters(), lr=opt.LR)\n",
        "    if opt.CUDA:\n",
        "        model = model.cuda()\n",
        "        if encoder is not None: \n",
        "            encoder = encoder.cuda()\n",
        "        if decoder is not None: \n",
        "            decoder = decoder.cuda()\n",
        "    frames = []\n",
        "    for iter_num in tnrange(opt.NUM_ITER, leave=False):\n",
        "        # Generate samples from the training distry\n",
        "        Y = train_distr_fn()\n",
        "        with torch.no_grad():\n",
        "            X = scm(Y)\n",
        "        if opt.CUDA:\n",
        "            X, Y = X.cuda(), Y.cuda()\n",
        "        with torch.no_grad():\n",
        "            if decoder is not None:\n",
        "                # X and Y are sampled from the underlying distribution.\n",
        "                # We apply a secret random transformation to the true latent\n",
        "                # variables to obtain the raw input\n",
        "                X, Y = decoder(X, Y)\n",
        "            if encoder is not None:\n",
        "                # Apply the encoder, meant to \"undo\" the decoder up to swapping X and Y.\n",
        "                X, Y = encoder(X, Y)\n",
        "        # Now, train as usual\n",
        "        if polarity == 'X2Y':\n",
        "            inp, tar = X, Y\n",
        "        elif polarity == 'Y2X':\n",
        "            inp, tar = Y, X\n",
        "        else:\n",
        "            raise ValueError\n",
        "        if opt.CUDA:\n",
        "            inp, tar = inp.cuda(), tar.cuda()\n",
        "        # Train\n",
        "        out = model(inp, normal(0, 1, X.size()))\n",
        "        loss = loss_fn(out, tar)\n",
        "        optim.zero_grad()\n",
        "        loss.backward()\n",
        "        optim.step()\n",
        "        # Append info\n",
        "        if iter_num % opt.REC_FREQ or iter_num == (opt.NUM_ITER - 1):\n",
        "            info = Namespace(loss=loss.item(),\n",
        "                             iter_num=iter_num)\n",
        "            frames.append(info)\n",
        "    return frames\n",
        "\n",
        "# def marginal_nll(opt, inp, nll): \n",
        "#     model_g = gmm(opt)\n",
        "#     if opt.CUDA: \n",
        "#         model_g = model_g.cuda()\n",
        "#     model_g.fit(inp)\n",
        "#     with torch.no_grad():\n",
        "#         loss_marginal = nll(model_g(inp), inp)\n",
        "#     return loss_marginal\n",
        "\n",
        "def transfer_tune(opt, model, model_g, inp, tar, nll): \n",
        "    model = deepcopy(model)\n",
        "    optim_model = torch.optim.Adam(model.parameters(), \n",
        "                                   opt.FINETUNE_LR)\n",
        "    loss_marginal = marginal_nll(opt, inp[0], model_g, nll).item()\n",
        "    joint_losses = []\n",
        "    for iter_num in range(opt.FINETUNE_NUM_ITER): \n",
        "        # Train conditional\n",
        "        prd = model(inp[0], inp[1])\n",
        "        loss_conditional = nll(prd, tar)\n",
        "        optim_model.zero_grad()\n",
        "        loss_conditional.backward()\n",
        "        optim_model.step()\n",
        "        joint_losses.append(loss_conditional.item() + loss_marginal)\n",
        "    # Return losses\n",
        "    return joint_losses\n",
        "\n",
        "def auc_transfer_metric(opt, model, model_g, inp, tar, nll):\n",
        "    # Tune\n",
        "    losses = transfer_tune(opt, model, model_g, inp, tar, nll)\n",
        "    # Compute the integral of the loss curve\n",
        "    return sum(losses)\n",
        "\n",
        "def train_alpha(opt, model_x2y, model_y2x, model_g2y, model_g2x, alpha, gt_scm, \n",
        "                distr, sweep_distr, nll, transfer_metric, mixmode='logmix'):\n",
        "    # Everyone to CUDA\n",
        "    if opt.CUDA: \n",
        "        model_x2y.cuda()\n",
        "        model_y2x.cuda()\n",
        "    alpha_optim = torch.optim.Adam([alpha], lr=opt.ALPHA_LR)\n",
        "    frames = []\n",
        "    iterations = tnrange(opt.ALPHA_NUM_ITER, leave=False)\n",
        "    for iter_num in iterations:\n",
        "        # Sample parameter for the transfer distribution\n",
        "        sweep_param = sweep_distr()\n",
        "        # Sample X from transfer\n",
        "        zx = normal(0, 1, 1000)\n",
        "        zy = normal(0, 1, 1000)\n",
        "        Y_gt = distr(sweep_param)\n",
        "        X_gt = gt_scm(Y_gt)\n",
        "        with torch.no_grad():\n",
        "            if opt.CUDA:\n",
        "                X_gt, Y_gt = X_gt.cuda(), Y_gt.cuda()\n",
        "        # Evaluate performance\n",
        "        metric_x2y = transfer_metric(opt, model_x2y, model_g2x, [X_gt, zy], Y_gt, nll)\n",
        "        metric_y2x = transfer_metric(opt, model_y2x, model_g2y, [Y_gt, zx], X_gt, nll)\n",
        "        # Estimate gradient\n",
        "        if mixmode == 'logmix':\n",
        "            loss_alpha = torch.sigmoid(alpha) * metric_x2y + (1 - torch.sigmoid(alpha)) * metric_y2x\n",
        "        else:\n",
        "            log_alpha, log_1_m_alpha = F.logsigmoid(alpha), F.logsigmoid(-alpha)\n",
        "            as_lse = logsumexp(log_alpha + metric_x2y, log_1_m_alpha + metric_y2x)\n",
        "            if mixmode == 'logsigp': \n",
        "                loss_alpha = as_lse\n",
        "            elif mixmode == 'sigp':\n",
        "                loss_alpha = as_lse.exp()\n",
        "        # Optimize\n",
        "        alpha_optim.zero_grad()\n",
        "        loss_alpha.backward()\n",
        "        alpha_optim.step()\n",
        "        # Append info\n",
        "        with torch.no_grad():\n",
        "            frames.append(Namespace(iter_num=iter_num,\n",
        "                                    alpha=alpha.item(), \n",
        "                                    sig_alpha=torch.sigmoid(alpha).item(), \n",
        "                                    metric_x2y=metric_x2y, \n",
        "                                    metric_y2x=metric_y2x, \n",
        "                                    loss_alpha=loss_alpha.item()))\n",
        "        iterations.set_postfix(alpha='{0:.4f}'.format(torch.sigmoid(alpha).item()))\n",
        "    return frames\n",
        "\n",
        "def train_alpha_beta(opt, model_x2y, model_y2x, model_g2y, model_g2x, indx, indy, alpha, beta, gt_scm, \n",
        "                distr, sweep_distr, nll, transfer_metric, mixmode='logmix'):\n",
        "    # Everyone to CUDA\n",
        "    if opt.CUDA: \n",
        "        model_x2y.cuda()\n",
        "        model_y2x.cuda()\n",
        "    alpha_optim = torch.optim.Adam([alpha], lr=opt.ALPHA_LR)\n",
        "    beta_optim = torch.optim.Adam([beta], lr=opt.ALPHA_LR)\n",
        "    frames = []\n",
        "    iterations = tnrange(opt.ALPHA_NUM_ITER, leave=False)\n",
        "    for iter_num in iterations:\n",
        "        # Sample parameter for the transfer distribution\n",
        "        sweep_paramY = sweep_distr()\n",
        "        # Sample X from transfer\n",
        "        zx = normal(0, 1, 1000)\n",
        "        zy = normal(0, 1, 1000)\n",
        "        Y_gt = distr(sweep_paramY)\n",
        "        X_gt = gt_scm(Y_gt)\n",
        "        # Y_gt = gt_scm(X_gt)\n",
        "        with torch.no_grad():\n",
        "            if opt.CUDA:\n",
        "                X_gt, Y_gt = X_gt.cuda(), Y_gt.cuda()\n",
        "        # Evaluate performance\n",
        "        metric_x2y = transfer_metric(opt, model_x2y, model_g2x, [X_gt, zy], Y_gt, nll)\n",
        "        metric_y2x = transfer_metric(opt, model_y2x, model_g2y, [Y_gt, zx], X_gt, nll)\n",
        "        metric_xiy = transfer_ind(opt, indx, indy, zx, zy, X_gt, Y_gt, nll)\n",
        "        # Estimate gradient\n",
        "        if mixmode == 'logmix':\n",
        "            loss_alpha = torch.sigmoid(alpha) * metric_x2y + (1 - torch.sigmoid(alpha)) * metric_y2x\n",
        "            maxmet = max(metric_x2y, metric_y2x)\n",
        "            loss_beta = torch.sigmoid(beta) * metric_xiy + (1 - torch.sigmoid(beta)) * maxmet\n",
        "        else:\n",
        "            log_alpha, log_1_m_alpha = F.logsigmoid(alpha), F.logsigmoid(-alpha)\n",
        "            # log_beta, log_1_m_beta = F.logsigmoid(beta), F.logsigmoid(-beta)\n",
        "            as_lse = logsumexp(log_alpha + metric_x2y, log_1_m_alpha + metric_y2x)\n",
        "            # bs_lse = logsumexp(log_beta + metric_x2y, log_1_m_beta + metric_xiy + 2)\n",
        "            if mixmode == 'logsigp': \n",
        "                loss_alpha = as_lse\n",
        "            elif mixmode == 'sigp':\n",
        "                loss_alpha = as_lse.exp()\n",
        "        # Optimize\n",
        "        alpha_optim.zero_grad()\n",
        "        loss_alpha.backward()\n",
        "        alpha_optim.step()\n",
        "        \n",
        "        beta_optim.zero_grad()\n",
        "        loss_beta.backward()\n",
        "        beta_optim.step()\n",
        "        # Append info\n",
        "        with torch.no_grad():\n",
        "            frames.append(Namespace(iter_num=iter_num,\n",
        "                                    alpha=alpha.item(), \n",
        "                                    beta = beta.item(),\n",
        "                                    sig_alpha=torch.sigmoid(alpha).item(), \n",
        "                                    sig_beta=torch.sigmoid(beta).item(), \n",
        "                                    metric_x2y=metric_x2y, \n",
        "                                    metric_y2x=metric_y2x, \n",
        "                                    loss_alpha=loss_alpha.item()))\n",
        "        iterations.set_postfix({'alpha':'{0:.4f}'.format(torch.sigmoid(alpha).item()),'beta':'{0:.4f}'.format(torch.sigmoid(beta).item())})\n",
        "    return frames"
      ],
      "execution_count": null,
      "outputs": []
    },
    {
      "cell_type": "code",
      "metadata": {
        "id": "FImyBhpuTEUc",
        "outputId": "86698f73-6fc3-4098-815f-2f4e241298c5",
        "colab": {
          "base_uri": "https://localhost:8080/",
          "height": 34,
          "referenced_widgets": [
            "e7f598e522d8453d8d3e9de0e0005183",
            "30c50dec202d4db4a69486b5cb71b2fb",
            "d55eb9039476470bbbbc28fd8c817487",
            "edda4f722d8945768902d595505167a8",
            "7b6c135b06f6463284135cd0ccf038f8",
            "215c54cf070a427abd3446ff2c87f8f4",
            "b60dc1542912497592aa06263f10979b",
            "944c047a83884368b7272bdae0db7b60"
          ]
        }
      },
      "source": [
        "model_x = mdn_orig(opt)\n",
        "model_y = mdn_orig(opt)\n",
        "\n",
        "frames_idp = train_ind(opt, model_x, model_y, opt.TRAIN_DISTRY, opt.TRAIN_DISTRY, loss_fn=mdn_nll, decoder=None, encoder=None)"
      ],
      "execution_count": null,
      "outputs": [
        {
          "output_type": "stream",
          "text": [
            "/usr/local/lib/python3.6/dist-packages/ipykernel_launcher.py:21: TqdmDeprecationWarning: Please use `tqdm.notebook.trange` instead of `tqdm.tnrange`\n"
          ],
          "name": "stderr"
        },
        {
          "output_type": "display_data",
          "data": {
            "application/vnd.jupyter.widget-view+json": {
              "model_id": "e7f598e522d8453d8d3e9de0e0005183",
              "version_minor": 0,
              "version_major": 2
            },
            "text/plain": [
              "HBox(children=(FloatProgress(value=0.0, max=500.0), HTML(value='')))"
            ]
          },
          "metadata": {
            "tags": []
          }
        }
      ]
    },
    {
      "cell_type": "code",
      "metadata": {
        "id": "FZmFhLO57yxz"
      },
      "source": [
        "# def mdn(opt): \n",
        "#     return MDN(opt.CAPACITY, opt.NUM_COMPONENTS)\n",
        "\n",
        "def mdn(opt): \n",
        "    return FCMMDN(opt.CAPACITY, opt.NUM_COMPONENTS)\n",
        "\n",
        "def gmm(opt): \n",
        "    return GaussianMixture(opt.GMM_NUM_COMPONENTS)"
      ],
      "execution_count": null,
      "outputs": []
    },
    {
      "cell_type": "code",
      "metadata": {
        "id": "Y2iMGHf_7yx0",
        "outputId": "f5e8df90-fcce-44ec-c380-db1f06a139ab",
        "colab": {
          "base_uri": "https://localhost:8080/",
          "height": 34,
          "referenced_widgets": [
            "38427d6e9ca3443c87236302db99b501",
            "bad8ca458ff44cd5aa4f49afefb60cba",
            "d8d16958eb4846e09b2e87ef1ad16a74",
            "8026e6d424f24bb8aa7301f7a7f9bfa8",
            "cac0b3f7cce043d69b9ca81060d841e9",
            "a59fdc5123f64d54ad74bbffd0733f16",
            "8719e7c9f8db468ab080c6cf75b3e244",
            "b7357f28640b4ebf964bc86f50523b09"
          ]
        }
      },
      "source": [
        "model_x2y = mdn(opt)\n",
        "frames_x2y = train_nll(opt, model_x2y, scm, opt.TRAIN_DISTRY, polarity='X2Y',\n",
        "    loss_fn=mdn_nll, decoder=None, encoder=None)"
      ],
      "execution_count": null,
      "outputs": [
        {
          "output_type": "stream",
          "text": [
            "/usr/local/lib/python3.6/dist-packages/ipykernel_launcher.py:21: TqdmDeprecationWarning: Please use `tqdm.notebook.trange` instead of `tqdm.tnrange`\n"
          ],
          "name": "stderr"
        },
        {
          "output_type": "display_data",
          "data": {
            "application/vnd.jupyter.widget-view+json": {
              "model_id": "38427d6e9ca3443c87236302db99b501",
              "version_minor": 0,
              "version_major": 2
            },
            "text/plain": [
              "HBox(children=(FloatProgress(value=0.0, max=500.0), HTML(value='')))"
            ]
          },
          "metadata": {
            "tags": []
          }
        }
      ]
    },
    {
      "cell_type": "code",
      "metadata": {
        "id": "4Hkm1U9z7yx4",
        "outputId": "d1ef92d4-d63a-495a-f8c1-aebe588aec4d",
        "colab": {
          "base_uri": "https://localhost:8080/",
          "height": 34,
          "referenced_widgets": [
            "3e6af7f164c3414396e4e8905ccbe0af",
            "0f15bbed40754690a9356fa0ca838c34",
            "79ffd16246ca46a3a5d49c74580d8da7",
            "b29cdcacc7134c99a1c846f278b88187",
            "34ed4242639a4a27a69715bebd9dbbc0",
            "136e079ff3cc45e8affff20eb01411d5",
            "01f00237ae9b42ffbd683af8c3a3cc01",
            "b78652b064b94739b5f2af3b2f2b47dd"
          ]
        }
      },
      "source": [
        "model_y2x = mdn(opt)\n",
        "frames_y2x = train_nll(opt, model_y2x, scm, opt.TRAIN_DISTRY, polarity='Y2X',\n",
        "    loss_fn=mdn_nll, decoder=None, encoder=None)"
      ],
      "execution_count": null,
      "outputs": [
        {
          "output_type": "stream",
          "text": [
            "/usr/local/lib/python3.6/dist-packages/ipykernel_launcher.py:21: TqdmDeprecationWarning: Please use `tqdm.notebook.trange` instead of `tqdm.tnrange`\n"
          ],
          "name": "stderr"
        },
        {
          "output_type": "display_data",
          "data": {
            "application/vnd.jupyter.widget-view+json": {
              "model_id": "3e6af7f164c3414396e4e8905ccbe0af",
              "version_minor": 0,
              "version_major": 2
            },
            "text/plain": [
              "HBox(children=(FloatProgress(value=0.0, max=500.0), HTML(value='')))"
            ]
          },
          "metadata": {
            "tags": []
          }
        }
      ]
    },
    {
      "cell_type": "code",
      "metadata": {
        "id": "-l93Y7GdeaJ4",
        "outputId": "65a7eb71-87a7-4701-e2ce-2128dc8da2f1",
        "colab": {
          "base_uri": "https://localhost:8080/",
          "height": 34,
          "referenced_widgets": [
            "69d410c1408043a6bbc331bc4dacf5da",
            "9eb3c379e47341c8a6aaa9929ede8e95",
            "134681edbec9443da2f413a3ba5e9092",
            "2ab4b100b7d54b798654fad92b8973bd",
            "59bc9d58dc6348cf906819915ba46d7c",
            "d3b45ba078aa4bf3b86f3084a2badd21",
            "8b3a47d6920945559e04f91a24469ac3",
            "6ade7a289b2e46ce89fe146de6606d27"
          ]
        }
      },
      "source": [
        "alpha = make_alpha(opt)\n",
        "beta = make_alpha(opt)\n",
        "\n",
        "lpha_frames = train_alpha_beta(opt, model_x2y, model_y2x, model_x, model_y, model_x, model_y, alpha, beta, scm, \n",
        "                           opt.PARAM_DISTRY, opt.PARAM_SAMPLER, mdn_nll,\n",
        "                           auc_transfer_metric, mixmode='logmix')"
      ],
      "execution_count": null,
      "outputs": [
        {
          "output_type": "stream",
          "text": [
            "/usr/local/lib/python3.6/dist-packages/ipykernel_launcher.py:148: TqdmDeprecationWarning: Please use `tqdm.notebook.trange` instead of `tqdm.tnrange`\n"
          ],
          "name": "stderr"
        },
        {
          "output_type": "display_data",
          "data": {
            "application/vnd.jupyter.widget-view+json": {
              "model_id": "69d410c1408043a6bbc331bc4dacf5da",
              "version_minor": 0,
              "version_major": 2
            },
            "text/plain": [
              "HBox(children=(FloatProgress(value=0.0, max=500.0), HTML(value='')))"
            ]
          },
          "metadata": {
            "tags": []
          }
        }
      ]
    },
    {
      "cell_type": "code",
      "metadata": {
        "id": "IzayypXtf3pl",
        "outputId": "8877118b-7af6-4f8c-f211-65c5a1155f9b",
        "colab": {
          "base_uri": "https://localhost:8080/",
          "height": 343
        }
      },
      "source": [
        "alphas = np.asarray([frame.sig_alpha for frame in lpha_frames])\n",
        "\n",
        "fig = plt.figure(figsize=(9, 5))\n",
        "ax = plt.subplot(1, 1, 1)\n",
        "\n",
        "ax.tick_params(axis='both', which='major', labelsize=13)\n",
        "ax.axhline(1, c='lightgray', ls='--')\n",
        "ax.axhline(0, c='lightgray', ls='--')\n",
        "ax.plot(alphas, lw=2, color='k', label='N = {0}'.format(10))\n",
        "\n",
        "ax.set_xlim([0, opt.ALPHA_NUM_ITER - 1])\n",
        "ax.set_xlabel('Number of episodes', fontsize=14)\n",
        "ax.set_ylabel(r'$\\sigma(\\gamma)$', fontsize=14)\n",
        "ax.legend(loc=4, prop={'size': 13})\n",
        "\n",
        "plt.show()"
      ],
      "execution_count": null,
      "outputs": [
        {
          "output_type": "display_data",
          "data": {
            "image/png": "[encoded data removed]",
            "text/plain": [
              "<Figure size 648x360 with 1 Axes>"
            ]
          },
          "metadata": {
            "tags": [],
            "needs_background": "light"
          }
        }
      ]
    },
    {
      "cell_type": "code",
      "metadata": {
        "id": "vS2qTM9vf3po",
        "outputId": "53a1cdd8-b298-44e6-9ca7-c10780182fa1",
        "colab": {
          "base_uri": "https://localhost:8080/",
          "height": 343
        }
      },
      "source": [
        "alphas = np.asarray([frame.sig_beta for frame in lpha_frames])\n",
        "\n",
        "fig = plt.figure(figsize=(9, 5))\n",
        "ax = plt.subplot(1, 1, 1)\n",
        "\n",
        "ax.tick_params(axis='both', which='major', labelsize=13)\n",
        "ax.axhline(1, c='lightgray', ls='--')\n",
        "ax.axhline(0, c='lightgray', ls='--')\n",
        "ax.plot(alphas, lw=2, color='k', label='N = {0}'.format(10))\n",
        "\n",
        "ax.set_xlim([0, opt.ALPHA_NUM_ITER - 1])\n",
        "ax.set_xlabel('Number of episodes', fontsize=14)\n",
        "ax.set_ylabel(r'$\\sigma(\\gamma)$', fontsize=14)\n",
        "ax.legend(loc=4, prop={'size': 13})\n",
        "\n",
        "plt.show()"
      ],
      "execution_count": null,
      "outputs": [
        {
          "output_type": "display_data",
          "data": {
            "image/png": "[encoded data removed]",
            "text/plain": [
              "<Figure size 648x360 with 1 Axes>"
            ]
          },
          "metadata": {
            "tags": [],
            "needs_background": "light"
          }
        }
      ]
    },
    {
      "cell_type": "code",
      "metadata": {
        "id": "NDvStDta7yx6",
        "outputId": "12f4fc42-84c7-4a56-8503-ffdc8df5a128",
        "colab": {
          "base_uri": "https://localhost:8080/",
          "height": 34,
          "referenced_widgets": [
            "04a9900630a04df68e38c8bd30a7ebc5",
            "b2e56ed1f6834a6ab2060bb7f953a72f",
            "2d774d1c354a42958e40767745812b40",
            "7524eacd2d094fb09111a35e25347aef",
            "173c398128a2494b949e944e265cbf84",
            "8dfe07db52e34d4e96f6d8a913244947",
            "80829a231deb4690ac0f39e56dd90abe",
            "dafb608a58a54af3a8162b627fdd4bb5"
          ]
        }
      },
      "source": [
        "alpha = make_alpha(opt)\n",
        "# alpha_frames = train_alpha(opt, model_x2y, model_y2x, None, None, alpha, scm, \n",
        "#                            opt.PARAM_DISTRY, opt.PARAM_SAMPLER, mdn_nll,\n",
        "#                            auc_transfer_metric, mixmode='logsigp')\n",
        "alpha_frames = train_alpha(opt, model_x2y, model_y2x, model_x, model_y, alpha, scm, \n",
        "                           opt.PARAM_DISTRY, opt.PARAM_SAMPLER, mdn_nll,\n",
        "                           auc_transfer_metric, mixmode='logsigp')"
      ],
      "execution_count": null,
      "outputs": [
        {
          "output_type": "stream",
          "text": [
            "/usr/local/lib/python3.6/dist-packages/ipykernel_launcher.py:99: TqdmDeprecationWarning: Please use `tqdm.notebook.trange` instead of `tqdm.tnrange`\n"
          ],
          "name": "stderr"
        },
        {
          "output_type": "display_data",
          "data": {
            "application/vnd.jupyter.widget-view+json": {
              "model_id": "04a9900630a04df68e38c8bd30a7ebc5",
              "version_minor": 0,
              "version_major": 2
            },
            "text/plain": [
              "HBox(children=(FloatProgress(value=0.0, max=500.0), HTML(value='')))"
            ]
          },
          "metadata": {
            "tags": []
          }
        }
      ]
    },
    {
      "cell_type": "code",
      "metadata": {
        "id": "Z7r2LbTP7yx8",
        "outputId": "824ab711-b022-47b2-aea2-3d80d8cd44a0",
        "colab": {
          "base_uri": "https://localhost:8080/",
          "height": 343
        }
      },
      "source": [
        "alphas = np.asarray([frame.sig_alpha for frame in alpha_frames])\n",
        "\n",
        "fig = plt.figure(figsize=(9, 5))\n",
        "ax = plt.subplot(1, 1, 1)\n",
        "\n",
        "ax.tick_params(axis='both', which='major', labelsize=13)\n",
        "ax.axhline(1, c='lightgray', ls='--')\n",
        "ax.axhline(0, c='lightgray', ls='--')\n",
        "ax.plot(alphas, lw=2, color='k', label='N = {0}'.format(10))\n",
        "\n",
        "ax.set_xlim([0, opt.ALPHA_NUM_ITER - 1])\n",
        "ax.set_xlabel('Number of episodes', fontsize=14)\n",
        "ax.set_ylabel(r'$\\sigma(\\gamma)$', fontsize=14)\n",
        "ax.legend(loc=4, prop={'size': 13})\n",
        "\n",
        "plt.show()"
      ],
      "execution_count": null,
      "outputs": [
        {
          "output_type": "display_data",
          "data": {
            "image/png": "[encoded data removed]",
            "text/plain": [
              "<Figure size 648x360 with 1 Axes>"
            ]
          },
          "metadata": {
            "tags": [],
            "needs_background": "light"
          }
        }
      ]
    },
    {
      "cell_type": "code",
      "metadata": {
        "id": "9qV6sjZQ8KHu"
      },
      "source": [
        ""
      ],
      "execution_count": null,
      "outputs": []
    },
    {
      "cell_type": "markdown",
      "metadata": {
        "id": "lvbOp0bE8K4H"
      },
      "source": [
        "# Indep"
      ]
    },
    {
      "cell_type": "code",
      "metadata": {
        "id": "U0Hj7L0t8MQR"
      },
      "source": [
        ""
      ],
      "execution_count": null,
      "outputs": []
    },
    {
      "cell_type": "code",
      "metadata": {
        "id": "F95EDdXC8MZX"
      },
      "source": [
        "import torch\n",
        "import torch.nn as nn\n",
        "import torch.nn.functional as F\n",
        "\n",
        "from causal_meta.utils.torch_utils import logsumexp\n",
        "from tqdm import tnrange, tqdm_notebook, notebook\n",
        "from argparse import Namespace\n",
        "from copy import deepcopy\n",
        "\n",
        "def train_ind(opt, model1, model2, train_distr_fn1, train_distr_fn2, loss_fn=nn.MSELoss(),\n",
        "              decoder=None, encoder=None):\n",
        "    optim1 = torch.optim.Adam(model1.parameters(), lr=opt.LR)\n",
        "    optim2 = torch.optim.Adam(model2.parameters(), lr=opt.LR)\n",
        "    if opt.CUDA:\n",
        "        model = model.cuda()\n",
        "        if encoder is not None: \n",
        "            encoder = encoder.cuda()\n",
        "        if decoder is not None: \n",
        "            decoder = decoder.cuda()\n",
        "    frames = []\n",
        "    for iter_num in tnrange(opt.NUM_ITER, leave=False):\n",
        "        # Generate samples from the training distry\n",
        "        X = train_distr_fn1()\n",
        "        Y = train_distr_fn2()\n",
        "        if opt.CUDA:\n",
        "            X, Y = X.cuda(), Y.cuda()\n",
        "        with torch.no_grad():\n",
        "            if decoder is not None:\n",
        "                # X and Y are sampled from the underlying distribution.\n",
        "                # We apply a secret random transformation to the true latent\n",
        "                # variables to obtain the raw input\n",
        "                X, Y = decoder(X, Y)\n",
        "            if encoder is not None:\n",
        "                # Apply the encoder, meant to \"undo\" the decoder up to swapping X and Y.\n",
        "                X, Y = encoder(X, Y)\n",
        "        # Now, train as usual\n",
        "        tar1, tar2 = X, Y\n",
        "        if opt.CUDA:\n",
        "            tar1, tar2 = tar1.cuda(), tar2.cuda()\n",
        "        # Train\n",
        "        out1 = model1(normal(0, 1, X.size()))\n",
        "        loss1 = loss_fn(out1, tar1)\n",
        "        out2 = model2(normal(0, 1, Y.size()))\n",
        "        loss2 = loss_fn(out2, tar2)\n",
        "        optim1.zero_grad()\n",
        "        optim2.zero_grad()\n",
        "        loss1.backward()\n",
        "        loss2.backward()\n",
        "        optim1.step()\n",
        "        optim2.step()\n",
        "        # Append info\n",
        "        if iter_num % opt.REC_FREQ or iter_num == (opt.NUM_ITER - 1):\n",
        "            info = Namespace(loss1=loss1.item(),loss2=loss2.item(),\n",
        "                             iter_num=iter_num)\n",
        "            frames.append(info)\n",
        "    return frames\n",
        "\n",
        "def train_nll(opt, model, scm, train_distr_fn, polarity='X2Y', loss_fn=nn.MSELoss(),\n",
        "              decoder=None, encoder=None):\n",
        "    optim = torch.optim.Adam(model.parameters(), lr=opt.LR)\n",
        "    if opt.CUDA:\n",
        "        model = model.cuda()\n",
        "        if encoder is not None: \n",
        "            encoder = encoder.cuda()\n",
        "        if decoder is not None: \n",
        "            decoder = decoder.cuda()\n",
        "    frames = []\n",
        "    for iter_num in tnrange(opt.NUM_ITER, leave=False):\n",
        "        # Generate samples from the training distry\n",
        "        X = train_distr_fn()\n",
        "        Y = train_distr_fn()\n",
        "        if opt.CUDA:\n",
        "            X, Y = X.cuda(), Y.cuda()\n",
        "        with torch.no_grad():\n",
        "            z = normal(0, 1, X.size())\n",
        "            if decoder is not None:\n",
        "                # X and Y are sampled from the underlying distribution.\n",
        "                # We apply a secret random transformation to the true latent\n",
        "                # variables to obtain the raw input\n",
        "                X, Y = decoder(X, Y)\n",
        "            if encoder is not None:\n",
        "                # Apply the encoder, meant to \"undo\" the decoder up to swapping X and Y.\n",
        "                X, Y = encoder(X, Y)\n",
        "        # Now, train as usual\n",
        "        if polarity == 'X2Y':\n",
        "            inp, tar = X, Y\n",
        "        elif polarity == 'Y2X':\n",
        "            inp, tar = Y, X\n",
        "        else:\n",
        "            raise ValueError\n",
        "        if opt.CUDA:\n",
        "            inp, tar = inp.cuda(), tar.cuda()\n",
        "        # Train\n",
        "        out = model(inp, z)\n",
        "        loss = loss_fn(out, tar)\n",
        "        optim.zero_grad()\n",
        "        loss.backward()\n",
        "        optim.step()\n",
        "        # Append info\n",
        "        if iter_num % opt.REC_FREQ or iter_num == (opt.NUM_ITER - 1):\n",
        "            info = Namespace(loss=loss.item(),\n",
        "                             iter_num=iter_num)\n",
        "            frames.append(info)\n",
        "    return frames\n",
        "\n",
        "# def marginal_nll(opt, inp, nll): \n",
        "#     model_g = gmm(opt)\n",
        "#     if opt.CUDA: \n",
        "#         model_g = model_g.cuda()\n",
        "#     model_g.fit(inp)\n",
        "#     with torch.no_grad():\n",
        "#         loss_marginal = nll(model_g(inp), inp)\n",
        "#     return loss_marginal\n",
        "\n",
        "def marginal_nll(opt, inp, model_g, nll): \n",
        "    model_g = deepcopy(model_g)\n",
        "    if opt.CUDA: \n",
        "        model_g = model_g.cuda()\n",
        "    # model_g.fit(inp)\n",
        "    with torch.no_grad():\n",
        "        loss_marginal = nll(model_g(inp), inp)\n",
        "    return loss_marginal\n",
        "\n",
        "def transfer_tune(opt, model, model_g, inp, tar, nll): \n",
        "    model = deepcopy(model)\n",
        "    optim_model = torch.optim.Adam(model.parameters(), \n",
        "                                   opt.FINETUNE_LR)\n",
        "    # loss_marginal = marginal_nll(opt, inp[0], nll).item()\n",
        "    loss_marginal = marginal_nll(opt, inp[0], model_g, nll).item()\n",
        "    joint_losses = []\n",
        "    for iter_num in range(opt.FINETUNE_NUM_ITER): \n",
        "        # Train conditional\n",
        "        prd = model(inp[0], inp[1])\n",
        "        loss_conditional = nll(prd, tar)\n",
        "        optim_model.zero_grad()\n",
        "        loss_conditional.backward()\n",
        "        optim_model.step()\n",
        "        joint_losses.append(loss_conditional.item() + loss_marginal)\n",
        "    # Return losses\n",
        "    return joint_losses\n",
        "\n",
        "def auc_transfer_metric(opt, model, model_g, inp, tar, nll):\n",
        "    # Tune\n",
        "    losses = transfer_tune(opt, model, model_g, inp, tar, nll)\n",
        "    # Compute the integral of the loss curve\n",
        "    return sum(losses)\n",
        "\n",
        "def transfer_ind(opt, modelx, modely, inpx, inpy, tarx, tary, nll):\n",
        "    modelx = deepcopy(modelx)\n",
        "    # optim_modelx = torch.optim.Adam(modelx.parameters(), \n",
        "    #                                 opt.FINETUNE_LR)\n",
        "    modely = deepcopy(modely)\n",
        "    # optim_modely = torch.optim.Adam(modely.parameters(), \n",
        "    #                                 opt.FINETUNE_LR)\n",
        "    # loss_marginal = marginal_nll(opt, inp[0], nll).item()\n",
        "    joint_losses = []\n",
        "    for iter_num in range(opt.FINETUNE_NUM_ITER): \n",
        "        # Train conditional\n",
        "        prdx = modelx(inpx)\n",
        "        loss_conditionalx = nll(prdx, tarx)\n",
        "        # optim_modelx.zero_grad()\n",
        "        # loss_conditionalx.backward()\n",
        "        # optim_modelx.step()\n",
        "\n",
        "        prdy = modely(inpy)\n",
        "        loss_conditionaly = nll(prdy, tary)\n",
        "        # optim_modely.zero_grad()\n",
        "        # loss_conditionaly.backward()\n",
        "        # optim_modely.step()\n",
        "\n",
        "        joint_losses.append(loss_conditionaly.item() + loss_conditionalx.item())\n",
        "    # Return losses\n",
        "    return sum(joint_losses)\n",
        "\n",
        "# def train_alpha(opt, model_x2y, model_y2x, model_g2y, model_g2x, alpha, gt_scm, \n",
        "#                 distr, sweep_distr, nll, transfer_metric, mixmode='logmix'):\n",
        "#     # Everyone to CUDA\n",
        "#     if opt.CUDA: \n",
        "#         model_x2y.cuda()\n",
        "#         model_y2x.cuda()\n",
        "#     alpha_optim = torch.optim.Adam([alpha], lr=opt.ALPHA_LR)\n",
        "#     frames = []\n",
        "#     iterations = tnrange(opt.ALPHA_NUM_ITER, leave=False)\n",
        "#     for iter_num in iterations:\n",
        "#         # Sample parameter for the transfer distribution\n",
        "#         sweep_paramX = sweep_distr()\n",
        "#         sweep_paramY = sweep_distr()\n",
        "#         # Sample X from transfer\n",
        "        \n",
        "#         X_gt = distr(sweep_paramX)\n",
        "#         Y_gt = distr(sweep_paramY)\n",
        "#         # Y_gt = gt_scm(X_gt)\n",
        "#         with torch.no_grad():\n",
        "#             zx = normal(0, 1, 1000)\n",
        "#             zy = normal(0, 1, 1000)\n",
        "#             if opt.CUDA:\n",
        "#                 X_gt, Y_gt = X_gt.cuda(), Y_gt.cuda()\n",
        "#         # Evaluate performance\n",
        "#         metric_x2y = transfer_metric(opt, model_x2y, model_g2x, [X_gt, zy], Y_gt, nll)\n",
        "#         metric_y2x = transfer_metric(opt, model_y2x, model_g2y, [Y_gt, zx], X_gt, nll)\n",
        "#         # metric_xiy = transfer_ind(opt, model_x2y, model_y2x, [X_gt, zy], [X_gt, zy], X_gt, Y_gt, nll)\n",
        "#         # Estimate gradient\n",
        "#         if mixmode == 'logmix':\n",
        "#             loss_alpha = torch.sigmoid(alpha) * metric_x2y + (1 - torch.sigmoid(alpha)) * metric_y2x\n",
        "#         else:\n",
        "#             log_alpha, log_1_m_alpha = F.logsigmoid(alpha), F.logsigmoid(-alpha)\n",
        "#             as_lse = logsumexp(log_alpha + metric_x2y, log_1_m_alpha + metric_y2x)\n",
        "#             if mixmode == 'logsigp': \n",
        "#                 loss_alpha = as_lse\n",
        "#             elif mixmode == 'sigp':\n",
        "#                 loss_alpha = as_lse.exp()\n",
        "#         # Optimize\n",
        "#         alpha_optim.zero_grad()\n",
        "#         loss_alpha.backward()\n",
        "#         alpha_optim.step()\n",
        "#         # Append info\n",
        "#         with torch.no_grad():\n",
        "#             frames.append(Namespace(iter_num=iter_num,\n",
        "#                                     alpha=alpha.item(), \n",
        "#                                     sig_alpha=torch.sigmoid(alpha).item(), \n",
        "#                                     metric_x2y=metric_x2y, \n",
        "#                                     metric_y2x=metric_y2x, \n",
        "#                                     loss_alpha=loss_alpha.item()))\n",
        "#         iterations.set_postfix(alpha='{0:.4f}'.format(torch.sigmoid(alpha).item()))\n",
        "#     return frames\n",
        "\n",
        "def train_alpha_beta(opt, model_x2y, model_y2x, model_g2y, model_g2x, indx, indy, alpha, beta, gt_scm, \n",
        "                distr, sweep_distr, nll, transfer_metric, mixmode='logmix'):\n",
        "    # Everyone to CUDA\n",
        "    if opt.CUDA: \n",
        "        model_x2y.cuda()\n",
        "        model_y2x.cuda()\n",
        "    alpha_optim = torch.optim.Adam([alpha], lr=opt.ALPHA_LR)\n",
        "    beta_optim = torch.optim.Adam([beta], lr=opt.ALPHA_LR)\n",
        "    frames = []\n",
        "    iterations = tnrange(opt.ALPHA_NUM_ITER, leave=False)\n",
        "    for iter_num in iterations:\n",
        "        # Sample parameter for the transfer distribution\n",
        "        sweep_paramX = sweep_distr()\n",
        "        sweep_paramY = sweep_distr()\n",
        "        # Sample X from transfer\n",
        "        zx = normal(0, 1, 1000)\n",
        "        zy = normal(0, 1, 1000)\n",
        "        X_gt = distr(sweep_paramX)\n",
        "        Y_gt = distr(sweep_paramY)\n",
        "        # Y_gt = gt_scm(X_gt)\n",
        "        with torch.no_grad():\n",
        "            if opt.CUDA:\n",
        "                X_gt, Y_gt = X_gt.cuda(), Y_gt.cuda()\n",
        "        # Evaluate performance\n",
        "        metric_x2y = transfer_metric(opt, model_x2y, model_g2x, [X_gt, zy], Y_gt, nll)\n",
        "        metric_y2x = transfer_metric(opt, model_y2x, model_g2y, [Y_gt, zx], X_gt, nll)\n",
        "        metric_xiy = transfer_ind(opt, indx, indy, zx, zy, X_gt, Y_gt, nll)\n",
        "        # Estimate gradient\n",
        "        if mixmode == 'logmix':\n",
        "            loss_alpha = torch.sigmoid(alpha) * metric_x2y + (1 - torch.sigmoid(alpha)) * metric_y2x\n",
        "            maxmet = max(metric_x2y, metric_y2x)\n",
        "            loss_beta = torch.sigmoid(beta) * metric_xiy + (1 - torch.sigmoid(beta)) * maxmet\n",
        "        else:\n",
        "            log_alpha, log_1_m_alpha = F.logsigmoid(alpha), F.logsigmoid(-alpha)\n",
        "            # log_beta, log_1_m_beta = F.logsigmoid(beta), F.logsigmoid(-beta)\n",
        "            as_lse = logsumexp(log_alpha + metric_x2y, log_1_m_alpha + metric_y2x)\n",
        "            # bs_lse = logsumexp(log_beta + metric_x2y, log_1_m_beta + metric_xiy + 2)\n",
        "            if mixmode == 'logsigp': \n",
        "                loss_alpha = as_lse\n",
        "            elif mixmode == 'sigp':\n",
        "                loss_alpha = as_lse.exp()\n",
        "        # Optimize\n",
        "        alpha_optim.zero_grad()\n",
        "        loss_alpha.backward()\n",
        "        alpha_optim.step()\n",
        "        \n",
        "        beta_optim.zero_grad()\n",
        "        loss_beta.backward()\n",
        "        beta_optim.step()\n",
        "        # Append info\n",
        "        with torch.no_grad():\n",
        "            frames.append(Namespace(iter_num=iter_num,\n",
        "                                    alpha=alpha.item(), \n",
        "                                    beta = beta.item(),\n",
        "                                    sig_alpha=torch.sigmoid(alpha).item(), \n",
        "                                    sig_beta=torch.sigmoid(beta).item(), \n",
        "                                    metric_x2y=metric_x2y, \n",
        "                                    metric_y2x=metric_y2x, \n",
        "                                    loss_alpha=loss_alpha.item()))\n",
        "        iterations.set_postfix({'alpha':'{0:.4f}'.format(torch.sigmoid(alpha).item()),'beta':'{0:.4f}'.format(torch.sigmoid(beta).item())})\n",
        "    return frames\n",
        "\n",
        "def train_alpha(opt, model_x2y, model_y2x, model_g2y, model_g2x, alpha, gt_scm, \n",
        "                distr, sweep_distr, nll, transfer_metric, mixmode='logmix'):\n",
        "    # Everyone to CUDA\n",
        "    if opt.CUDA: \n",
        "        model_x2y.cuda()\n",
        "        model_y2x.cuda()\n",
        "    alpha_optim = torch.optim.Adam([alpha], lr=opt.ALPHA_LR)\n",
        "    frames = []\n",
        "    iterations = tnrange(opt.ALPHA_NUM_ITER, leave=False)\n",
        "    for iter_num in iterations:\n",
        "        # Sample parameter for the transfer distribution\n",
        "        sweep_paramx = sweep_distr()\n",
        "        sweep_paramy = sweep_distr()\n",
        "        # Sample X from transfer\n",
        "        \n",
        "        X_gt = distr(sweep_paramx)\n",
        "        Y_gt = distr(sweep_paramy)\n",
        "        # Y_gt = gt_scm(X_gt)\n",
        "        with torch.no_grad():\n",
        "            zx = normal(0, 1, 1000)\n",
        "            zy = normal(0, 1, 1000)\n",
        "            if opt.CUDA:\n",
        "                X_gt, Y_gt = X_gt.cuda(), Y_gt.cuda()\n",
        "        # Evaluate performance\n",
        "        metric_x2y = transfer_metric(opt, model_x2y, model_g2x, [X_gt, zy], Y_gt, nll)\n",
        "        metric_y2x = transfer_metric(opt, model_y2x, model_g2y, [Y_gt, zx], X_gt, nll)\n",
        "        # Estimate gradient\n",
        "        if mixmode == 'logmix':\n",
        "            loss_alpha = torch.sigmoid(alpha) * metric_x2y + (1 - torch.sigmoid(alpha)) * metric_y2x\n",
        "        else:\n",
        "            log_alpha, log_1_m_alpha = F.logsigmoid(alpha), F.logsigmoid(-alpha)\n",
        "            as_lse = logsumexp(log_alpha + metric_x2y, log_1_m_alpha + metric_y2x)\n",
        "            if mixmode == 'logsigp': \n",
        "                loss_alpha = as_lse\n",
        "            elif mixmode == 'sigp':\n",
        "                loss_alpha = as_lse.exp()\n",
        "        # Optimize\n",
        "        alpha_optim.zero_grad()\n",
        "        loss_alpha.backward()\n",
        "        alpha_optim.step()\n",
        "        # Append info\n",
        "        with torch.no_grad():\n",
        "            frames.append(Namespace(iter_num=iter_num,\n",
        "                                    alpha=alpha.item(), \n",
        "                                    sig_alpha=torch.sigmoid(alpha).item(), \n",
        "                                    metric_x2y=metric_x2y, \n",
        "                                    metric_y2x=metric_y2x, \n",
        "                                    loss_alpha=loss_alpha.item()))\n",
        "        iterations.set_postfix(alpha='{0:.4f}'.format(torch.sigmoid(alpha).item()))\n",
        "    return frames"
      ],
      "execution_count": null,
      "outputs": []
    },
    {
      "cell_type": "code",
      "metadata": {
        "id": "7EDbDiQ58MZZ"
      },
      "source": [
        "def mdn(opt): \n",
        "    return FCMMDN(opt.CAPACITY, opt.NUM_COMPONENTS)\n",
        "\n",
        "def mdn_orig(opt): \n",
        "    return MDN(opt.CAPACITY, opt.NUM_COMPONENTS)\n",
        "\n",
        "def gmm(opt): \n",
        "    return GaussianMixture(opt.GMM_NUM_COMPONENTS)"
      ],
      "execution_count": null,
      "outputs": []
    },
    {
      "cell_type": "code",
      "metadata": {
        "id": "7_5pF1g7Kkrd",
        "outputId": "1c70d362-cda6-4693-9d34-c8b8dddc01ab",
        "colab": {
          "base_uri": "https://localhost:8080/",
          "height": 34,
          "referenced_widgets": [
            "00ec670877cb4aef97ce85c8f2e8f497",
            "17b23b6e68ae4bd9ab5a7635a7442b20",
            "6845dda26b154d2b8002d2e46a129a83",
            "429553dd83a54ff99a4aca1599a7384e",
            "f6a5c705df264c8e90e2df461f9d9474",
            "ebb7a5b09d594a66a9e05f9fd91c8f55",
            "27674be4aa9c467db5d14306bc595683",
            "a985715aff8e432882047b13baff1ae0"
          ]
        }
      },
      "source": [
        "model_x = mdn_orig(opt)\n",
        "model_y = mdn_orig(opt)\n",
        "\n",
        "frames_idp = train_ind(opt, model_x, model_y, opt.TRAIN_DISTRY, opt.TRAIN_DISTRY, loss_fn=mdn_nll, decoder=None, encoder=None)"
      ],
      "execution_count": null,
      "outputs": [
        {
          "output_type": "stream",
          "text": [
            "/usr/local/lib/python3.6/dist-packages/ipykernel_launcher.py:21: TqdmDeprecationWarning: Please use `tqdm.notebook.trange` instead of `tqdm.tnrange`\n"
          ],
          "name": "stderr"
        },
        {
          "output_type": "display_data",
          "data": {
            "application/vnd.jupyter.widget-view+json": {
              "model_id": "00ec670877cb4aef97ce85c8f2e8f497",
              "version_minor": 0,
              "version_major": 2
            },
            "text/plain": [
              "HBox(children=(FloatProgress(value=0.0, max=500.0), HTML(value='')))"
            ]
          },
          "metadata": {
            "tags": []
          }
        }
      ]
    },
    {
      "cell_type": "code",
      "metadata": {
        "id": "b6DDIft38MZc",
        "outputId": "d6c2d717-022b-4b5b-fcd8-1caeddc3f1f7",
        "colab": {
          "base_uri": "https://localhost:8080/",
          "height": 34,
          "referenced_widgets": [
            "62598f211df64bd48e67e375afb7baab",
            "31dfec5e770e4152b304c840c0dfa692",
            "1c65a816892a4e8e924a418f75b56412",
            "c326a00ba73e4c3a89c85a94a12f3770",
            "74d09836b6164c60861cc8739b1104d2",
            "1355f6ab5ca742aa8185797bd9fdf85a",
            "db8e4cdc6f634766b8134b20122563a4",
            "0f036ce6b3ff47d881c4f1cc3c95921b"
          ]
        }
      },
      "source": [
        "model_x2y = mdn(opt)\n",
        "frames_x2y = train_nll(opt, model_x2y, scm, opt.TRAIN_DISTRY, polarity='X2Y',\n",
        "    loss_fn=mdn_nll, decoder=None, encoder=None)"
      ],
      "execution_count": null,
      "outputs": [
        {
          "output_type": "stream",
          "text": [
            "/usr/local/lib/python3.6/dist-packages/ipykernel_launcher.py:68: TqdmDeprecationWarning: Please use `tqdm.notebook.trange` instead of `tqdm.tnrange`\n"
          ],
          "name": "stderr"
        },
        {
          "output_type": "display_data",
          "data": {
            "application/vnd.jupyter.widget-view+json": {
              "model_id": "62598f211df64bd48e67e375afb7baab",
              "version_minor": 0,
              "version_major": 2
            },
            "text/plain": [
              "HBox(children=(FloatProgress(value=0.0, max=500.0), HTML(value='')))"
            ]
          },
          "metadata": {
            "tags": []
          }
        }
      ]
    },
    {
      "cell_type": "code",
      "metadata": {
        "id": "u3-QFpli8MZe",
        "outputId": "4aaf0b8c-d08f-401d-c1f6-9f9e7bf15c76",
        "colab": {
          "base_uri": "https://localhost:8080/",
          "height": 34,
          "referenced_widgets": [
            "406f7e4c0af747008efbbe58afe7b69d",
            "57129f4f2af0436b952414a750c93312",
            "54a7b381685d46b0888fae3925705b82",
            "31ba536e805a4270a5189c3c6879440b",
            "4183773e6f5748e7b95137709d86f73f",
            "cb8a7f50ee3b4b9e91f7ee9dbdfe18ee",
            "f4dffe58a8b24daca12e8b3493ad7b02",
            "ced6b591c6a7488d8d28d855a3ee2d8e"
          ]
        }
      },
      "source": [
        "model_y2x = mdn(opt)\n",
        "frames_y2x = train_nll(opt, model_y2x, scm, opt.TRAIN_DISTRY, polarity='Y2X',\n",
        "    loss_fn=mdn_nll, decoder=None, encoder=None)"
      ],
      "execution_count": null,
      "outputs": [
        {
          "output_type": "stream",
          "text": [
            "/usr/local/lib/python3.6/dist-packages/ipykernel_launcher.py:68: TqdmDeprecationWarning: Please use `tqdm.notebook.trange` instead of `tqdm.tnrange`\n"
          ],
          "name": "stderr"
        },
        {
          "output_type": "display_data",
          "data": {
            "application/vnd.jupyter.widget-view+json": {
              "model_id": "406f7e4c0af747008efbbe58afe7b69d",
              "version_minor": 0,
              "version_major": 2
            },
            "text/plain": [
              "HBox(children=(FloatProgress(value=0.0, max=500.0), HTML(value='')))"
            ]
          },
          "metadata": {
            "tags": []
          }
        }
      ]
    },
    {
      "cell_type": "code",
      "metadata": {
        "id": "KqO9LJigU_ff",
        "outputId": "9ae14689-5902-473b-db58-247cdd4f4925",
        "colab": {
          "base_uri": "https://localhost:8080/",
          "height": 34,
          "referenced_widgets": [
            "0a06432528a4444a85f87ff1988218f3",
            "5f62bdae650c4a30871850e53077ab5b",
            "afdd118bfe754924bdaf95f008112a1e",
            "18b6f8d3fe854055a5237777b407522d",
            "fe16a02ae15d4f1b9b8ed58bb2cf54eb",
            "c812b0039f0c4366abc82197a7b98fe2",
            "04d88e16064a4c208ff1ff4b99e89863",
            "a2b41be743494380bb73579fb1974622"
          ]
        }
      },
      "source": [
        "alpha = make_alpha(opt)\n",
        "beta = make_alpha(opt)\n",
        "\n",
        "lpha_frames = train_alpha_beta(opt, model_x2y, model_y2x, model_x, model_y, model_x, model_y, alpha, beta, scm, \n",
        "                           opt.PARAM_DISTRY, opt.PARAM_SAMPLER, mdn_nll,\n",
        "                           auc_transfer_metric, mixmode='logmix')"
      ],
      "execution_count": null,
      "outputs": [
        {
          "output_type": "stream",
          "text": [
            "/usr/local/lib/python3.6/dist-packages/ipykernel_launcher.py:236: TqdmDeprecationWarning: Please use `tqdm.notebook.trange` instead of `tqdm.tnrange`\n"
          ],
          "name": "stderr"
        },
        {
          "output_type": "display_data",
          "data": {
            "application/vnd.jupyter.widget-view+json": {
              "model_id": "0a06432528a4444a85f87ff1988218f3",
              "version_minor": 0,
              "version_major": 2
            },
            "text/plain": [
              "HBox(children=(FloatProgress(value=0.0, max=500.0), HTML(value='')))"
            ]
          },
          "metadata": {
            "tags": []
          }
        }
      ]
    },
    {
      "cell_type": "code",
      "metadata": {
        "id": "taYqvqDlV4lg",
        "outputId": "98af5949-8cea-4353-f44e-439c2d7b5b47",
        "colab": {
          "base_uri": "https://localhost:8080/",
          "height": 343
        }
      },
      "source": [
        "alphas = np.asarray([frame.sig_alpha for frame in lpha_frames])\n",
        "\n",
        "fig = plt.figure(figsize=(9, 5))\n",
        "ax = plt.subplot(1, 1, 1)\n",
        "\n",
        "ax.tick_params(axis='both', which='major', labelsize=13)\n",
        "ax.axhline(1, c='lightgray', ls='--')\n",
        "ax.axhline(0, c='lightgray', ls='--')\n",
        "ax.plot(alphas, lw=2, color='k', label='N = {0}'.format(10))\n",
        "\n",
        "ax.set_xlim([0, opt.ALPHA_NUM_ITER - 1])\n",
        "ax.set_xlabel('Number of episodes', fontsize=14)\n",
        "ax.set_ylabel(r'$\\sigma(\\gamma)$', fontsize=14)\n",
        "ax.legend(loc=4, prop={'size': 13})\n",
        "\n",
        "plt.show()"
      ],
      "execution_count": null,
      "outputs": [
        {
          "output_type": "display_data",
          "data": {
            "image/png": "[encoded data removed]",
            "text/plain": [
              "<Figure size 648x360 with 1 Axes>"
            ]
          },
          "metadata": {
            "tags": [],
            "needs_background": "light"
          }
        }
      ]
    },
    {
      "cell_type": "code",
      "metadata": {
        "id": "iGIn6D0v8jO-",
        "outputId": "cd97abec-135f-41bd-c35c-217eb80d9ef6",
        "colab": {
          "base_uri": "https://localhost:8080/",
          "height": 343
        }
      },
      "source": [
        "alphas = np.asarray([frame.sig_beta for frame in lpha_frames])\n",
        "\n",
        "fig = plt.figure(figsize=(9, 5))\n",
        "ax = plt.subplot(1, 1, 1)\n",
        "\n",
        "ax.tick_params(axis='both', which='major', labelsize=13)\n",
        "ax.axhline(1, c='lightgray', ls='--')\n",
        "ax.axhline(0, c='lightgray', ls='--')\n",
        "ax.plot(alphas, lw=2, color='k', label='N = {0}'.format(10))\n",
        "\n",
        "ax.set_xlim([0, opt.ALPHA_NUM_ITER - 1])\n",
        "ax.set_xlabel('Number of episodes', fontsize=14)\n",
        "ax.set_ylabel(r'$\\sigma(\\beta)$', fontsize=14)\n",
        "ax.legend(loc=4, prop={'size': 13})\n",
        "\n",
        "plt.show()"
      ],
      "execution_count": null,
      "outputs": [
        {
          "output_type": "display_data",
          "data": {
            "image/png": "[encoded data removed]",
            "text/plain": [
              "<Figure size 648x360 with 1 Axes>"
            ]
          },
          "metadata": {
            "tags": [],
            "needs_background": "light"
          }
        }
      ]
    },
    {
      "cell_type": "code",
      "metadata": {
        "id": "ExdNYbKL8MZg",
        "outputId": "06dc5ce9-f1da-4116-c9b5-79e12d639293",
        "colab": {
          "base_uri": "https://localhost:8080/",
          "height": 34,
          "referenced_widgets": [
            "a4666421dd5c4a07ae87a54d32908363",
            "69b32012e91e4780ac39a7b0ae6f5e87",
            "3c10d1d4e9ec4b58999676b044f151a1",
            "2c23322b332940db83c49235e21289b0",
            "fc4d34c38e2a4abf9e3b5cba19591afc",
            "915fbcb00e5440d085fdd9e428ce5548",
            "7d8e0be9a4ed4414a5412216ae355ed7",
            "de0138003ccd45b99fc77568fa4bc01d"
          ]
        }
      },
      "source": [
        "alpha = make_alpha(opt)\n",
        "# beta = make_alpha(opt)\n",
        "# alpha_frames = train_alpha(opt, model_x2y, model_y2x, None, None, alpha, scm, \n",
        "#                            opt.PARAM_DISTRY, opt.PARAM_SAMPLER, mdn_nll,\n",
        "#                            auc_transfer_metric, mixmode='logsigp')\n",
        "alpha_frames = train_alpha(opt, model_x2y, model_y2x, model_x, model_y, alpha, scm, \n",
        "                           opt.PARAM_DISTRY, opt.PARAM_SAMPLER, mdn_nll,\n",
        "                           auc_transfer_metric, mixmode='logsigp')"
      ],
      "execution_count": null,
      "outputs": [
        {
          "output_type": "stream",
          "text": [
            "/usr/local/lib/python3.6/dist-packages/ipykernel_launcher.py:297: TqdmDeprecationWarning: Please use `tqdm.notebook.trange` instead of `tqdm.tnrange`\n"
          ],
          "name": "stderr"
        },
        {
          "output_type": "display_data",
          "data": {
            "application/vnd.jupyter.widget-view+json": {
              "model_id": "a4666421dd5c4a07ae87a54d32908363",
              "version_minor": 0,
              "version_major": 2
            },
            "text/plain": [
              "HBox(children=(FloatProgress(value=0.0, max=500.0), HTML(value='')))"
            ]
          },
          "metadata": {
            "tags": []
          }
        }
      ]
    },
    {
      "cell_type": "code",
      "metadata": {
        "id": "DvZcUmPH8MZi",
        "outputId": "4ad0c96c-9c97-4347-ee16-04fea92b8a52",
        "colab": {
          "base_uri": "https://localhost:8080/",
          "height": 343
        }
      },
      "source": [
        "alphas = np.asarray([frame.sig_alpha for frame in alpha_frames])\n",
        "\n",
        "fig = plt.figure(figsize=(9, 5))\n",
        "ax = plt.subplot(1, 1, 1)\n",
        "\n",
        "ax.tick_params(axis='both', which='major', labelsize=13)\n",
        "ax.axhline(1, c='lightgray', ls='--')\n",
        "ax.axhline(0, c='lightgray', ls='--')\n",
        "ax.plot(alphas, lw=2, color='k', label='N = {0}'.format(10))\n",
        "\n",
        "ax.set_xlim([0, opt.ALPHA_NUM_ITER - 1])\n",
        "ax.set_xlabel('Number of episodes', fontsize=14)\n",
        "ax.set_ylabel(r'$\\sigma(\\gamma)$', fontsize=14)\n",
        "ax.legend(loc=4, prop={'size': 13})\n",
        "\n",
        "plt.show()"
      ],
      "execution_count": null,
      "outputs": [
        {
          "output_type": "display_data",
          "data": {
            "image/png": "[encoded data removed]",
            "text/plain": [
              "<Figure size 648x360 with 1 Axes>"
            ]
          },
          "metadata": {
            "tags": [],
            "needs_background": "light"
          }
        }
      ]
    },
    {
      "cell_type": "markdown",
      "metadata": {
        "id": "NZdE_OXu8kY4"
      },
      "source": [
        "# End"
      ]
    }
  ]
}